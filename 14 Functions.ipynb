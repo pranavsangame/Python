{
 "cells": [
  {
   "cell_type": "raw",
   "id": "19798fdb",
   "metadata": {},
   "source": [
    "Functions:\n",
    "    Functions are the block of codes which we can run or call or use as and when required.\n",
    "    Functions are organised block of codes.\n",
    "    Functions are Procedural Programing Concept.\n",
    "    Functions are also called as Methods\n",
    "    \n",
    "    Functions will be executed when they are called.\n",
    "    Functions are used to modularize the codes.\n",
    "    \n",
    "2 Types of functions:\n",
    "    Inbuild function: max, min, len etc..\n",
    "    User Defined Functions\n",
    "    \n",
    "2 parts of the functions are:\n",
    "    Declaration or Creation of the function\n",
    "    calling of the functions or using the function"
   ]
  },
  {
   "cell_type": "raw",
   "id": "2f9ef760",
   "metadata": {},
   "source": [
    "def >> defination or defining a function\n",
    "\n",
    "def function_name(parameters):   # defining a function\n",
    "    statements\n",
    "    codes  \n",
    "    return output                # optional\n",
    "\n",
    "function_name(arguments)        # calling of function"
   ]
  },
  {
   "cell_type": "code",
   "execution_count": 1,
   "id": "a38df9b0",
   "metadata": {},
   "outputs": [
    {
     "name": "stdout",
     "output_type": "stream",
     "text": [
      "Hi Python\n",
      "We are learning Python\n"
     ]
    }
   ],
   "source": [
    "print('Hi Python')\n",
    "print('We are learning Python')"
   ]
  },
  {
   "cell_type": "code",
   "execution_count": 2,
   "id": "4168fff9",
   "metadata": {},
   "outputs": [],
   "source": [
    "def printing():\n",
    "    print('Hi Python')\n",
    "    print('We are learning Python')"
   ]
  },
  {
   "cell_type": "code",
   "execution_count": 3,
   "id": "59872d66",
   "metadata": {},
   "outputs": [
    {
     "name": "stdout",
     "output_type": "stream",
     "text": [
      "Hi Python\n",
      "We are learning Python\n"
     ]
    }
   ],
   "source": [
    "printing()"
   ]
  },
  {
   "cell_type": "code",
   "execution_count": 4,
   "id": "7e33748e",
   "metadata": {},
   "outputs": [
    {
     "name": "stdout",
     "output_type": "stream",
     "text": [
      "i is 0\n",
      "i is 1\n",
      "i is 2\n",
      "i is 3\n",
      "i is 4\n"
     ]
    }
   ],
   "source": [
    "def first_function():\n",
    "    for i in range(5):\n",
    "        print(f'i is {i}')\n",
    "        \n",
    "first_function()"
   ]
  },
  {
   "cell_type": "code",
   "execution_count": 5,
   "id": "318ebabc",
   "metadata": {},
   "outputs": [
    {
     "name": "stdout",
     "output_type": "stream",
     "text": [
      "i is 0\n",
      "i is 1\n",
      "i is 2\n",
      "i is 3\n",
      "i is 4\n"
     ]
    }
   ],
   "source": [
    "first_function()"
   ]
  },
  {
   "cell_type": "code",
   "execution_count": 6,
   "id": "97fda6c2",
   "metadata": {},
   "outputs": [],
   "source": [
    "def sum_average(a,b,c):\n",
    "    \n",
    "    sumatn = a+b+c\n",
    "    avg = (a+b+c) / 3\n",
    "    \n",
    "    return sumatn,avg\n",
    "\n",
    "x,y,z = 10,20,30\n",
    "\n",
    "addition, mean = sum_average(x,y,z)"
   ]
  },
  {
   "cell_type": "code",
   "execution_count": 7,
   "id": "ad17696e",
   "metadata": {},
   "outputs": [
    {
     "data": {
      "text/plain": [
       "60"
      ]
     },
     "execution_count": 7,
     "metadata": {},
     "output_type": "execute_result"
    }
   ],
   "source": [
    "addition"
   ]
  },
  {
   "cell_type": "code",
   "execution_count": 8,
   "id": "ae48d5ea",
   "metadata": {},
   "outputs": [
    {
     "data": {
      "text/plain": [
       "20.0"
      ]
     },
     "execution_count": 8,
     "metadata": {},
     "output_type": "execute_result"
    }
   ],
   "source": [
    "mean"
   ]
  },
  {
   "cell_type": "code",
   "execution_count": 9,
   "id": "f40044af",
   "metadata": {},
   "outputs": [
    {
     "data": {
      "text/plain": [
       "(60, 20.0)"
      ]
     },
     "execution_count": 9,
     "metadata": {},
     "output_type": "execute_result"
    }
   ],
   "source": [
    "i,j,k = 10,20,30\n",
    "\n",
    "def sum_average(a,b,c):\n",
    "    \n",
    "    sumatn = a+b+c\n",
    "    avg = (a+b+c) / 3\n",
    "    \n",
    "    return sumatn,avg\n",
    "\n",
    "\n",
    "\n",
    "sum_average(i,j,k)\n",
    "\n"
   ]
  },
  {
   "cell_type": "raw",
   "id": "6a68ea2b",
   "metadata": {},
   "source": [
    "a local variable can be accesed only within the well defined body of the function\n",
    "whereas global variable can be called within or outside the function"
   ]
  },
  {
   "cell_type": "code",
   "execution_count": 10,
   "id": "b9855d20",
   "metadata": {},
   "outputs": [
    {
     "data": {
      "text/plain": [
       "(100, 25.0)"
      ]
     },
     "execution_count": 10,
     "metadata": {},
     "output_type": "execute_result"
    }
   ],
   "source": [
    "def sum_average(a,b,c):\n",
    "    d = 40                   # local variable\n",
    "    sumatn = a+b+c+d\n",
    "    avg = (a+b+c+d) / 4\n",
    "    \n",
    "    return sumatn,avg\n",
    "\n",
    "x,y,z = 10,20,30\n",
    "\n",
    "sum_average(x,y,z)"
   ]
  },
  {
   "cell_type": "code",
   "execution_count": 11,
   "id": "39b11c1a",
   "metadata": {},
   "outputs": [
    {
     "ename": "NameError",
     "evalue": "name 'o' is not defined",
     "output_type": "error",
     "traceback": [
      "\u001b[1;31m---------------------------------------------------------------------------\u001b[0m",
      "\u001b[1;31mNameError\u001b[0m                                 Traceback (most recent call last)",
      "\u001b[1;32m~\\AppData\\Local\\Temp/ipykernel_46940/1973785084.py\u001b[0m in \u001b[0;36m<module>\u001b[1;34m\u001b[0m\n\u001b[0;32m     10\u001b[0m     \u001b[1;31m# global variable\u001b[0m\u001b[1;33m\u001b[0m\u001b[1;33m\u001b[0m\u001b[0m\n\u001b[0;32m     11\u001b[0m \u001b[1;33m\u001b[0m\u001b[0m\n\u001b[1;32m---> 12\u001b[1;33m \u001b[0msum_average\u001b[0m\u001b[1;33m(\u001b[0m\u001b[1;33m)\u001b[0m\u001b[1;33m\u001b[0m\u001b[1;33m\u001b[0m\u001b[0m\n\u001b[0m\u001b[0;32m     13\u001b[0m \u001b[1;33m\u001b[0m\u001b[0m\n\u001b[0;32m     14\u001b[0m \u001b[0mo\u001b[0m\u001b[1;33m,\u001b[0m\u001b[0mm\u001b[0m\u001b[1;33m,\u001b[0m\u001b[0mn\u001b[0m \u001b[1;33m=\u001b[0m \u001b[1;36m10\u001b[0m\u001b[1;33m,\u001b[0m\u001b[1;36m20\u001b[0m\u001b[1;33m,\u001b[0m\u001b[1;36m30\u001b[0m\u001b[1;33m\u001b[0m\u001b[1;33m\u001b[0m\u001b[0m\n",
      "\u001b[1;32m~\\AppData\\Local\\Temp/ipykernel_46940/1973785084.py\u001b[0m in \u001b[0;36msum_average\u001b[1;34m()\u001b[0m\n\u001b[0;32m      3\u001b[0m \u001b[1;32mdef\u001b[0m \u001b[0msum_average\u001b[0m\u001b[1;33m(\u001b[0m\u001b[1;33m)\u001b[0m\u001b[1;33m:\u001b[0m\u001b[1;33m\u001b[0m\u001b[1;33m\u001b[0m\u001b[0m\n\u001b[0;32m      4\u001b[0m \u001b[1;33m\u001b[0m\u001b[0m\n\u001b[1;32m----> 5\u001b[1;33m     \u001b[0msumatn\u001b[0m \u001b[1;33m=\u001b[0m \u001b[0mo\u001b[0m\u001b[1;33m+\u001b[0m\u001b[0mm\u001b[0m\u001b[1;33m+\u001b[0m\u001b[0mn\u001b[0m\u001b[1;33m+\u001b[0m\u001b[0md\u001b[0m\u001b[1;33m\u001b[0m\u001b[1;33m\u001b[0m\u001b[0m\n\u001b[0m\u001b[0;32m      6\u001b[0m     \u001b[0mavg\u001b[0m \u001b[1;33m=\u001b[0m \u001b[1;33m(\u001b[0m\u001b[0mx\u001b[0m\u001b[1;33m+\u001b[0m\u001b[0my\u001b[0m\u001b[1;33m+\u001b[0m\u001b[0mz\u001b[0m\u001b[1;33m+\u001b[0m\u001b[0md\u001b[0m\u001b[1;33m)\u001b[0m \u001b[1;33m/\u001b[0m \u001b[1;36m4\u001b[0m\u001b[1;33m\u001b[0m\u001b[1;33m\u001b[0m\u001b[0m\n\u001b[0;32m      7\u001b[0m \u001b[1;33m\u001b[0m\u001b[0m\n",
      "\u001b[1;31mNameError\u001b[0m: name 'o' is not defined"
     ]
    }
   ],
   "source": [
    "d = 40       # global variable\n",
    "\n",
    "def sum_average():\n",
    "                     \n",
    "    sumatn = o+m+n+d\n",
    "    avg = (x+y+z+d) / 4\n",
    "    \n",
    "    return sumatn,avg\n",
    "\n",
    "    # global variable\n",
    "\n",
    "sum_average()\n",
    "\n",
    "o,m,n = 10,20,30  "
   ]
  },
  {
   "cell_type": "code",
   "execution_count": 12,
   "id": "e9dac705",
   "metadata": {},
   "outputs": [
    {
     "name": "stdout",
     "output_type": "stream",
     "text": [
      "10\n",
      "(100, 22.0)\n"
     ]
    },
    {
     "data": {
      "text/plain": [
       "10"
      ]
     },
     "execution_count": 12,
     "metadata": {},
     "output_type": "execute_result"
    }
   ],
   "source": [
    "d = 40       # global variable\n",
    "\n",
    "def sum_average():\n",
    "    global e\n",
    "    e = 10                 \n",
    "    sumatn = o+m+n+d\n",
    "    avg = (x+y+z+d+e) / 5\n",
    "    print(e)\n",
    "    return sumatn,avg\n",
    "o,m,n = 10,20,30  \n",
    "\n",
    "print(sum_average())\n",
    "\n",
    "e"
   ]
  },
  {
   "cell_type": "code",
   "execution_count": 13,
   "id": "4495066c",
   "metadata": {},
   "outputs": [
    {
     "name": "stdout",
     "output_type": "stream",
     "text": [
      "10\n"
     ]
    },
    {
     "data": {
      "text/plain": [
       "((100, 22.0), 10)"
      ]
     },
     "execution_count": 13,
     "metadata": {},
     "output_type": "execute_result"
    }
   ],
   "source": [
    "sum_average(),e"
   ]
  },
  {
   "cell_type": "code",
   "execution_count": 14,
   "id": "ab316b1d",
   "metadata": {},
   "outputs": [],
   "source": [
    "def sum_average():\n",
    "    global g\n",
    "    g = 10 \n",
    "    sumatn = 100*g\n",
    "    return sumatn"
   ]
  },
  {
   "cell_type": "code",
   "execution_count": 15,
   "id": "df96fbc5",
   "metadata": {},
   "outputs": [
    {
     "data": {
      "text/plain": [
       "1000"
      ]
     },
     "execution_count": 15,
     "metadata": {},
     "output_type": "execute_result"
    }
   ],
   "source": [
    "sum_average()"
   ]
  },
  {
   "cell_type": "markdown",
   "id": "a9084b5d",
   "metadata": {},
   "source": [
    "# Arguements"
   ]
  },
  {
   "cell_type": "raw",
   "id": "c512cf1a",
   "metadata": {},
   "source": [
    "as far as the positional arguements are concerned, no. of arguements has to be exactly equal to the no. of params passed\n",
    "\n",
    "no. of params = no. of agruments\n",
    "\n",
    "arguments = parameters"
   ]
  },
  {
   "cell_type": "code",
   "execution_count": 16,
   "id": "895e1c0c",
   "metadata": {},
   "outputs": [
    {
     "name": "stdout",
     "output_type": "stream",
     "text": [
      "nums are:  10 10 10\n"
     ]
    }
   ],
   "source": [
    "def sum_average(a,b,c):\n",
    "    print('nums are: ',a,b,c)\n",
    "    \n",
    "sum_average(10,10,10)"
   ]
  },
  {
   "cell_type": "code",
   "execution_count": 17,
   "id": "6106ce79",
   "metadata": {},
   "outputs": [
    {
     "ename": "TypeError",
     "evalue": "sum_average() missing 1 required positional argument: 'c'",
     "output_type": "error",
     "traceback": [
      "\u001b[1;31m---------------------------------------------------------------------------\u001b[0m",
      "\u001b[1;31mTypeError\u001b[0m                                 Traceback (most recent call last)",
      "\u001b[1;32m~\\AppData\\Local\\Temp/ipykernel_46940/3202445010.py\u001b[0m in \u001b[0;36m<module>\u001b[1;34m\u001b[0m\n\u001b[0;32m      2\u001b[0m     \u001b[0mprint\u001b[0m\u001b[1;33m(\u001b[0m\u001b[1;34m'nums are: '\u001b[0m\u001b[1;33m,\u001b[0m\u001b[0ma\u001b[0m\u001b[1;33m,\u001b[0m\u001b[0mb\u001b[0m\u001b[1;33m,\u001b[0m\u001b[0mc\u001b[0m\u001b[1;33m)\u001b[0m\u001b[1;33m\u001b[0m\u001b[1;33m\u001b[0m\u001b[0m\n\u001b[0;32m      3\u001b[0m \u001b[1;33m\u001b[0m\u001b[0m\n\u001b[1;32m----> 4\u001b[1;33m \u001b[0msum_average\u001b[0m\u001b[1;33m(\u001b[0m\u001b[1;36m10\u001b[0m\u001b[1;33m,\u001b[0m\u001b[1;36m10\u001b[0m\u001b[1;33m)\u001b[0m\u001b[1;33m\u001b[0m\u001b[1;33m\u001b[0m\u001b[0m\n\u001b[0m",
      "\u001b[1;31mTypeError\u001b[0m: sum_average() missing 1 required positional argument: 'c'"
     ]
    }
   ],
   "source": [
    "def sum_average(a,b,c):\n",
    "    print('nums are: ',a,b,c)\n",
    "    \n",
    "sum_average(10,10)"
   ]
  },
  {
   "cell_type": "code",
   "execution_count": 18,
   "id": "1c59edd7",
   "metadata": {},
   "outputs": [
    {
     "ename": "TypeError",
     "evalue": "sum_average() takes 3 positional arguments but 4 were given",
     "output_type": "error",
     "traceback": [
      "\u001b[1;31m---------------------------------------------------------------------------\u001b[0m",
      "\u001b[1;31mTypeError\u001b[0m                                 Traceback (most recent call last)",
      "\u001b[1;32m~\\AppData\\Local\\Temp/ipykernel_46940/3398006374.py\u001b[0m in \u001b[0;36m<module>\u001b[1;34m\u001b[0m\n\u001b[0;32m      2\u001b[0m     \u001b[0mprint\u001b[0m\u001b[1;33m(\u001b[0m\u001b[1;34m'nums are: '\u001b[0m\u001b[1;33m,\u001b[0m\u001b[0ma\u001b[0m\u001b[1;33m,\u001b[0m\u001b[0mb\u001b[0m\u001b[1;33m,\u001b[0m\u001b[0mc\u001b[0m\u001b[1;33m)\u001b[0m\u001b[1;33m\u001b[0m\u001b[1;33m\u001b[0m\u001b[0m\n\u001b[0;32m      3\u001b[0m \u001b[1;33m\u001b[0m\u001b[0m\n\u001b[1;32m----> 4\u001b[1;33m \u001b[0msum_average\u001b[0m\u001b[1;33m(\u001b[0m\u001b[1;36m10\u001b[0m\u001b[1;33m,\u001b[0m\u001b[1;36m10\u001b[0m\u001b[1;33m,\u001b[0m\u001b[1;36m10\u001b[0m\u001b[1;33m,\u001b[0m\u001b[1;36m10\u001b[0m\u001b[1;33m)\u001b[0m\u001b[1;33m\u001b[0m\u001b[1;33m\u001b[0m\u001b[0m\n\u001b[0m",
      "\u001b[1;31mTypeError\u001b[0m: sum_average() takes 3 positional arguments but 4 were given"
     ]
    }
   ],
   "source": [
    "def sum_average(a,b,c):\n",
    "    print('nums are: ',a,b,c)\n",
    "    \n",
    "sum_average(10,10,10,10)"
   ]
  },
  {
   "cell_type": "code",
   "execution_count": 19,
   "id": "a0c86e14",
   "metadata": {},
   "outputs": [
    {
     "data": {
      "text/plain": [
       "[4, 9, 16]"
      ]
     },
     "execution_count": 19,
     "metadata": {},
     "output_type": "execute_result"
    }
   ],
   "source": [
    "def squared_list(listy):\n",
    "    return [i**2 for i in listy]\n",
    "\n",
    "squared_list([2,3,4])"
   ]
  },
  {
   "cell_type": "code",
   "execution_count": 20,
   "id": "20666d39",
   "metadata": {},
   "outputs": [
    {
     "data": {
      "text/plain": [
       "[25, 0, 4]"
      ]
     },
     "execution_count": 20,
     "metadata": {},
     "output_type": "execute_result"
    }
   ],
   "source": [
    "squared_list([5,0,-2])"
   ]
  },
  {
   "cell_type": "code",
   "execution_count": 21,
   "id": "31d5c649",
   "metadata": {},
   "outputs": [
    {
     "name": "stdout",
     "output_type": "stream",
     "text": [
      "[2, 4, 6, 0]\n",
      "[3, 5, 9]\n"
     ]
    }
   ],
   "source": [
    "# Define a function that can evaluate out even & odd numbers from the list. return the even list & odd list as an output of the function\n",
    "\n",
    "def even_odd(listy):\n",
    "    return [i for i in listy if i%2==0],[i for i in listy if i%2!=0]\n",
    "\n",
    "even,odd = even_odd([2,3,4,5,6,9,0])\n",
    "print(even, odd, sep='\\n')"
   ]
  },
  {
   "cell_type": "markdown",
   "id": "4ced1c30",
   "metadata": {},
   "source": [
    "# Return"
   ]
  },
  {
   "cell_type": "raw",
   "id": "046a6b30",
   "metadata": {},
   "source": [
    "Return is used to end the function or break the function & return a specific value, value from the function\n",
    "return can also be empty meaning we are not returning anything from the function\n",
    "One function can have multiple returns"
   ]
  },
  {
   "cell_type": "code",
   "execution_count": 22,
   "id": "6c8a223a",
   "metadata": {},
   "outputs": [],
   "source": [
    "def even_odd(listy):\n",
    "    return \n",
    "\n",
    "even_odd([2,3,4,5,6,9,0])"
   ]
  },
  {
   "cell_type": "code",
   "execution_count": 23,
   "id": "37e24a04",
   "metadata": {},
   "outputs": [],
   "source": [
    "def even_odd(listy):\n",
    "    return \n",
    "\n",
    "even_odd([2,3,4,5,6,9,0])"
   ]
  },
  {
   "cell_type": "code",
   "execution_count": 24,
   "id": "246c2c08",
   "metadata": {},
   "outputs": [
    {
     "data": {
      "text/plain": [
       "'odd'"
      ]
     },
     "execution_count": 24,
     "metadata": {},
     "output_type": "execute_result"
    }
   ],
   "source": [
    "def even_odd_num(number):\n",
    "    if number%2==0:\n",
    "        return 'even'\n",
    "    else:\n",
    "        return 'odd'\n",
    "    print('THANKS FOR EVALUATION')\n",
    "\n",
    "even_odd_num(111)"
   ]
  },
  {
   "cell_type": "code",
   "execution_count": 25,
   "id": "7b01550a",
   "metadata": {},
   "outputs": [
    {
     "data": {
      "text/plain": [
       "'odd'"
      ]
     },
     "execution_count": 25,
     "metadata": {},
     "output_type": "execute_result"
    }
   ],
   "source": [
    "def even_odd_num(number):\n",
    "    for i in range(len(number)):\n",
    "        if number[i] % 2==0:\n",
    "             return 'even'\n",
    "        else:\n",
    "            return 'odd'\n",
    "        print('THANKS FOR EVALUATION')\n",
    "\n",
    "even_odd_num([111,222,333,444])"
   ]
  },
  {
   "cell_type": "markdown",
   "id": "f36a9a1a",
   "metadata": {},
   "source": [
    "# Yield"
   ]
  },
  {
   "cell_type": "code",
   "execution_count": 26,
   "id": "db19ee86",
   "metadata": {},
   "outputs": [
    {
     "data": {
      "text/plain": [
       "<generator object even_odd_num at 0x000001E8433B8F20>"
      ]
     },
     "execution_count": 26,
     "metadata": {},
     "output_type": "execute_result"
    }
   ],
   "source": [
    "def even_odd_num(number):\n",
    "    for i in range(len(number)):\n",
    "        if number[i] % 2==0:\n",
    "             yield 'even'\n",
    "        else:\n",
    "            yield 'odd'\n",
    "        print('THANKS FOR EVALUATION')\n",
    "\n",
    "x = even_odd_num([111,222,333,444])\n",
    "x\n"
   ]
  },
  {
   "cell_type": "code",
   "execution_count": 27,
   "id": "681fbd65",
   "metadata": {},
   "outputs": [
    {
     "name": "stdout",
     "output_type": "stream",
     "text": [
      "THANKS FOR EVALUATION\n",
      "THANKS FOR EVALUATION\n",
      "THANKS FOR EVALUATION\n",
      "THANKS FOR EVALUATION\n"
     ]
    },
    {
     "data": {
      "text/plain": [
       "['odd', 'even', 'odd', 'even']"
      ]
     },
     "execution_count": 27,
     "metadata": {},
     "output_type": "execute_result"
    }
   ],
   "source": [
    "list(x)"
   ]
  },
  {
   "cell_type": "code",
   "execution_count": 28,
   "id": "478cb5cc",
   "metadata": {},
   "outputs": [],
   "source": [
    "def even_odd_num(number):\n",
    "    for i in range(len(number)):\n",
    "        if number[i] % 2==0:\n",
    "             yield 'even'\n",
    "        else:\n",
    "            yield 'odd'\n",
    "\n",
    "x = even_odd_num([111,222,333,444])\n",
    "# print(next(x))\n",
    "# print(next(x))\n",
    "# print(next(x))\n",
    "# print(next(x))\n"
   ]
  },
  {
   "cell_type": "code",
   "execution_count": 43,
   "id": "9694b653",
   "metadata": {},
   "outputs": [],
   "source": [
    "def even_odd_num(number):\n",
    "    for i in range(len(number)):\n",
    "        if number[i] % 2==0:\n",
    "             yield f'{number[i]} is even'\n",
    "        else:\n",
    "            yield f'{number[i]} is odd'\n",
    "\n",
    "x = even_odd_num([111,222,333,444])"
   ]
  },
  {
   "cell_type": "code",
   "execution_count": 44,
   "id": "b59c9076",
   "metadata": {},
   "outputs": [
    {
     "name": "stdout",
     "output_type": "stream",
     "text": [
      "111 is odd\n",
      "222 is even\n",
      "333 is odd\n",
      "444 is even\n"
     ]
    }
   ],
   "source": [
    "for i in range(4):\n",
    "    print(next(x))"
   ]
  },
  {
   "cell_type": "code",
   "execution_count": 40,
   "id": "93d78f46",
   "metadata": {},
   "outputs": [
    {
     "name": "stdout",
     "output_type": "stream",
     "text": [
      "1\n"
     ]
    }
   ],
   "source": [
    "def nums(x):\n",
    "    for i in x:\n",
    "        yield i\n",
    "        \n",
    "        \n",
    "z = nums([1,2,3,4])\n",
    "\n",
    "print(next(z))"
   ]
  },
  {
   "cell_type": "code",
   "execution_count": 45,
   "id": "d7a22f0b",
   "metadata": {},
   "outputs": [],
   "source": [
    "for i in x:print(i)"
   ]
  },
  {
   "cell_type": "code",
   "execution_count": 46,
   "id": "89ba69ef",
   "metadata": {},
   "outputs": [
    {
     "data": {
      "text/plain": [
       "[]"
      ]
     },
     "execution_count": 46,
     "metadata": {},
     "output_type": "execute_result"
    }
   ],
   "source": [
    "[i for i in x]"
   ]
  },
  {
   "cell_type": "code",
   "execution_count": 47,
   "id": "534610d4",
   "metadata": {},
   "outputs": [
    {
     "data": {
      "text/plain": [
       "['111 is odd', '222 is even', '333 is odd', '444 is even']"
      ]
     },
     "execution_count": 47,
     "metadata": {},
     "output_type": "execute_result"
    }
   ],
   "source": [
    "def even_odd_num(number):\n",
    "    for i in range(len(number)):\n",
    "        if number[i] % 2==0:\n",
    "             yield f'{number[i]} is even'\n",
    "        else:\n",
    "            yield f'{number[i]} is odd'\n",
    "\n",
    "list(even_odd_num([111,222,333,444]))"
   ]
  },
  {
   "cell_type": "raw",
   "id": "b9a4e178",
   "metadata": {},
   "source": [
    "Recursive Function:\n",
    "when a functions calls itself..."
   ]
  },
  {
   "cell_type": "code",
   "execution_count": 49,
   "id": "621d8a26",
   "metadata": {},
   "outputs": [
    {
     "name": "stdout",
     "output_type": "stream",
     "text": [
      "6\n",
      "Wall time: 3.45 s\n"
     ]
    },
    {
     "data": {
      "text/plain": [
       "720"
      ]
     },
     "execution_count": 49,
     "metadata": {},
     "output_type": "execute_result"
    }
   ],
   "source": [
    "%%time\n",
    "\n",
    "def function_name(a,fact):\n",
    "    facto = fact*a\n",
    "    a-=1\n",
    "    if a == 0:\n",
    "        return facto\n",
    "    return function_name(a,facto)\n",
    "\n",
    "user_num = int(input())\n",
    "function_name(user_num,1)"
   ]
  },
  {
   "cell_type": "code",
   "execution_count": 50,
   "id": "f092c351",
   "metadata": {},
   "outputs": [
    {
     "data": {
      "text/plain": [
       "120"
      ]
     },
     "execution_count": 50,
     "metadata": {},
     "output_type": "execute_result"
    }
   ],
   "source": [
    "def factorial(n):\n",
    "    if n < 0:\n",
    "        return \"factorial of -ve numbers doesn't exist\"\n",
    "    elif n <= 1:\n",
    "        return 1\n",
    "    else:\n",
    "        return n * factorial (n-1)\n",
    "    \n",
    "factorial(5)"
   ]
  },
  {
   "cell_type": "raw",
   "id": "71aef69d",
   "metadata": {},
   "source": [
    "function called >> value of n >> return output\n",
    "1 >>5>> 5 * factorial(4)\n",
    "2 >>4>> 4 * factorial(3)\n",
    "3 >>3>> 3 * factorial(2)\n",
    "4 >>2>> 2 * factorial(1)\n",
    "5 >>1>> 1"
   ]
  },
  {
   "cell_type": "code",
   "execution_count": 52,
   "id": "45b1d8f2",
   "metadata": {},
   "outputs": [
    {
     "name": "stdout",
     "output_type": "stream",
     "text": [
      "0 1 1 2 3 5 8 13 21 34 "
     ]
    }
   ],
   "source": [
    "def fibo(n):\n",
    "    if n <= 1 and n > -1:\n",
    "        return n\n",
    "    return fibo(n-2)+fibo(n-1)\n",
    "\n",
    "for i in range(0,10):   # 0,1,2\n",
    "    print(fibo(i),end=' ')"
   ]
  },
  {
   "cell_type": "code",
   "execution_count": null,
   "id": "08e3a467",
   "metadata": {},
   "outputs": [],
   "source": []
  }
 ],
 "metadata": {
  "kernelspec": {
   "display_name": "Python 3 (ipykernel)",
   "language": "python",
   "name": "python3"
  },
  "language_info": {
   "codemirror_mode": {
    "name": "ipython",
    "version": 3
   },
   "file_extension": ".py",
   "mimetype": "text/x-python",
   "name": "python",
   "nbconvert_exporter": "python",
   "pygments_lexer": "ipython3",
   "version": "3.9.7"
  },
  "toc": {
   "base_numbering": 1,
   "nav_menu": {},
   "number_sections": true,
   "sideBar": true,
   "skip_h1_title": false,
   "title_cell": "Table of Contents",
   "title_sidebar": "Contents",
   "toc_cell": false,
   "toc_position": {},
   "toc_section_display": true,
   "toc_window_display": false
  }
 },
 "nbformat": 4,
 "nbformat_minor": 5
}
