{
 "cells": [
  {
   "cell_type": "markdown",
   "id": "1633ed42",
   "metadata": {},
   "source": [
    "# Difference between pass, continue & break"
   ]
  },
  {
   "cell_type": "raw",
   "id": "e22be2a7",
   "metadata": {},
   "source": [
    "pass is used so as to neither express any statements further or bypass the statements\n",
    "pass does not stop opr break the loop\n",
    "\n",
    "continue will break the current interation & hop on to next iteration\n",
    "\n",
    "break is used to break the loop all together & come out of loop."
   ]
  },
  {
   "cell_type": "code",
   "execution_count": 1,
   "id": "44130004",
   "metadata": {},
   "outputs": [
    {
     "name": "stdout",
     "output_type": "stream",
     "text": [
      "5\n"
     ]
    },
    {
     "data": {
      "text/plain": [
       "120"
      ]
     },
     "execution_count": 1,
     "metadata": {},
     "output_type": "execute_result"
    }
   ],
   "source": [
    "n=int(input());fact = 1\n",
    "\n",
    "for i in range(0,n+1):\n",
    "    if i == 0:\n",
    "        pass\n",
    "    else:\n",
    "        fact = fact * i\n",
    "    \n",
    "fact"
   ]
  },
  {
   "cell_type": "code",
   "execution_count": 2,
   "id": "e416ad99",
   "metadata": {},
   "outputs": [
    {
     "data": {
      "text/plain": [
       "10"
      ]
     },
     "execution_count": 2,
     "metadata": {},
     "output_type": "execute_result"
    }
   ],
   "source": [
    "for i in range(0,5):\n",
    "    if i==0:\n",
    "        add=0\n",
    "        pass\n",
    "    else:\n",
    "        add+=i\n",
    "        \n",
    "add"
   ]
  },
  {
   "cell_type": "code",
   "execution_count": 3,
   "id": "8925b12c",
   "metadata": {},
   "outputs": [
    {
     "name": "stdout",
     "output_type": "stream",
     "text": [
      "1\n",
      "2\n",
      "3\n",
      "4\n"
     ]
    }
   ],
   "source": [
    "for i in range(5):\n",
    "    if i == 0:\n",
    "        pass\n",
    "    else:\n",
    "        print(i)"
   ]
  },
  {
   "cell_type": "code",
   "execution_count": 4,
   "id": "d01605db",
   "metadata": {},
   "outputs": [
    {
     "name": "stdout",
     "output_type": "stream",
     "text": [
      "1\n",
      "2\n",
      "3\n",
      "4\n"
     ]
    }
   ],
   "source": [
    "for i in range(5):\n",
    "    if i == 0:\n",
    "        continue\n",
    "        print('Hi')\n",
    "    else:\n",
    "        print(i)"
   ]
  },
  {
   "cell_type": "code",
   "execution_count": 5,
   "id": "001f865f",
   "metadata": {},
   "outputs": [
    {
     "name": "stdout",
     "output_type": "stream",
     "text": [
      "Hi\n"
     ]
    }
   ],
   "source": [
    "for i in range(5):\n",
    "    if i == 0:\n",
    "        print('Hi')\n",
    "        break\n",
    "        \n",
    "    else:\n",
    "        print(i)"
   ]
  },
  {
   "cell_type": "raw",
   "id": "cbbf3336",
   "metadata": {},
   "source": [
    "While continue just breaks the current iteration & loop carries on whith next iteration, break actually breaks the entire loop & comes out such that no further iteration post occurance of break would happen.\n",
    "\n",
    "pass is generally used to skip on any statements after the decision making statements or loops."
   ]
  },
  {
   "cell_type": "code",
   "execution_count": 6,
   "id": "abb7f415",
   "metadata": {},
   "outputs": [
    {
     "name": "stdout",
     "output_type": "stream",
     "text": [
      "2\n",
      "3\n",
      "5\n",
      "7\n"
     ]
    }
   ],
   "source": [
    "list1= [2,3,4,5,7]\n",
    "\n",
    "for i in list1:\n",
    "    if i==4:\n",
    "        continue\n",
    "        print('we dont print 4')\n",
    "    else:\n",
    "        print(i)"
   ]
  },
  {
   "cell_type": "code",
   "execution_count": 7,
   "id": "610d1275",
   "metadata": {},
   "outputs": [
    {
     "name": "stdout",
     "output_type": "stream",
     "text": [
      "2\n",
      "3\n",
      "we dont print 4\n",
      "5\n",
      "7\n"
     ]
    }
   ],
   "source": [
    "list1= [2,3,4,5,7]\n",
    "\n",
    "for i in list1:\n",
    "    if i==4:\n",
    "        pass\n",
    "        print('we dont print 4')\n",
    "    else:\n",
    "        print(i)"
   ]
  },
  {
   "cell_type": "code",
   "execution_count": 8,
   "id": "68f1e492",
   "metadata": {},
   "outputs": [
    {
     "name": "stdout",
     "output_type": "stream",
     "text": [
      "2\n",
      "3\n",
      "4\n",
      "[5, 6]\n",
      "5\n",
      "7\n"
     ]
    }
   ],
   "source": [
    "list1= [2,3,4,[5,6],7]\n",
    "\n",
    "for i in list1:\n",
    "    if type(i) == int:\n",
    "        print(i)\n",
    "    elif type(i) == list:\n",
    "        print(i)\n",
    "        for j in i:\n",
    "            print(j)\n",
    "#             continue\n",
    "            break"
   ]
  },
  {
   "cell_type": "raw",
   "id": "3669107b",
   "metadata": {},
   "source": [
    "# Wap to create a fibonacci series using for loop\n",
    "0, 1, 1, 2, 3, 5, 8, 13, 21, 34, 55, 89, 144"
   ]
  },
  {
   "cell_type": "code",
   "execution_count": 9,
   "id": "67240490",
   "metadata": {},
   "outputs": [
    {
     "data": {
      "text/plain": [
       "[0, 1, 1, 2, 3, 5, 8, 13, 21, 34, 55, 89, 144]"
      ]
     },
     "execution_count": 9,
     "metadata": {},
     "output_type": "execute_result"
    }
   ],
   "source": [
    "n=13\n",
    "new=[]\n",
    "a=0\n",
    "b=1\n",
    "for i in range(0,n):\n",
    "    new.append(a)\n",
    "    c=a+b\n",
    "    a=b\n",
    "    b=c\n",
    "\n",
    "new"
   ]
  },
  {
   "cell_type": "code",
   "execution_count": 10,
   "id": "d1b375ac",
   "metadata": {},
   "outputs": [
    {
     "name": "stdout",
     "output_type": "stream",
     "text": [
      "0 1 1 2 3 5 8 13 21 34 55 89 144 "
     ]
    }
   ],
   "source": [
    "# # Wap to create a fibonacci series using for loop\n",
    "#0, 1, 1, 2, 3, 5, 8, 13, 21, 34, 55, 89, 144\n",
    "\n",
    "n=13\n",
    "a=0\n",
    "b=1\n",
    "\n",
    "for i in range(0,n):\n",
    "    print(a,end=' ')\n",
    "    c=a+b\n",
    "    a=b\n",
    "    b=c"
   ]
  }
 ],
 "metadata": {
  "kernelspec": {
   "display_name": "Python 3 (ipykernel)",
   "language": "python",
   "name": "python3"
  },
  "language_info": {
   "codemirror_mode": {
    "name": "ipython",
    "version": 3
   },
   "file_extension": ".py",
   "mimetype": "text/x-python",
   "name": "python",
   "nbconvert_exporter": "python",
   "pygments_lexer": "ipython3",
   "version": "3.9.7"
  },
  "toc": {
   "base_numbering": 1,
   "nav_menu": {},
   "number_sections": true,
   "sideBar": true,
   "skip_h1_title": false,
   "title_cell": "Table of Contents",
   "title_sidebar": "Contents",
   "toc_cell": false,
   "toc_position": {},
   "toc_section_display": true,
   "toc_window_display": false
  }
 },
 "nbformat": 4,
 "nbformat_minor": 5
}
