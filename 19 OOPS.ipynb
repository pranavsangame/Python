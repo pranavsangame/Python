{
 "cells": [
  {
   "cell_type": "raw",
   "id": "d2d7c5d2",
   "metadata": {},
   "source": [
    "Object Oriented Programing(OOPs):\n",
    "    is a method of structuring a program by bundling related properties & behaviour into indivisual objects.\n",
    "    \n",
    "Class:\n",
    "    Class works as a sketch model, blueprint or template to create an object.\n",
    "    It supports the oops concept\n",
    "Use:\n",
    "    Code Resusability\n",
    "    \n",
    "Object:\n",
    "    It is the outcome of the class.\n",
    "    It is an instance of the class.\n",
    "    From class we construct instances. An instance is a specific object created from the class.\n",
    "    "
   ]
  },
  {
   "cell_type": "code",
   "execution_count": 1,
   "id": "261cfcb5",
   "metadata": {},
   "outputs": [
    {
     "name": "stdout",
     "output_type": "stream",
     "text": [
      "engine created here\n"
     ]
    }
   ],
   "source": [
    "class Car_manufacture:\n",
    "    \n",
    "    def engine(self):\n",
    "        print('engine created here')\n",
    "        \n",
    "    def suspension(self):\n",
    "        print('suspension created here')\n",
    "        \n",
    "    def bonet(self):\n",
    "        print('bonet added here')\n",
    "        \n",
    "        \n",
    "vehicle = Car_manufacture()\n",
    "vehicle.engine()"
   ]
  },
  {
   "cell_type": "code",
   "execution_count": 2,
   "id": "3879fa96",
   "metadata": {},
   "outputs": [
    {
     "name": "stdout",
     "output_type": "stream",
     "text": [
      "engine created here\n"
     ]
    }
   ],
   "source": [
    "Car_manufacture().engine()"
   ]
  },
  {
   "cell_type": "code",
   "execution_count": 6,
   "id": "0d443735",
   "metadata": {},
   "outputs": [
    {
     "name": "stdout",
     "output_type": "stream",
     "text": [
      "bonet added here\n"
     ]
    }
   ],
   "source": [
    "vehicle.bonet()"
   ]
  },
  {
   "cell_type": "raw",
   "id": "5d6cdc9f",
   "metadata": {},
   "source": [
    "from file_name import function\n",
    "\n",
    "from folder_name import file_name\n",
    "file_name.class.function()"
   ]
  },
  {
   "cell_type": "code",
   "execution_count": 7,
   "id": "3470c2f0",
   "metadata": {},
   "outputs": [],
   "source": [
    "class Netbanking:\n",
    "    \n",
    "    def user_details(self):\n",
    "        data\n",
    "        \n",
    "    def registration(self):\n",
    "        new_registration\n",
    "        \n",
    "    def pre_existing_customer(self):\n",
    "        database\n",
    "        \n",
    "    def login(self):\n",
    "        user_id\n",
    "        password\n",
    "        return netbanking_account\n",
    "    "
   ]
  },
  {
   "cell_type": "raw",
   "id": "70c290d3",
   "metadata": {},
   "source": [
    "OOPs:\n",
    "    Object Oriented Programing\n",
    "    \n",
    "    There are 4 pillars of OOPs:\n",
    "        1. Inheritane\n",
    "        2. Abstraction\n",
    "        3. Encapsulation\n",
    "        4. Polymorphism\n",
    "        \n",
    "        "
   ]
  },
  {
   "cell_type": "raw",
   "id": "2da4561a",
   "metadata": {},
   "source": [
    "self:\n",
    "    self binds the methods to the class\n",
    "    it shohws that the method having self is the property of the class\n",
    "    \n",
    "self:\n",
    "    1. used to access variable by creating an instance variable\n",
    "    2. It will differentiate between instance variable & local variable by creating instance variable using self keyword.\n",
    "    3. used in every function or method being an inbuilt proporty of the class\n",
    "    4. self also binds together given attributes with arguements & methods"
   ]
  },
  {
   "cell_type": "code",
   "execution_count": 8,
   "id": "c34b77f7",
   "metadata": {},
   "outputs": [
    {
     "name": "stdout",
     "output_type": "stream",
     "text": [
      "numbers are  10 20 30\n",
      "sumation is  300\n",
      "avg is 26.666666666666668\n"
     ]
    }
   ],
   "source": [
    "class simplemaths:                   #defining a class\n",
    "    def numbers(self,a=1,b=2,c=3):   #defining method by gtaking in arguemets\n",
    "        print('numbers are ', a,b,c)\n",
    "        \n",
    "    def sumation(self,x,y):\n",
    "        print('sumation is ',x+y)\n",
    "        \n",
    "    def avg(self,a,b,c):\n",
    "        print('avg is',(a+b+c)/3)\n",
    "        \n",
    "my_maths = simplemaths()             #defining the object for the class\n",
    "my_maths.numbers(10,20,30)           #calling a method of the class using object\n",
    "my_maths.sumation(100,200)\n",
    "my_maths.avg(25,25,30)"
   ]
  },
  {
   "cell_type": "code",
   "execution_count": 9,
   "id": "bc3f61c1",
   "metadata": {},
   "outputs": [
    {
     "name": "stdout",
     "output_type": "stream",
     "text": [
      "numbers are  10 20 30\n",
      "sumation is  300\n"
     ]
    },
    {
     "ename": "NameError",
     "evalue": "name 'm' is not defined",
     "output_type": "error",
     "traceback": [
      "\u001b[1;31m---------------------------------------------------------------------------\u001b[0m",
      "\u001b[1;31mNameError\u001b[0m                                 Traceback (most recent call last)",
      "\u001b[1;32m~\\AppData\\Local\\Temp/ipykernel_42156/3102838310.py\u001b[0m in \u001b[0;36m<module>\u001b[1;34m\u001b[0m\n\u001b[0;32m     14\u001b[0m \u001b[0mmy_maths\u001b[0m\u001b[1;33m.\u001b[0m\u001b[0mnumbers\u001b[0m\u001b[1;33m(\u001b[0m\u001b[1;36m10\u001b[0m\u001b[1;33m,\u001b[0m\u001b[1;36m20\u001b[0m\u001b[1;33m,\u001b[0m\u001b[1;36m30\u001b[0m\u001b[1;33m)\u001b[0m           \u001b[1;31m#calling a method of the class using object\u001b[0m\u001b[1;33m\u001b[0m\u001b[1;33m\u001b[0m\u001b[0m\n\u001b[0;32m     15\u001b[0m \u001b[0mmy_maths\u001b[0m\u001b[1;33m.\u001b[0m\u001b[0msumation\u001b[0m\u001b[1;33m(\u001b[0m\u001b[1;36m100\u001b[0m\u001b[1;33m,\u001b[0m\u001b[1;36m200\u001b[0m\u001b[1;33m)\u001b[0m\u001b[1;33m\u001b[0m\u001b[1;33m\u001b[0m\u001b[0m\n\u001b[1;32m---> 16\u001b[1;33m \u001b[0mmy_maths\u001b[0m\u001b[1;33m.\u001b[0m\u001b[0mavg\u001b[0m\u001b[1;33m(\u001b[0m\u001b[1;33m)\u001b[0m\u001b[1;33m\u001b[0m\u001b[1;33m\u001b[0m\u001b[0m\n\u001b[0m",
      "\u001b[1;32m~\\AppData\\Local\\Temp/ipykernel_42156/3102838310.py\u001b[0m in \u001b[0;36mavg\u001b[1;34m(self)\u001b[0m\n\u001b[0;32m      9\u001b[0m \u001b[1;33m\u001b[0m\u001b[0m\n\u001b[0;32m     10\u001b[0m     \u001b[1;32mdef\u001b[0m \u001b[0mavg\u001b[0m\u001b[1;33m(\u001b[0m\u001b[0mself\u001b[0m\u001b[1;33m)\u001b[0m\u001b[1;33m:\u001b[0m\u001b[1;33m\u001b[0m\u001b[1;33m\u001b[0m\u001b[0m\n\u001b[1;32m---> 11\u001b[1;33m         \u001b[0mprint\u001b[0m\u001b[1;33m(\u001b[0m\u001b[1;34m'avg is'\u001b[0m\u001b[1;33m,\u001b[0m\u001b[1;33m(\u001b[0m\u001b[0mm\u001b[0m\u001b[1;33m+\u001b[0m\u001b[0mn\u001b[0m\u001b[1;33m+\u001b[0m\u001b[0mo\u001b[0m\u001b[1;33m)\u001b[0m\u001b[1;33m/\u001b[0m\u001b[1;36m3\u001b[0m\u001b[1;33m)\u001b[0m\u001b[1;33m\u001b[0m\u001b[1;33m\u001b[0m\u001b[0m\n\u001b[0m\u001b[0;32m     12\u001b[0m \u001b[1;33m\u001b[0m\u001b[0m\n\u001b[0;32m     13\u001b[0m \u001b[0mmy_maths\u001b[0m \u001b[1;33m=\u001b[0m \u001b[0msimplemaths\u001b[0m\u001b[1;33m(\u001b[0m\u001b[1;33m)\u001b[0m             \u001b[1;31m#defining the object for the class\u001b[0m\u001b[1;33m\u001b[0m\u001b[1;33m\u001b[0m\u001b[0m\n",
      "\u001b[1;31mNameError\u001b[0m: name 'm' is not defined"
     ]
    }
   ],
   "source": [
    "class simplemaths:                   #defining a class\n",
    "    def numbers(self,m,n,o):   #defining method by gtaking in arguemets\n",
    "        print('numbers are ', m,n,o)\n",
    "        m=100                 #local variable\n",
    "        n=20\n",
    "        o=25\n",
    "    def sumation(self,x,y):\n",
    "        print('sumation is ',x+y)\n",
    "        \n",
    "    def avg(self):\n",
    "        print('avg is',(m+n+o)/3)\n",
    "        \n",
    "my_maths = simplemaths()             #defining the object for the class\n",
    "my_maths.numbers(10,20,30)           #calling a method of the class using object\n",
    "my_maths.sumation(100,200)\n",
    "my_maths.avg()"
   ]
  },
  {
   "cell_type": "code",
   "execution_count": 10,
   "id": "0d7e2059",
   "metadata": {},
   "outputs": [
    {
     "name": "stdout",
     "output_type": "stream",
     "text": [
      "numbers are  10 20 30\n",
      "sumation is  300\n",
      "avg is 20.0 333\n"
     ]
    }
   ],
   "source": [
    "class simplemaths:             #defining a class\n",
    "    \n",
    "    final=333                  #Class Variable/Static Variable\n",
    "    \n",
    "    def numbers(self,a,b,c):   #defining method by gtaking in arguemets\n",
    "        self.a = a             #Instance variable created\n",
    "        self.b = b\n",
    "        self.c = c\n",
    "        print('numbers are ', a,b,c)\n",
    "        \n",
    "    def sumation(self,x,y):\n",
    "        print('sumation is ',x+y)\n",
    "        \n",
    "    def avg(self):\n",
    "        print('avg is',(self.a+self.b+self.c)/3,self.final)\n",
    "        \n",
    "my_maths = simplemaths()             #defining the object for the class\n",
    "my_maths.numbers(10,20,30)           #calling a method of the class using object\n",
    "my_maths.sumation(100,200)\n",
    "my_maths.avg()"
   ]
  },
  {
   "cell_type": "raw",
   "id": "e6e5b2a5",
   "metadata": {},
   "source": [
    "for class variable- using self. before accessing that variable is mandatory.\n",
    "for class & function arguments converting arguments into instance variable is imp for using them in any function. They have to be used with self. keyword in the begennning.\n",
    "\n",
    "however for local variables & function arguemnts using self before the variable within that function is not essential."
   ]
  },
  {
   "cell_type": "raw",
   "id": "8323f879",
   "metadata": {},
   "source": [
    "__init__:\n",
    "    1. it is used for initilizing the variables\n",
    "    2. a prior function used to take arguements for class\n",
    "    3. It helps in connecting the arguements of child class & parent class\n",
    "    4. called automatically when the class is being used"
   ]
  },
  {
   "cell_type": "code",
   "execution_count": 11,
   "id": "860bc997",
   "metadata": {},
   "outputs": [
    {
     "name": "stdout",
     "output_type": "stream",
     "text": [
      "Pune MIT\n",
      "college university is:  Savitribai Phule\n"
     ]
    }
   ],
   "source": [
    "class college():\n",
    "    \n",
    "    def __init__(self, clg_name,clg_location):        #class constructor\n",
    "        \n",
    "        self.clg_name = clg_name\n",
    "        self.clg_location = clg_location\n",
    "        \n",
    "#         print(clg_name,clg_location)\n",
    "        \n",
    "    def university(self,unicity_name):\n",
    "        x = 500\n",
    "        print('college university is: ',unicity_name)\n",
    "        \n",
    "    def name_location(self):\n",
    "        print(self.clg_location,self.clg_name)\n",
    "        \n",
    "        \n",
    "clg = college('MIT','Pune')\n",
    "clg.name_location()\n",
    "clg.university('Savitribai Phule')"
   ]
  },
  {
   "cell_type": "markdown",
   "id": "d23b1967",
   "metadata": {},
   "source": [
    "# Inheritance"
   ]
  },
  {
   "cell_type": "raw",
   "id": "8ae4743e",
   "metadata": {},
   "source": [
    "It allows a class to inherit the properties(variables & methods) of another class\n",
    "It facilitates code resusability\n",
    "\n",
    "Base class/ Parent Class/ Super class\n",
    "Derived class/ Child class/ sub class   ---- They derive the propoerties of base class\n",
    "\n",
    "object is created for base class"
   ]
  },
  {
   "cell_type": "code",
   "execution_count": 12,
   "id": "3b97f949",
   "metadata": {},
   "outputs": [
    {
     "name": "stdout",
     "output_type": "stream",
     "text": [
      "this is parent class\n",
      "this is child class\n"
     ]
    }
   ],
   "source": [
    "class parent():\n",
    "    print('this is parent class')\n",
    "class child():\n",
    "    print('this is child class')"
   ]
  },
  {
   "cell_type": "code",
   "execution_count": 13,
   "id": "8e531157",
   "metadata": {},
   "outputs": [],
   "source": [
    "class parent():\n",
    "    def parent_name(self):\n",
    "        print('this is parent class')\n",
    "class child(parent):\n",
    "    def child_name(self):\n",
    "        print('this is child class')"
   ]
  },
  {
   "cell_type": "code",
   "execution_count": 14,
   "id": "e0c0df14",
   "metadata": {},
   "outputs": [
    {
     "name": "stdout",
     "output_type": "stream",
     "text": [
      "this is child class\n",
      "this is parent class\n"
     ]
    }
   ],
   "source": [
    "obj = child()\n",
    "obj.child_name()\n",
    "obj.parent_name()"
   ]
  },
  {
   "cell_type": "code",
   "execution_count": 15,
   "id": "128197ee",
   "metadata": {},
   "outputs": [
    {
     "name": "stdout",
     "output_type": "stream",
     "text": [
      "this is init function\n",
      "name of parent class is  Rahul\n",
      "this is init function\n",
      "this is child class\n"
     ]
    }
   ],
   "source": [
    "class parent():\n",
    "    \n",
    "    def __init__(self,name):\n",
    "        print('this is init function')\n",
    "        self.name = name\n",
    "        \n",
    "    def parent_name(self):\n",
    "        print('name of parent class is ',self.name)\n",
    "        \n",
    "class child(parent):\n",
    "    \n",
    "    def child_name(self):\n",
    "        print('this is child class')\n",
    "        \n",
    "        \n",
    "obj1 = parent('Rahul')     #obj of parent class created\n",
    "obj1.parent_name()\n",
    "\n",
    "obj2 = child('Hement')     #obj of child class\n",
    "obj2.child_name()"
   ]
  },
  {
   "cell_type": "code",
   "execution_count": 16,
   "id": "05e1a02b",
   "metadata": {},
   "outputs": [
    {
     "name": "stdout",
     "output_type": "stream",
     "text": [
      "this is init of child class\n",
      "student roll no is  50\n",
      "student_name function of Name class\n",
      "student age is  22\n"
     ]
    }
   ],
   "source": [
    "class Name():\n",
    "    def __init__(self,name):\n",
    "        self.name = name\n",
    "        \n",
    "    def student_name(self,location):\n",
    "        self.location = location\n",
    "        print(\"student_name function of Name class\")\n",
    "        \n",
    "class Student_Info(Name):\n",
    "    def __init__(self,name,roll_no,age,marks):\n",
    "        print('this is init of child class')\n",
    "        self.name = name\n",
    "        self.age = age\n",
    "        self.roll_no = roll_no\n",
    "        self.marks = marks\n",
    "        \n",
    "    def student_roll_no(self):\n",
    "        print('student roll no is ',self.roll_no)\n",
    "        \n",
    "    def student_age(self):\n",
    "        print('student age is ',self.age)\n",
    "        \n",
    "        \n",
    "stu_obj = Student_Info('jagdish',50,22,96)\n",
    "stu_obj.student_roll_no()\n",
    "stu_obj.student_name('Lonawala')\n",
    "stu_obj.student_age()"
   ]
  },
  {
   "cell_type": "raw",
   "id": "28d5718f",
   "metadata": {},
   "source": [
    "Syntax for connecting __init__ of child class & parent class:\n",
    "    \n",
    "    parentclass.__init__(self,arguements)\n",
    "    super().__init__(arguements)\n",
    "    \n",
    "use of super(): is only used when we have single parent class for a child class.\n",
    "    if we are using super(), then we do not use self as an initial arguement."
   ]
  },
  {
   "cell_type": "raw",
   "id": "371d3066",
   "metadata": {},
   "source": [
    "There are 5 ways we can use variable in any function:\n",
    "    use global variable\n",
    "    use static/ class variable     -- needs self initially\n",
    "    use local variable\n",
    "    function argument\n",
    "    take variable as an arguemtnt of class then create its instance variable & use in any function"
   ]
  },
  {
   "cell_type": "code",
   "execution_count": 17,
   "id": "b5a58dd0",
   "metadata": {},
   "outputs": [
    {
     "name": "stdout",
     "output_type": "stream",
     "text": [
      "this is init of child class\n",
      "student roll no is  50\n",
      "student_name function of Name class Lonawala\n",
      "student age is  22\n",
      "student score is  96\n"
     ]
    }
   ],
   "source": [
    "class Name():\n",
    "    \n",
    "    def __init__(self,score):\n",
    "        self.score = score\n",
    "        \n",
    "    def student_score(self):\n",
    "        print('student score is ',self.score)\n",
    "\n",
    "    def student_name(self,location):\n",
    "        self.location = location\n",
    "        print(\"student_name function of Name class\",location)\n",
    "        \n",
    "class Student_Info(Name):\n",
    "    def __init__(self,name,roll_no,age,marks):\n",
    "        print('this is init of child class')\n",
    "        self.name = name\n",
    "        self.age = age\n",
    "        self.roll_no = roll_no\n",
    "        self.marks = marks\n",
    "        \n",
    "        Name.__init__(self,marks)\n",
    "        \n",
    "    def student_roll_no(self):\n",
    "        print('student roll no is ',self.roll_no)\n",
    "        \n",
    "    def student_age(self):\n",
    "        print('student age is ',self.age)\n",
    "        \n",
    "        \n",
    "stu_obj = Student_Info('jagdish',50,22,96)\n",
    "stu_obj.student_roll_no()\n",
    "stu_obj.student_name('Lonawala')\n",
    "stu_obj.student_age()\n",
    "stu_obj.student_score()"
   ]
  },
  {
   "cell_type": "markdown",
   "id": "a6316cad",
   "metadata": {},
   "source": [
    "##  Types of inheritance"
   ]
  },
  {
   "cell_type": "raw",
   "id": "c9745d29",
   "metadata": {},
   "source": [
    "Multilevel inheriatance"
   ]
  },
  {
   "cell_type": "raw",
   "id": "31365253",
   "metadata": {},
   "source": [
    "# the child class wiill derive the properties of their respective parent classes\n",
    "\n",
    "# object can be created for any child class"
   ]
  },
  {
   "cell_type": "code",
   "execution_count": null,
   "id": "5ac9284b",
   "metadata": {},
   "outputs": [],
   "source": [
    "class grandfather():\n",
    "    pass\n",
    "class father(grandfather):\n",
    "    pass\n",
    "class child(father):\n",
    "    pass"
   ]
  },
  {
   "cell_type": "code",
   "execution_count": 25,
   "id": "97440a8a",
   "metadata": {},
   "outputs": [
    {
     "data": {
      "text/plain": [
       "'performing some maths'"
      ]
     },
     "metadata": {},
     "output_type": "display_data"
    },
    {
     "data": {
      "text/plain": [
       "3.0"
      ]
     },
     "execution_count": 25,
     "metadata": {},
     "output_type": "execute_result"
    }
   ],
   "source": [
    "class baseclass1():\n",
    "    def display(self):\n",
    "        display('performing some maths')\n",
    "        \n",
    "class baseclass2(baseclass1):\n",
    "    def addition(self,a,b):\n",
    "        return a+b\n",
    "    \n",
    "class baseclass3(baseclass2):\n",
    "    def multiplication(self,x,y):\n",
    "        return x*y\n",
    "    \n",
    "class baseclass4(baseclass3):\n",
    "    def avg(self,m,n,o):\n",
    "        return (m+n+o)/3\n",
    "    \n",
    "    \n",
    "    \n",
    "d = baseclass4()\n",
    "d.display()\n",
    "d.addition(5,4)\n",
    "d.multiplication(5,4)\n",
    "d.avg(2,3,4)"
   ]
  },
  {
   "cell_type": "markdown",
   "id": "c637488a",
   "metadata": {},
   "source": [
    "## Multiple Inheritance"
   ]
  },
  {
   "cell_type": "code",
   "execution_count": null,
   "id": "3ba62b24",
   "metadata": {},
   "outputs": [],
   "source": [
    "class grandfather():\n",
    "    pass\n",
    "class father():\n",
    "    pass\n",
    "class child(father,grandfather):\n",
    "    pass"
   ]
  },
  {
   "cell_type": "code",
   "execution_count": 26,
   "id": "5b4ee503",
   "metadata": {},
   "outputs": [
    {
     "data": {
      "text/plain": [
       "'performing some maths'"
      ]
     },
     "metadata": {},
     "output_type": "display_data"
    },
    {
     "data": {
      "text/plain": [
       "3.0"
      ]
     },
     "execution_count": 26,
     "metadata": {},
     "output_type": "execute_result"
    }
   ],
   "source": [
    "class baseclass1():\n",
    "    def display(self):\n",
    "        display('performing some maths')\n",
    "        \n",
    "class baseclass2():\n",
    "    def addition(self,a,b):\n",
    "        return a+b\n",
    "    \n",
    "class baseclass3():\n",
    "    def multiplication(self,x,y):\n",
    "        return x*y\n",
    "    \n",
    "class baseclass4(baseclass3,baseclass2,baseclass1):\n",
    "    def avg(self,m,n,o):\n",
    "        return (m+n+o)/3\n",
    "    \n",
    "    \n",
    "    \n",
    "d = baseclass4()\n",
    "d.display()\n",
    "d.addition(5,4)\n",
    "d.multiplication(5,4)\n",
    "d.avg(2,3,4)"
   ]
  },
  {
   "cell_type": "raw",
   "id": "e006237b",
   "metadata": {},
   "source": [
    "#wap to find the area of different shapes(circle,cyclinder,rectange,triangle)\n",
    "we should be using the concept of multiple inheritance, multilevel inheritance & different types of variables"
   ]
  },
  {
   "cell_type": "code",
   "execution_count": 27,
   "id": "3619d3d0",
   "metadata": {},
   "outputs": [
    {
     "data": {
      "text/plain": [
       "3.141592653589793"
      ]
     },
     "execution_count": 27,
     "metadata": {},
     "output_type": "execute_result"
    }
   ],
   "source": [
    "import numpy as np\n",
    "np.pi"
   ]
  },
  {
   "cell_type": "code",
   "execution_count": 28,
   "id": "bf451628",
   "metadata": {},
   "outputs": [
    {
     "data": {
      "text/plain": [
       "3.141592653589793"
      ]
     },
     "execution_count": 28,
     "metadata": {},
     "output_type": "execute_result"
    }
   ],
   "source": [
    "import math\n",
    "math.pi"
   ]
  },
  {
   "cell_type": "code",
   "execution_count": 29,
   "id": "b327011e",
   "metadata": {},
   "outputs": [],
   "source": [
    "class circle:\n",
    "    def circle_area():\n",
    "        return area\n",
    "    \n",
    "class cylinder(circle):\n",
    "    def cyl_area():\n",
    "        return circle_area*h\n",
    "    \n"
   ]
  },
  {
   "cell_type": "code",
   "execution_count": 30,
   "id": "842803eb",
   "metadata": {},
   "outputs": [
    {
     "name": "stdout",
     "output_type": "stream",
     "text": [
      "314.0\n",
      "3140.0\n",
      "100.0\n"
     ]
    },
    {
     "data": {
      "text/plain": [
       "50.0"
      ]
     },
     "execution_count": 30,
     "metadata": {},
     "output_type": "execute_result"
    }
   ],
   "source": [
    "class Circle:\n",
    "    def __init__(self,radius):\n",
    "        self.radius = radius\n",
    "    def circle_area(self):\n",
    "        area = 3.14 * self.radius **2\n",
    "        return area\n",
    "\n",
    "class Cylinder(Circle):\n",
    "    def  __init__(self,radius,height):\n",
    "        self.height = height\n",
    "        super().__init__(radius)\n",
    "    def cylinder_area(self):\n",
    "        return super().circle_area() * self.height\n",
    "\n",
    "class Triangle:\n",
    "    def __init__(self,sidelength,height):\n",
    "        self.sidelength = sidelength\n",
    "        self.height = height\n",
    "    def triangle_area(self):\n",
    "        t_area = 0.5 * self.sidelength * self.height\n",
    "        return t_area\n",
    "\n",
    "class Rectangle(Triangle):\n",
    "    def __init__(self,sidelength,height):\n",
    "        super().__init__(sidelength, height)\n",
    "\n",
    "    def rectangle_area(self):\n",
    "        return super().triangle_area() * 2\n",
    "    \n",
    "class shapes(Rectangle,Cylinder):\n",
    "    def __init__(self,sidelength,radius,height):\n",
    "        Rectangle.__init__(self,sidelength,height)\n",
    "        Cylinder.__init__(self,radius,height)\n",
    "    \n",
    "\n",
    "Area = shapes(10,10,10)\n",
    "print(Area.circle_area())\n",
    "print(Area.cylinder_area())\n",
    "print(Area.rectangle_area())\n",
    "(Area.triangle_area())"
   ]
  },
  {
   "cell_type": "markdown",
   "id": "15c984f7",
   "metadata": {},
   "source": [
    "# Abstraction"
   ]
  },
  {
   "cell_type": "raw",
   "id": "22c0ee93",
   "metadata": {},
   "source": [
    "Blueprint for other classes\n",
    "by default python doesnt have abstract method inbuilt, it has to be called from abc library\n",
    "we dont create any object for abstract class\n",
    "Abstract class is only used for declaration purpose, it is not used for implementation"
   ]
  },
  {
   "cell_type": "code",
   "execution_count": 31,
   "id": "3c057e78",
   "metadata": {},
   "outputs": [],
   "source": [
    "from abc import ABC,abstractmethod\n",
    "class user_registration(ABC):\n",
    "    @abstractmethod\n",
    "    def first_cry(self):\n",
    "        New_registration()\n",
    "        Login()\n",
    "        Password()\n",
    "    @abstractmethod    \n",
    "    def samsung():\n",
    "        New_registration()\n",
    "        Login()\n",
    "        Password()\n",
    "    @abstractmethod    \n",
    "    def reliance():\n",
    "        New_registration()\n",
    "        Login()\n",
    "        Password()\n",
    "        \n",
    "        \n",
    "class preporcessing(user_registration):\n",
    "    \n",
    "    def first_cry(self):\n",
    "        New_registration()\n",
    "        Login()\n",
    "        Password()\n",
    "        \n",
    "    def samsung():\n",
    "        New_registration()\n",
    "        Login()\n",
    "        Password()\n",
    "        \n",
    "    def reliance():\n",
    "        New_registration()\n",
    "        Login()\n",
    "        Password()"
   ]
  },
  {
   "cell_type": "code",
   "execution_count": 32,
   "id": "0e8b4808",
   "metadata": {},
   "outputs": [
    {
     "name": "stdout",
     "output_type": "stream",
     "text": [
      "Registration API here\n",
      "login API here\n",
      "password here\n",
      "parent class save details\n"
     ]
    }
   ],
   "source": [
    "from abc import ABC,abstractmethod             #importing abstract class as ABC & abstract function as abstractmethod\n",
    "\n",
    "class Project_blueprint(ABC):                  #creating an abstract class\n",
    "    @abstractmethod                            #Abstract decorator\n",
    "    def New_registration(self):                #starting an abstract method here\n",
    "        pass\n",
    "    \n",
    "    @abstractmethod  \n",
    "    def process_documents(self):\n",
    "        pass\n",
    "    \n",
    "    @abstractmethod                            #Another abstract  method\n",
    "    def Login(self):\n",
    "        pass\n",
    "      \n",
    "    def save_details(self):                    #abstract class can also have non-abstract methods\n",
    "        print('parent class save details')\n",
    "        \n",
    "class ProjectAPI(Project_blueprint):           #passing an abstract class as parent class\n",
    "    \n",
    "    def New_registration(self):\n",
    "        print('Registration API here')\n",
    "    \n",
    "    def process_documents(self):\n",
    "        print(\"Process documnet API here\")\n",
    "       \n",
    "    def Login(self):\n",
    "        print('login API here')\n",
    "        \n",
    "    def password(self):                        #Additionl methods that are not derived from the abstract methods\n",
    "        print('password here')\n",
    "    \n",
    "    \n",
    "    \n",
    "project = ProjectAPI()\n",
    "project.New_registration()\n",
    "project.Login()\n",
    "project.password()\n",
    "project.save_details()"
   ]
  },
  {
   "cell_type": "markdown",
   "id": "82053d0a",
   "metadata": {},
   "source": [
    "# Encapsulation"
   ]
  },
  {
   "cell_type": "raw",
   "id": "bc293a47",
   "metadata": {},
   "source": [
    "used to hide or restrict the access of variables & methods\n",
    "used for protecting the data modification"
   ]
  },
  {
   "cell_type": "code",
   "execution_count": 33,
   "id": "be39e8d9",
   "metadata": {},
   "outputs": [
    {
     "data": {
      "text/plain": [
       "'Pune'"
      ]
     },
     "execution_count": 33,
     "metadata": {},
     "output_type": "execute_result"
    }
   ],
   "source": [
    "class Classname():\n",
    "    city = 'Pune'                           #class variable\n",
    "    def location(self):\n",
    "        print('location is ',self.city)\n",
    "        \n",
    "place = Classname()\n",
    "place.city"
   ]
  },
  {
   "cell_type": "code",
   "execution_count": 34,
   "id": "3a325a1d",
   "metadata": {},
   "outputs": [
    {
     "name": "stdout",
     "output_type": "stream",
     "text": [
      "location is  Nagpur\n"
     ]
    }
   ],
   "source": [
    "place.city = 'Nagpur'\n",
    "place.location()"
   ]
  },
  {
   "cell_type": "code",
   "execution_count": 35,
   "id": "9f9a6016",
   "metadata": {},
   "outputs": [
    {
     "name": "stdout",
     "output_type": "stream",
     "text": [
      "employee name is  HCL\n",
      "client name is  Amdocs\n"
     ]
    }
   ],
   "source": [
    "class Employeenames():\n",
    "    empname = 'TCS'                           #class variable\n",
    "    \n",
    "    def __init__(self,client_name):\n",
    "        self.name = client_name\n",
    "    def emp_details(self):\n",
    "        print('employee name is ',self.empname)\n",
    "        print('client name is ',self.name)\n",
    "        \n",
    "Employee = Employeenames('Amdocs')\n",
    "Employee.empname = 'HCL'\n",
    "Employee.emp_details()"
   ]
  },
  {
   "cell_type": "code",
   "execution_count": 36,
   "id": "6898ead9",
   "metadata": {},
   "outputs": [
    {
     "name": "stdout",
     "output_type": "stream",
     "text": [
      "employee name is  TCS\n",
      "client name is  Amdocs\n",
      "Emp id secured\n"
     ]
    }
   ],
   "source": [
    "class Employeenames2():\n",
    "    __companyname = 'TCS'                           #Private class variable\n",
    "    \n",
    "    def __init__(self,client_name):\n",
    "        self.__name = client_name                   #private instance variable\n",
    "#         self.__emp_id()\n",
    "    def emp_details(self):\n",
    "        print('employee name is ',self.__companyname)\n",
    "        print('client name is ',self.__name)\n",
    "        self.__emp_id()\n",
    "    \n",
    "    def __emp_id(self):                             #private instance method\n",
    "        print('Emp id secured')\n",
    "        \n",
    "Employee1 = Employeenames2('Amdocs')\n",
    "# Employee1.__companyname\n",
    "Employee1.companyname = 'HCL'\n",
    "Employee1.emp_details()\n",
    "\n",
    "# Employee1.__emp_id()"
   ]
  },
  {
   "cell_type": "markdown",
   "id": "3f50380b",
   "metadata": {},
   "source": [
    "## Name Mangling Method"
   ]
  },
  {
   "cell_type": "code",
   "execution_count": 37,
   "id": "358f7e36",
   "metadata": {},
   "outputs": [],
   "source": [
    "class Employeenames3():\n",
    "    __company = 'TCS'                           #Private class variable\n",
    "    \n",
    "    def __init__(self,client):\n",
    "        self.__client = client                  #private instance variable\n",
    "\n",
    "    def emp_detail(self):\n",
    "        print('employee name is ',self.__company)\n",
    "        print('client name is ',self.__client)\n",
    "        self.__emp_ids()\n",
    "    \n",
    "    def __emp_ids(self):                             #private instance method\n",
    "        print('Emp id secured')\n",
    "        \n",
    "Employee2 = Employeenames3('Amdocs')\n",
    "Employee2._Employeenames3__company = 'TATA'\n"
   ]
  },
  {
   "cell_type": "code",
   "execution_count": 38,
   "id": "bf6af23c",
   "metadata": {},
   "outputs": [
    {
     "name": "stdout",
     "output_type": "stream",
     "text": [
      "employee name is  TATA\n",
      "client name is  Amdocs\n",
      "Emp id secured\n"
     ]
    }
   ],
   "source": [
    "Employee2.emp_detail()"
   ]
  },
  {
   "cell_type": "markdown",
   "id": "a40898dc",
   "metadata": {},
   "source": [
    "# Polymorphism"
   ]
  },
  {
   "cell_type": "raw",
   "id": "aca04188",
   "metadata": {},
   "source": [
    "poly >> many\n",
    "morphism >> form\n",
    "\n",
    "same function name used at different classes"
   ]
  },
  {
   "cell_type": "code",
   "execution_count": 39,
   "id": "59ca0812",
   "metadata": {},
   "outputs": [
    {
     "data": {
      "text/plain": [
       "28.274333882308138"
      ]
     },
     "execution_count": 39,
     "metadata": {},
     "output_type": "execute_result"
    }
   ],
   "source": [
    "import math\n",
    "\n",
    "class circle1:\n",
    "    def __init__(self,r1):\n",
    "        self.r1 = r1\n",
    "        \n",
    "    def area(self):\n",
    "        return math.pi*(self.r1**2)\n",
    "    \n",
    "class circle2():\n",
    "    def __init__(self,r1):\n",
    "        self.r1 = r1\n",
    "\n",
    "    def area(self):\n",
    "        return math.pi*(self.r1**2)\n",
    "\n",
    "c1 = circle1(3)\n",
    "c1.area()"
   ]
  },
  {
   "cell_type": "code",
   "execution_count": 40,
   "id": "97b1c759",
   "metadata": {},
   "outputs": [
    {
     "data": {
      "text/plain": [
       "78.53981633974483"
      ]
     },
     "execution_count": 40,
     "metadata": {},
     "output_type": "execute_result"
    }
   ],
   "source": [
    "c2 = circle2(5)\n",
    "c2.area()"
   ]
  },
  {
   "cell_type": "markdown",
   "id": "f2ed040a",
   "metadata": {},
   "source": [
    "## Overiding Method"
   ]
  },
  {
   "cell_type": "raw",
   "id": "6084e01c",
   "metadata": {},
   "source": [
    "This only happens when we have same function name in child & parent classes"
   ]
  },
  {
   "cell_type": "code",
   "execution_count": 41,
   "id": "8d580ff0",
   "metadata": {},
   "outputs": [
    {
     "name": "stdout",
     "output_type": "stream",
     "text": [
      "parent class area function called\n",
      "28.274333882308138\n",
      "child class area function called\n"
     ]
    },
    {
     "data": {
      "text/plain": [
       "153.93804002589985"
      ]
     },
     "execution_count": 41,
     "metadata": {},
     "output_type": "execute_result"
    }
   ],
   "source": [
    "import math\n",
    "\n",
    "class circle1():\n",
    "    def __init__(self,r1):\n",
    "        self.r1 = r1\n",
    "        \n",
    "    def area(self):\n",
    "        print('parent class area function called')\n",
    "        return math.pi*(self.r1**2)\n",
    "    \n",
    "    def parameter(self):\n",
    "        return 2*math.pi*self.r1\n",
    "    \n",
    "class circle2(circle1):\n",
    "    def __init__(self,r1):\n",
    "        self.r1 = r1\n",
    "\n",
    "    def area(self):\n",
    "        print('child class area function called')\n",
    "        return math.pi*(self.r1**2)\n",
    "\n",
    "c1 = circle1(3)\n",
    "print(c1.area())\n",
    "c2 = circle2(7)\n",
    "c2.area()                    #Although c2 has the access to the functions of class1 & class2. If there is any common function(functions with same name) then child class function will overide the function of parent class"
   ]
  }
 ],
 "metadata": {
  "kernelspec": {
   "display_name": "Python 3 (ipykernel)",
   "language": "python",
   "name": "python3"
  },
  "language_info": {
   "codemirror_mode": {
    "name": "ipython",
    "version": 3
   },
   "file_extension": ".py",
   "mimetype": "text/x-python",
   "name": "python",
   "nbconvert_exporter": "python",
   "pygments_lexer": "ipython3",
   "version": "3.9.7"
  },
  "toc": {
   "base_numbering": 1,
   "nav_menu": {},
   "number_sections": true,
   "sideBar": true,
   "skip_h1_title": false,
   "title_cell": "Table of Contents",
   "title_sidebar": "Contents",
   "toc_cell": false,
   "toc_position": {},
   "toc_section_display": true,
   "toc_window_display": false
  }
 },
 "nbformat": 4,
 "nbformat_minor": 5
}
