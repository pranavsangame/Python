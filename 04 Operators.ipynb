{
 "cells": [
  {
   "cell_type": "raw",
   "id": "584b5583",
   "metadata": {},
   "source": [
    "Que. Wap to find the even & odd numbers using if else\n",
    " \n",
    " take takehe user input\n",
    "Test whetehr that nuber would be even or odd"
   ]
  },
  {
   "cell_type": "raw",
   "id": "0dc49f19",
   "metadata": {},
   "source": [
    "take user input\n",
    "Test whetehr that nuber would be even or odd"
   ]
  },
  {
   "cell_type": "code",
   "execution_count": 1,
   "id": "6dfb223c",
   "metadata": {},
   "outputs": [
    {
     "name": "stdout",
     "output_type": "stream",
     "text": [
      "Enter the number8\n",
      "Number is even\n"
     ]
    }
   ],
   "source": [
    "n = int(input(\"Enter the number\"))\n",
    "\n",
    "if n%2 == 0:\n",
    "    print(\"Number is even\")\n",
    "else:\n",
    "    print(\"Number is odd\")"
   ]
  },
  {
   "cell_type": "markdown",
   "id": "0007c60f",
   "metadata": {},
   "source": [
    "# Polynomial Equation"
   ]
  },
  {
   "cell_type": "raw",
   "id": "f6dcecb3",
   "metadata": {},
   "source": [
    "y = x^3 + 3x^2 + 2x +1"
   ]
  },
  {
   "cell_type": "code",
   "execution_count": 2,
   "id": "8d066e8a",
   "metadata": {},
   "outputs": [
    {
     "name": "stdout",
     "output_type": "stream",
     "text": [
      "Enter the number3\n",
      "the value of y is 61\n"
     ]
    }
   ],
   "source": [
    "x = int(input(\"Enter the number\"))\n",
    "\n",
    "y = x**3 + 3*(x**2) + 2*x +1\n",
    "\n",
    "print('the value of y is', y)"
   ]
  },
  {
   "cell_type": "code",
   "execution_count": 3,
   "id": "d04154d5",
   "metadata": {},
   "outputs": [
    {
     "name": "stdout",
     "output_type": "stream",
     "text": [
      "Enter the no: 5\n",
      "635\n"
     ]
    }
   ],
   "source": [
    "x=int(input(\"Enter the no: \"))\n",
    "\n",
    "y=4*(x**3)+5*(x**2)+x+5  \n",
    "print(y)"
   ]
  },
  {
   "cell_type": "markdown",
   "id": "66bd38fd",
   "metadata": {},
   "source": [
    "# If else statements"
   ]
  },
  {
   "cell_type": "raw",
   "id": "9ec6c187",
   "metadata": {},
   "source": [
    "decision making statements(checks True or False)\n",
    "Type:\n",
    "if\n",
    "if & elif\n",
    "if & elif multiple times\n",
    "if & elif & else\n",
    "if & elif multiple times & else\n",
    "if & else\n",
    "\n",
    "Syntax:\n",
    "    if (Condition):\n",
    "        program code;\n",
    "    else:\n",
    "        program code;"
   ]
  },
  {
   "cell_type": "raw",
   "id": "49138ab1",
   "metadata": {},
   "source": [
    "elif & else #Invalid\n",
    "if & else & elif #Invalid\n",
    "if & else & else #Invalid"
   ]
  },
  {
   "cell_type": "code",
   "execution_count": 4,
   "id": "afaba1c4",
   "metadata": {},
   "outputs": [
    {
     "name": "stdout",
     "output_type": "stream",
     "text": [
      "\"to\" is present\n"
     ]
    }
   ],
   "source": [
    "raw = 'Hello welcome to python class'\n",
    "\n",
    "if 'to' in raw:\n",
    "    print('\"to\" is present')\n",
    "    \n",
    "else:\n",
    "    print('word \"to\" is not present')"
   ]
  },
  {
   "cell_type": "code",
   "execution_count": 5,
   "id": "75002bcc",
   "metadata": {},
   "outputs": [
    {
     "name": "stdout",
     "output_type": "stream",
     "text": [
      "b is greater\n"
     ]
    }
   ],
   "source": [
    "a=10\n",
    "b=20\n",
    "\n",
    "if a > b:\n",
    "    print('a is greater')\n",
    "    \n",
    "elif a==b:\n",
    "    print('a is equals to b')\n",
    "    \n",
    "else:\n",
    "    print('b is greater')"
   ]
  },
  {
   "cell_type": "code",
   "execution_count": 6,
   "id": "5f62f9c5",
   "metadata": {},
   "outputs": [
    {
     "name": "stdout",
     "output_type": "stream",
     "text": [
      "a & b are equal\n"
     ]
    }
   ],
   "source": [
    "a=10\n",
    "b=10\n",
    "\n",
    "if a==b:\n",
    "    print('a & b are equal')"
   ]
  },
  {
   "cell_type": "raw",
   "id": "655c2660",
   "metadata": {},
   "source": [
    "total_percentage = user input\n",
    "\n",
    "40% > total_score   >> fail\n",
    "40-60% >> 2nd class\n",
    "60-67 >>first class\n",
    "67% < total_score  >> distiction"
   ]
  },
  {
   "cell_type": "code",
   "execution_count": 7,
   "id": "8942e49a",
   "metadata": {},
   "outputs": [
    {
     "name": "stdout",
     "output_type": "stream",
     "text": [
      "enter the score76\n",
      "Distinction\n"
     ]
    }
   ],
   "source": [
    "score = int(input('enter the score'))\n",
    "    \n",
    "if score > 67:\n",
    "    print('Distinction')\n",
    "elif score <67 :\n",
    "    print('first class')\n",
    "elif score < 60:\n",
    "    print('second class')\n",
    "else:\n",
    "    print('Fail')"
   ]
  },
  {
   "cell_type": "code",
   "execution_count": 8,
   "id": "da3ab7c9",
   "metadata": {},
   "outputs": [
    {
     "name": "stdout",
     "output_type": "stream",
     "text": [
      "enter % :65\n",
      "first class\n"
     ]
    }
   ],
   "source": [
    "student_score=int(input(\"enter % :\"))\n",
    "\n",
    "if student_score < 40:\n",
    "    print(\"fail\")\n",
    "elif student_score >= 40 and student_score <60 :\n",
    "    print(\"second class\")\n",
    "elif student_score >= 60 and student_score < 67:\n",
    "    print(\"first class\")\n",
    "else:\n",
    "    print(\"distinction\")"
   ]
  },
  {
   "cell_type": "code",
   "execution_count": 9,
   "id": "6ff3c3d5",
   "metadata": {},
   "outputs": [
    {
     "name": "stdout",
     "output_type": "stream",
     "text": [
      "give ur score : 68\n",
      "distinction\n"
     ]
    }
   ],
   "source": [
    "a=float(input('give ur score : '))  \n",
    "\n",
    "if  a<40:  \n",
    "    print('Fail')  \n",
    "elif 40<=a<60: \n",
    "    print ('2nd class')\n",
    "    \n",
    "elif 60<=a<67: \n",
    "    print ('1st class')  \n",
    "    \n",
    "else:  \n",
    "    print('distinction')"
   ]
  },
  {
   "cell_type": "markdown",
   "id": "b15f141d",
   "metadata": {},
   "source": [
    "## Nested if statements"
   ]
  },
  {
   "cell_type": "raw",
   "id": "835c769d",
   "metadata": {},
   "source": [
    "within one if , we have another if statement\n",
    "\n",
    "Syntax:\n",
    "    if (Condition):\n",
    "        program code;\n",
    "        \n",
    "        if (condition):\n",
    "            program code;\n",
    "            \n",
    "        else:\n",
    "            program code;        \n",
    "    else:\n",
    "        program code;\n",
    "        "
   ]
  },
  {
   "cell_type": "code",
   "execution_count": 10,
   "id": "1446bcc3",
   "metadata": {},
   "outputs": [
    {
     "name": "stdout",
     "output_type": "stream",
     "text": [
      "second class\n"
     ]
    }
   ],
   "source": [
    "score=58\n",
    "\n",
    "if score < 67:\n",
    "    if score < 60:\n",
    "        if score < 40:\n",
    "            print('failed')\n",
    "        else:\n",
    "            print('second class')        \n",
    "    else:\n",
    "        print('first class')       \n",
    "else:\n",
    "    print('distinction')"
   ]
  },
  {
   "cell_type": "raw",
   "id": "a0053b17",
   "metadata": {},
   "source": [
    "age has to be greater than 18\n",
    "salary has to be greater than 10000\n",
    "cibil_score has to be greater than 750\n",
    "\n",
    "if all True then loan approved else not"
   ]
  },
  {
   "cell_type": "code",
   "execution_count": 11,
   "id": "5ce7a1b4",
   "metadata": {},
   "outputs": [
    {
     "name": "stdout",
     "output_type": "stream",
     "text": [
      "enter age: 34\n",
      "enter salary: 34000\n",
      "enter cibil: 650\n",
      "cibil is low, loan denied\n"
     ]
    }
   ],
   "source": [
    "age=int(input('enter age: '))\n",
    "sal=int(input('enter salary: '))\n",
    "cib=int(input('enter cibil: '))\n",
    "\n",
    "if age>=18:\n",
    "    if sal>=10000:\n",
    "        if cib >= 750:\n",
    "            print(\"Loan approved\")\n",
    "        else:\n",
    "            print(\"cibil is low, loan denied\")\n",
    "    else:\n",
    "        print(\"salary is low, loan denied\")\n",
    "else:\n",
    "    print(\"age is low, loan denied\")"
   ]
  },
  {
   "cell_type": "markdown",
   "id": "a791ae28",
   "metadata": {},
   "source": [
    "## Short Hand if else statement"
   ]
  },
  {
   "cell_type": "raw",
   "id": "940f3774",
   "metadata": {},
   "source": [
    "(program for true condition ) if (condition) else (program for false condition)"
   ]
  },
  {
   "cell_type": "code",
   "execution_count": 12,
   "id": "451d2756",
   "metadata": {},
   "outputs": [
    {
     "name": "stdout",
     "output_type": "stream",
     "text": [
      "a is either equal or lesser\n"
     ]
    }
   ],
   "source": [
    "a=10;b=20\n",
    "\n",
    "if a>b:print('a is greater')\n",
    "else:print('a is either equal or lesser')"
   ]
  },
  {
   "cell_type": "code",
   "execution_count": 14,
   "id": "6d529af8",
   "metadata": {},
   "outputs": [
    {
     "name": "stdout",
     "output_type": "stream",
     "text": [
      "a is lesser or equal to b\n"
     ]
    }
   ],
   "source": [
    "print('a is greater') if a>b else print('a is lesser or equal to b')"
   ]
  }
 ],
 "metadata": {
  "kernelspec": {
   "display_name": "Python 3 (ipykernel)",
   "language": "python",
   "name": "python3"
  },
  "language_info": {
   "codemirror_mode": {
    "name": "ipython",
    "version": 3
   },
   "file_extension": ".py",
   "mimetype": "text/x-python",
   "name": "python",
   "nbconvert_exporter": "python",
   "pygments_lexer": "ipython3",
   "version": "3.9.7"
  },
  "toc": {
   "base_numbering": 1,
   "nav_menu": {},
   "number_sections": true,
   "sideBar": true,
   "skip_h1_title": false,
   "title_cell": "Table of Contents",
   "title_sidebar": "Contents",
   "toc_cell": false,
   "toc_position": {},
   "toc_section_display": true,
   "toc_window_display": false
  }
 },
 "nbformat": 4,
 "nbformat_minor": 5
}
