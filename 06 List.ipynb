{
 "cells": [
  {
   "cell_type": "markdown",
   "id": "40ccbb0b",
   "metadata": {},
   "source": [
    "# List"
   ]
  },
  {
   "cell_type": "raw",
   "id": "ca9e8348",
   "metadata": {},
   "source": [
    "List is the colections of items. entities that are separated by comma\n",
    "list is used to store various data types that can include int, float, complex, string, list, tuple, set, dict, dataframes etc...\n",
    "\n",
    "Whenever list is called, it returns the ordered data\n",
    "List is also Mutable/ changeble/ editable. (the values inside the list can be modified, changed, removed)\n",
    "list also allows duplicate items\n",
    "\n",
    "eg. a=[5,7,8,'python','a',6.5]\n"
   ]
  },
  {
   "cell_type": "markdown",
   "id": "8c7f1658",
   "metadata": {},
   "source": [
    "## Indexing"
   ]
  },
  {
   "cell_type": "raw",
   "id": "54b46d61",
   "metadata": {},
   "source": [
    "indexing starts from 0th index for positive indices and goes till end of list.\n",
    "indexing starts from -1th index for negative indices & goes till the beginning of the list.\n",
    "\n",
    "syntax:\n",
    "    variable_name[index_number]\n",
    "    \n",
    "    its returns entity of that index number."
   ]
  },
  {
   "cell_type": "code",
   "execution_count": 1,
   "id": "d68ab538",
   "metadata": {},
   "outputs": [
    {
     "data": {
      "text/plain": [
       "1"
      ]
     },
     "execution_count": 1,
     "metadata": {},
     "output_type": "execute_result"
    }
   ],
   "source": [
    "list1 = [1,3,5,7,'Sachin']\n",
    "list1[0]"
   ]
  },
  {
   "cell_type": "code",
   "execution_count": 2,
   "id": "ff99d0c6",
   "metadata": {},
   "outputs": [
    {
     "data": {
      "text/plain": [
       "[1, 3]"
      ]
     },
     "execution_count": 2,
     "metadata": {},
     "output_type": "execute_result"
    }
   ],
   "source": [
    "list1[0:2]"
   ]
  },
  {
   "cell_type": "code",
   "execution_count": 3,
   "id": "7ae226b1",
   "metadata": {},
   "outputs": [
    {
     "data": {
      "text/plain": [
       "5"
      ]
     },
     "execution_count": 3,
     "metadata": {},
     "output_type": "execute_result"
    }
   ],
   "source": [
    "len(list1)    #How many items does the list consist off.."
   ]
  },
  {
   "cell_type": "code",
   "execution_count": null,
   "id": "10ad9543",
   "metadata": {},
   "outputs": [],
   "source": []
  },
  {
   "cell_type": "markdown",
   "id": "9416a080",
   "metadata": {},
   "source": [
    "## Slicing"
   ]
  },
  {
   "cell_type": "raw",
   "id": "872fa9b0",
   "metadata": {},
   "source": [
    "Slicing is the same as indexing, here we can slice the list with some parts.\n",
    "\n",
    "syntax:\n",
    "    variable_name[start_index:end_index:step_size]\n",
    "    \n",
    "    variable_name[::-1]   #reverseing a list"
   ]
  },
  {
   "cell_type": "code",
   "execution_count": 4,
   "id": "65fe79f0",
   "metadata": {},
   "outputs": [
    {
     "data": {
      "text/plain": [
       "[1, 3, 5, 7, 'Sachin']"
      ]
     },
     "execution_count": 4,
     "metadata": {},
     "output_type": "execute_result"
    }
   ],
   "source": [
    "list1 = [1,3,5,7,'Sachin']\n",
    "list1[:]"
   ]
  },
  {
   "cell_type": "code",
   "execution_count": 5,
   "id": "edf8f1b9",
   "metadata": {},
   "outputs": [
    {
     "data": {
      "text/plain": [
       "[3, 5, 7, 'Sachin']"
      ]
     },
     "execution_count": 5,
     "metadata": {},
     "output_type": "execute_result"
    }
   ],
   "source": [
    "list1[1:5]"
   ]
  },
  {
   "cell_type": "code",
   "execution_count": 6,
   "id": "7b06fa21",
   "metadata": {},
   "outputs": [
    {
     "data": {
      "text/plain": [
       "['Sachin', 7, 5, 3]"
      ]
     },
     "execution_count": 6,
     "metadata": {},
     "output_type": "execute_result"
    }
   ],
   "source": [
    "list1[-1:-5:-1]"
   ]
  },
  {
   "cell_type": "markdown",
   "id": "02945a92",
   "metadata": {},
   "source": [
    "## Checking the items in the list"
   ]
  },
  {
   "cell_type": "raw",
   "id": "b037a758",
   "metadata": {},
   "source": [
    "for checking the entity in the list we use in parameter,"
   ]
  },
  {
   "cell_type": "code",
   "execution_count": 1,
   "id": "a9f82cde",
   "metadata": {},
   "outputs": [
    {
     "name": "stdout",
     "output_type": "stream",
     "text": [
      "1 is present\n"
     ]
    }
   ],
   "source": [
    "#eg. using if else statement:\n",
    "list1=[2,5,1,4]\n",
    "if 1 in list1: print(\"1 is present\")"
   ]
  },
  {
   "cell_type": "code",
   "execution_count": 7,
   "id": "a719acba",
   "metadata": {},
   "outputs": [
    {
     "name": "stdout",
     "output_type": "stream",
     "text": [
      "1.2 is not there in the list\n"
     ]
    }
   ],
   "source": [
    "print('1.2 is present') if 1.2 in list1 else print('1.2 is not there in the list')"
   ]
  },
  {
   "cell_type": "code",
   "execution_count": 9,
   "id": "970c8a98",
   "metadata": {},
   "outputs": [
    {
     "name": "stdout",
     "output_type": "stream",
     "text": [
      "Mumbai\n",
      "Pune\n",
      "Kolkata\n",
      "Chennai\n",
      "Delhi\n",
      "Nagpur\n"
     ]
    }
   ],
   "source": [
    "cities = ['Mumbai','Pune','Kolkata','Chennai','Delhi','Nagpur']\n",
    "for city in cities:\n",
    "    print(city)"
   ]
  },
  {
   "cell_type": "code",
   "execution_count": 10,
   "id": "17e885c6",
   "metadata": {},
   "outputs": [
    {
     "name": "stdout",
     "output_type": "stream",
     "text": [
      "my variable list is:  ['Salena', 'Gomez', 'sings', 'well']\n",
      "Salena\n",
      "Gomez\n",
      "sings\n",
      "well\n"
     ]
    }
   ],
   "source": [
    "variable = 'Salena Gomez sings well'\n",
    "variable = variable.split(' ')\n",
    "print(\"my variable list is: \", variable)\n",
    "\n",
    "for i in variable:\n",
    "    print(i)"
   ]
  },
  {
   "cell_type": "code",
   "execution_count": 11,
   "id": "3cebc467",
   "metadata": {},
   "outputs": [
    {
     "name": "stdout",
     "output_type": "stream",
     "text": [
      "Salena Gomez sings well\n",
      "Salena Gomez sings well\n",
      "Salena Gomez sings well\n",
      "Salena Gomez sings well\n",
      "Salena Gomez sings well\n"
     ]
    }
   ],
   "source": [
    "variable = 'Salena Gomez sings well'\n",
    "\n",
    "for i in range(5):\n",
    "    print(variable)"
   ]
  },
  {
   "cell_type": "code",
   "execution_count": 12,
   "id": "d8be2635",
   "metadata": {},
   "outputs": [
    {
     "name": "stdout",
     "output_type": "stream",
     "text": [
      "my 1th loop is running where city at index 0 is Mumbai\n",
      "my 2th loop is running where city at index 1 is Pune\n",
      "my 3th loop is running where city at index 2 is Kolkata\n",
      "my 4th loop is running where city at index 3 is Chennai\n",
      "my 5th loop is running where city at index 4 is Delhi\n",
      "my 6th loop is running where city at index 5 is Nagpur\n"
     ]
    }
   ],
   "source": [
    "cities = ['Mumbai','Pune','Kolkata','Chennai','Delhi','Nagpur']\n",
    "\n",
    "index = 0\n",
    "\n",
    "for item in cities:\n",
    "    print(f'my {index+1}th loop is running where city at index {index} is {item}')\n",
    "    index = index + 1"
   ]
  },
  {
   "cell_type": "code",
   "execution_count": 13,
   "id": "17b7c295",
   "metadata": {},
   "outputs": [
    {
     "name": "stdout",
     "output_type": "stream",
     "text": [
      "0 >> Mumbai\n",
      "1 >> Pune\n",
      "2 >> Kolkata\n",
      "3 >> Chennai\n",
      "4 >> Delhi\n",
      "5 >> Nagpur\n"
     ]
    }
   ],
   "source": [
    "cities = ['Mumbai','Pune','Kolkata','Chennai','Delhi','Nagpur']\n",
    "\n",
    "for i,j in enumerate(cities):\n",
    "    print(i,j,sep=' >> ')"
   ]
  },
  {
   "cell_type": "markdown",
   "id": "1726e406",
   "metadata": {},
   "source": [
    "## Range"
   ]
  },
  {
   "cell_type": "raw",
   "id": "f60f37d8",
   "metadata": {},
   "source": [
    "range function gives serial numbers in a list.\n",
    "\n",
    "syntax:\n",
    "    range(start_index, end_index, step_size)"
   ]
  },
  {
   "cell_type": "code",
   "execution_count": 14,
   "id": "d35e0ec2",
   "metadata": {},
   "outputs": [
    {
     "data": {
      "text/plain": [
       "range(0, 5)"
      ]
     },
     "execution_count": 14,
     "metadata": {},
     "output_type": "execute_result"
    }
   ],
   "source": [
    "range(0,5)\n"
   ]
  },
  {
   "cell_type": "code",
   "execution_count": 15,
   "id": "6dd76973",
   "metadata": {},
   "outputs": [
    {
     "data": {
      "text/plain": [
       "[0, 1, 2, 3, 4]"
      ]
     },
     "execution_count": 15,
     "metadata": {},
     "output_type": "execute_result"
    }
   ],
   "source": [
    "list(range(0,5))"
   ]
  },
  {
   "cell_type": "code",
   "execution_count": 16,
   "id": "8505951b",
   "metadata": {},
   "outputs": [
    {
     "data": {
      "text/plain": [
       "[0, 2, 4]"
      ]
     },
     "execution_count": 16,
     "metadata": {},
     "output_type": "execute_result"
    }
   ],
   "source": [
    "list(range(0,5,2))"
   ]
  },
  {
   "cell_type": "code",
   "execution_count": 17,
   "id": "fcf65692",
   "metadata": {},
   "outputs": [
    {
     "data": {
      "text/plain": [
       "[-5, -4, -3, -2]"
      ]
     },
     "execution_count": 17,
     "metadata": {},
     "output_type": "execute_result"
    }
   ],
   "source": [
    "list(range(-5,-1,1))"
   ]
  },
  {
   "cell_type": "code",
   "execution_count": 18,
   "id": "343c8950",
   "metadata": {},
   "outputs": [
    {
     "data": {
      "text/plain": [
       "[-1, -2, -3, -4]"
      ]
     },
     "execution_count": 18,
     "metadata": {},
     "output_type": "execute_result"
    }
   ],
   "source": [
    "list(range(-1,-5,-1))"
   ]
  },
  {
   "cell_type": "markdown",
   "id": "881b2859",
   "metadata": {},
   "source": [
    "## Append"
   ]
  },
  {
   "cell_type": "raw",
   "id": "8bcb9279",
   "metadata": {},
   "source": [
    "append is uesd to add the item in list\n",
    "bydefault it adds the item at the -1 index(last index)\n",
    "when multiple items to append, they will be added as a sublist\n",
    "\n",
    "syntax:\n",
    "    list_name.append('entity')"
   ]
  },
  {
   "cell_type": "code",
   "execution_count": 19,
   "id": "8973856b",
   "metadata": {},
   "outputs": [
    {
     "data": {
      "text/plain": [
       "['Cristiano', 'Ronaldo', 'Ronaldino', 'Zadden', 'Neymar']"
      ]
     },
     "execution_count": 19,
     "metadata": {},
     "output_type": "execute_result"
    }
   ],
   "source": [
    "soccer = ['Cristiano', 'Ronaldo', 'Ronaldino', 'Zadden', 'Neymar']\n",
    "soccer"
   ]
  },
  {
   "cell_type": "code",
   "execution_count": 21,
   "id": "91af989f",
   "metadata": {},
   "outputs": [
    {
     "data": {
      "text/plain": [
       "['Cristiano', 'Ronaldo', 'Ronaldino', 'Zadden', 'Neymar', 'Messi', 'Messi']"
      ]
     },
     "execution_count": 21,
     "metadata": {},
     "output_type": "execute_result"
    }
   ],
   "source": [
    "soccer.append('Messi')\n",
    "soccer"
   ]
  },
  {
   "cell_type": "code",
   "execution_count": 22,
   "id": "fbbfe923",
   "metadata": {},
   "outputs": [
    {
     "data": {
      "text/plain": [
       "['Cristiano',\n",
       " 'Ronaldo',\n",
       " 'Ronaldino',\n",
       " 'Zadden',\n",
       " 'Neymar',\n",
       " 'Messi',\n",
       " 'Messi',\n",
       " ['kaka', 'Robert']]"
      ]
     },
     "execution_count": 22,
     "metadata": {},
     "output_type": "execute_result"
    }
   ],
   "source": [
    "soccer.append(['kaka','Robert'])\n",
    "soccer"
   ]
  },
  {
   "cell_type": "code",
   "execution_count": 23,
   "id": "acd91d7c",
   "metadata": {},
   "outputs": [
    {
     "name": "stdout",
     "output_type": "stream",
     "text": [
      "['Cristiano', 'Ronaldo', 'Ronaldino', 'Zadden', 'Neymar', 'Messi', 'Kaka']\n",
      "['Cristiano', 'Ronaldo', 'Ronaldino', 'Zadden', 'Neymar', 'Messi', 'Kaka', 'Robert']\n",
      "['Cristiano', 'Ronaldo', 'Ronaldino', 'Zadden', 'Neymar', 'Messi', 'Kaka', 'Robert', 'Kewin']\n",
      "['Cristiano', 'Ronaldo', 'Ronaldino', 'Zadden', 'Neymar', 'Messi', 'Kaka', 'Robert', 'Kewin', 'Luis']\n"
     ]
    }
   ],
   "source": [
    "soccer = ['Cristiano', 'Ronaldo', 'Ronaldino', 'Zadden', 'Neymar','Messi']\n",
    "players = ['Kaka','Robert','Kewin','Luis']\n",
    "\n",
    "for player in players:\n",
    "    soccer.append(player)\n",
    "    \n",
    "    print(soccer)\n"
   ]
  },
  {
   "cell_type": "code",
   "execution_count": 24,
   "id": "9d27d1e1",
   "metadata": {},
   "outputs": [
    {
     "name": "stdout",
     "output_type": "stream",
     "text": [
      "Soccer updated list is ['Cristiano', 'Ronaldo', 'Ronaldino', 'Zadden', 'Neymar', 'Messi', 'Kaka', 'Robert', 'Kewin', 'Luis']\n"
     ]
    }
   ],
   "source": [
    "soccer = ['Cristiano', 'Ronaldo', 'Ronaldino', 'Zadden', 'Neymar','Messi']\n",
    "players = ['Kaka','Robert','Kewin','Luis']\n",
    "\n",
    "for player in players:\n",
    "    soccer.append(player)\n",
    "    \n",
    "\n",
    "print(\"Soccer updated list is\",soccer)"
   ]
  },
  {
   "cell_type": "markdown",
   "id": "46b2fea9",
   "metadata": {},
   "source": [
    "## Extend"
   ]
  },
  {
   "cell_type": "raw",
   "id": "8eaec033",
   "metadata": {},
   "source": [
    "Extend is used to add the items in list.\n",
    "by default it adds items at the -1 index of the list.\n",
    "when multiple items to add, they will added as single items seperatly.\n",
    "\n",
    "syntax:\n",
    "    list_name.extend(entity)"
   ]
  },
  {
   "cell_type": "code",
   "execution_count": 26,
   "id": "977babaa",
   "metadata": {},
   "outputs": [
    {
     "data": {
      "text/plain": [
       "['Cristiano',\n",
       " 'Ronaldo',\n",
       " 'Ronaldino',\n",
       " 'Zadden',\n",
       " 'Neymar',\n",
       " 'Messi',\n",
       " 'Kaka',\n",
       " 'Robert',\n",
       " 'Kewin',\n",
       " 'Luis']"
      ]
     },
     "execution_count": 26,
     "metadata": {},
     "output_type": "execute_result"
    }
   ],
   "source": [
    "soccer = ['Cristiano', 'Ronaldo', 'Ronaldino', 'Zadden', 'Neymar','Messi']\n",
    "players = ['Kaka','Robert','Kewin','Luis']\n",
    "\n",
    "soccer.extend(players)\n",
    "soccer"
   ]
  },
  {
   "cell_type": "code",
   "execution_count": 27,
   "id": "1599b5a9",
   "metadata": {},
   "outputs": [
    {
     "data": {
      "text/plain": [
       "['a', 'b', 'c', 'd', 'e', 'f', 'g']"
      ]
     },
     "execution_count": 27,
     "metadata": {},
     "output_type": "execute_result"
    }
   ],
   "source": [
    "string = 'abcdefg'\n",
    "list(string)"
   ]
  },
  {
   "cell_type": "code",
   "execution_count": 28,
   "id": "5d3f7452",
   "metadata": {},
   "outputs": [
    {
     "data": {
      "text/plain": [
       "['1', '2', '3', '4', '5', '6', '7', '7', '8', '9']"
      ]
     },
     "execution_count": 28,
     "metadata": {},
     "output_type": "execute_result"
    }
   ],
   "source": [
    "string = list('1234567789')\n",
    "string"
   ]
  },
  {
   "cell_type": "code",
   "execution_count": 29,
   "id": "0374e2d7",
   "metadata": {},
   "outputs": [
    {
     "data": {
      "text/plain": [
       "([2, 4, 6, 8], [1, 3, 5, 7, 7, 9])"
      ]
     },
     "execution_count": 29,
     "metadata": {},
     "output_type": "execute_result"
    }
   ],
   "source": [
    "s = '1234567789'\n",
    "even=[]\n",
    "odd=[]\n",
    "for i in s:\n",
    "    if int(i)%2==0:\n",
    "        even.append(int(i))\n",
    "    else:\n",
    "        odd.append(int(i))\n",
    "even,odd"
   ]
  },
  {
   "cell_type": "code",
   "execution_count": 30,
   "id": "ded5e938",
   "metadata": {},
   "outputs": [
    {
     "data": {
      "text/plain": [
       "[2, 4, 6, 8, 0]"
      ]
     },
     "execution_count": 30,
     "metadata": {},
     "output_type": "execute_result"
    }
   ],
   "source": [
    "numbers = [1,2,3,4,5,6,7,8,9,0]\n",
    "\n",
    "even_nums= []\n",
    "\n",
    "for no in numbers:\n",
    "    if no % 2 == 0:\n",
    "        even_nums.append(no)\n",
    "        \n",
    "even_nums"
   ]
  },
  {
   "cell_type": "code",
   "execution_count": 31,
   "id": "3038dd38",
   "metadata": {},
   "outputs": [
    {
     "data": {
      "text/plain": [
       "[1, 2, 3, 4, 5, 6, 7, 8, 9, 0, 10]"
      ]
     },
     "execution_count": 31,
     "metadata": {},
     "output_type": "execute_result"
    }
   ],
   "source": [
    "numbers = [1,2,3,4,5,6,7,8,9,0]\n",
    "numbers.extend([10,])\n",
    "numbers"
   ]
  },
  {
   "cell_type": "markdown",
   "id": "30f13afb",
   "metadata": {},
   "source": [
    "## index"
   ]
  },
  {
   "cell_type": "raw",
   "id": "bdf65fab",
   "metadata": {},
   "source": [
    "used to finding the index of any item in the list.\n",
    "\n",
    "syntax:\n",
    "    list_name.index(entity)\n",
    "    "
   ]
  },
  {
   "cell_type": "code",
   "execution_count": 32,
   "id": "faad41b1",
   "metadata": {},
   "outputs": [
    {
     "name": "stdout",
     "output_type": "stream",
     "text": [
      "80\n"
     ]
    },
    {
     "data": {
      "text/plain": [
       "4"
      ]
     },
     "execution_count": 32,
     "metadata": {},
     "output_type": "execute_result"
    }
   ],
   "source": [
    "# finding maximum age & its rtedspective index in the list\n",
    "\n",
    "age = [10,20,34,67,80,19,23]\n",
    "print(max(age))\n",
    "age.index(max(age))"
   ]
  },
  {
   "cell_type": "code",
   "execution_count": 33,
   "id": "1782c028",
   "metadata": {},
   "outputs": [
    {
     "data": {
      "text/plain": [
       "1"
      ]
     },
     "execution_count": 33,
     "metadata": {},
     "output_type": "execute_result"
    }
   ],
   "source": [
    "age.index(20,1)"
   ]
  },
  {
   "cell_type": "markdown",
   "id": "371c4d9b",
   "metadata": {},
   "source": [
    "## Insert"
   ]
  },
  {
   "cell_type": "raw",
   "id": "306073fd",
   "metadata": {},
   "source": [
    "use to add entity in a list at perticular index location.\n",
    "\n",
    "syntax:\n",
    "    list_name.insert(index_number,entity)\n",
    "    "
   ]
  },
  {
   "cell_type": "code",
   "execution_count": 34,
   "id": "3745e68a",
   "metadata": {},
   "outputs": [
    {
     "data": {
      "text/plain": [
       "[3, 4, 5, 6, 7]"
      ]
     },
     "execution_count": 34,
     "metadata": {},
     "output_type": "execute_result"
    }
   ],
   "source": [
    "list_x= [3,4,6,7]\n",
    "list_x.insert(2,5)\n",
    "list_x"
   ]
  },
  {
   "cell_type": "code",
   "execution_count": 35,
   "id": "ea625a38",
   "metadata": {},
   "outputs": [
    {
     "data": {
      "text/plain": [
       "[3, [0, 0], 4, 5, 6, 7]"
      ]
     },
     "execution_count": 35,
     "metadata": {},
     "output_type": "execute_result"
    }
   ],
   "source": [
    "list_x.insert(1,[0,0])\n",
    "list_x"
   ]
  },
  {
   "cell_type": "code",
   "execution_count": 36,
   "id": "ad6ffa8b",
   "metadata": {},
   "outputs": [
    {
     "data": {
      "text/plain": [
       "[3, [0, 0], 4, 5, 'python', 6, 7]"
      ]
     },
     "execution_count": 36,
     "metadata": {},
     "output_type": "execute_result"
    }
   ],
   "source": [
    "list_x.insert(-2,'python')\n",
    "list_x"
   ]
  },
  {
   "cell_type": "code",
   "execution_count": 37,
   "id": "1ae02bec",
   "metadata": {},
   "outputs": [
    {
     "data": {
      "text/plain": [
       "[3, [0, 0], 4, 5, 'python', 6, 7, 'data science']"
      ]
     },
     "execution_count": 37,
     "metadata": {},
     "output_type": "execute_result"
    }
   ],
   "source": [
    "list_x.insert(len(list_x),'data science')\n",
    "list_x"
   ]
  },
  {
   "cell_type": "code",
   "execution_count": 38,
   "id": "68365d4c",
   "metadata": {},
   "outputs": [
    {
     "name": "stdout",
     "output_type": "stream",
     "text": [
      "count of 2 in duplicates is:  3 \n",
      " & index of duplicate item 2 is  1\n",
      "count of 4 in duplicates is:  2 \n",
      " & index of duplicate item 4 is  5\n"
     ]
    }
   ],
   "source": [
    "duplicates = [1,2,2,3,2,4,4]\n",
    "\n",
    "duplicated_nums= []    #defined an empty list here\n",
    "\n",
    "for i in duplicates:\n",
    "    if duplicates.count(i)>1:\n",
    "        if i not in duplicated_nums:\n",
    "            duplicated_nums.append(i)\n",
    "#             print('duplicated_nums list is', duplicated_nums)\n",
    "#             print(f'index of {i} is -',duplicates.index(i))\n",
    "            \n",
    "# dict_duplicates={}        \n",
    "for i in duplicated_nums:\n",
    "    print(f'count of {i} in duplicates is: ',duplicates.count(i),f'\\n & index of duplicate item {i} is ',duplicates.index(i))\n",
    "#     dict_duplicates[i]=duplicates.count(i)\n",
    "    \n",
    "# (dict_duplicates)"
   ]
  },
  {
   "cell_type": "code",
   "execution_count": 39,
   "id": "c31a7c54",
   "metadata": {},
   "outputs": [
    {
     "data": {
      "text/plain": [
       "Counter({1: 1, 2: 3, 3: 1, 4: 2})"
      ]
     },
     "execution_count": 39,
     "metadata": {},
     "output_type": "execute_result"
    }
   ],
   "source": [
    "from collections import Counter\n",
    "\n",
    "Counter(duplicates)"
   ]
  },
  {
   "cell_type": "markdown",
   "id": "df75be4b",
   "metadata": {},
   "source": [
    "## Max"
   ]
  },
  {
   "cell_type": "raw",
   "id": "6e79f1a0",
   "metadata": {},
   "source": [
    "it searches largest number in the list.\n",
    "\n",
    "syntax:\n",
    "    max(variable_name)"
   ]
  },
  {
   "cell_type": "code",
   "execution_count": 78,
   "id": "9698b43f",
   "metadata": {},
   "outputs": [
    {
     "data": {
      "text/plain": [
       "(945, 155)"
      ]
     },
     "execution_count": 78,
     "metadata": {},
     "output_type": "execute_result"
    }
   ],
   "source": [
    "list2 = [155,750,456,235,678,945,675]\n",
    "max(list2),min(list2)"
   ]
  },
  {
   "cell_type": "code",
   "execution_count": 79,
   "id": "497818ea",
   "metadata": {},
   "outputs": [
    {
     "data": {
      "text/plain": [
       "945"
      ]
     },
     "execution_count": 79,
     "metadata": {},
     "output_type": "execute_result"
    }
   ],
   "source": [
    "list2 = [155,750,456,235,678,945,675]\n",
    "\n",
    "variable = 0\n",
    "\n",
    "for i in list2:\n",
    "    if i > variable:\n",
    "        variable = i\n",
    "        \n",
    "variable\n",
    "    \n",
    "    "
   ]
  },
  {
   "cell_type": "markdown",
   "id": "8fd8184d",
   "metadata": {},
   "source": [
    "## Min"
   ]
  },
  {
   "cell_type": "raw",
   "id": "11cb0068",
   "metadata": {},
   "source": [
    "It searches smallest number in the list.\n",
    "\n",
    "syntax:\n",
    "    min(variable_name)"
   ]
  },
  {
   "cell_type": "markdown",
   "id": "5cb2b444",
   "metadata": {},
   "source": [
    "## remove"
   ]
  },
  {
   "cell_type": "raw",
   "id": "2ed06c1c",
   "metadata": {},
   "source": [
    "remove is used to remove the item from the list.\n",
    "bydefault it removes the first occurance from the list always.\n",
    "\n",
    "syntax:\n",
    "    variable_name.remove(entity)"
   ]
  },
  {
   "cell_type": "code",
   "execution_count": 40,
   "id": "af30d423",
   "metadata": {},
   "outputs": [
    {
     "data": {
      "text/plain": [
       "[2, 3, 4, 'Krishna', 6, 'Radhe', 5]"
      ]
     },
     "execution_count": 40,
     "metadata": {},
     "output_type": "execute_result"
    }
   ],
   "source": [
    "list1 = [2,3,6,4,'Krishna',6,'Radhe',5]\n",
    "list1.remove(6)\n",
    "list1"
   ]
  },
  {
   "cell_type": "code",
   "execution_count": 41,
   "id": "451d020f",
   "metadata": {},
   "outputs": [
    {
     "data": {
      "text/plain": [
       "[2, 3, 4, 6, 'Radhe', 5]"
      ]
     },
     "execution_count": 41,
     "metadata": {},
     "output_type": "execute_result"
    }
   ],
   "source": [
    "list1.remove('Krishna')\n",
    "list1"
   ]
  },
  {
   "cell_type": "code",
   "execution_count": 42,
   "id": "cfeeb2ac",
   "metadata": {},
   "outputs": [
    {
     "name": "stdout",
     "output_type": "stream",
     "text": [
      "[2, 3, 4, [10, 45], 6, 'Radhe', 5]\n"
     ]
    },
    {
     "data": {
      "text/plain": [
       "[2, 3, 4, 6, 'Radhe', 5]"
      ]
     },
     "execution_count": 42,
     "metadata": {},
     "output_type": "execute_result"
    }
   ],
   "source": [
    "list1.insert(3,[10,45])\n",
    "print(list1)\n",
    "list1.remove([10,45])\n",
    "list1"
   ]
  },
  {
   "cell_type": "code",
   "execution_count": 43,
   "id": "67632403",
   "metadata": {},
   "outputs": [
    {
     "ename": "ValueError",
     "evalue": "list.remove(x): x not in list",
     "output_type": "error",
     "traceback": [
      "\u001b[1;31m---------------------------------------------------------------------------\u001b[0m",
      "\u001b[1;31mValueError\u001b[0m                                Traceback (most recent call last)",
      "\u001b[1;32m~\\AppData\\Local\\Temp/ipykernel_34256/512633230.py\u001b[0m in \u001b[0;36m<module>\u001b[1;34m\u001b[0m\n\u001b[1;32m----> 1\u001b[1;33m \u001b[0mlist1\u001b[0m\u001b[1;33m.\u001b[0m\u001b[0mremove\u001b[0m\u001b[1;33m(\u001b[0m\u001b[1;36m100\u001b[0m\u001b[1;33m)\u001b[0m\u001b[1;33m\u001b[0m\u001b[1;33m\u001b[0m\u001b[0m\n\u001b[0m",
      "\u001b[1;31mValueError\u001b[0m: list.remove(x): x not in list"
     ]
    }
   ],
   "source": [
    "list1.remove(100)"
   ]
  },
  {
   "cell_type": "code",
   "execution_count": 44,
   "id": "3f4831c6",
   "metadata": {},
   "outputs": [
    {
     "name": "stdout",
     "output_type": "stream",
     "text": [
      "[2, 3, 4, 9, 'Radhe', 5, 2, 2] [3, 4, 9, 'Radhe', 5]\n"
     ]
    }
   ],
   "source": [
    "list1 = [2, 3, 4, 9, 'Radhe', 5, 2, 2]\n",
    "\n",
    "list2=list1.copy()\n",
    "\n",
    "for i in range(len(list1)):\n",
    "    if list1[i]==2:\n",
    "        list2.remove(list1[i])\n",
    "        \n",
    "print(list1,list2)"
   ]
  },
  {
   "cell_type": "markdown",
   "id": "9c6e2a65",
   "metadata": {},
   "source": [
    "## pop"
   ]
  },
  {
   "cell_type": "raw",
   "id": "39b78361",
   "metadata": {},
   "source": [
    "list1 = [2,3,6,4,'Krishna',6,'Radhe',5]\n",
    "pop is used to delete element in the list .\n",
    "if we don't pass the index then bydefault it removes the last index entity.\n",
    "after all entity is poped in the list then last it returns error.\n",
    "\n",
    "syntax:\n",
    "    list_name.pop(index_number)\n"
   ]
  },
  {
   "cell_type": "code",
   "execution_count": 47,
   "id": "3ff491f7",
   "metadata": {},
   "outputs": [
    {
     "data": {
      "text/plain": [
       "[2, 3, 6, 4, 'Krishna', 6, 'Radhe', 5]"
      ]
     },
     "execution_count": 47,
     "metadata": {},
     "output_type": "execute_result"
    }
   ],
   "source": [
    "list1 = [2,3,6,4,'Krishna',6,'Radhe',5]\n",
    "list1"
   ]
  },
  {
   "cell_type": "code",
   "execution_count": 48,
   "id": "812423b7",
   "metadata": {},
   "outputs": [
    {
     "data": {
      "text/plain": [
       "[2, 3, 4, 'Krishna', 6, 'Radhe', 5]"
      ]
     },
     "execution_count": 48,
     "metadata": {},
     "output_type": "execute_result"
    }
   ],
   "source": [
    "list1.pop(2)\n",
    "list1"
   ]
  },
  {
   "cell_type": "code",
   "execution_count": 49,
   "id": "ee01f135",
   "metadata": {},
   "outputs": [
    {
     "data": {
      "text/plain": [
       "[2, 3, 4, 'Krishna', 6, 5]"
      ]
     },
     "execution_count": 49,
     "metadata": {},
     "output_type": "execute_result"
    }
   ],
   "source": [
    "list1.pop(-2)\n",
    "list1"
   ]
  },
  {
   "cell_type": "code",
   "execution_count": 50,
   "id": "9eacda77",
   "metadata": {},
   "outputs": [
    {
     "data": {
      "text/plain": [
       "['Kedarnath', 'Haridwar', 'Hrishikesh', 'Banaras', 'Vrindavan', 'Haridwar']"
      ]
     },
     "execution_count": 50,
     "metadata": {},
     "output_type": "execute_result"
    }
   ],
   "source": [
    "city_names=['Kedarnath','Haridwar','Hrishikesh','Banaras','Puri','Vrindavan','Haridwar']\n",
    "city_names.pop(-3)\n",
    "city_names"
   ]
  },
  {
   "cell_type": "code",
   "execution_count": 51,
   "id": "6e9320fe",
   "metadata": {},
   "outputs": [
    {
     "name": "stdout",
     "output_type": "stream",
     "text": [
      "1\n",
      "6\n"
     ]
    }
   ],
   "source": [
    "city_names=['Kedarnath','Haridwar','Hrishikesh','Banaras','Puri','Vrindavan','Haridwar']\n",
    "\n",
    "for index,city in enumerate(city_names):\n",
    "    if city == 'Haridwar':\n",
    "        print(index)"
   ]
  },
  {
   "cell_type": "markdown",
   "id": "45d29b54",
   "metadata": {},
   "source": [
    "## Clear"
   ]
  },
  {
   "cell_type": "raw",
   "id": "b623ba0a",
   "metadata": {},
   "source": [
    "it clears all the items from the list.\n",
    "it gives empty list.\n",
    "\n",
    "syntax:\n",
    "    list_name.clear()"
   ]
  },
  {
   "cell_type": "code",
   "execution_count": 52,
   "id": "788aed11",
   "metadata": {},
   "outputs": [
    {
     "data": {
      "text/plain": [
       "['Kedarnath',\n",
       " 'Haridwar',\n",
       " 'Hrishikesh',\n",
       " 'Banaras',\n",
       " 'Puri',\n",
       " 'Vrindavan',\n",
       " 'Haridwar']"
      ]
     },
     "execution_count": 52,
     "metadata": {},
     "output_type": "execute_result"
    }
   ],
   "source": [
    "city_names"
   ]
  },
  {
   "cell_type": "code",
   "execution_count": 53,
   "id": "e307251e",
   "metadata": {},
   "outputs": [],
   "source": [
    "city_names.clear()"
   ]
  },
  {
   "cell_type": "code",
   "execution_count": 54,
   "id": "09995ab8",
   "metadata": {},
   "outputs": [
    {
     "data": {
      "text/plain": [
       "[]"
      ]
     },
     "execution_count": 54,
     "metadata": {},
     "output_type": "execute_result"
    }
   ],
   "source": [
    "city_names"
   ]
  },
  {
   "cell_type": "code",
   "execution_count": 55,
   "id": "6fbab072",
   "metadata": {},
   "outputs": [],
   "source": [
    "list3 = []\n",
    "type(list3)\n",
    "if list3:\n",
    "    print('exist')"
   ]
  },
  {
   "cell_type": "code",
   "execution_count": 56,
   "id": "cd340b4a",
   "metadata": {},
   "outputs": [],
   "source": [
    "if city_names:print('Exist')"
   ]
  },
  {
   "cell_type": "markdown",
   "id": "3a21a4f7",
   "metadata": {},
   "source": [
    "## del"
   ]
  },
  {
   "cell_type": "raw",
   "id": "bcadf2fd",
   "metadata": {},
   "source": [
    "it is used to delete the items in the list or delete the list all together.\n",
    "\n",
    "syntax:\n",
    "    del list_name[index_number]"
   ]
  },
  {
   "cell_type": "code",
   "execution_count": 59,
   "id": "bd9f283c",
   "metadata": {},
   "outputs": [
    {
     "data": {
      "text/plain": [
       "['Kedarnath',\n",
       " 'Haridwar',\n",
       " 'Hrishikesh',\n",
       " 'Banaras',\n",
       " 'Puri',\n",
       " 'Vrindavan',\n",
       " 'Haridwar']"
      ]
     },
     "execution_count": 59,
     "metadata": {},
     "output_type": "execute_result"
    }
   ],
   "source": [
    "city_names=['Kedarnath','Haridwar','Hrishikesh','Banaras','Puri','Vrindavan','Haridwar']\n",
    "\n",
    "holy_city= city_names.copy()\n",
    "holy_city"
   ]
  },
  {
   "cell_type": "code",
   "execution_count": 60,
   "id": "b99a8091",
   "metadata": {},
   "outputs": [],
   "source": [
    "del holy_city[1]"
   ]
  },
  {
   "cell_type": "code",
   "execution_count": 61,
   "id": "aa3ce0bd",
   "metadata": {},
   "outputs": [
    {
     "data": {
      "text/plain": [
       "['Kedarnath', 'Hrishikesh', 'Banaras', 'Puri', 'Vrindavan', 'Haridwar']"
      ]
     },
     "execution_count": 61,
     "metadata": {},
     "output_type": "execute_result"
    }
   ],
   "source": [
    "holy_city"
   ]
  },
  {
   "cell_type": "code",
   "execution_count": 62,
   "id": "86e0fc33",
   "metadata": {},
   "outputs": [
    {
     "ename": "IndexError",
     "evalue": "list assignment index out of range",
     "output_type": "error",
     "traceback": [
      "\u001b[1;31m---------------------------------------------------------------------------\u001b[0m",
      "\u001b[1;31mIndexError\u001b[0m                                Traceback (most recent call last)",
      "\u001b[1;32m~\\AppData\\Local\\Temp/ipykernel_34256/2419459382.py\u001b[0m in \u001b[0;36m<module>\u001b[1;34m\u001b[0m\n\u001b[1;32m----> 1\u001b[1;33m \u001b[1;32mdel\u001b[0m \u001b[0mholy_city\u001b[0m\u001b[1;33m[\u001b[0m\u001b[1;36m15\u001b[0m\u001b[1;33m]\u001b[0m\u001b[1;33m\u001b[0m\u001b[1;33m\u001b[0m\u001b[0m\n\u001b[0m",
      "\u001b[1;31mIndexError\u001b[0m: list assignment index out of range"
     ]
    }
   ],
   "source": [
    "del holy_city[15]"
   ]
  },
  {
   "cell_type": "markdown",
   "id": "1b13398d",
   "metadata": {},
   "source": [
    "## Sorting"
   ]
  },
  {
   "cell_type": "raw",
   "id": "49a3ef37",
   "metadata": {},
   "source": [
    "sorting is done as ascending order.\n",
    "\n",
    "syntax:\n",
    "    list_name.sort()\n",
    "    \n",
    "descending order\n",
    "    list_name.sort(reverse=True)\n",
    "    \n",
    "Types of Sorting:\n",
    "1. Selection sort\n",
    "2. Buble Sort\n",
    "3. Insertion sort\n",
    "4. Merge sort\n",
    "5. Quick Sort"
   ]
  },
  {
   "cell_type": "markdown",
   "id": "0319b087",
   "metadata": {},
   "source": [
    "### Ascending orrder"
   ]
  },
  {
   "cell_type": "code",
   "execution_count": 63,
   "id": "c4b70dd1",
   "metadata": {},
   "outputs": [
    {
     "data": {
      "text/plain": [
       "[2, 3, 4, 5, 6, 8]"
      ]
     },
     "execution_count": 63,
     "metadata": {},
     "output_type": "execute_result"
    }
   ],
   "source": [
    "x = [3,6,4,5,8,2]\n",
    "x.sort()\n",
    "x"
   ]
  },
  {
   "cell_type": "code",
   "execution_count": 64,
   "id": "4d7730ed",
   "metadata": {},
   "outputs": [
    {
     "data": {
      "text/plain": [
       "[2, 3, 4, 5, 6, 8]"
      ]
     },
     "execution_count": 64,
     "metadata": {},
     "output_type": "execute_result"
    }
   ],
   "source": [
    "x = [3,6,4,5,8,2]\n",
    "sorted(x)"
   ]
  },
  {
   "cell_type": "code",
   "execution_count": 65,
   "id": "7430e6d0",
   "metadata": {},
   "outputs": [
    {
     "data": {
      "text/plain": [
       "[2, 3, 4, 5, 6, 8]"
      ]
     },
     "execution_count": 65,
     "metadata": {},
     "output_type": "execute_result"
    }
   ],
   "source": [
    "x = [3,6,4,5,8,2]\n",
    "x = sorted(x)\n",
    "x"
   ]
  },
  {
   "cell_type": "markdown",
   "id": "22f490aa",
   "metadata": {},
   "source": [
    "#### Logic behind sorting"
   ]
  },
  {
   "cell_type": "code",
   "execution_count": 66,
   "id": "63fc09f0",
   "metadata": {},
   "outputs": [
    {
     "name": "stdout",
     "output_type": "stream",
     "text": [
      "i loop number is 0\n",
      "j loop number is 1\n",
      "when i is 0 & j is 1, list is [3, 6, 4, 5, 8, 2]\n",
      "j loop number is 2\n",
      "when i is 0 & j is 2, list is [3, 6, 4, 5, 8, 2]\n",
      "j loop number is 3\n",
      "when i is 0 & j is 3, list is [3, 6, 4, 5, 8, 2]\n",
      "j loop number is 4\n",
      "when i is 0 & j is 4, list is [3, 6, 4, 5, 8, 2]\n",
      "j loop number is 5\n",
      "when i is 0 & j is 5, list is [2, 6, 4, 5, 8, 3]\n",
      "i loop number is 1\n",
      "j loop number is 2\n",
      "when i is 1 & j is 2, list is [2, 4, 6, 5, 8, 3]\n",
      "j loop number is 3\n",
      "when i is 1 & j is 3, list is [2, 4, 6, 5, 8, 3]\n",
      "j loop number is 4\n",
      "when i is 1 & j is 4, list is [2, 4, 6, 5, 8, 3]\n",
      "j loop number is 5\n",
      "when i is 1 & j is 5, list is [2, 3, 6, 5, 8, 4]\n",
      "i loop number is 2\n",
      "j loop number is 3\n",
      "when i is 2 & j is 3, list is [2, 3, 5, 6, 8, 4]\n",
      "j loop number is 4\n",
      "when i is 2 & j is 4, list is [2, 3, 5, 6, 8, 4]\n",
      "j loop number is 5\n",
      "when i is 2 & j is 5, list is [2, 3, 4, 6, 8, 5]\n",
      "i loop number is 3\n",
      "j loop number is 4\n",
      "when i is 3 & j is 4, list is [2, 3, 4, 6, 8, 5]\n",
      "j loop number is 5\n",
      "when i is 3 & j is 5, list is [2, 3, 4, 5, 8, 6]\n",
      "i loop number is 4\n",
      "j loop number is 5\n",
      "when i is 4 & j is 5, list is [2, 3, 4, 5, 6, 8]\n",
      "i loop number is 5\n"
     ]
    },
    {
     "data": {
      "text/plain": [
       "[2, 3, 4, 5, 6, 8]"
      ]
     },
     "execution_count": 66,
     "metadata": {},
     "output_type": "execute_result"
    }
   ],
   "source": [
    "x = [3,6,4,5,8,2]\n",
    "\n",
    "for i in range(len(x)):\n",
    "    print('i loop number is',i)\n",
    "    for j in range(i+1,len(x)):\n",
    "        print('j loop number is',j)\n",
    "\n",
    "        if x[i] >= x[j]:\n",
    "            x[i],x[j]=x[j],x[i]  #swapping of numbers\n",
    "            \n",
    "        print(f'when i is {i} & j is {j}, list is {x}')\n",
    "            \n",
    "x"
   ]
  },
  {
   "cell_type": "code",
   "execution_count": 67,
   "id": "f7dc77e5",
   "metadata": {},
   "outputs": [
    {
     "data": {
      "text/plain": [
       "[2, 3, 4, 5, 6, 8]"
      ]
     },
     "execution_count": 67,
     "metadata": {},
     "output_type": "execute_result"
    }
   ],
   "source": [
    "x = [3,6,4,5,8,2]\n",
    "for i in range(len(x)):\n",
    "    for j in range(i+1,len(x)):\n",
    "        if x[i] >= x[j]:x[i],x[j]=x[j],x[i]            \n",
    "x"
   ]
  },
  {
   "cell_type": "code",
   "execution_count": 68,
   "id": "4f0ff888",
   "metadata": {},
   "outputs": [
    {
     "data": {
      "text/plain": [
       "([], [2, 2, 3, 4, 5, 6, 8])"
      ]
     },
     "execution_count": 68,
     "metadata": {},
     "output_type": "execute_result"
    }
   ],
   "source": [
    "x = [3,6,4,5,8,2,2]\n",
    "y = []\n",
    "for i in range(len(x)):\n",
    "    y.append(min(x))\n",
    "    x.remove(min(x))\n",
    "    \n",
    "x,y"
   ]
  },
  {
   "cell_type": "markdown",
   "id": "7dd74e10",
   "metadata": {},
   "source": [
    "### Descending order"
   ]
  },
  {
   "cell_type": "code",
   "execution_count": 69,
   "id": "37d726e9",
   "metadata": {},
   "outputs": [
    {
     "data": {
      "text/plain": [
       "[8, 6, 5, 4, 3, 2]"
      ]
     },
     "execution_count": 69,
     "metadata": {},
     "output_type": "execute_result"
    }
   ],
   "source": [
    "x = [3,6,4,5,8,2]\n",
    "x.sort()\n",
    "x[::-1]"
   ]
  },
  {
   "cell_type": "code",
   "execution_count": 70,
   "id": "027e2f76",
   "metadata": {},
   "outputs": [
    {
     "data": {
      "text/plain": [
       "[8, 6, 5, 4, 3, 2]"
      ]
     },
     "execution_count": 70,
     "metadata": {},
     "output_type": "execute_result"
    }
   ],
   "source": [
    "x = [3,6,4,5,8,2]\n",
    "x.sort(reverse=True)\n",
    "x"
   ]
  },
  {
   "cell_type": "code",
   "execution_count": 71,
   "id": "a9ad4747",
   "metadata": {},
   "outputs": [
    {
     "data": {
      "text/plain": [
       "[8, 6, 5, 4, 3, 2]"
      ]
     },
     "execution_count": 71,
     "metadata": {},
     "output_type": "execute_result"
    }
   ],
   "source": [
    "x = [3,6,4,5,8,2]\n",
    "x = sorted(x,reverse=True)\n",
    "x"
   ]
  },
  {
   "cell_type": "markdown",
   "id": "f3c6889a",
   "metadata": {},
   "source": [
    "## reverse"
   ]
  },
  {
   "cell_type": "raw",
   "id": "7ee4d81b",
   "metadata": {},
   "source": [
    "It returns list in reverse order.\n",
    "it requires seperate variable to store the new list.\n",
    "\n",
    "syntax:\n",
    "    list_name.reverse()"
   ]
  },
  {
   "cell_type": "code",
   "execution_count": 72,
   "id": "cf946fab",
   "metadata": {},
   "outputs": [
    {
     "data": {
      "text/plain": [
       "[150, 300, 350, 200, 100]"
      ]
     },
     "execution_count": 72,
     "metadata": {},
     "output_type": "execute_result"
    }
   ],
   "source": [
    "list1 = [100,200,350,300,150]\n",
    "list1.reverse()\n",
    "list1"
   ]
  },
  {
   "cell_type": "code",
   "execution_count": 73,
   "id": "8fe40be6",
   "metadata": {},
   "outputs": [
    {
     "data": {
      "text/plain": [
       "['Math', 'Chem', 'Bio', 'Phy']"
      ]
     },
     "execution_count": 73,
     "metadata": {},
     "output_type": "execute_result"
    }
   ],
   "source": [
    "list2 = ['Phy','Bio','Chem','Math']\n",
    "list2.reverse()\n",
    "list2"
   ]
  },
  {
   "cell_type": "markdown",
   "id": "0c932f67",
   "metadata": {},
   "source": [
    "## reversed"
   ]
  },
  {
   "cell_type": "raw",
   "id": "3c7d785f",
   "metadata": {},
   "source": [
    "It returns list in reverse order.\n",
    "it requires seperate variable to store the new list.\n",
    "\n",
    "syntax:\n",
    "    list_name.reverse()"
   ]
  },
  {
   "cell_type": "code",
   "execution_count": 74,
   "id": "d4ed1d94",
   "metadata": {},
   "outputs": [
    {
     "data": {
      "text/plain": [
       "['Phy', 'Bio', 'chem', 155, 'math', 750]"
      ]
     },
     "execution_count": 74,
     "metadata": {},
     "output_type": "execute_result"
    }
   ],
   "source": [
    "list2 = ['Phy','Bio','chem',155,'math',750]\n",
    "reversed(list2)\n",
    "list2"
   ]
  },
  {
   "cell_type": "code",
   "execution_count": 75,
   "id": "d94053d5",
   "metadata": {},
   "outputs": [
    {
     "name": "stdout",
     "output_type": "stream",
     "text": [
      "<list_reverseiterator object at 0x0000019B4D5B3C40>\n"
     ]
    },
    {
     "data": {
      "text/plain": [
       "[750, 'math', 155, 'chem', 'Bio', 'Phy']"
      ]
     },
     "execution_count": 75,
     "metadata": {},
     "output_type": "execute_result"
    }
   ],
   "source": [
    "list2 = ['Phy','Bio','chem',155,'math',750]\n",
    "list2 = reversed(list2)\n",
    "print(list2)\n",
    "list(list2)\n",
    "# [i for i in list2]\n",
    "# for i in list2:print(i,end=' ')\n",
    "# print(next(list2))\n",
    "# print(next(list2))"
   ]
  },
  {
   "cell_type": "markdown",
   "id": "bc563704",
   "metadata": {},
   "source": [
    "## count"
   ]
  },
  {
   "cell_type": "raw",
   "id": "ad2dba16",
   "metadata": {},
   "source": [
    "it returns count of element present in given list.\n",
    "\n",
    "syntax:\n",
    "    list_name.count('entity')"
   ]
  },
  {
   "cell_type": "code",
   "execution_count": 76,
   "id": "d49306eb",
   "metadata": {},
   "outputs": [
    {
     "data": {
      "text/plain": [
       "1"
      ]
     },
     "execution_count": 76,
     "metadata": {},
     "output_type": "execute_result"
    }
   ],
   "source": [
    "list2 = ['Phy','Bio','chem',155,'math',750]\n",
    "list2.count('Phy')"
   ]
  },
  {
   "cell_type": "code",
   "execution_count": 77,
   "id": "d88172ca",
   "metadata": {},
   "outputs": [
    {
     "data": {
      "text/plain": [
       "2"
      ]
     },
     "execution_count": 77,
     "metadata": {},
     "output_type": "execute_result"
    }
   ],
   "source": [
    "list2 = ['Phy','Bio','chem',155,'math',750,155]\n",
    "list2.count(155)"
   ]
  },
  {
   "cell_type": "markdown",
   "id": "a303c7b8",
   "metadata": {},
   "source": [
    "## sum"
   ]
  },
  {
   "cell_type": "raw",
   "id": "cf812e81",
   "metadata": {},
   "source": [
    "it returns addition of all element from the list.\n",
    "\n",
    "syntax:\n",
    "    sum(list_name)"
   ]
  },
  {
   "cell_type": "code",
   "execution_count": 80,
   "id": "96058d2f",
   "metadata": {},
   "outputs": [
    {
     "data": {
      "text/plain": [
       "4049"
      ]
     },
     "execution_count": 80,
     "metadata": {},
     "output_type": "execute_result"
    }
   ],
   "source": [
    "list2 = [155,750,456,235,678,945,675,155]\n",
    "sum(list2)"
   ]
  },
  {
   "cell_type": "code",
   "execution_count": 81,
   "id": "a80ba1e3",
   "metadata": {},
   "outputs": [
    {
     "data": {
      "text/plain": [
       "4049"
      ]
     },
     "execution_count": 81,
     "metadata": {},
     "output_type": "execute_result"
    }
   ],
   "source": [
    "sumation= 0\n",
    "for i in list2:sumation+=i\n",
    "    \n",
    "sumation"
   ]
  },
  {
   "cell_type": "code",
   "execution_count": 82,
   "id": "dff521ba",
   "metadata": {},
   "outputs": [
    {
     "data": {
      "text/plain": [
       "25.0"
      ]
     },
     "execution_count": 82,
     "metadata": {},
     "output_type": "execute_result"
    }
   ],
   "source": [
    "## Power function from math library\n",
    "import math\n",
    "math.pow(5,2)"
   ]
  },
  {
   "cell_type": "code",
   "execution_count": 83,
   "id": "383c76c8",
   "metadata": {},
   "outputs": [
    {
     "data": {
      "text/plain": [
       "3.141592653589793"
      ]
     },
     "execution_count": 83,
     "metadata": {},
     "output_type": "execute_result"
    }
   ],
   "source": [
    "math.pi"
   ]
  },
  {
   "cell_type": "markdown",
   "id": "847409fa",
   "metadata": {},
   "source": [
    "## Shallow copy"
   ]
  },
  {
   "cell_type": "raw",
   "id": "24e39c72",
   "metadata": {},
   "source": [
    "When we have nested list, shallow copy dosent work well.\n",
    "basically change in a list will also change the origional or copied list.\n",
    "\n",
    "syntax:\n",
    "    copied_list=origional_list.copy()"
   ]
  },
  {
   "cell_type": "code",
   "execution_count": 3,
   "id": "93327f3a",
   "metadata": {},
   "outputs": [
    {
     "data": {
      "text/plain": [
       "(1423675809408, 1423691875904)"
      ]
     },
     "execution_count": 3,
     "metadata": {},
     "output_type": "execute_result"
    }
   ],
   "source": [
    "list2= [155, 750, 456, 235, 678, 945, 675, 155]\n",
    "copied_list = list2.copy()    #list2 is copied in copied_list\n",
    "\n",
    "copied_list\n",
    "\n",
    "id(list2),id(copied_list)"
   ]
  },
  {
   "cell_type": "code",
   "execution_count": 4,
   "id": "a889f057",
   "metadata": {},
   "outputs": [
    {
     "data": {
      "text/plain": [
       "[200, 750, 456, 235, 678, 945, 675, 155]"
      ]
     },
     "execution_count": 4,
     "metadata": {},
     "output_type": "execute_result"
    }
   ],
   "source": [
    "copied_list[0] = 200\n",
    "copied_list"
   ]
  },
  {
   "cell_type": "code",
   "execution_count": 5,
   "id": "a7be35c2",
   "metadata": {},
   "outputs": [
    {
     "data": {
      "text/plain": [
       "[155, 750, 456, 235, 678, 945, 675, 155]"
      ]
     },
     "execution_count": 5,
     "metadata": {},
     "output_type": "execute_result"
    }
   ],
   "source": [
    "list2"
   ]
  },
  {
   "cell_type": "code",
   "execution_count": 6,
   "id": "04a6818a",
   "metadata": {},
   "outputs": [
    {
     "data": {
      "text/plain": [
       "[[2, 3], [3, 4], [5, 6]]"
      ]
     },
     "execution_count": 6,
     "metadata": {},
     "output_type": "execute_result"
    }
   ],
   "source": [
    "# Shallow copy doesnt work on nested list\n",
    "\n",
    "list1 = [[2,3],[3,4],[5,6]]\n",
    "dummy_copy = list1.copy()\n",
    "dummy_copy"
   ]
  },
  {
   "cell_type": "code",
   "execution_count": 7,
   "id": "d03d6093",
   "metadata": {},
   "outputs": [
    {
     "name": "stdout",
     "output_type": "stream",
     "text": [
      "[[100, 3], [3, 4], [5, 6]]\n",
      "[[100, 3], [3, 4], [5, 6]]\n"
     ]
    }
   ],
   "source": [
    "list1[0][0] = 100\n",
    "print(list1)\n",
    "print(dummy_copy)"
   ]
  },
  {
   "cell_type": "code",
   "execution_count": 8,
   "id": "e29f5e04",
   "metadata": {},
   "outputs": [
    {
     "name": "stdout",
     "output_type": "stream",
     "text": [
      "[[500, 3], [3, 4], [5, 6]]\n",
      "[[500, 3], [3, 4], [5, 6]]\n"
     ]
    }
   ],
   "source": [
    "dummy_copy[0][0] = 500\n",
    "print(list1)\n",
    "print(dummy_copy)"
   ]
  },
  {
   "cell_type": "markdown",
   "id": "2f1b09bb",
   "metadata": {},
   "source": [
    "## Deepcopy"
   ]
  },
  {
   "cell_type": "raw",
   "id": "82a7f30a",
   "metadata": {},
   "source": [
    "deepcopy works well on nested list.\n",
    "\n",
    "syntax:\n",
    "    copied_list=deepcopy(origional_list)"
   ]
  },
  {
   "cell_type": "code",
   "execution_count": 10,
   "id": "9b3400e9",
   "metadata": {},
   "outputs": [],
   "source": [
    "from copy import deepcopy,copy"
   ]
  },
  {
   "cell_type": "code",
   "execution_count": 11,
   "id": "a26e3ff5",
   "metadata": {},
   "outputs": [
    {
     "data": {
      "text/plain": [
       "(1423692629568, 1423692630592)"
      ]
     },
     "execution_count": 11,
     "metadata": {},
     "output_type": "execute_result"
    }
   ],
   "source": [
    "# deepcopy workds well on nested list1\n",
    "\n",
    "list1 = [[2,3],[3,4],[5,6]]\n",
    "dummy_copy = deepcopy(list1)\n",
    "dummy_copy\n",
    "\n",
    "id(list1),id(dummy_copy)"
   ]
  },
  {
   "cell_type": "code",
   "execution_count": 12,
   "id": "36ae9510",
   "metadata": {},
   "outputs": [
    {
     "name": "stdout",
     "output_type": "stream",
     "text": [
      "[[100, 3], [3, 4], [5, 6]]\n",
      "[[2, 3], [3, 4], [5, 6]]\n"
     ]
    }
   ],
   "source": [
    "list1[0][0] = 100\n",
    "print(list1)\n",
    "print(dummy_copy)"
   ]
  },
  {
   "cell_type": "code",
   "execution_count": 13,
   "id": "14cf7d03",
   "metadata": {},
   "outputs": [
    {
     "name": "stdout",
     "output_type": "stream",
     "text": [
      "[[100, 3], [3, 4], [5, 6]]\n",
      "[[500, 3], [3, 4], [5, 6]]\n"
     ]
    }
   ],
   "source": [
    "dummy_copy[0][0] = 500\n",
    "print(list1)\n",
    "print(dummy_copy)"
   ]
  },
  {
   "cell_type": "code",
   "execution_count": 14,
   "id": "cd494b34",
   "metadata": {},
   "outputs": [
    {
     "data": {
      "text/plain": [
       "[[2, 3], [3, 4], [5, 6]]"
      ]
     },
     "execution_count": 14,
     "metadata": {},
     "output_type": "execute_result"
    }
   ],
   "source": [
    "list1 = [[2,3],[3,4],[5,6]]\n",
    "dummy_copy = copy(list1)   #shallow copy\n",
    "dummy_copy"
   ]
  },
  {
   "cell_type": "code",
   "execution_count": 15,
   "id": "4f4e4a90",
   "metadata": {},
   "outputs": [
    {
     "name": "stdout",
     "output_type": "stream",
     "text": [
      "[[2, 3], [3, 4], [5, 6]]\n",
      "[500, [3, 4], [5, 6]]\n"
     ]
    }
   ],
   "source": [
    "dummy_copy[0] = 500\n",
    "print(list1)\n",
    "print(dummy_copy)"
   ]
  },
  {
   "cell_type": "code",
   "execution_count": 16,
   "id": "192c0609",
   "metadata": {},
   "outputs": [
    {
     "data": {
      "text/plain": [
       "[[2, 3], [3, 4], [5, 6]]"
      ]
     },
     "execution_count": 16,
     "metadata": {},
     "output_type": "execute_result"
    }
   ],
   "source": [
    "list1 = [[2,3],[3,4],[5,6]]\n",
    "dummy_copy = copy(list1)   #shallow copy\n",
    "dummy_copy"
   ]
  },
  {
   "cell_type": "code",
   "execution_count": 17,
   "id": "3a3d161c",
   "metadata": {},
   "outputs": [
    {
     "name": "stdout",
     "output_type": "stream",
     "text": [
      "[[2, 3], [3, 4], [5, 6]]\n",
      "[500, [3, 4], [5, 6]]\n"
     ]
    }
   ],
   "source": [
    "dummy_copy[0] = 500\n",
    "print(list1)\n",
    "print(dummy_copy)"
   ]
  }
 ],
 "metadata": {
  "kernelspec": {
   "display_name": "Python 3 (ipykernel)",
   "language": "python",
   "name": "python3"
  },
  "language_info": {
   "codemirror_mode": {
    "name": "ipython",
    "version": 3
   },
   "file_extension": ".py",
   "mimetype": "text/x-python",
   "name": "python",
   "nbconvert_exporter": "python",
   "pygments_lexer": "ipython3",
   "version": "3.9.7"
  },
  "toc": {
   "base_numbering": 1,
   "nav_menu": {},
   "number_sections": true,
   "sideBar": true,
   "skip_h1_title": false,
   "title_cell": "Table of Contents",
   "title_sidebar": "Contents",
   "toc_cell": false,
   "toc_position": {},
   "toc_section_display": true,
   "toc_window_display": false
  }
 },
 "nbformat": 4,
 "nbformat_minor": 5
}
