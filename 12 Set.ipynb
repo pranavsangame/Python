{
 "cells": [
  {
   "cell_type": "raw",
   "id": "1b77ded4",
   "metadata": {},
   "source": [
    "Set:\n",
    "    unordered data type\n",
    "    mutable data type\n",
    "    Duplicates are not allowed\n",
    "    addition of mutable items is possible\n",
    "    indexing is not supported by set\n",
    "    \n",
    "Mutable >> list, set, dict\n",
    "Immutable >> str, tuple, int, float, bool\n",
    "\n",
    "sets are enclosed within {} curly braces\n",
    "items in set are comma separated\n",
    "initialise set by set constructor\n",
    "data type of empty set is changed to dict\n",
    "\n",
    "while dict is also in curly braces, it has key value pair 7 keys & values are separated by : whereas in set items are separated by comma ,"
   ]
  },
  {
   "cell_type": "code",
   "execution_count": 1,
   "id": "761dcc2b",
   "metadata": {},
   "outputs": [
    {
     "data": {
      "text/plain": [
       "{}"
      ]
     },
     "execution_count": 1,
     "metadata": {},
     "output_type": "execute_result"
    }
   ],
   "source": [
    "set1 = {}\n",
    "set1"
   ]
  },
  {
   "cell_type": "code",
   "execution_count": 2,
   "id": "1c315b8f",
   "metadata": {},
   "outputs": [
    {
     "data": {
      "text/plain": [
       "dict"
      ]
     },
     "execution_count": 2,
     "metadata": {},
     "output_type": "execute_result"
    }
   ],
   "source": [
    "type(set1)"
   ]
  },
  {
   "cell_type": "code",
   "execution_count": 3,
   "id": "3c34aa70",
   "metadata": {},
   "outputs": [
    {
     "data": {
      "text/plain": [
       "set"
      ]
     },
     "execution_count": 3,
     "metadata": {},
     "output_type": "execute_result"
    }
   ],
   "source": [
    "set1 = {1}\n",
    "type(set1)"
   ]
  },
  {
   "cell_type": "raw",
   "id": "7e1c0415",
   "metadata": {},
   "source": [
    "list1 = []\n",
    "tuple1 = ()\n",
    "string = \" \"\n",
    "set1= {,}\n",
    "dict1 = {key:value}"
   ]
  },
  {
   "cell_type": "code",
   "execution_count": 5,
   "id": "833d0066",
   "metadata": {},
   "outputs": [
    {
     "data": {
      "text/plain": [
       "set"
      ]
     },
     "execution_count": 5,
     "metadata": {},
     "output_type": "execute_result"
    }
   ],
   "source": [
    "set1 = {1,}\n",
    "type(set1)"
   ]
  },
  {
   "cell_type": "code",
   "execution_count": 6,
   "id": "fcb0a5e7",
   "metadata": {},
   "outputs": [
    {
     "data": {
      "text/plain": [
       "{2, 3, 4, 7, 8, 'Class', 'Python'}"
      ]
     },
     "execution_count": 6,
     "metadata": {},
     "output_type": "execute_result"
    }
   ],
   "source": [
    "set1 = {4,7,2,8,3,'Python','Class','Python',2}\n",
    "set1"
   ]
  },
  {
   "cell_type": "code",
   "execution_count": 7,
   "id": "2e6f6dae",
   "metadata": {},
   "outputs": [
    {
     "data": {
      "text/plain": [
       "[0, 3, 4, 5, 7, 9]"
      ]
     },
     "execution_count": 7,
     "metadata": {},
     "output_type": "execute_result"
    }
   ],
   "source": [
    "# removing duplicate items from list:\n",
    "##### when the order doesn't bother us but we dont want duplicate items in list\n",
    "\n",
    "list1 = [5,3,5,3,4,7,9,0]\n",
    "set1=set(list1)\n",
    "list1=list(set1)\n",
    "list1"
   ]
  },
  {
   "cell_type": "code",
   "execution_count": 8,
   "id": "53ed768a",
   "metadata": {},
   "outputs": [
    {
     "data": {
      "text/plain": [
       "[5, 3, 4, 7, 9, 0]"
      ]
     },
     "execution_count": 8,
     "metadata": {},
     "output_type": "execute_result"
    }
   ],
   "source": [
    "# if we wanted order\n",
    "list1 = [5,3,5,3,4,7,9,0]\n",
    "list_dum = []\n",
    "for i in list1:\n",
    "    if i in list_dum:\n",
    "        pass\n",
    "    else:\n",
    "        list_dum.append(i)\n",
    "        \n",
    "list_dum"
   ]
  },
  {
   "cell_type": "markdown",
   "id": "00c39aa3",
   "metadata": {},
   "source": [
    "# indexing not supported by set"
   ]
  },
  {
   "cell_type": "code",
   "execution_count": 9,
   "id": "214918d0",
   "metadata": {},
   "outputs": [
    {
     "ename": "TypeError",
     "evalue": "'set' object is not subscriptable",
     "output_type": "error",
     "traceback": [
      "\u001b[1;31m---------------------------------------------------------------------------\u001b[0m",
      "\u001b[1;31mTypeError\u001b[0m                                 Traceback (most recent call last)",
      "\u001b[1;32m~\\AppData\\Local\\Temp/ipykernel_38276/91567059.py\u001b[0m in \u001b[0;36m<module>\u001b[1;34m\u001b[0m\n\u001b[1;32m----> 1\u001b[1;33m \u001b[0mset1\u001b[0m\u001b[1;33m[\u001b[0m\u001b[1;36m3\u001b[0m\u001b[1;33m]\u001b[0m\u001b[1;33m\u001b[0m\u001b[1;33m\u001b[0m\u001b[0m\n\u001b[0m",
      "\u001b[1;31mTypeError\u001b[0m: 'set' object is not subscriptable"
     ]
    }
   ],
   "source": [
    "set1[3]"
   ]
  },
  {
   "cell_type": "code",
   "execution_count": 10,
   "id": "dddcc3a2",
   "metadata": {},
   "outputs": [
    {
     "ename": "TypeError",
     "evalue": "'set' object is not subscriptable",
     "output_type": "error",
     "traceback": [
      "\u001b[1;31m---------------------------------------------------------------------------\u001b[0m",
      "\u001b[1;31mTypeError\u001b[0m                                 Traceback (most recent call last)",
      "\u001b[1;32m~\\AppData\\Local\\Temp/ipykernel_38276/303383261.py\u001b[0m in \u001b[0;36m<module>\u001b[1;34m\u001b[0m\n\u001b[1;32m----> 1\u001b[1;33m \u001b[0mset1\u001b[0m\u001b[1;33m[\u001b[0m\u001b[1;33m:\u001b[0m\u001b[1;33m]\u001b[0m\u001b[1;33m\u001b[0m\u001b[1;33m\u001b[0m\u001b[0m\n\u001b[0m",
      "\u001b[1;31mTypeError\u001b[0m: 'set' object is not subscriptable"
     ]
    }
   ],
   "source": [
    "set1[:]"
   ]
  },
  {
   "cell_type": "code",
   "execution_count": 11,
   "id": "176b5e3a",
   "metadata": {},
   "outputs": [
    {
     "data": {
      "text/plain": [
       "{0, True}"
      ]
     },
     "execution_count": 11,
     "metadata": {},
     "output_type": "execute_result"
    }
   ],
   "source": [
    "set2 = {True, 1,0, False, False, True, 0, 1}\n",
    "set2"
   ]
  },
  {
   "cell_type": "code",
   "execution_count": 12,
   "id": "8e433fa7",
   "metadata": {},
   "outputs": [
    {
     "data": {
      "text/plain": [
       "{False, 1}"
      ]
     },
     "execution_count": 12,
     "metadata": {},
     "output_type": "execute_result"
    }
   ],
   "source": [
    "set2 = {1, False, False, True, 0, 1}\n",
    "set2"
   ]
  },
  {
   "cell_type": "code",
   "execution_count": 13,
   "id": "244dbb9b",
   "metadata": {},
   "outputs": [
    {
     "name": "stdout",
     "output_type": "stream",
     "text": [
      "<class 'tuple'>\n"
     ]
    },
    {
     "data": {
      "text/plain": [
       "{2, 3, 4, 5}"
      ]
     },
     "execution_count": 13,
     "metadata": {},
     "output_type": "execute_result"
    }
   ],
   "source": [
    "s = 2,3,5,4\n",
    "print(type(s))\n",
    "set_new = set(s)\n",
    "set_new"
   ]
  },
  {
   "cell_type": "raw",
   "id": "ad2624a1",
   "metadata": {},
   "source": [
    "$ set is a typical data type that does work with loops & enumenrate function but it does not support indexing."
   ]
  },
  {
   "cell_type": "code",
   "execution_count": 14,
   "id": "8eb16fa6",
   "metadata": {},
   "outputs": [],
   "source": [
    "set1 = {4,7,2,8,3,'Python','Class','Python',2}"
   ]
  },
  {
   "cell_type": "code",
   "execution_count": 15,
   "id": "0ed8ff35",
   "metadata": {},
   "outputs": [
    {
     "name": "stdout",
     "output_type": "stream",
     "text": [
      "Class\n",
      "3\n",
      "2\n",
      "4\n",
      "7\n",
      "8\n",
      "Python\n"
     ]
    }
   ],
   "source": [
    "for i in set1:\n",
    "    print(i)"
   ]
  },
  {
   "cell_type": "code",
   "execution_count": 16,
   "id": "f857a855",
   "metadata": {},
   "outputs": [
    {
     "name": "stdout",
     "output_type": "stream",
     "text": [
      "(0, 'Class')\n",
      "(1, 3)\n",
      "(2, 2)\n",
      "(3, 4)\n",
      "(4, 7)\n",
      "(5, 8)\n",
      "(6, 'Python')\n"
     ]
    }
   ],
   "source": [
    "for i in enumerate(set1):\n",
    "    print(i)"
   ]
  },
  {
   "cell_type": "code",
   "execution_count": 17,
   "id": "95bd709a",
   "metadata": {},
   "outputs": [
    {
     "data": {
      "text/plain": [
       "{'%%',\n",
       " 0,\n",
       " 100.124,\n",
       " 3,\n",
       " 3.14,\n",
       " 300,\n",
       " 31,\n",
       " 4,\n",
       " 5,\n",
       " 5.6,\n",
       " 6,\n",
       " 7,\n",
       " 8,\n",
       " 9,\n",
       " 9.3,\n",
       " 'Abc',\n",
       " 'Class',\n",
       " 'M',\n",
       " 'ab',\n",
       " 'python'}"
      ]
     },
     "execution_count": 17,
     "metadata": {},
     "output_type": "execute_result"
    }
   ],
   "source": [
    "set1={7,3,4,8,5,0,9.3,9,4,5,6,31,'python','ab','M','Abc','Abc','M',3.14,5.6,100.124,300,'Class','%%'}\n",
    "set1"
   ]
  },
  {
   "cell_type": "code",
   "execution_count": 18,
   "id": "13e7ebd3",
   "metadata": {},
   "outputs": [
    {
     "ename": "TypeError",
     "evalue": "'<' not supported between instances of 'str' and 'int'",
     "output_type": "error",
     "traceback": [
      "\u001b[1;31m---------------------------------------------------------------------------\u001b[0m",
      "\u001b[1;31mTypeError\u001b[0m                                 Traceback (most recent call last)",
      "\u001b[1;32m~\\AppData\\Local\\Temp/ipykernel_38276/1074648734.py\u001b[0m in \u001b[0;36m<module>\u001b[1;34m\u001b[0m\n\u001b[0;32m      1\u001b[0m \u001b[0mlist1\u001b[0m \u001b[1;33m=\u001b[0m \u001b[1;33m[\u001b[0m\u001b[1;36m9.3\u001b[0m\u001b[1;33m,\u001b[0m\u001b[1;36m9\u001b[0m\u001b[1;33m,\u001b[0m\u001b[1;36m4\u001b[0m\u001b[1;33m,\u001b[0m\u001b[1;36m5\u001b[0m\u001b[1;33m,\u001b[0m\u001b[1;36m6\u001b[0m\u001b[1;33m,\u001b[0m\u001b[1;34m'python'\u001b[0m\u001b[1;33m,\u001b[0m\u001b[1;34m'ab'\u001b[0m\u001b[1;33m,\u001b[0m\u001b[1;34m'M'\u001b[0m\u001b[1;33m,\u001b[0m\u001b[1;34m'Abc'\u001b[0m\u001b[1;33m]\u001b[0m\u001b[1;33m\u001b[0m\u001b[1;33m\u001b[0m\u001b[0m\n\u001b[1;32m----> 2\u001b[1;33m \u001b[0mlist1\u001b[0m\u001b[1;33m.\u001b[0m\u001b[0msort\u001b[0m\u001b[1;33m(\u001b[0m\u001b[1;33m)\u001b[0m\u001b[1;33m\u001b[0m\u001b[1;33m\u001b[0m\u001b[0m\n\u001b[0m",
      "\u001b[1;31mTypeError\u001b[0m: '<' not supported between instances of 'str' and 'int'"
     ]
    }
   ],
   "source": [
    "list1 = [9.3,9,4,5,6,'python','ab','M','Abc']\n",
    "list1.sort()"
   ]
  },
  {
   "cell_type": "markdown",
   "id": "4cf3a66d",
   "metadata": {},
   "source": [
    "# How to access items in set"
   ]
  },
  {
   "cell_type": "code",
   "execution_count": 19,
   "id": "40cfcb4b",
   "metadata": {},
   "outputs": [
    {
     "name": "stdout",
     "output_type": "stream",
     "text": [
      "Class\n",
      "3\n",
      "2\n",
      "4\n",
      "7\n",
      "8\n",
      "Python\n"
     ]
    }
   ],
   "source": [
    "set1 = {4,7,2,8,3,'Python','Class','Python',2}\n",
    "\n",
    "for i in set1:\n",
    "    print(i)"
   ]
  },
  {
   "cell_type": "code",
   "execution_count": 20,
   "id": "f2ad5942",
   "metadata": {},
   "outputs": [],
   "source": [
    "# Set Function"
   ]
  },
  {
   "cell_type": "raw",
   "id": "b47e1637",
   "metadata": {},
   "source": [
    "remove\n",
    "discard\n",
    "pop\n",
    "clear\n",
    "del"
   ]
  },
  {
   "cell_type": "markdown",
   "id": "8d821f14",
   "metadata": {},
   "source": [
    "# Remove"
   ]
  },
  {
   "cell_type": "raw",
   "id": "0eca4eb8",
   "metadata": {},
   "source": [
    "removes the unrequired item from the set provided that element is present\n",
    "if the element is not present then it would throw an error"
   ]
  },
  {
   "cell_type": "code",
   "execution_count": 21,
   "id": "71f66515",
   "metadata": {},
   "outputs": [
    {
     "name": "stdout",
     "output_type": "stream",
     "text": [
      "{'Class', 3, 2, 4, 7, 8, 'Python'}\n",
      "{'Class', 3, 2, 4, 7, 'Python'}\n"
     ]
    }
   ],
   "source": [
    "set1 = {4,7,2,8,3,'Python','Class'}\n",
    "\n",
    "print(set1)\n",
    "\n",
    "set1.remove(8)\n",
    "\n",
    "print(set1)"
   ]
  },
  {
   "cell_type": "code",
   "execution_count": 22,
   "id": "ff464a17",
   "metadata": {},
   "outputs": [
    {
     "name": "stdout",
     "output_type": "stream",
     "text": [
      "{'Class', 3, 2, 4, 7, 8, 'Python'}\n",
      "Removed item set is:  {'Class', 3, 2, 4, 7, 8}\n"
     ]
    }
   ],
   "source": [
    "set1 = {4,7,2,8,3,'Python','Class'}\n",
    "\n",
    "print(set1)\n",
    "\n",
    "set1.remove('Python')\n",
    "\n",
    "print(\"Removed item set is: \",set1)"
   ]
  },
  {
   "cell_type": "code",
   "execution_count": 23,
   "id": "cebd0d37",
   "metadata": {},
   "outputs": [
    {
     "name": "stdout",
     "output_type": "stream",
     "text": [
      "{'Class', 3, 2, 4, 7, 8, 'Python'}\n"
     ]
    },
    {
     "ename": "KeyError",
     "evalue": "100",
     "output_type": "error",
     "traceback": [
      "\u001b[1;31m---------------------------------------------------------------------------\u001b[0m",
      "\u001b[1;31mKeyError\u001b[0m                                  Traceback (most recent call last)",
      "\u001b[1;32m~\\AppData\\Local\\Temp/ipykernel_38276/1510520660.py\u001b[0m in \u001b[0;36m<module>\u001b[1;34m\u001b[0m\n\u001b[0;32m      3\u001b[0m \u001b[0mprint\u001b[0m\u001b[1;33m(\u001b[0m\u001b[0mset1\u001b[0m\u001b[1;33m)\u001b[0m\u001b[1;33m\u001b[0m\u001b[1;33m\u001b[0m\u001b[0m\n\u001b[0;32m      4\u001b[0m \u001b[1;33m\u001b[0m\u001b[0m\n\u001b[1;32m----> 5\u001b[1;33m \u001b[0mset1\u001b[0m\u001b[1;33m.\u001b[0m\u001b[0mremove\u001b[0m\u001b[1;33m(\u001b[0m\u001b[1;36m100\u001b[0m\u001b[1;33m)\u001b[0m\u001b[1;33m\u001b[0m\u001b[1;33m\u001b[0m\u001b[0m\n\u001b[0m\u001b[0;32m      6\u001b[0m \u001b[1;33m\u001b[0m\u001b[0m\n\u001b[0;32m      7\u001b[0m \u001b[0mprint\u001b[0m\u001b[1;33m(\u001b[0m\u001b[0mset1\u001b[0m\u001b[1;33m)\u001b[0m\u001b[1;33m\u001b[0m\u001b[1;33m\u001b[0m\u001b[0m\n",
      "\u001b[1;31mKeyError\u001b[0m: 100"
     ]
    }
   ],
   "source": [
    "set1 = {4,7,2,8,3,'Python','Class'}\n",
    "\n",
    "print(set1)\n",
    "\n",
    "set1.remove(100)\n",
    "\n",
    "print(set1)"
   ]
  },
  {
   "cell_type": "markdown",
   "id": "50a439dd",
   "metadata": {},
   "source": [
    "# Discard"
   ]
  },
  {
   "cell_type": "raw",
   "id": "f21cce1f",
   "metadata": {},
   "source": [
    "It does not throw an error even if the item is not present"
   ]
  },
  {
   "cell_type": "code",
   "execution_count": 24,
   "id": "32f09a01",
   "metadata": {},
   "outputs": [
    {
     "name": "stdout",
     "output_type": "stream",
     "text": [
      "{'Class', 3, 2, 4, 7, 8, 'Python'}\n",
      "Discarded item set is:  {'Class', 3, 2, 4, 7, 'Python'}\n"
     ]
    }
   ],
   "source": [
    "set1 = {4,7,2,8,3,'Python','Class'}\n",
    "\n",
    "print(set1)\n",
    "\n",
    "set1.discard(8)\n",
    "\n",
    "print(\"Discarded item set is: \",set1)"
   ]
  },
  {
   "cell_type": "code",
   "execution_count": 25,
   "id": "f663db06",
   "metadata": {},
   "outputs": [
    {
     "name": "stdout",
     "output_type": "stream",
     "text": [
      "{'Class', 3, 2, 4, 7, 8, 'Python'}\n",
      "Discarded item set is:  {'Class', 3, 2, 4, 7, 8, 'Python'}\n"
     ]
    }
   ],
   "source": [
    "set1 = {4,7,2,8,3,'Python','Class'}\n",
    "\n",
    "print(set1)\n",
    "\n",
    "set1.discard(100)\n",
    "\n",
    "print(\"Discarded item set is: \",set1)"
   ]
  },
  {
   "cell_type": "markdown",
   "id": "4c174215",
   "metadata": {},
   "source": [
    "# pop"
   ]
  },
  {
   "cell_type": "raw",
   "id": "17338cbf",
   "metadata": {},
   "source": [
    "It pops out any random index item from the set"
   ]
  },
  {
   "cell_type": "code",
   "execution_count": 26,
   "id": "b15f4318",
   "metadata": {},
   "outputs": [
    {
     "name": "stdout",
     "output_type": "stream",
     "text": [
      "{'Class', 3, 2, 4, 7, 8, 'Python'}\n",
      "Discarded item set is:  {3, 2, 4, 7, 8, 'Python'}\n"
     ]
    }
   ],
   "source": [
    "set1 = {4,7,2,8,3,'Python','Class'}\n",
    "\n",
    "print(set1)\n",
    "\n",
    "set1.pop()\n",
    "\n",
    "print(\"Discarded item set is: \",set1)"
   ]
  },
  {
   "cell_type": "code",
   "execution_count": 27,
   "id": "23af87c8",
   "metadata": {},
   "outputs": [
    {
     "name": "stdout",
     "output_type": "stream",
     "text": [
      "{'Class', 3, 2, 4, 7, 8, 'Python'}\n",
      "Discarded item set is:  {3, 2, 4, 7, 8, 'Python'}\n"
     ]
    }
   ],
   "source": [
    "set1 = {4,7,2,8,3,'Python','Class'}\n",
    "\n",
    "print(set1)\n",
    "\n",
    "set1.pop()\n",
    "\n",
    "print(\"Discarded item set is: \",set1)"
   ]
  },
  {
   "cell_type": "code",
   "execution_count": 28,
   "id": "366ad0b1",
   "metadata": {},
   "outputs": [
    {
     "name": "stdout",
     "output_type": "stream",
     "text": [
      "{23, 6, 7, 90, 123, 45}\n",
      "{6, 7, 90, 123, 45}\n"
     ]
    }
   ],
   "source": [
    "set2={6,23,45,6,7,90,123}\n",
    "print(set2)\n",
    "set2.pop()\n",
    "print(set2)"
   ]
  },
  {
   "cell_type": "markdown",
   "id": "8af31cad",
   "metadata": {},
   "source": [
    "# Removing items from set"
   ]
  },
  {
   "cell_type": "markdown",
   "id": "fd3b0f8f",
   "metadata": {},
   "source": [
    "## Clear"
   ]
  },
  {
   "cell_type": "raw",
   "id": "b622b2c9",
   "metadata": {},
   "source": [
    "It removes all the items from the set"
   ]
  },
  {
   "cell_type": "code",
   "execution_count": 29,
   "id": "8e89a58f",
   "metadata": {},
   "outputs": [
    {
     "data": {
      "text/plain": [
       "set()"
      ]
     },
     "execution_count": 29,
     "metadata": {},
     "output_type": "execute_result"
    }
   ],
   "source": [
    "set1 = {2,3,60,45,'Engineering','Medical'}\n",
    "\n",
    "set1.clear()\n",
    "\n",
    "set1"
   ]
  },
  {
   "cell_type": "code",
   "execution_count": 30,
   "id": "8fc8bcb2",
   "metadata": {},
   "outputs": [
    {
     "ename": "NameError",
     "evalue": "name 'clear' is not defined",
     "output_type": "error",
     "traceback": [
      "\u001b[1;31m---------------------------------------------------------------------------\u001b[0m",
      "\u001b[1;31mNameError\u001b[0m                                 Traceback (most recent call last)",
      "\u001b[1;32m~\\AppData\\Local\\Temp/ipykernel_38276/1369741883.py\u001b[0m in \u001b[0;36m<module>\u001b[1;34m\u001b[0m\n\u001b[0;32m      1\u001b[0m \u001b[0mset1\u001b[0m \u001b[1;33m=\u001b[0m \u001b[1;33m{\u001b[0m\u001b[1;36m2\u001b[0m\u001b[1;33m,\u001b[0m\u001b[1;36m3\u001b[0m\u001b[1;33m,\u001b[0m\u001b[1;36m60\u001b[0m\u001b[1;33m,\u001b[0m\u001b[1;36m45\u001b[0m\u001b[1;33m,\u001b[0m\u001b[1;34m'Engineering'\u001b[0m\u001b[1;33m,\u001b[0m\u001b[1;34m'Medical'\u001b[0m\u001b[1;33m}\u001b[0m\u001b[1;33m\u001b[0m\u001b[1;33m\u001b[0m\u001b[0m\n\u001b[0;32m      2\u001b[0m \u001b[1;33m\u001b[0m\u001b[0m\n\u001b[1;32m----> 3\u001b[1;33m \u001b[0mclear\u001b[0m\u001b[1;33m(\u001b[0m\u001b[0mset1\u001b[0m\u001b[1;33m)\u001b[0m\u001b[1;33m\u001b[0m\u001b[1;33m\u001b[0m\u001b[0m\n\u001b[0m\u001b[0;32m      4\u001b[0m \u001b[1;33m\u001b[0m\u001b[0m\n\u001b[0;32m      5\u001b[0m \u001b[0mset1\u001b[0m\u001b[1;33m\u001b[0m\u001b[1;33m\u001b[0m\u001b[0m\n",
      "\u001b[1;31mNameError\u001b[0m: name 'clear' is not defined"
     ]
    }
   ],
   "source": [
    "set1 = {2,3,60,45,'Engineering','Medical'}\n",
    "\n",
    "clear(set1)\n",
    "\n",
    "set1"
   ]
  },
  {
   "cell_type": "markdown",
   "id": "e3bf857f",
   "metadata": {},
   "source": [
    "## del"
   ]
  },
  {
   "cell_type": "code",
   "execution_count": 31,
   "id": "5bf08578",
   "metadata": {},
   "outputs": [
    {
     "ename": "NameError",
     "evalue": "name 'set1' is not defined",
     "output_type": "error",
     "traceback": [
      "\u001b[1;31m---------------------------------------------------------------------------\u001b[0m",
      "\u001b[1;31mNameError\u001b[0m                                 Traceback (most recent call last)",
      "\u001b[1;32m~\\AppData\\Local\\Temp/ipykernel_38276/2377953051.py\u001b[0m in \u001b[0;36m<module>\u001b[1;34m\u001b[0m\n\u001b[0;32m      3\u001b[0m \u001b[1;32mdel\u001b[0m \u001b[0mset1\u001b[0m\u001b[1;33m\u001b[0m\u001b[1;33m\u001b[0m\u001b[0m\n\u001b[0;32m      4\u001b[0m \u001b[1;33m\u001b[0m\u001b[0m\n\u001b[1;32m----> 5\u001b[1;33m \u001b[0mset1\u001b[0m\u001b[1;33m\u001b[0m\u001b[1;33m\u001b[0m\u001b[0m\n\u001b[0m",
      "\u001b[1;31mNameError\u001b[0m: name 'set1' is not defined"
     ]
    }
   ],
   "source": [
    "set1 = {2,3,60,45,'Engineering','Medical'}\n",
    "\n",
    "del set1\n",
    "\n",
    "set1"
   ]
  },
  {
   "cell_type": "code",
   "execution_count": 32,
   "id": "10840f03",
   "metadata": {},
   "outputs": [
    {
     "ename": "TypeError",
     "evalue": "'set' object doesn't support item deletion",
     "output_type": "error",
     "traceback": [
      "\u001b[1;31m---------------------------------------------------------------------------\u001b[0m",
      "\u001b[1;31mTypeError\u001b[0m                                 Traceback (most recent call last)",
      "\u001b[1;32m~\\AppData\\Local\\Temp/ipykernel_38276/3311422225.py\u001b[0m in \u001b[0;36m<module>\u001b[1;34m\u001b[0m\n\u001b[0;32m      1\u001b[0m \u001b[0mset1\u001b[0m \u001b[1;33m=\u001b[0m \u001b[1;33m{\u001b[0m\u001b[1;36m2\u001b[0m\u001b[1;33m,\u001b[0m\u001b[1;36m3\u001b[0m\u001b[1;33m,\u001b[0m\u001b[1;36m60\u001b[0m\u001b[1;33m,\u001b[0m\u001b[1;36m45\u001b[0m\u001b[1;33m,\u001b[0m\u001b[1;34m'Engineering'\u001b[0m\u001b[1;33m,\u001b[0m\u001b[1;34m'Medical'\u001b[0m\u001b[1;33m}\u001b[0m\u001b[1;33m\u001b[0m\u001b[1;33m\u001b[0m\u001b[0m\n\u001b[0;32m      2\u001b[0m \u001b[1;33m\u001b[0m\u001b[0m\n\u001b[1;32m----> 3\u001b[1;33m \u001b[1;32mdel\u001b[0m \u001b[0mset1\u001b[0m\u001b[1;33m[\u001b[0m\u001b[1;36m0\u001b[0m\u001b[1;33m]\u001b[0m\u001b[1;33m\u001b[0m\u001b[1;33m\u001b[0m\u001b[0m\n\u001b[0m\u001b[0;32m      4\u001b[0m \u001b[1;33m\u001b[0m\u001b[0m\n\u001b[0;32m      5\u001b[0m \u001b[0mset1\u001b[0m\u001b[1;33m\u001b[0m\u001b[1;33m\u001b[0m\u001b[0m\n",
      "\u001b[1;31mTypeError\u001b[0m: 'set' object doesn't support item deletion"
     ]
    }
   ],
   "source": [
    "set1 = {2,3,60,45,'Engineering','Medical'}\n",
    "\n",
    "del set1[0]\n",
    "\n",
    "set1"
   ]
  },
  {
   "cell_type": "markdown",
   "id": "81bbc077",
   "metadata": {},
   "source": [
    "# Add functions"
   ]
  },
  {
   "cell_type": "markdown",
   "id": "1884019b",
   "metadata": {},
   "source": [
    "## Add "
   ]
  },
  {
   "cell_type": "raw",
   "id": "1fcea9db",
   "metadata": {},
   "source": [
    "It can add only 1 single item in the set\n",
    "It does not required additional variable to store the change."
   ]
  },
  {
   "cell_type": "code",
   "execution_count": 33,
   "id": "7a0d295d",
   "metadata": {},
   "outputs": [
    {
     "name": "stdout",
     "output_type": "stream",
     "text": [
      "{2, 3, 'Medical', 60, 45, 'Engineering'}\n"
     ]
    },
    {
     "data": {
      "text/plain": [
       "{100, 2, 3, 45, 60, 'Engineering', 'Medical'}"
      ]
     },
     "execution_count": 33,
     "metadata": {},
     "output_type": "execute_result"
    }
   ],
   "source": [
    "set1 = {2,3,60,45,'Engineering','Medical'}\n",
    "print(set1)\n",
    "\n",
    "set1.add(100)\n",
    "\n",
    "set1"
   ]
  },
  {
   "cell_type": "code",
   "execution_count": 34,
   "id": "099ba6ba",
   "metadata": {},
   "outputs": [
    {
     "name": "stdout",
     "output_type": "stream",
     "text": [
      "{2, 3, 'Medical', 60, 45, 'Engineering'}\n"
     ]
    },
    {
     "data": {
      "text/plain": [
       "{2, 3, 400, 45, 60, 'Engineering', 'Medical'}"
      ]
     },
     "execution_count": 34,
     "metadata": {},
     "output_type": "execute_result"
    }
   ],
   "source": [
    "set1 = {2,3,60,45,'Engineering','Medical'}\n",
    "print(set1)\n",
    "\n",
    "set1.add(400)\n",
    "\n",
    "set1"
   ]
  },
  {
   "cell_type": "code",
   "execution_count": 35,
   "id": "00fcdbf7",
   "metadata": {},
   "outputs": [
    {
     "name": "stdout",
     "output_type": "stream",
     "text": [
      "{2, 3, 'Medical', 60, 45, 'Engineering'}\n"
     ]
    },
    {
     "data": {
      "text/plain": [
       "{(200, 400), 2, 3, 45, 60, 'Engineering', 'Medical'}"
      ]
     },
     "execution_count": 35,
     "metadata": {},
     "output_type": "execute_result"
    }
   ],
   "source": [
    "set1 = {2,3,60,45,'Engineering','Medical'}\n",
    "print(set1)\n",
    "set1.add((200,400))\n",
    "\n",
    "set1"
   ]
  },
  {
   "cell_type": "code",
   "execution_count": 36,
   "id": "7c69f3dc",
   "metadata": {},
   "outputs": [
    {
     "name": "stdout",
     "output_type": "stream",
     "text": [
      "{2, 3, 'Medical', 60, 45, 'Engineering'}\n"
     ]
    },
    {
     "ename": "TypeError",
     "evalue": "unhashable type: 'set'",
     "output_type": "error",
     "traceback": [
      "\u001b[1;31m---------------------------------------------------------------------------\u001b[0m",
      "\u001b[1;31mTypeError\u001b[0m                                 Traceback (most recent call last)",
      "\u001b[1;32m~\\AppData\\Local\\Temp/ipykernel_38276/4224452393.py\u001b[0m in \u001b[0;36m<module>\u001b[1;34m\u001b[0m\n\u001b[0;32m      1\u001b[0m \u001b[0mset1\u001b[0m \u001b[1;33m=\u001b[0m \u001b[1;33m{\u001b[0m\u001b[1;36m2\u001b[0m\u001b[1;33m,\u001b[0m\u001b[1;36m3\u001b[0m\u001b[1;33m,\u001b[0m\u001b[1;36m60\u001b[0m\u001b[1;33m,\u001b[0m\u001b[1;36m45\u001b[0m\u001b[1;33m,\u001b[0m\u001b[1;34m'Engineering'\u001b[0m\u001b[1;33m,\u001b[0m\u001b[1;34m'Medical'\u001b[0m\u001b[1;33m}\u001b[0m\u001b[1;33m\u001b[0m\u001b[1;33m\u001b[0m\u001b[0m\n\u001b[0;32m      2\u001b[0m \u001b[0mprint\u001b[0m\u001b[1;33m(\u001b[0m\u001b[0mset1\u001b[0m\u001b[1;33m)\u001b[0m\u001b[1;33m\u001b[0m\u001b[1;33m\u001b[0m\u001b[0m\n\u001b[1;32m----> 3\u001b[1;33m \u001b[0mset1\u001b[0m\u001b[1;33m.\u001b[0m\u001b[0madd\u001b[0m\u001b[1;33m(\u001b[0m\u001b[1;33m{\u001b[0m\u001b[1;36m200\u001b[0m\u001b[1;33m,\u001b[0m\u001b[1;36m400\u001b[0m\u001b[1;33m}\u001b[0m\u001b[1;33m)\u001b[0m\u001b[1;33m\u001b[0m\u001b[1;33m\u001b[0m\u001b[0m\n\u001b[0m\u001b[0;32m      4\u001b[0m \u001b[1;33m\u001b[0m\u001b[0m\n\u001b[0;32m      5\u001b[0m \u001b[0mset1\u001b[0m\u001b[1;33m\u001b[0m\u001b[1;33m\u001b[0m\u001b[0m\n",
      "\u001b[1;31mTypeError\u001b[0m: unhashable type: 'set'"
     ]
    }
   ],
   "source": [
    "set1 = {2,3,60,45,'Engineering','Medical'}\n",
    "print(set1)\n",
    "set1.add({200,400})\n",
    "\n",
    "set1"
   ]
  },
  {
   "cell_type": "markdown",
   "id": "350b429b",
   "metadata": {},
   "source": [
    "## Update"
   ]
  },
  {
   "cell_type": "raw",
   "id": "6abe478e",
   "metadata": {},
   "source": [
    "we dont need to use a separate variable to store the change\n",
    "update is used to add items in a set from another set\n",
    "it does not add single item.\n",
    "if we need to add single item, then it has to be passed in set,list,tuple,etc.."
   ]
  },
  {
   "cell_type": "code",
   "execution_count": 37,
   "id": "17281f65",
   "metadata": {},
   "outputs": [
    {
     "name": "stdout",
     "output_type": "stream",
     "text": [
      "{2, 3, 'Medical', 60, 45, 'Engineering'}\n"
     ]
    },
    {
     "data": {
      "text/plain": [
       "{2, 3, 300, 400, 45, 60, 'Engineering', 'Medical'}"
      ]
     },
     "execution_count": 37,
     "metadata": {},
     "output_type": "execute_result"
    }
   ],
   "source": [
    "set1 = {2,3,60,45,'Engineering','Medical'}\n",
    "print(set1)\n",
    "\n",
    "set2 = {300,400}\n",
    "\n",
    "set1.update(set2)\n",
    "\n",
    "set1"
   ]
  },
  {
   "cell_type": "code",
   "execution_count": 38,
   "id": "d38a43a0",
   "metadata": {},
   "outputs": [
    {
     "name": "stdout",
     "output_type": "stream",
     "text": [
      "{2, 3, 'Medical', 60, 45, 'Engineering'}\n"
     ]
    },
    {
     "data": {
      "text/plain": [
       "{(400, 400), 2, 3, 45, 60, 'Engineering', 'Medical'}"
      ]
     },
     "execution_count": 38,
     "metadata": {},
     "output_type": "execute_result"
    }
   ],
   "source": [
    "set1 = {2,3,60,45,'Engineering','Medical'}\n",
    "print(set1)\n",
    "\n",
    "set1.update({(400,400),(400,400)})\n",
    "\n",
    "set1"
   ]
  },
  {
   "cell_type": "code",
   "execution_count": 39,
   "id": "278d9720",
   "metadata": {},
   "outputs": [
    {
     "name": "stdout",
     "output_type": "stream",
     "text": [
      "{2, 3, 'Medical', 60, 45, 'Engineering'}\n"
     ]
    },
    {
     "data": {
      "text/plain": [
       "{-100, -300, 2, 3, 300, 400, 45, 60, 'Engineering', 'Medical'}"
      ]
     },
     "execution_count": 39,
     "metadata": {},
     "output_type": "execute_result"
    }
   ],
   "source": [
    "set1 = {2,3,60,45,'Engineering','Medical'}\n",
    "print(set1)\n",
    "\n",
    "set2 = {300,400}\n",
    "set3 = {-100,-300}\n",
    "ste1 = set1.update(set2,set3)\n",
    "\n",
    "set1"
   ]
  },
  {
   "cell_type": "code",
   "execution_count": 40,
   "id": "8ddf27eb",
   "metadata": {},
   "outputs": [
    {
     "name": "stdout",
     "output_type": "stream",
     "text": [
      "{2, 3, 'Medical', 60, 45, 'Engineering'}\n"
     ]
    },
    {
     "data": {
      "text/plain": [
       "{-300, -100, 300, 400}"
      ]
     },
     "execution_count": 40,
     "metadata": {},
     "output_type": "execute_result"
    }
   ],
   "source": [
    "set1 = {2,3,60,45,'Engineering','Medical'}\n",
    "print(set1)\n",
    "\n",
    "set2 = {300,400}\n",
    "set3 = {-100,-300}\n",
    "set3.update(set2)\n",
    "\n",
    "set3"
   ]
  },
  {
   "cell_type": "code",
   "execution_count": 41,
   "id": "c690c36b",
   "metadata": {},
   "outputs": [
    {
     "name": "stdout",
     "output_type": "stream",
     "text": [
      "{2, 3, 'Medical', 60, 45, 'Engineering'}\n"
     ]
    },
    {
     "data": {
      "text/plain": [
       "{-300, -100, 300, 400}"
      ]
     },
     "execution_count": 41,
     "metadata": {},
     "output_type": "execute_result"
    }
   ],
   "source": [
    "set1 = {2,3,60,45,'Engineering','Medical'}\n",
    "print(set1)\n",
    "\n",
    "set2 = {300,400}\n",
    "set3 = {-100,-300}\n",
    "set3.update(set2,set3)\n",
    "\n",
    "set3"
   ]
  },
  {
   "cell_type": "code",
   "execution_count": 42,
   "id": "217f735c",
   "metadata": {},
   "outputs": [
    {
     "name": "stdout",
     "output_type": "stream",
     "text": [
      "{2, 3, 'Medical', 60, 45, 'Engineering'}\n",
      "<class 'tuple'>\n"
     ]
    },
    {
     "data": {
      "text/plain": [
       "{-100, -300, 2, 3, 45, 60, 'Engineering', 'Medical'}"
      ]
     },
     "execution_count": 42,
     "metadata": {},
     "output_type": "execute_result"
    }
   ],
   "source": [
    "set1 = {2,3,60,45,'Engineering','Medical'}\n",
    "print(set1)\n",
    "\n",
    "set3 = (-100,-300)\n",
    "print(type(set3))\n",
    "set1.update(set3)\n",
    "\n",
    "set1"
   ]
  },
  {
   "cell_type": "code",
   "execution_count": 43,
   "id": "e335a56f",
   "metadata": {},
   "outputs": [
    {
     "name": "stdout",
     "output_type": "stream",
     "text": [
      "{2, 3, 'Medical', 60, 45, 'Engineering'}\n",
      "<class 'tuple'>\n"
     ]
    },
    {
     "ename": "TypeError",
     "evalue": "'int' object is not iterable",
     "output_type": "error",
     "traceback": [
      "\u001b[1;31m---------------------------------------------------------------------------\u001b[0m",
      "\u001b[1;31mTypeError\u001b[0m                                 Traceback (most recent call last)",
      "\u001b[1;32m~\\AppData\\Local\\Temp/ipykernel_38276/263025200.py\u001b[0m in \u001b[0;36m<module>\u001b[1;34m\u001b[0m\n\u001b[0;32m      4\u001b[0m \u001b[0mset3\u001b[0m \u001b[1;33m=\u001b[0m \u001b[1;33m(\u001b[0m\u001b[1;33m-\u001b[0m\u001b[1;36m100\u001b[0m\u001b[1;33m,\u001b[0m\u001b[1;33m-\u001b[0m\u001b[1;36m300\u001b[0m\u001b[1;33m)\u001b[0m\u001b[1;33m\u001b[0m\u001b[1;33m\u001b[0m\u001b[0m\n\u001b[0;32m      5\u001b[0m \u001b[0mprint\u001b[0m\u001b[1;33m(\u001b[0m\u001b[0mtype\u001b[0m\u001b[1;33m(\u001b[0m\u001b[0mset3\u001b[0m\u001b[1;33m)\u001b[0m\u001b[1;33m)\u001b[0m\u001b[1;33m\u001b[0m\u001b[1;33m\u001b[0m\u001b[0m\n\u001b[1;32m----> 6\u001b[1;33m \u001b[0mset1\u001b[0m\u001b[1;33m.\u001b[0m\u001b[0mupdate\u001b[0m\u001b[1;33m(\u001b[0m\u001b[1;36m100\u001b[0m\u001b[1;33m)\u001b[0m\u001b[1;33m\u001b[0m\u001b[1;33m\u001b[0m\u001b[0m\n\u001b[0m\u001b[0;32m      7\u001b[0m \u001b[1;33m\u001b[0m\u001b[0m\n\u001b[0;32m      8\u001b[0m \u001b[0mset1\u001b[0m\u001b[1;33m\u001b[0m\u001b[1;33m\u001b[0m\u001b[0m\n",
      "\u001b[1;31mTypeError\u001b[0m: 'int' object is not iterable"
     ]
    }
   ],
   "source": [
    "set1 = {2,3,60,45,'Engineering','Medical'}\n",
    "print(set1)\n",
    "\n",
    "set3 = (-100,-300)\n",
    "print(type(set3))\n",
    "set1.update(100)\n",
    "\n",
    "set1"
   ]
  },
  {
   "cell_type": "markdown",
   "id": "bdbeb719",
   "metadata": {},
   "source": [
    "## Union"
   ]
  },
  {
   "cell_type": "raw",
   "id": "563da977",
   "metadata": {},
   "source": [
    "union need separtae variable to store the change\n",
    "it does not add single item.\n",
    "if we need to add single item, then it has to be passed in set,list,tuple,etc.."
   ]
  },
  {
   "cell_type": "code",
   "execution_count": 44,
   "id": "e8ec5ec9",
   "metadata": {},
   "outputs": [
    {
     "name": "stdout",
     "output_type": "stream",
     "text": [
      "{2, 3, 'Medical', 60, 45, 'Engineering'}\n"
     ]
    },
    {
     "data": {
      "text/plain": [
       "{2, 3, 300, 400, 45, 60, 'Engineering', 'Medical'}"
      ]
     },
     "execution_count": 44,
     "metadata": {},
     "output_type": "execute_result"
    }
   ],
   "source": [
    "set1 = {2,3,60,45,'Engineering','Medical'}\n",
    "print(set1)\n",
    "\n",
    "set2 = {300,400,2}\n",
    "set3 = {-100,-300}\n",
    "\n",
    "set1 = set1.union(set2)\n",
    "\n",
    "set1"
   ]
  },
  {
   "cell_type": "code",
   "execution_count": 45,
   "id": "77045dfd",
   "metadata": {},
   "outputs": [
    {
     "name": "stdout",
     "output_type": "stream",
     "text": [
      "{2, 3, 'Medical', 60, 45, 'Engineering'}\n"
     ]
    },
    {
     "data": {
      "text/plain": [
       "{2, 3, 45, 60, 'Engineering', 'Medical', 'hi', 'there'}"
      ]
     },
     "execution_count": 45,
     "metadata": {},
     "output_type": "execute_result"
    }
   ],
   "source": [
    "set1 = {2,3,60,45,'Engineering','Medical'}\n",
    "print(set1)\n",
    "\n",
    "set2 = {300,400,2}\n",
    "set3 = ('hi','there')\n",
    "\n",
    "set1 = set1.union(set3)\n",
    "\n",
    "set1"
   ]
  },
  {
   "cell_type": "code",
   "execution_count": 46,
   "id": "59256b32",
   "metadata": {},
   "outputs": [
    {
     "name": "stdout",
     "output_type": "stream",
     "text": [
      "{2, 3, 'Medical', 60, 45, 'Engineering'}\n"
     ]
    },
    {
     "data": {
      "text/plain": [
       "{2, 3, 45, 60, 'Engineering', 'Medical', 'hi', 'there'}"
      ]
     },
     "execution_count": 46,
     "metadata": {},
     "output_type": "execute_result"
    }
   ],
   "source": [
    "set1 = {2,3,60,45,'Engineering','Medical'}\n",
    "print(set1)\n",
    "\n",
    "set2 = {300,400,2}\n",
    "set3 = ['hi','there']\n",
    "\n",
    "set1 = set1.union(set3)\n",
    "\n",
    "set1"
   ]
  },
  {
   "cell_type": "code",
   "execution_count": 47,
   "id": "db1dd210",
   "metadata": {},
   "outputs": [
    {
     "name": "stdout",
     "output_type": "stream",
     "text": [
      "[2, 3, 60, 45, 'Engineering', 'Medical']\n"
     ]
    },
    {
     "ename": "AttributeError",
     "evalue": "'list' object has no attribute 'union'",
     "output_type": "error",
     "traceback": [
      "\u001b[1;31m---------------------------------------------------------------------------\u001b[0m",
      "\u001b[1;31mAttributeError\u001b[0m                            Traceback (most recent call last)",
      "\u001b[1;32m~\\AppData\\Local\\Temp/ipykernel_38276/2239744200.py\u001b[0m in \u001b[0;36m<module>\u001b[1;34m\u001b[0m\n\u001b[0;32m      5\u001b[0m \u001b[0mset3\u001b[0m \u001b[1;33m=\u001b[0m \u001b[1;33m[\u001b[0m\u001b[1;34m'hi'\u001b[0m\u001b[1;33m,\u001b[0m\u001b[1;34m'there'\u001b[0m\u001b[1;33m]\u001b[0m\u001b[1;33m\u001b[0m\u001b[1;33m\u001b[0m\u001b[0m\n\u001b[0;32m      6\u001b[0m \u001b[1;33m\u001b[0m\u001b[0m\n\u001b[1;32m----> 7\u001b[1;33m \u001b[0mset1\u001b[0m \u001b[1;33m=\u001b[0m \u001b[0mset1\u001b[0m\u001b[1;33m.\u001b[0m\u001b[0munion\u001b[0m\u001b[1;33m(\u001b[0m\u001b[0mset2\u001b[0m\u001b[1;33m)\u001b[0m\u001b[1;33m\u001b[0m\u001b[1;33m\u001b[0m\u001b[0m\n\u001b[0m\u001b[0;32m      8\u001b[0m \u001b[1;33m\u001b[0m\u001b[0m\n\u001b[0;32m      9\u001b[0m \u001b[0mset1\u001b[0m\u001b[1;33m\u001b[0m\u001b[1;33m\u001b[0m\u001b[0m\n",
      "\u001b[1;31mAttributeError\u001b[0m: 'list' object has no attribute 'union'"
     ]
    }
   ],
   "source": [
    "set1 = [2,3,60,45,'Engineering','Medical']\n",
    "print(set1)\n",
    "\n",
    "set2 = {300,400,2}\n",
    "set3 = ['hi','there']\n",
    "\n",
    "set1 = set1.union(set2)\n",
    "\n",
    "set1"
   ]
  },
  {
   "cell_type": "code",
   "execution_count": 48,
   "id": "e2b78454",
   "metadata": {},
   "outputs": [
    {
     "name": "stdout",
     "output_type": "stream",
     "text": [
      "[2, 3, 60, 45, 'Engineering', 'Medical']\n"
     ]
    },
    {
     "ename": "AttributeError",
     "evalue": "'list' object has no attribute 'union'",
     "output_type": "error",
     "traceback": [
      "\u001b[1;31m---------------------------------------------------------------------------\u001b[0m",
      "\u001b[1;31mAttributeError\u001b[0m                            Traceback (most recent call last)",
      "\u001b[1;32m~\\AppData\\Local\\Temp/ipykernel_38276/2064822895.py\u001b[0m in \u001b[0;36m<module>\u001b[1;34m\u001b[0m\n\u001b[0;32m      5\u001b[0m \u001b[0mset3\u001b[0m \u001b[1;33m=\u001b[0m \u001b[1;33m[\u001b[0m\u001b[1;34m'hi'\u001b[0m\u001b[1;33m,\u001b[0m\u001b[1;34m'there'\u001b[0m\u001b[1;33m]\u001b[0m\u001b[1;33m\u001b[0m\u001b[1;33m\u001b[0m\u001b[0m\n\u001b[0;32m      6\u001b[0m \u001b[1;33m\u001b[0m\u001b[0m\n\u001b[1;32m----> 7\u001b[1;33m \u001b[0mset1\u001b[0m \u001b[1;33m=\u001b[0m \u001b[0mset1\u001b[0m\u001b[1;33m.\u001b[0m\u001b[0munion\u001b[0m\u001b[1;33m(\u001b[0m\u001b[1;36m100\u001b[0m\u001b[1;33m)\u001b[0m\u001b[1;33m\u001b[0m\u001b[1;33m\u001b[0m\u001b[0m\n\u001b[0m\u001b[0;32m      8\u001b[0m \u001b[1;33m\u001b[0m\u001b[0m\n\u001b[0;32m      9\u001b[0m \u001b[0mset1\u001b[0m\u001b[1;33m\u001b[0m\u001b[1;33m\u001b[0m\u001b[0m\n",
      "\u001b[1;31mAttributeError\u001b[0m: 'list' object has no attribute 'union'"
     ]
    }
   ],
   "source": [
    "set1 = [2,3,60,45,'Engineering','Medical']\n",
    "print(set1)\n",
    "\n",
    "set2 = {300,400,2}\n",
    "set3 = ['hi','there']\n",
    "\n",
    "set1 = set1.union(100)\n",
    "\n",
    "set1"
   ]
  },
  {
   "cell_type": "markdown",
   "id": "1d1c432f",
   "metadata": {},
   "source": [
    "## Intersection"
   ]
  },
  {
   "cell_type": "raw",
   "id": "ad771579",
   "metadata": {},
   "source": [
    "basically gives away the common items from the sets\n",
    "needs a separate variable to store the change"
   ]
  },
  {
   "cell_type": "code",
   "execution_count": 49,
   "id": "dfa9560e",
   "metadata": {},
   "outputs": [
    {
     "data": {
      "text/plain": [
       "{'Mumbai', 'Pune'}"
      ]
     },
     "execution_count": 49,
     "metadata": {},
     "output_type": "execute_result"
    }
   ],
   "source": [
    "cities = {'Nagpur','Pune','Mumbai'}\n",
    "cities2 = {'Kanpur','Jaipur','Pune','Mumbai'}\n",
    "\n",
    "common_cities=cities.intersection(cities2)\n",
    "\n",
    "common_cities\n"
   ]
  },
  {
   "cell_type": "code",
   "execution_count": 50,
   "id": "661b6e15",
   "metadata": {},
   "outputs": [
    {
     "data": {
      "text/plain": [
       "{'Pune'}"
      ]
     },
     "execution_count": 50,
     "metadata": {},
     "output_type": "execute_result"
    }
   ],
   "source": [
    "cities1 = {'Nagpur','Pune','Mumbai'}\n",
    "cities2 = {'Kanpur','Jaipur','Pune','Mumbai'}\n",
    "cities3 = {'Jodhpur','Mirzapur','Udaipur','Pune'}\n",
    "\n",
    "common_cities=cities1.intersection(cities2,cities3)\n",
    "\n",
    "common_cities\n"
   ]
  },
  {
   "cell_type": "code",
   "execution_count": 51,
   "id": "fed099ef",
   "metadata": {},
   "outputs": [
    {
     "data": {
      "text/plain": [
       "{'Pune'}"
      ]
     },
     "execution_count": 51,
     "metadata": {},
     "output_type": "execute_result"
    }
   ],
   "source": [
    "cities1 = {'Nagpur','Pune','Mumbai'}\n",
    "cities2 = {'Kanpur','Jaipur','Pune','Mumbai'}\n",
    "cities3 = ('Jodhpur','Mirzapur','Udaipur','Pune')\n",
    "\n",
    "common_cities=cities2.intersection(cities1,cities3)\n",
    "\n",
    "common_cities\n"
   ]
  },
  {
   "cell_type": "markdown",
   "id": "6e1a3dac",
   "metadata": {},
   "source": [
    "## Intersection_update"
   ]
  },
  {
   "cell_type": "raw",
   "id": "bf0fed66",
   "metadata": {},
   "source": [
    "basically gives away the common items from the sets\n",
    "it does not needs a separate variable to store the change"
   ]
  },
  {
   "cell_type": "code",
   "execution_count": 52,
   "id": "c49ee703",
   "metadata": {},
   "outputs": [
    {
     "data": {
      "text/plain": [
       "{'Mumbai', 'Pune'}"
      ]
     },
     "execution_count": 52,
     "metadata": {},
     "output_type": "execute_result"
    }
   ],
   "source": [
    "cities = {'Nagpur','Pune','Mumbai'}\n",
    "cities2 = {'Kanpur','Jaipur','Pune','Mumbai'}\n",
    "\n",
    "cities.intersection_update(cities2)\n",
    "\n",
    "cities"
   ]
  },
  {
   "cell_type": "code",
   "execution_count": 53,
   "id": "6f346350",
   "metadata": {},
   "outputs": [
    {
     "data": {
      "text/plain": [
       "{'Pune'}"
      ]
     },
     "execution_count": 53,
     "metadata": {},
     "output_type": "execute_result"
    }
   ],
   "source": [
    "cities1 = {'Nagpur','Pune','Mumbai'}\n",
    "cities2 = {'Kanpur','Jaipur','Pune','Mumbai'}\n",
    "cities3 = {'Jodhpur','Mirzapur','Udaipur','Pune'}\n",
    "\n",
    "cities1.intersection_update(cities2,cities3)\n",
    "\n",
    "cities1\n",
    "\n"
   ]
  },
  {
   "cell_type": "markdown",
   "id": "21665757",
   "metadata": {},
   "source": [
    "# Difference"
   ]
  },
  {
   "cell_type": "raw",
   "id": "91bfdb1e",
   "metadata": {},
   "source": [
    "cities1 = {'Nagpur','Pune','Mumbai'}\n",
    "cities2 = {'Kanpur','Jaipur','Pune','Mumbai'}\n",
    "cities3 = {'Jodhpur','Mirzapur','Udaipur','Pune'}\n",
    "\n",
    "cities1.intersection_update(cities2,cities3)\n",
    "\n",
    "cities1\n",
    "\n"
   ]
  },
  {
   "cell_type": "code",
   "execution_count": 54,
   "id": "c64f4c1d",
   "metadata": {},
   "outputs": [
    {
     "data": {
      "text/plain": [
       "{'Nagpur'}"
      ]
     },
     "execution_count": 54,
     "metadata": {},
     "output_type": "execute_result"
    }
   ],
   "source": [
    "cities1 = {'Nagpur','Pune','Mumbai'}\n",
    "cities2 = {'Kanpur','Jaipur','Pune','Mumbai'}\n",
    "\n",
    "\n",
    "cities1=cities1.difference(cities2)\n",
    "\n",
    "cities1"
   ]
  },
  {
   "cell_type": "code",
   "execution_count": 55,
   "id": "caa681d4",
   "metadata": {},
   "outputs": [
    {
     "data": {
      "text/plain": [
       "{'Nagpur'}"
      ]
     },
     "execution_count": 55,
     "metadata": {},
     "output_type": "execute_result"
    }
   ],
   "source": [
    "cities1 = {'Nagpur','Pune','Mumbai'}\n",
    "cities2 = {'Kanpur','Jaipur','Pune','Mumbai'}\n",
    "cities3 = {'Jodhpur','Mirzapur','Udaipur'}\n",
    "\n",
    "cities1=cities1.difference(cities2,cities3)\n",
    "\n",
    "cities1"
   ]
  },
  {
   "cell_type": "code",
   "execution_count": 56,
   "id": "bc38e803",
   "metadata": {},
   "outputs": [
    {
     "data": {
      "text/plain": [
       "{'Nagpur'}"
      ]
     },
     "execution_count": 56,
     "metadata": {},
     "output_type": "execute_result"
    }
   ],
   "source": [
    "cities1 = {'Nagpur','Pune','Mumbai'}\n",
    "cities2 = {'Kanpur','Jaipur','Pune'}\n",
    "cities3 = {'Jodhpur','Mirzapur','Udaipur','Mumbai'}\n",
    "\n",
    "uncommon_cities=cities1.difference(cities2,cities3)\n",
    "\n",
    "uncommon_cities"
   ]
  },
  {
   "cell_type": "markdown",
   "id": "19cd6539",
   "metadata": {},
   "source": [
    "## Difference_update"
   ]
  },
  {
   "cell_type": "code",
   "execution_count": 57,
   "id": "98b33311",
   "metadata": {},
   "outputs": [
    {
     "data": {
      "text/plain": [
       "{'Nagpur'}"
      ]
     },
     "execution_count": 57,
     "metadata": {},
     "output_type": "execute_result"
    }
   ],
   "source": [
    "cities1 = {'Nagpur','Pune','Mumbai'}\n",
    "cities2 = {'Kanpur','Jaipur','Pune','Mumbai'}\n",
    "\n",
    "\n",
    "cities1.difference_update(cities2)\n",
    "\n",
    "cities1"
   ]
  },
  {
   "cell_type": "code",
   "execution_count": 58,
   "id": "458f65d2",
   "metadata": {},
   "outputs": [
    {
     "data": {
      "text/plain": [
       "{'Nagpur'}"
      ]
     },
     "execution_count": 58,
     "metadata": {},
     "output_type": "execute_result"
    }
   ],
   "source": [
    "cities1 = {'Nagpur','Pune','Mumbai'}\n",
    "cities2 = {'Kanpur','Jaipur','Pune','Mumbai'}\n",
    "cities3 = {'Jodhpur','Mirzapur','Udaipur'}\n",
    "\n",
    "cities1.difference_update(cities2,cities3)\n",
    "\n",
    "cities1"
   ]
  },
  {
   "cell_type": "code",
   "execution_count": 59,
   "id": "4064f1a0",
   "metadata": {},
   "outputs": [
    {
     "data": {
      "text/plain": [
       "{'Nagpur'}"
      ]
     },
     "execution_count": 59,
     "metadata": {},
     "output_type": "execute_result"
    }
   ],
   "source": [
    "cities1 = {'Nagpur','Pune','Mumbai'}\n",
    "cities2 = {'Kanpur','Jaipur','Pune'}\n",
    "cities3 = {'Jodhpur','Mirzapur','Udaipur','Mumbai'}\n",
    "\n",
    "cities1.difference_update(cities2,cities3)\n",
    "\n",
    "cities1"
   ]
  },
  {
   "cell_type": "markdown",
   "id": "f5db27c5",
   "metadata": {},
   "source": [
    "## Symmetric difference"
   ]
  },
  {
   "cell_type": "raw",
   "id": "cfdf7d91",
   "metadata": {},
   "source": [
    "# All the uncommon items from both the sets are shows.\n",
    "# Separate variable is required."
   ]
  },
  {
   "cell_type": "code",
   "execution_count": 60,
   "id": "d14295fe",
   "metadata": {},
   "outputs": [
    {
     "data": {
      "text/plain": [
       "{2, 3, 4, 6, 7, 8, 9, 10}"
      ]
     },
     "execution_count": 60,
     "metadata": {},
     "output_type": "execute_result"
    }
   ],
   "source": [
    "set1 = {4,7,9,10}\n",
    "\n",
    "set2 = {3,6,8,2}\n",
    "\n",
    "set3 = set1.symmetric_difference(set2)\n",
    "\n",
    "set3"
   ]
  },
  {
   "cell_type": "code",
   "execution_count": 61,
   "id": "cc667fb6",
   "metadata": {},
   "outputs": [
    {
     "data": {
      "text/plain": [
       "{4, 6, 7, 8, 9, 10}"
      ]
     },
     "execution_count": 61,
     "metadata": {},
     "output_type": "execute_result"
    }
   ],
   "source": [
    "set1 = {4,7,9,10,3,2}\n",
    "\n",
    "set2 = {3,6,8,2}\n",
    "\n",
    "set3 = set1.symmetric_difference(set2)\n",
    "\n",
    "set3"
   ]
  },
  {
   "cell_type": "code",
   "execution_count": 62,
   "id": "20ca635e",
   "metadata": {},
   "outputs": [
    {
     "data": {
      "text/plain": [
       "{4, 6, 7, 8, 9, 10}"
      ]
     },
     "execution_count": 62,
     "metadata": {},
     "output_type": "execute_result"
    }
   ],
   "source": [
    "set1 = {4,7,9,10,3,2}\n",
    "\n",
    "set2 = (3,6,8,2)\n",
    "\n",
    "set3 = set1.symmetric_difference(set2)\n",
    "\n",
    "set3"
   ]
  },
  {
   "cell_type": "markdown",
   "id": "4d06b5e1",
   "metadata": {},
   "source": [
    "## Symmetric Difference update"
   ]
  },
  {
   "cell_type": "raw",
   "id": "9f14d923",
   "metadata": {},
   "source": [
    "# All the uncommon items from both the sets are shows.\n",
    "# Changes are reflected in original set."
   ]
  },
  {
   "cell_type": "code",
   "execution_count": 63,
   "id": "e83ad98c",
   "metadata": {},
   "outputs": [
    {
     "data": {
      "text/plain": [
       "{4, 6, 7, 8, 9, 10}"
      ]
     },
     "execution_count": 63,
     "metadata": {},
     "output_type": "execute_result"
    }
   ],
   "source": [
    "set1 = {4,7,9,10,3,2}\n",
    "\n",
    "set2 = {3,6,8,2}\n",
    "\n",
    "set1.symmetric_difference_update(set2)\n",
    "\n",
    "set1"
   ]
  },
  {
   "cell_type": "code",
   "execution_count": 64,
   "id": "97f09fc0",
   "metadata": {},
   "outputs": [
    {
     "data": {
      "text/plain": [
       "{4, 6, 7, 8, 9, 10}"
      ]
     },
     "execution_count": 64,
     "metadata": {},
     "output_type": "execute_result"
    }
   ],
   "source": [
    "set1 = {4,7,9,10,3,2}\n",
    "\n",
    "set2 = [3,6,8,2]\n",
    "\n",
    "set1.symmetric_difference_update(set2)\n",
    "\n",
    "set1"
   ]
  },
  {
   "cell_type": "markdown",
   "id": "88c5fe49",
   "metadata": {},
   "source": [
    "# isdisjoint"
   ]
  },
  {
   "cell_type": "raw",
   "id": "5b95736e",
   "metadata": {},
   "source": [
    "# When there are no items common between 2 sets, then it returns True else False."
   ]
  },
  {
   "cell_type": "code",
   "execution_count": 65,
   "id": "8d83210c",
   "metadata": {},
   "outputs": [
    {
     "data": {
      "text/plain": [
       "False"
      ]
     },
     "execution_count": 65,
     "metadata": {},
     "output_type": "execute_result"
    }
   ],
   "source": [
    "set1 = {4,7,9,10,3,2}\n",
    "\n",
    "set2 = {3,6,8,2}\n",
    "\n",
    "set1.isdisjoint(set2)"
   ]
  },
  {
   "cell_type": "code",
   "execution_count": 66,
   "id": "95fafe02",
   "metadata": {},
   "outputs": [
    {
     "data": {
      "text/plain": [
       "True"
      ]
     },
     "execution_count": 66,
     "metadata": {},
     "output_type": "execute_result"
    }
   ],
   "source": [
    "set1 = {4,7,9,10}\n",
    "\n",
    "set2 = {3,6,8,2}\n",
    "\n",
    "set1.isdisjoint(set2)"
   ]
  },
  {
   "cell_type": "code",
   "execution_count": 67,
   "id": "df245d7f",
   "metadata": {},
   "outputs": [
    {
     "data": {
      "text/plain": [
       "True"
      ]
     },
     "execution_count": 67,
     "metadata": {},
     "output_type": "execute_result"
    }
   ],
   "source": [
    "set1 = {4,7,9,10}\n",
    "\n",
    "set2 = {3,6,8,2}\n",
    "\n",
    "set2.isdisjoint(set1)"
   ]
  },
  {
   "cell_type": "code",
   "execution_count": 68,
   "id": "74d75b44",
   "metadata": {},
   "outputs": [
    {
     "data": {
      "text/plain": [
       "True"
      ]
     },
     "execution_count": 68,
     "metadata": {},
     "output_type": "execute_result"
    }
   ],
   "source": [
    "set1 = {4,7,9,10}\n",
    "\n",
    "set2 = [3,6,8,2]\n",
    "\n",
    "set3 = {1,0}\n",
    "\n",
    "set(set2).isdisjoint(set1)"
   ]
  },
  {
   "cell_type": "code",
   "execution_count": 69,
   "id": "d3033af1",
   "metadata": {},
   "outputs": [
    {
     "ename": "TypeError",
     "evalue": "set.isdisjoint() takes exactly one argument (2 given)",
     "output_type": "error",
     "traceback": [
      "\u001b[1;31m---------------------------------------------------------------------------\u001b[0m",
      "\u001b[1;31mTypeError\u001b[0m                                 Traceback (most recent call last)",
      "\u001b[1;32m~\\AppData\\Local\\Temp/ipykernel_38276/954852985.py\u001b[0m in \u001b[0;36m<module>\u001b[1;34m\u001b[0m\n\u001b[0;32m      5\u001b[0m \u001b[0mset3\u001b[0m \u001b[1;33m=\u001b[0m \u001b[1;33m{\u001b[0m\u001b[1;36m1\u001b[0m\u001b[1;33m,\u001b[0m\u001b[1;36m0\u001b[0m\u001b[1;33m}\u001b[0m\u001b[1;33m\u001b[0m\u001b[1;33m\u001b[0m\u001b[0m\n\u001b[0;32m      6\u001b[0m \u001b[1;33m\u001b[0m\u001b[0m\n\u001b[1;32m----> 7\u001b[1;33m \u001b[0mset\u001b[0m\u001b[1;33m(\u001b[0m\u001b[0mset2\u001b[0m\u001b[1;33m)\u001b[0m\u001b[1;33m.\u001b[0m\u001b[0misdisjoint\u001b[0m\u001b[1;33m(\u001b[0m\u001b[0mset1\u001b[0m\u001b[1;33m,\u001b[0m\u001b[0mset3\u001b[0m\u001b[1;33m)\u001b[0m\u001b[1;33m\u001b[0m\u001b[1;33m\u001b[0m\u001b[0m\n\u001b[0m",
      "\u001b[1;31mTypeError\u001b[0m: set.isdisjoint() takes exactly one argument (2 given)"
     ]
    }
   ],
   "source": [
    "set1 = {4,7,9,10}\n",
    "\n",
    "set2 = [3,6,8,2]\n",
    "\n",
    "set3 = {1,0}\n",
    "\n",
    "set(set2).isdisjoint(set1,set3)"
   ]
  },
  {
   "cell_type": "code",
   "execution_count": 70,
   "id": "0abb360b",
   "metadata": {},
   "outputs": [
    {
     "data": {
      "text/plain": [
       "True"
      ]
     },
     "execution_count": 70,
     "metadata": {},
     "output_type": "execute_result"
    }
   ],
   "source": [
    "set1 = {4,7,9,10}\n",
    "\n",
    "set2 = [3,6,8,2]\n",
    "\n",
    "set3 = {1,0}\n",
    "\n",
    "set1.isdisjoint(set2)"
   ]
  },
  {
   "cell_type": "markdown",
   "id": "0e1232a3",
   "metadata": {},
   "source": [
    "# issubset "
   ]
  },
  {
   "cell_type": "raw",
   "id": "214ac440",
   "metadata": {},
   "source": [
    "# When all the items in a set are also present in another set (passed in issubset function) then it returns true."
   ]
  },
  {
   "cell_type": "code",
   "execution_count": 71,
   "id": "840ae05f",
   "metadata": {},
   "outputs": [
    {
     "data": {
      "text/plain": [
       "False"
      ]
     },
     "execution_count": 71,
     "metadata": {},
     "output_type": "execute_result"
    }
   ],
   "source": [
    "set1 = {4,7,9,10}\n",
    "\n",
    "set2 = {3,6,8,2}\n",
    "\n",
    "set2.issubset(set1)"
   ]
  },
  {
   "cell_type": "code",
   "execution_count": 72,
   "id": "f17e309b",
   "metadata": {},
   "outputs": [
    {
     "data": {
      "text/plain": [
       "False"
      ]
     },
     "execution_count": 72,
     "metadata": {},
     "output_type": "execute_result"
    }
   ],
   "source": [
    "set1 = {4,7,9,10,3,2}\n",
    "\n",
    "set2 = {3,6,8,2}\n",
    "\n",
    "set2.issubset(set1)"
   ]
  },
  {
   "cell_type": "code",
   "execution_count": 73,
   "id": "c56dd1a5",
   "metadata": {},
   "outputs": [
    {
     "data": {
      "text/plain": [
       "True"
      ]
     },
     "execution_count": 73,
     "metadata": {},
     "output_type": "execute_result"
    }
   ],
   "source": [
    "set1 = {4,7,9,10,3,2,6,8}\n",
    "\n",
    "set2 = {3,6,8,2}\n",
    "\n",
    "set2.issubset(set1)"
   ]
  },
  {
   "cell_type": "markdown",
   "id": "0f6f3fa0",
   "metadata": {},
   "source": [
    "# issuperset"
   ]
  },
  {
   "cell_type": "code",
   "execution_count": 74,
   "id": "3bd75957",
   "metadata": {},
   "outputs": [
    {
     "data": {
      "text/plain": [
       "False"
      ]
     },
     "execution_count": 74,
     "metadata": {},
     "output_type": "execute_result"
    }
   ],
   "source": [
    "set1 = {4,7,9,10}\n",
    "\n",
    "set2 = {3,6,8,2}\n",
    "\n",
    "set2.issuperset(set1)"
   ]
  },
  {
   "cell_type": "code",
   "execution_count": 75,
   "id": "17cdf301",
   "metadata": {},
   "outputs": [
    {
     "data": {
      "text/plain": [
       "True"
      ]
     },
     "execution_count": 75,
     "metadata": {},
     "output_type": "execute_result"
    }
   ],
   "source": [
    "set1 = {4,7,9,10}\n",
    "\n",
    "set2 = {3,6,8,2,4,7,9,10}\n",
    "\n",
    "set2.issuperset(set1)"
   ]
  },
  {
   "cell_type": "code",
   "execution_count": 76,
   "id": "c1d895a6",
   "metadata": {},
   "outputs": [
    {
     "data": {
      "text/plain": [
       "True"
      ]
     },
     "execution_count": 76,
     "metadata": {},
     "output_type": "execute_result"
    }
   ],
   "source": [
    "set1 = {4,7,9,10}\n",
    "\n",
    "set2 = {4,7,9,10}\n",
    "\n",
    "set2.issuperset(set1)"
   ]
  },
  {
   "cell_type": "code",
   "execution_count": 77,
   "id": "cca6f169",
   "metadata": {},
   "outputs": [
    {
     "data": {
      "text/plain": [
       "1"
      ]
     },
     "execution_count": 77,
     "metadata": {},
     "output_type": "execute_result"
    }
   ],
   "source": [
    "the_set = {2,5,7,1}\n",
    "min(the_set)"
   ]
  },
  {
   "cell_type": "code",
   "execution_count": 78,
   "id": "3fbe2b05",
   "metadata": {},
   "outputs": [
    {
     "name": "stdout",
     "output_type": "stream",
     "text": [
      "{1, 2, 5, 7}\n"
     ]
    },
    {
     "data": {
      "text/plain": [
       "7"
      ]
     },
     "execution_count": 78,
     "metadata": {},
     "output_type": "execute_result"
    }
   ],
   "source": [
    "the_set = {2,5,7,1}\n",
    "print(the_set)\n",
    "max(the_set)"
   ]
  },
  {
   "cell_type": "raw",
   "id": "e5da9842",
   "metadata": {},
   "source": [
    "Min,\n",
    "Max,\n",
    "Len,\n",
    "Sum,\n",
    "mean,\n",
    "median,\n",
    "mode,\n",
    "All,\n",
    "Any"
   ]
  },
  {
   "cell_type": "code",
   "execution_count": 79,
   "id": "9d5bf83f",
   "metadata": {},
   "outputs": [],
   "source": [
    "from statistics import mean,median,mode"
   ]
  },
  {
   "cell_type": "code",
   "execution_count": 80,
   "id": "722882a2",
   "metadata": {},
   "outputs": [
    {
     "data": {
      "text/plain": [
       "3.75"
      ]
     },
     "execution_count": 80,
     "metadata": {},
     "output_type": "execute_result"
    }
   ],
   "source": [
    "mean(the_set)"
   ]
  },
  {
   "cell_type": "code",
   "execution_count": 81,
   "id": "eb7daebb",
   "metadata": {},
   "outputs": [
    {
     "data": {
      "text/plain": [
       "3.5"
      ]
     },
     "execution_count": 81,
     "metadata": {},
     "output_type": "execute_result"
    }
   ],
   "source": [
    "median(the_set)"
   ]
  },
  {
   "cell_type": "code",
   "execution_count": 82,
   "id": "584fe8fa",
   "metadata": {},
   "outputs": [
    {
     "data": {
      "text/plain": [
       "1"
      ]
     },
     "execution_count": 82,
     "metadata": {},
     "output_type": "execute_result"
    }
   ],
   "source": [
    "mode(the_set)"
   ]
  },
  {
   "cell_type": "markdown",
   "id": "f440c340",
   "metadata": {},
   "source": [
    "# Any"
   ]
  },
  {
   "cell_type": "raw",
   "id": "8b504517",
   "metadata": {},
   "source": [
    "it returns true if even a single item is not 0 or not false"
   ]
  },
  {
   "cell_type": "code",
   "execution_count": 83,
   "id": "179051b8",
   "metadata": {},
   "outputs": [
    {
     "data": {
      "text/plain": [
       "True"
      ]
     },
     "execution_count": 83,
     "metadata": {},
     "output_type": "execute_result"
    }
   ],
   "source": [
    "the_set = {2,5,7,1,False}\n",
    "any(the_set)"
   ]
  },
  {
   "cell_type": "code",
   "execution_count": 84,
   "id": "ad644b32",
   "metadata": {},
   "outputs": [
    {
     "data": {
      "text/plain": [
       "True"
      ]
     },
     "execution_count": 84,
     "metadata": {},
     "output_type": "execute_result"
    }
   ],
   "source": [
    "the_set = {7,False,0,0,0,False}\n",
    "any(the_set)"
   ]
  },
  {
   "cell_type": "code",
   "execution_count": 85,
   "id": "b149b1ed",
   "metadata": {},
   "outputs": [
    {
     "data": {
      "text/plain": [
       "False"
      ]
     },
     "execution_count": 85,
     "metadata": {},
     "output_type": "execute_result"
    }
   ],
   "source": [
    "the_set = {False,0,0,0,False}\n",
    "any(the_set)"
   ]
  },
  {
   "cell_type": "markdown",
   "id": "0f0cd715",
   "metadata": {},
   "source": [
    "# All"
   ]
  },
  {
   "cell_type": "raw",
   "id": "b252655f",
   "metadata": {},
   "source": [
    "it returns true if all item are either not 0 or not false"
   ]
  },
  {
   "cell_type": "code",
   "execution_count": 86,
   "id": "a0750d2b",
   "metadata": {},
   "outputs": [
    {
     "data": {
      "text/plain": [
       "False"
      ]
     },
     "execution_count": 86,
     "metadata": {},
     "output_type": "execute_result"
    }
   ],
   "source": [
    "the_set = {2,5,7,1,False}\n",
    "all(the_set)"
   ]
  },
  {
   "cell_type": "code",
   "execution_count": 87,
   "id": "4066765d",
   "metadata": {},
   "outputs": [
    {
     "data": {
      "text/plain": [
       "True"
      ]
     },
     "execution_count": 87,
     "metadata": {},
     "output_type": "execute_result"
    }
   ],
   "source": [
    "the_set = {2,5,7,1,True}\n",
    "all(the_set)"
   ]
  },
  {
   "cell_type": "code",
   "execution_count": 88,
   "id": "7642b0e5",
   "metadata": {},
   "outputs": [
    {
     "data": {
      "text/plain": [
       "False"
      ]
     },
     "execution_count": 88,
     "metadata": {},
     "output_type": "execute_result"
    }
   ],
   "source": [
    "list1 = ['HI','HELLO','Namaste']\n",
    "all([i.isupper() for i in list1])"
   ]
  },
  {
   "cell_type": "code",
   "execution_count": 89,
   "id": "0b63ecde",
   "metadata": {},
   "outputs": [
    {
     "data": {
      "text/plain": [
       "True"
      ]
     },
     "execution_count": 89,
     "metadata": {},
     "output_type": "execute_result"
    }
   ],
   "source": [
    "any([i.isupper() for i in list1])"
   ]
  },
  {
   "cell_type": "raw",
   "id": "62467c3a",
   "metadata": {},
   "source": [
    "set\n",
    "    mutable\n",
    "    unordered\n",
    "    duplicates not allowed\n",
    "   \n",
    "frozen set\n",
    "    immutable\n",
    "    unordered\n",
    "    duplicates not allowed"
   ]
  },
  {
   "cell_type": "code",
   "execution_count": 90,
   "id": "1281fa96",
   "metadata": {},
   "outputs": [
    {
     "data": {
      "text/plain": [
       "(frozenset({2, 3, 4, 5, 6, 7}), frozenset)"
      ]
     },
     "execution_count": 90,
     "metadata": {},
     "output_type": "execute_result"
    }
   ],
   "source": [
    "set1= {2,3,4,5,6,7}\n",
    "\n",
    "frozen = frozenset(set1)\n",
    "\n",
    "frozen,type(frozen)"
   ]
  },
  {
   "cell_type": "code",
   "execution_count": 91,
   "id": "c60b8028",
   "metadata": {},
   "outputs": [
    {
     "data": {
      "text/plain": [
       "{2, 3, 4, 5, 6, 7, 10, 11, 12}"
      ]
     },
     "execution_count": 91,
     "metadata": {},
     "output_type": "execute_result"
    }
   ],
   "source": [
    "set1= {2,3,4,5,6,7}\n",
    "\n",
    "fr2 = frozenset({10,11,12})\n",
    "\n",
    "set1.update(fr2)\n",
    "set1"
   ]
  },
  {
   "cell_type": "code",
   "execution_count": 92,
   "id": "d58e473d",
   "metadata": {},
   "outputs": [
    {
     "ename": "AttributeError",
     "evalue": "'frozenset' object has no attribute 'update'",
     "output_type": "error",
     "traceback": [
      "\u001b[1;31m---------------------------------------------------------------------------\u001b[0m",
      "\u001b[1;31mAttributeError\u001b[0m                            Traceback (most recent call last)",
      "\u001b[1;32m~\\AppData\\Local\\Temp/ipykernel_38276/2381006596.py\u001b[0m in \u001b[0;36m<module>\u001b[1;34m\u001b[0m\n\u001b[0;32m      3\u001b[0m \u001b[0mfr2\u001b[0m \u001b[1;33m=\u001b[0m \u001b[0mfrozenset\u001b[0m\u001b[1;33m(\u001b[0m\u001b[1;33m{\u001b[0m\u001b[1;36m10\u001b[0m\u001b[1;33m,\u001b[0m\u001b[1;36m11\u001b[0m\u001b[1;33m,\u001b[0m\u001b[1;36m12\u001b[0m\u001b[1;33m}\u001b[0m\u001b[1;33m)\u001b[0m\u001b[1;33m\u001b[0m\u001b[1;33m\u001b[0m\u001b[0m\n\u001b[0;32m      4\u001b[0m \u001b[1;33m\u001b[0m\u001b[0m\n\u001b[1;32m----> 5\u001b[1;33m \u001b[0mfr2\u001b[0m\u001b[1;33m.\u001b[0m\u001b[0mupdate\u001b[0m\u001b[1;33m(\u001b[0m\u001b[0mset1\u001b[0m\u001b[1;33m)\u001b[0m\u001b[1;33m\u001b[0m\u001b[1;33m\u001b[0m\u001b[0m\n\u001b[0m\u001b[0;32m      6\u001b[0m \u001b[0mfr2\u001b[0m\u001b[1;33m\u001b[0m\u001b[1;33m\u001b[0m\u001b[0m\n",
      "\u001b[1;31mAttributeError\u001b[0m: 'frozenset' object has no attribute 'update'"
     ]
    }
   ],
   "source": [
    "set1= {2,3,4,5,6,7}\n",
    "\n",
    "fr2 = frozenset({10,11,12})\n",
    "\n",
    "fr2.update(set1)\n",
    "fr2"
   ]
  },
  {
   "cell_type": "code",
   "execution_count": 93,
   "id": "13cbfdf0",
   "metadata": {},
   "outputs": [
    {
     "ename": "AttributeError",
     "evalue": "'frozenset' object has no attribute 'intersection_update'",
     "output_type": "error",
     "traceback": [
      "\u001b[1;31m---------------------------------------------------------------------------\u001b[0m",
      "\u001b[1;31mAttributeError\u001b[0m                            Traceback (most recent call last)",
      "\u001b[1;32m~\\AppData\\Local\\Temp/ipykernel_38276/4043374054.py\u001b[0m in \u001b[0;36m<module>\u001b[1;34m\u001b[0m\n\u001b[0;32m      3\u001b[0m \u001b[0mfr2\u001b[0m \u001b[1;33m=\u001b[0m \u001b[0mfrozenset\u001b[0m\u001b[1;33m(\u001b[0m\u001b[1;33m{\u001b[0m\u001b[1;36m2\u001b[0m\u001b[1;33m,\u001b[0m\u001b[1;36m3\u001b[0m\u001b[1;33m,\u001b[0m\u001b[1;36m10\u001b[0m\u001b[1;33m,\u001b[0m\u001b[1;36m11\u001b[0m\u001b[1;33m,\u001b[0m\u001b[1;36m12\u001b[0m\u001b[1;33m}\u001b[0m\u001b[1;33m)\u001b[0m\u001b[1;33m\u001b[0m\u001b[1;33m\u001b[0m\u001b[0m\n\u001b[0;32m      4\u001b[0m \u001b[1;33m\u001b[0m\u001b[0m\n\u001b[1;32m----> 5\u001b[1;33m \u001b[0mfr2\u001b[0m\u001b[1;33m.\u001b[0m\u001b[0mintersection_update\u001b[0m\u001b[1;33m(\u001b[0m\u001b[0mset1\u001b[0m\u001b[1;33m)\u001b[0m\u001b[1;33m\u001b[0m\u001b[1;33m\u001b[0m\u001b[0m\n\u001b[0m\u001b[0;32m      6\u001b[0m \u001b[0mfr2\u001b[0m\u001b[1;33m\u001b[0m\u001b[1;33m\u001b[0m\u001b[0m\n",
      "\u001b[1;31mAttributeError\u001b[0m: 'frozenset' object has no attribute 'intersection_update'"
     ]
    }
   ],
   "source": [
    "set1= {2,3,4,5,6,7}\n",
    "\n",
    "fr2 = frozenset({2,3,10,11,12})\n",
    "\n",
    "fr2.intersection_update(set1)\n",
    "fr2"
   ]
  },
  {
   "cell_type": "code",
   "execution_count": 94,
   "id": "3fef6412",
   "metadata": {},
   "outputs": [
    {
     "ename": "AttributeError",
     "evalue": "'frozenset' object has no attribute 'difference_update'",
     "output_type": "error",
     "traceback": [
      "\u001b[1;31m---------------------------------------------------------------------------\u001b[0m",
      "\u001b[1;31mAttributeError\u001b[0m                            Traceback (most recent call last)",
      "\u001b[1;32m~\\AppData\\Local\\Temp/ipykernel_38276/21207052.py\u001b[0m in \u001b[0;36m<module>\u001b[1;34m\u001b[0m\n\u001b[0;32m      3\u001b[0m \u001b[0mfr2\u001b[0m \u001b[1;33m=\u001b[0m \u001b[0mfrozenset\u001b[0m\u001b[1;33m(\u001b[0m\u001b[1;33m{\u001b[0m\u001b[1;36m2\u001b[0m\u001b[1;33m,\u001b[0m\u001b[1;36m3\u001b[0m\u001b[1;33m,\u001b[0m\u001b[1;36m10\u001b[0m\u001b[1;33m,\u001b[0m\u001b[1;36m11\u001b[0m\u001b[1;33m,\u001b[0m\u001b[1;36m12\u001b[0m\u001b[1;33m}\u001b[0m\u001b[1;33m)\u001b[0m\u001b[1;33m\u001b[0m\u001b[1;33m\u001b[0m\u001b[0m\n\u001b[0;32m      4\u001b[0m \u001b[1;33m\u001b[0m\u001b[0m\n\u001b[1;32m----> 5\u001b[1;33m \u001b[0mfr2\u001b[0m\u001b[1;33m.\u001b[0m\u001b[0mdifference_update\u001b[0m\u001b[1;33m(\u001b[0m\u001b[0mset1\u001b[0m\u001b[1;33m)\u001b[0m\u001b[1;33m\u001b[0m\u001b[1;33m\u001b[0m\u001b[0m\n\u001b[0m\u001b[0;32m      6\u001b[0m \u001b[0mfr2\u001b[0m\u001b[1;33m\u001b[0m\u001b[1;33m\u001b[0m\u001b[0m\n",
      "\u001b[1;31mAttributeError\u001b[0m: 'frozenset' object has no attribute 'difference_update'"
     ]
    }
   ],
   "source": [
    "set1= {2,3,4,5,6,7}\n",
    "\n",
    "fr2 = frozenset({2,3,10,11,12})\n",
    "\n",
    "fr2.difference_update(set1)\n",
    "fr2"
   ]
  },
  {
   "cell_type": "code",
   "execution_count": 95,
   "id": "068b09f8",
   "metadata": {},
   "outputs": [
    {
     "ename": "AttributeError",
     "evalue": "'frozenset' object has no attribute 'symmetric_difference_update'",
     "output_type": "error",
     "traceback": [
      "\u001b[1;31m---------------------------------------------------------------------------\u001b[0m",
      "\u001b[1;31mAttributeError\u001b[0m                            Traceback (most recent call last)",
      "\u001b[1;32m~\\AppData\\Local\\Temp/ipykernel_38276/3713479294.py\u001b[0m in \u001b[0;36m<module>\u001b[1;34m\u001b[0m\n\u001b[0;32m      3\u001b[0m \u001b[0mfr2\u001b[0m \u001b[1;33m=\u001b[0m \u001b[0mfrozenset\u001b[0m\u001b[1;33m(\u001b[0m\u001b[1;33m{\u001b[0m\u001b[1;36m2\u001b[0m\u001b[1;33m,\u001b[0m\u001b[1;36m3\u001b[0m\u001b[1;33m,\u001b[0m\u001b[1;36m10\u001b[0m\u001b[1;33m,\u001b[0m\u001b[1;36m11\u001b[0m\u001b[1;33m,\u001b[0m\u001b[1;36m12\u001b[0m\u001b[1;33m}\u001b[0m\u001b[1;33m)\u001b[0m\u001b[1;33m\u001b[0m\u001b[1;33m\u001b[0m\u001b[0m\n\u001b[0;32m      4\u001b[0m \u001b[1;33m\u001b[0m\u001b[0m\n\u001b[1;32m----> 5\u001b[1;33m \u001b[0mfr2\u001b[0m\u001b[1;33m.\u001b[0m\u001b[0msymmetric_difference_update\u001b[0m\u001b[1;33m(\u001b[0m\u001b[0mset1\u001b[0m\u001b[1;33m)\u001b[0m\u001b[1;33m\u001b[0m\u001b[1;33m\u001b[0m\u001b[0m\n\u001b[0m\u001b[0;32m      6\u001b[0m \u001b[0mfr2\u001b[0m\u001b[1;33m\u001b[0m\u001b[1;33m\u001b[0m\u001b[0m\n",
      "\u001b[1;31mAttributeError\u001b[0m: 'frozenset' object has no attribute 'symmetric_difference_update'"
     ]
    }
   ],
   "source": [
    "set1= {2,3,4,5,6,7}\n",
    "\n",
    "fr2 = frozenset({2,3,10,11,12})\n",
    "\n",
    "fr2.symmetric_difference_update(set1)\n",
    "fr2"
   ]
  },
  {
   "cell_type": "code",
   "execution_count": 96,
   "id": "4fcddf93",
   "metadata": {},
   "outputs": [
    {
     "data": {
      "text/plain": [
       "frozenset({2, 3, 4, 5, 6, 7, 10, 11, 12})"
      ]
     },
     "execution_count": 96,
     "metadata": {},
     "output_type": "execute_result"
    }
   ],
   "source": [
    "set1= {2,3,4,5,6,7}\n",
    "\n",
    "fr2 = frozenset({2,3,10,11,12})\n",
    "\n",
    "fr3 = fr2.union(set1)\n",
    "fr3"
   ]
  },
  {
   "cell_type": "code",
   "execution_count": 97,
   "id": "567a3eaf",
   "metadata": {},
   "outputs": [
    {
     "data": {
      "text/plain": [
       "frozenset({10, 11, 12})"
      ]
     },
     "execution_count": 97,
     "metadata": {},
     "output_type": "execute_result"
    }
   ],
   "source": [
    "set1= {2,3,4,5,6,7}\n",
    "\n",
    "fr2 = frozenset({2,3,10,11,12})\n",
    "\n",
    "fr3 = fr2.difference(set1)\n",
    "fr3"
   ]
  },
  {
   "cell_type": "code",
   "execution_count": 98,
   "id": "2ac82066",
   "metadata": {},
   "outputs": [
    {
     "data": {
      "text/plain": [
       "frozenset({4, 5, 6, 7, 10, 11, 12})"
      ]
     },
     "execution_count": 98,
     "metadata": {},
     "output_type": "execute_result"
    }
   ],
   "source": [
    "set1= {2,3,4,5,6,7}\n",
    "\n",
    "fr2 = frozenset({2,3,10,11,12})\n",
    "\n",
    "fr3 = fr2.symmetric_difference(set1)\n",
    "fr3"
   ]
  },
  {
   "cell_type": "code",
   "execution_count": 99,
   "id": "af2337d6",
   "metadata": {},
   "outputs": [
    {
     "data": {
      "text/plain": [
       "frozenset({2, 3})"
      ]
     },
     "execution_count": 99,
     "metadata": {},
     "output_type": "execute_result"
    }
   ],
   "source": [
    "set1= {2,3,4,5,6,7}\n",
    "\n",
    "fr2 = frozenset({2,3,10,11,12})\n",
    "\n",
    "fr3 = fr2.intersection(set1)\n",
    "fr3"
   ]
  },
  {
   "cell_type": "code",
   "execution_count": 100,
   "id": "dc3464b5",
   "metadata": {},
   "outputs": [
    {
     "data": {
      "text/plain": [
       "False"
      ]
     },
     "execution_count": 100,
     "metadata": {},
     "output_type": "execute_result"
    }
   ],
   "source": [
    "set1= {2,3,4,5,6,7}\n",
    "\n",
    "fr2 = frozenset({2,3,10,11,12})\n",
    "\n",
    "fr2.isdisjoint(set1)\n"
   ]
  },
  {
   "cell_type": "code",
   "execution_count": 101,
   "id": "643c5718",
   "metadata": {},
   "outputs": [
    {
     "data": {
      "text/plain": [
       "False"
      ]
     },
     "execution_count": 101,
     "metadata": {},
     "output_type": "execute_result"
    }
   ],
   "source": [
    "set1= {2,3,4,5,6,7}\n",
    "\n",
    "fr2 = frozenset({2,3,10,11,12})\n",
    "\n",
    "set1.isdisjoint(fr2)"
   ]
  },
  {
   "cell_type": "code",
   "execution_count": 102,
   "id": "7238b5c8",
   "metadata": {},
   "outputs": [
    {
     "data": {
      "text/plain": [
       "True"
      ]
     },
     "execution_count": 102,
     "metadata": {},
     "output_type": "execute_result"
    }
   ],
   "source": [
    "set1= {2,3}\n",
    "\n",
    "fr2 = frozenset({2,3,10,11,12})\n",
    "\n",
    "fr2.issuperset(set1)"
   ]
  },
  {
   "cell_type": "code",
   "execution_count": 103,
   "id": "3f57675d",
   "metadata": {},
   "outputs": [
    {
     "data": {
      "text/plain": [
       "True"
      ]
     },
     "execution_count": 103,
     "metadata": {},
     "output_type": "execute_result"
    }
   ],
   "source": [
    "set1= {2,3,10,11,12}\n",
    "\n",
    "fr2 = frozenset({2,3})\n",
    "\n",
    "fr2.issubset(set1)"
   ]
  },
  {
   "cell_type": "code",
   "execution_count": 104,
   "id": "00d513b2",
   "metadata": {},
   "outputs": [],
   "source": [
    "import statistics"
   ]
  },
  {
   "cell_type": "code",
   "execution_count": 105,
   "id": "63d39615",
   "metadata": {},
   "outputs": [
    {
     "data": {
      "text/plain": [
       "2.5"
      ]
     },
     "execution_count": 105,
     "metadata": {},
     "output_type": "execute_result"
    }
   ],
   "source": [
    "statistics.mean(fr2)"
   ]
  },
  {
   "cell_type": "code",
   "execution_count": 106,
   "id": "51ed024c",
   "metadata": {},
   "outputs": [
    {
     "data": {
      "text/plain": [
       "2.5"
      ]
     },
     "execution_count": 106,
     "metadata": {},
     "output_type": "execute_result"
    }
   ],
   "source": [
    "statistics.median(fr2)"
   ]
  },
  {
   "cell_type": "code",
   "execution_count": 107,
   "id": "2e59d75b",
   "metadata": {},
   "outputs": [
    {
     "data": {
      "text/plain": [
       "2"
      ]
     },
     "execution_count": 107,
     "metadata": {},
     "output_type": "execute_result"
    }
   ],
   "source": [
    "statistics.mode(fr2)"
   ]
  },
  {
   "cell_type": "markdown",
   "id": "f0a3bee5",
   "metadata": {},
   "source": [
    "# Misceleneous concepts"
   ]
  },
  {
   "cell_type": "markdown",
   "id": "ba38114c",
   "metadata": {},
   "source": [
    "## Packing"
   ]
  },
  {
   "cell_type": "raw",
   "id": "d4438dc4",
   "metadata": {},
   "source": [
    "# when we pass on multiple values to a single variable then it is called as packing.\n",
    "# it either takes the values in a signle tuple or takes them as args."
   ]
  },
  {
   "cell_type": "code",
   "execution_count": 108,
   "id": "2eb1b7ad",
   "metadata": {},
   "outputs": [
    {
     "data": {
      "text/plain": [
       "(3, 4, 6)"
      ]
     },
     "execution_count": 108,
     "metadata": {},
     "output_type": "execute_result"
    }
   ],
   "source": [
    "a = 3,4,6      #packing of values into a\n",
    "\n",
    "a"
   ]
  },
  {
   "cell_type": "markdown",
   "id": "33192c40",
   "metadata": {},
   "source": [
    "## Unpacking"
   ]
  },
  {
   "cell_type": "raw",
   "id": "eb49d00e",
   "metadata": {},
   "source": [
    "when we have multiple values to pass in multiple variables then it is unpacking"
   ]
  },
  {
   "cell_type": "code",
   "execution_count": 109,
   "id": "2cd19684",
   "metadata": {},
   "outputs": [
    {
     "ename": "TypeError",
     "evalue": "cannot unpack non-iterable int object",
     "output_type": "error",
     "traceback": [
      "\u001b[1;31m---------------------------------------------------------------------------\u001b[0m",
      "\u001b[1;31mTypeError\u001b[0m                                 Traceback (most recent call last)",
      "\u001b[1;32m~\\AppData\\Local\\Temp/ipykernel_38276/984536012.py\u001b[0m in \u001b[0;36m<module>\u001b[1;34m\u001b[0m\n\u001b[1;32m----> 1\u001b[1;33m \u001b[0mp\u001b[0m\u001b[1;33m,\u001b[0m\u001b[0mq\u001b[0m\u001b[1;33m,\u001b[0m\u001b[0mr\u001b[0m \u001b[1;33m=\u001b[0m \u001b[1;36m5\u001b[0m\u001b[1;33m\u001b[0m\u001b[1;33m\u001b[0m\u001b[0m\n\u001b[0m\u001b[0;32m      2\u001b[0m \u001b[0mp\u001b[0m\u001b[1;33m\u001b[0m\u001b[1;33m\u001b[0m\u001b[0m\n",
      "\u001b[1;31mTypeError\u001b[0m: cannot unpack non-iterable int object"
     ]
    }
   ],
   "source": [
    "p,q,r = 5\n",
    "p"
   ]
  },
  {
   "cell_type": "code",
   "execution_count": 110,
   "id": "de55e08c",
   "metadata": {},
   "outputs": [
    {
     "data": {
      "text/plain": [
       "3"
      ]
     },
     "execution_count": 110,
     "metadata": {},
     "output_type": "execute_result"
    }
   ],
   "source": [
    "p,q,r = 3,4,5\n",
    "p"
   ]
  },
  {
   "cell_type": "code",
   "execution_count": 111,
   "id": "d580bfb8",
   "metadata": {},
   "outputs": [
    {
     "name": "stdout",
     "output_type": "stream",
     "text": [
      "3 4 5 6 7 2 3\n"
     ]
    }
   ],
   "source": [
    "*p,q,r = (3,4,5,6,7,2,3,5,8)\n",
    "\n",
    "print(*p)"
   ]
  },
  {
   "cell_type": "code",
   "execution_count": 112,
   "id": "4f274ebb",
   "metadata": {},
   "outputs": [],
   "source": [
    "*p,q = 2,3,4"
   ]
  },
  {
   "cell_type": "code",
   "execution_count": null,
   "id": "a4864942",
   "metadata": {},
   "outputs": [],
   "source": []
  }
 ],
 "metadata": {
  "kernelspec": {
   "display_name": "Python 3 (ipykernel)",
   "language": "python",
   "name": "python3"
  },
  "language_info": {
   "codemirror_mode": {
    "name": "ipython",
    "version": 3
   },
   "file_extension": ".py",
   "mimetype": "text/x-python",
   "name": "python",
   "nbconvert_exporter": "python",
   "pygments_lexer": "ipython3",
   "version": "3.9.7"
  },
  "toc": {
   "base_numbering": 1,
   "nav_menu": {},
   "number_sections": true,
   "sideBar": true,
   "skip_h1_title": false,
   "title_cell": "Table of Contents",
   "title_sidebar": "Contents",
   "toc_cell": false,
   "toc_position": {},
   "toc_section_display": true,
   "toc_window_display": false
  }
 },
 "nbformat": 4,
 "nbformat_minor": 5
}
