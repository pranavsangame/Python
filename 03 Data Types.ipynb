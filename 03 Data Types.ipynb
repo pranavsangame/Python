{
 "cells": [
  {
   "cell_type": "raw",
   "id": "08950ebf",
   "metadata": {},
   "source": [
    "Data Types:\n",
    "    text:- str\n",
    "    Numeric:- int, float, complex\n",
    "    Sequence: List, Tuple, Range\n",
    "    Set:- Set, Frozenset\n",
    "    Mapping:- Dict(key:value_pair)\n",
    "    Boolean:- true, False, 0, 1\n",
    "    Binary:- 0000 1111\n",
    "    "
   ]
  },
  {
   "cell_type": "markdown",
   "id": "755a6218",
   "metadata": {},
   "source": [
    "# Numeric Data Type"
   ]
  },
  {
   "cell_type": "raw",
   "id": "dd91a9ff",
   "metadata": {},
   "source": [
    "int: (interger) whole numbers that could be +ve or -ve \n",
    "float: numbers in decimal format\n",
    "complex: numbers with real and imaginary part"
   ]
  },
  {
   "cell_type": "raw",
   "id": "425ae509",
   "metadata": {},
   "source": [
    "Interger: Whole numbers that could be +ve or -be numbers. (ranging from +infinity to -ve infinity)\n",
    "Float: numbers in decimal format.(+ve to -ve infinity)\n",
    "complex: numbers with real & imaginary part\n",
    "\n",
    "\n",
    "5 >> Integer (int)\n",
    "5.6 >> Decimal (float)\n",
    "5+6j >> Complex (complex)"
   ]
  },
  {
   "cell_type": "raw",
   "id": "5092ecae",
   "metadata": {},
   "source": [
    "## conversion of numeric data types\n",
    "\n",
    "we can convert int to float & float to int\n",
    "we can not convert complex to int or float\n",
    "but we can convert int or float to complex"
   ]
  },
  {
   "cell_type": "code",
   "execution_count": 1,
   "id": "60ec4684",
   "metadata": {},
   "outputs": [
    {
     "data": {
      "text/plain": [
       "int"
      ]
     },
     "execution_count": 1,
     "metadata": {},
     "output_type": "execute_result"
    }
   ],
   "source": [
    "type(-11)"
   ]
  },
  {
   "cell_type": "code",
   "execution_count": 2,
   "id": "1bc686e3",
   "metadata": {},
   "outputs": [
    {
     "data": {
      "text/plain": [
       "float"
      ]
     },
     "execution_count": 2,
     "metadata": {},
     "output_type": "execute_result"
    }
   ],
   "source": [
    "type(9.00967)"
   ]
  },
  {
   "cell_type": "code",
   "execution_count": 1,
   "id": "9b474a9f",
   "metadata": {},
   "outputs": [
    {
     "data": {
      "text/plain": [
       "complex"
      ]
     },
     "execution_count": 1,
     "metadata": {},
     "output_type": "execute_result"
    }
   ],
   "source": [
    "type(4+7j)"
   ]
  },
  {
   "cell_type": "code",
   "execution_count": 2,
   "id": "e637fdbc",
   "metadata": {},
   "outputs": [
    {
     "data": {
      "text/plain": [
       "13"
      ]
     },
     "execution_count": 2,
     "metadata": {},
     "output_type": "execute_result"
    }
   ],
   "source": [
    "int(13.50)"
   ]
  },
  {
   "cell_type": "code",
   "execution_count": 3,
   "id": "4ded6235",
   "metadata": {},
   "outputs": [
    {
     "data": {
      "text/plain": [
       "13.0"
      ]
     },
     "execution_count": 3,
     "metadata": {},
     "output_type": "execute_result"
    }
   ],
   "source": [
    "float(13)"
   ]
  },
  {
   "cell_type": "code",
   "execution_count": 4,
   "id": "c68f6064",
   "metadata": {},
   "outputs": [
    {
     "ename": "TypeError",
     "evalue": "can't convert complex to int",
     "output_type": "error",
     "traceback": [
      "\u001b[1;31m---------------------------------------------------------------------------\u001b[0m",
      "\u001b[1;31mTypeError\u001b[0m                                 Traceback (most recent call last)",
      "\u001b[1;32m~\\AppData\\Local\\Temp/ipykernel_7468/4193997112.py\u001b[0m in \u001b[0;36m<module>\u001b[1;34m\u001b[0m\n\u001b[1;32m----> 1\u001b[1;33m \u001b[0mint\u001b[0m\u001b[1;33m(\u001b[0m\u001b[1;36m3\u001b[0m\u001b[1;33m+\u001b[0m\u001b[1;36m4j\u001b[0m\u001b[1;33m)\u001b[0m\u001b[1;33m\u001b[0m\u001b[1;33m\u001b[0m\u001b[0m\n\u001b[0m",
      "\u001b[1;31mTypeError\u001b[0m: can't convert complex to int"
     ]
    }
   ],
   "source": [
    "int(3+4j)"
   ]
  },
  {
   "cell_type": "code",
   "execution_count": 5,
   "id": "221dfb75",
   "metadata": {},
   "outputs": [
    {
     "ename": "TypeError",
     "evalue": "can't convert complex to float",
     "output_type": "error",
     "traceback": [
      "\u001b[1;31m---------------------------------------------------------------------------\u001b[0m",
      "\u001b[1;31mTypeError\u001b[0m                                 Traceback (most recent call last)",
      "\u001b[1;32m~\\AppData\\Local\\Temp/ipykernel_7468/2569644251.py\u001b[0m in \u001b[0;36m<module>\u001b[1;34m\u001b[0m\n\u001b[1;32m----> 1\u001b[1;33m \u001b[0mfloat\u001b[0m\u001b[1;33m(\u001b[0m\u001b[1;36m3\u001b[0m\u001b[1;33m+\u001b[0m\u001b[1;36m4j\u001b[0m\u001b[1;33m)\u001b[0m\u001b[1;33m\u001b[0m\u001b[1;33m\u001b[0m\u001b[0m\n\u001b[0m",
      "\u001b[1;31mTypeError\u001b[0m: can't convert complex to float"
     ]
    }
   ],
   "source": [
    "float(3+4j)"
   ]
  },
  {
   "cell_type": "code",
   "execution_count": 6,
   "id": "f11c7ee2",
   "metadata": {},
   "outputs": [
    {
     "data": {
      "text/plain": [
       "(3+0j)"
      ]
     },
     "execution_count": 6,
     "metadata": {},
     "output_type": "execute_result"
    }
   ],
   "source": [
    "complex(3)"
   ]
  },
  {
   "cell_type": "code",
   "execution_count": 7,
   "id": "55c5b24f",
   "metadata": {},
   "outputs": [
    {
     "data": {
      "text/plain": [
       "(3.2+0j)"
      ]
     },
     "execution_count": 7,
     "metadata": {},
     "output_type": "execute_result"
    }
   ],
   "source": [
    "complex(3.2)"
   ]
  },
  {
   "cell_type": "markdown",
   "id": "8d741a3a",
   "metadata": {},
   "source": [
    "# Round Function"
   ]
  },
  {
   "cell_type": "code",
   "execution_count": 8,
   "id": "59d461bc",
   "metadata": {},
   "outputs": [
    {
     "data": {
      "text/plain": [
       "20.55"
      ]
     },
     "execution_count": 8,
     "metadata": {},
     "output_type": "execute_result"
    }
   ],
   "source": [
    "new_no = 20.5469831456\n",
    "round(new_no,2)"
   ]
  },
  {
   "cell_type": "code",
   "execution_count": 9,
   "id": "1ca20072",
   "metadata": {},
   "outputs": [
    {
     "data": {
      "text/plain": [
       "20.54698"
      ]
     },
     "execution_count": 9,
     "metadata": {},
     "output_type": "execute_result"
    }
   ],
   "source": [
    "round(new_no,5)"
   ]
  },
  {
   "cell_type": "markdown",
   "id": "385d0674",
   "metadata": {},
   "source": [
    "# Operators"
   ]
  },
  {
   "cell_type": "markdown",
   "id": "60af58f2",
   "metadata": {},
   "source": [
    "## Arithmetic Operatos"
   ]
  },
  {
   "cell_type": "raw",
   "id": "39742519",
   "metadata": {},
   "source": [
    "+ Addition\n",
    "- Substraction\n",
    "* Multiplication\n",
    "/ division\n",
    "** power\n",
    "// modulus or floor division\n",
    "% remainder"
   ]
  },
  {
   "cell_type": "markdown",
   "id": "3b82fe05",
   "metadata": {},
   "source": [
    "### Preference of Arithmetic Operators "
   ]
  },
  {
   "cell_type": "raw",
   "id": "755206fb",
   "metadata": {},
   "source": [
    "1. () >> paranthesis\n",
    "2. ** >> exponents\n",
    "3. *,/,// >> multiplication, division & floor division\n",
    "4. +,-  >> addition & subtraction"
   ]
  },
  {
   "cell_type": "code",
   "execution_count": 11,
   "id": "a5e690c0",
   "metadata": {},
   "outputs": [
    {
     "data": {
      "text/plain": [
       "2.0"
      ]
     },
     "execution_count": 11,
     "metadata": {},
     "output_type": "execute_result"
    }
   ],
   "source": [
    "5/2.5"
   ]
  },
  {
   "cell_type": "code",
   "execution_count": 12,
   "id": "03b25b5e",
   "metadata": {},
   "outputs": [
    {
     "data": {
      "text/plain": [
       "25"
      ]
     },
     "execution_count": 12,
     "metadata": {},
     "output_type": "execute_result"
    }
   ],
   "source": [
    "5**2      # taking the square of 5"
   ]
  },
  {
   "cell_type": "code",
   "execution_count": 13,
   "id": "5ec1a912",
   "metadata": {},
   "outputs": [
    {
     "data": {
      "text/plain": [
       "10"
      ]
     },
     "execution_count": 13,
     "metadata": {},
     "output_type": "execute_result"
    }
   ],
   "source": [
    "5+5"
   ]
  },
  {
   "cell_type": "markdown",
   "id": "d36d1980",
   "metadata": {},
   "source": [
    "## Assignment Operator"
   ]
  },
  {
   "cell_type": "raw",
   "id": "bc0e9415",
   "metadata": {},
   "source": [
    "= Equals to \n",
    "+= Addition in same variable\n",
    "-= Substraction in same variable\n",
    "*=\n",
    "/=\n",
    "**="
   ]
  },
  {
   "cell_type": "code",
   "execution_count": 14,
   "id": "a957558c",
   "metadata": {},
   "outputs": [
    {
     "data": {
      "text/plain": [
       "3.0"
      ]
     },
     "execution_count": 14,
     "metadata": {},
     "output_type": "execute_result"
    }
   ],
   "source": [
    "27**(1/3)"
   ]
  },
  {
   "cell_type": "code",
   "execution_count": 15,
   "id": "8179d68d",
   "metadata": {},
   "outputs": [
    {
     "data": {
      "text/plain": [
       "10"
      ]
     },
     "execution_count": 15,
     "metadata": {},
     "output_type": "execute_result"
    }
   ],
   "source": [
    "a = 10\n",
    "a"
   ]
  },
  {
   "cell_type": "code",
   "execution_count": 16,
   "id": "af014dc4",
   "metadata": {},
   "outputs": [
    {
     "data": {
      "text/plain": [
       "20"
      ]
     },
     "execution_count": 16,
     "metadata": {},
     "output_type": "execute_result"
    }
   ],
   "source": [
    "a += 10\n",
    "a"
   ]
  },
  {
   "cell_type": "markdown",
   "id": "f1af4f91",
   "metadata": {},
   "source": [
    "## Logical Operators"
   ]
  },
  {
   "cell_type": "raw",
   "id": "7f65b271",
   "metadata": {},
   "source": [
    "and\n",
    "or\n",
    "not"
   ]
  },
  {
   "cell_type": "code",
   "execution_count": 17,
   "id": "e8dfe87e",
   "metadata": {},
   "outputs": [
    {
     "name": "stdout",
     "output_type": "stream",
     "text": [
      "correct\n"
     ]
    }
   ],
   "source": [
    "a = 5\n",
    "b = 10\n",
    "\n",
    "if a==5 and b==10:\n",
    "    print('correct')"
   ]
  },
  {
   "cell_type": "code",
   "execution_count": 18,
   "id": "a3357767",
   "metadata": {},
   "outputs": [
    {
     "name": "stdout",
     "output_type": "stream",
     "text": [
      "any amongst the two values is 10\n"
     ]
    }
   ],
   "source": [
    "if a==10 or b==10:\n",
    "    print('any amongst the two values is 10')"
   ]
  },
  {
   "cell_type": "code",
   "execution_count": 19,
   "id": "d129eaec",
   "metadata": {},
   "outputs": [
    {
     "name": "stdout",
     "output_type": "stream",
     "text": [
      "x exists\n"
     ]
    }
   ],
   "source": [
    "x = 5\n",
    "\n",
    "if not x:print('x does not exist')\n",
    "    \n",
    "else:\n",
    "    print('x exists')"
   ]
  },
  {
   "cell_type": "markdown",
   "id": "cf0b2be7",
   "metadata": {},
   "source": [
    "## Bitwise Operators"
   ]
  },
  {
   "cell_type": "raw",
   "id": "45c1f8f1",
   "metadata": {},
   "source": [
    " & and\n",
    "| or\n",
    "~ not\n",
    "^ XOR\n",
    ">> Right shift\n",
    "<< Left shift"
   ]
  },
  {
   "cell_type": "code",
   "execution_count": 20,
   "id": "1bc881e6",
   "metadata": {},
   "outputs": [
    {
     "data": {
      "text/plain": [
       "8"
      ]
     },
     "execution_count": 20,
     "metadata": {},
     "output_type": "execute_result"
    }
   ],
   "source": [
    "10 & 12"
   ]
  },
  {
   "cell_type": "code",
   "execution_count": 21,
   "id": "3a6dd44d",
   "metadata": {},
   "outputs": [
    {
     "data": {
      "text/plain": [
       "1000"
      ]
     },
     "execution_count": 21,
     "metadata": {},
     "output_type": "execute_result"
    }
   ],
   "source": [
    "1010    #10\n",
    "1100    #12\n",
    "\n",
    "1000    #8"
   ]
  },
  {
   "cell_type": "code",
   "execution_count": 22,
   "id": "fe03e9b2",
   "metadata": {},
   "outputs": [
    {
     "data": {
      "text/plain": [
       "6"
      ]
     },
     "execution_count": 22,
     "metadata": {},
     "output_type": "execute_result"
    }
   ],
   "source": [
    "10^12"
   ]
  },
  {
   "cell_type": "code",
   "execution_count": 23,
   "id": "908f5727",
   "metadata": {},
   "outputs": [
    {
     "data": {
      "text/plain": [
       "'0b110'"
      ]
     },
     "execution_count": 23,
     "metadata": {},
     "output_type": "execute_result"
    }
   ],
   "source": [
    "bin(6)"
   ]
  },
  {
   "cell_type": "markdown",
   "id": "a4d99f70",
   "metadata": {},
   "source": [
    "## Membership Operators"
   ]
  },
  {
   "cell_type": "raw",
   "id": "66026e7c",
   "metadata": {},
   "source": [
    "in \n",
    "not in"
   ]
  },
  {
   "cell_type": "code",
   "execution_count": 24,
   "id": "023bc5e6",
   "metadata": {},
   "outputs": [
    {
     "name": "stdout",
     "output_type": "stream",
     "text": [
      "2 is present in the list\n"
     ]
    }
   ],
   "source": [
    "my_list = [2,3,4,5]\n",
    "\n",
    "if 2 in my_list:\n",
    "    print('2 is present in the list')\n",
    "else:\n",
    "    print('2 is absent in the list')"
   ]
  },
  {
   "cell_type": "markdown",
   "id": "5d3c8a83",
   "metadata": {},
   "source": [
    "## Comparison Operators"
   ]
  },
  {
   "cell_type": "raw",
   "id": "2edc4556",
   "metadata": {},
   "source": [
    "== Equals to \n",
    "!= Not equals to\n",
    "> Greater than\n",
    "< Less than\n",
    ">= Greater than or equals to\n",
    "<= Less than or equals to"
   ]
  },
  {
   "cell_type": "code",
   "execution_count": 25,
   "id": "ff7eeeae",
   "metadata": {},
   "outputs": [
    {
     "data": {
      "text/plain": [
       "True"
      ]
     },
     "execution_count": 25,
     "metadata": {},
     "output_type": "execute_result"
    }
   ],
   "source": [
    "10 <= 20"
   ]
  },
  {
   "cell_type": "code",
   "execution_count": 26,
   "id": "bcb48b0a",
   "metadata": {},
   "outputs": [
    {
     "data": {
      "text/plain": [
       "False"
      ]
     },
     "execution_count": 26,
     "metadata": {},
     "output_type": "execute_result"
    }
   ],
   "source": [
    "a == 30"
   ]
  },
  {
   "cell_type": "code",
   "execution_count": 27,
   "id": "d5f709d5",
   "metadata": {},
   "outputs": [
    {
     "data": {
      "text/plain": [
       "False"
      ]
     },
     "execution_count": 27,
     "metadata": {},
     "output_type": "execute_result"
    }
   ],
   "source": [
    "a > 50"
   ]
  },
  {
   "cell_type": "markdown",
   "id": "77a9b344",
   "metadata": {},
   "source": [
    "## Identity Operators"
   ]
  },
  {
   "cell_type": "raw",
   "id": "2d302a3c",
   "metadata": {},
   "source": [
    "is\n",
    "is not"
   ]
  },
  {
   "cell_type": "code",
   "execution_count": 28,
   "id": "8f18ea9d",
   "metadata": {},
   "outputs": [
    {
     "name": "stdout",
     "output_type": "stream",
     "text": [
      "a is not equals to b\n"
     ]
    }
   ],
   "source": [
    "if a is not b:\n",
    "    print('a is not equals to b')"
   ]
  }
 ],
 "metadata": {
  "kernelspec": {
   "display_name": "Python 3 (ipykernel)",
   "language": "python",
   "name": "python3"
  },
  "language_info": {
   "codemirror_mode": {
    "name": "ipython",
    "version": 3
   },
   "file_extension": ".py",
   "mimetype": "text/x-python",
   "name": "python",
   "nbconvert_exporter": "python",
   "pygments_lexer": "ipython3",
   "version": "3.9.7"
  },
  "toc": {
   "base_numbering": 1,
   "nav_menu": {},
   "number_sections": true,
   "sideBar": true,
   "skip_h1_title": false,
   "title_cell": "Table of Contents",
   "title_sidebar": "Contents",
   "toc_cell": false,
   "toc_position": {},
   "toc_section_display": true,
   "toc_window_display": false
  }
 },
 "nbformat": 4,
 "nbformat_minor": 5
}
