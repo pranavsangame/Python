{
 "cells": [
  {
   "cell_type": "raw",
   "id": "e109b41e",
   "metadata": {},
   "source": [
    "While loop is used iterating over a sequence or iterators\n",
    "While loop is used to execute a block of code till the given condition is True\n",
    "but it need manual increment or decrement\n",
    "\n",
    "While Condition:\n",
    "    code\n",
    "    manual increment/decrement\n",
    "    \n",
    "Condition:\n",
    "    True >> Executes the block of code\n",
    "    False >> Ends the loop\n",
    "    \n",
    "While - Else : Else is executed when while is completed\n",
    "While - Else : Else will not be executed when while breaks"
   ]
  },
  {
   "cell_type": "code",
   "execution_count": 1,
   "id": "08e5e902",
   "metadata": {},
   "outputs": [
    {
     "name": "stdout",
     "output_type": "stream",
     "text": [
      "0\n",
      "1\n",
      "2\n",
      "3\n",
      "4\n",
      "5\n"
     ]
    }
   ],
   "source": [
    "# while example using increment\n",
    "\n",
    "a = 0\n",
    "\n",
    "while a <= 5:\n",
    "    print(a)\n",
    "    \n",
    "    a=a+1"
   ]
  },
  {
   "cell_type": "code",
   "execution_count": 2,
   "id": "3034ddc2",
   "metadata": {},
   "outputs": [
    {
     "name": "stdout",
     "output_type": "stream",
     "text": [
      "5\n",
      "4\n",
      "3\n",
      "2\n",
      "1\n",
      "0\n"
     ]
    }
   ],
   "source": [
    "# While example using decrement\n",
    "\n",
    "a = 5\n",
    "\n",
    "while a >= 0:\n",
    "    print(a)\n",
    "    a-=1"
   ]
  },
  {
   "cell_type": "code",
   "execution_count": 3,
   "id": "a1f98ab1",
   "metadata": {},
   "outputs": [
    {
     "name": "stdout",
     "output_type": "stream",
     "text": [
      "5\n",
      "4\n",
      "2\n",
      "1\n",
      "0\n"
     ]
    }
   ],
   "source": [
    "# While example using decrement\n",
    "\n",
    "a = 5\n",
    "\n",
    "while a >= 0:\n",
    "    if a == 3:\n",
    "        pass\n",
    "    else:print(a)\n",
    "    a-=1"
   ]
  },
  {
   "cell_type": "code",
   "execution_count": 4,
   "id": "0cca87bb",
   "metadata": {},
   "outputs": [
    {
     "name": "stdout",
     "output_type": "stream",
     "text": [
      "Hi\n",
      "Hi\n",
      "Hi\n",
      "Hi\n"
     ]
    }
   ],
   "source": [
    "a = [1,2,3,4]\n",
    "b = len(a) \n",
    "while b > 0:\n",
    "    print('Hi')\n",
    "    b-=1"
   ]
  },
  {
   "cell_type": "code",
   "execution_count": 5,
   "id": "660bb0cf",
   "metadata": {},
   "outputs": [
    {
     "name": "stdout",
     "output_type": "stream",
     "text": [
      "4\n",
      "3\n",
      "2\n",
      "1\n"
     ]
    }
   ],
   "source": [
    "a = [1,2,3,4]\n",
    "i = len(a)-1\n",
    "\n",
    "while i >= 0:\n",
    "    print(a[i])\n",
    "    i-=1"
   ]
  },
  {
   "cell_type": "code",
   "execution_count": 6,
   "id": "7ca402fb",
   "metadata": {},
   "outputs": [
    {
     "name": "stdout",
     "output_type": "stream",
     "text": [
      "1\n",
      "2\n",
      "3\n",
      "4\n"
     ]
    }
   ],
   "source": [
    "a = [1,2,3,4]\n",
    "i = 0\n",
    "\n",
    "while i < len(a):\n",
    "    print(a[i])\n",
    "    i+=1"
   ]
  },
  {
   "cell_type": "code",
   "execution_count": 7,
   "id": "7ee6e57b",
   "metadata": {},
   "outputs": [
    {
     "name": "stdout",
     "output_type": "stream",
     "text": [
      "1\n",
      "2\n",
      "3\n",
      "4\n",
      "3\n",
      "3\n",
      "3\n"
     ]
    }
   ],
   "source": [
    "a = [1,2,3,4]\n",
    "i = j = 0\n",
    "\n",
    "while i < len(a):   # 0, 1, 2, 3\n",
    "    print(a[i])\n",
    "    if i == 3:\n",
    "        while j < 3:\n",
    "            print(i)\n",
    "            j+=1\n",
    "    i+=1"
   ]
  },
  {
   "cell_type": "code",
   "execution_count": 8,
   "id": "b626e2bd",
   "metadata": {},
   "outputs": [
    {
     "name": "stdout",
     "output_type": "stream",
     "text": [
      "1\n",
      "2\n",
      "3\n",
      "3\n",
      "3\n",
      "3\n",
      "4\n"
     ]
    }
   ],
   "source": [
    "a = [1,2,3,4]\n",
    "i = j = 0\n",
    "\n",
    "while i < len(a):\n",
    "    if i == 3:\n",
    "        while j < 3:   # 0, 1, 2\n",
    "            print(i)\n",
    "            j+=1\n",
    "    print(a[i])\n",
    "    i+=1"
   ]
  },
  {
   "cell_type": "markdown",
   "id": "c1c782ec",
   "metadata": {},
   "source": [
    "## Factorial Using while"
   ]
  },
  {
   "cell_type": "code",
   "execution_count": 9,
   "id": "607180d4",
   "metadata": {},
   "outputs": [
    {
     "name": "stdout",
     "output_type": "stream",
     "text": [
      "1\n",
      "2\n",
      "6\n",
      "24\n",
      "120\n",
      "final value is 120\n"
     ]
    }
   ],
   "source": [
    "n = 5\n",
    "fact = i = 1\n",
    "\n",
    "while i <= n:\n",
    "    fact=fact*i\n",
    "    i+=1        #manual increment happening here\n",
    "    print(fact)\n",
    "    \n",
    "else:\n",
    "    print('final value is',fact)"
   ]
  },
  {
   "cell_type": "code",
   "execution_count": 10,
   "id": "4ba50499",
   "metadata": {},
   "outputs": [
    {
     "name": "stdout",
     "output_type": "stream",
     "text": [
      "120\n"
     ]
    }
   ],
   "source": [
    "n = 5\n",
    "fact = 1;\n",
    "\n",
    "while n > 1:\n",
    "    fact=fact*n\n",
    "    n-=1   #manual increment happening here\n",
    "    \n",
    "else:\n",
    "    print(fact)"
   ]
  },
  {
   "cell_type": "code",
   "execution_count": 12,
   "id": "90d92f29",
   "metadata": {},
   "outputs": [
    {
     "name": "stdout",
     "output_type": "stream",
     "text": [
      "enter how many numbers of fibonacci series to print :  10\n",
      "0\n",
      "1\n",
      "1\n",
      "2\n",
      "3\n",
      "5\n",
      "8\n",
      "13\n",
      "21\n",
      "34\n"
     ]
    }
   ],
   "source": [
    "n = int(input('enter how many numbers of fibonacci series to print :  '))\n",
    "a,b=0,1\n",
    "i=0\n",
    "if n<1:\n",
    "    print('enter positive number')\n",
    "else :\n",
    "    while i<n:\n",
    "        print(a,sep=' ')\n",
    "        c=a+b\n",
    "        a=b\n",
    "        b=c\n",
    "        i+=1"
   ]
  },
  {
   "cell_type": "code",
   "execution_count": 13,
   "id": "f32b64b1",
   "metadata": {},
   "outputs": [
    {
     "name": "stdout",
     "output_type": "stream",
     "text": [
      "0 1 1 2 3 5 8 13 21 34 55 "
     ]
    }
   ],
   "source": [
    "n = 11\n",
    "a = 0\n",
    "b = 1\n",
    "while n>0:\n",
    "    print(a, end=' ')\n",
    "    c = a + b\n",
    "    a = b\n",
    "    b = c\n",
    "    n -= 1"
   ]
  },
  {
   "cell_type": "code",
   "execution_count": 14,
   "id": "728235a8",
   "metadata": {},
   "outputs": [
    {
     "name": "stdout",
     "output_type": "stream",
     "text": [
      "          1 \n",
      "        1 2 \n",
      "+++++++++++\n",
      "      1 2 3 \n",
      "    1 2 3 4 \n",
      "  1 2 3 4 5 \n"
     ]
    }
   ],
   "source": [
    "n = 5\n",
    "for i in range(n):\n",
    "    p = 1\n",
    "    if i ==2:\n",
    "        print('+++++++++++')\n",
    "    for j in range (i,n):\n",
    "        print(\" \" , end=\" \" )\n",
    "    for j in range(i+1):\n",
    "        print(p, end=\" \" )\n",
    "        p +=1\n",
    "    print()"
   ]
  },
  {
   "cell_type": "code",
   "execution_count": 15,
   "id": "c5242def",
   "metadata": {},
   "outputs": [
    {
     "name": "stdout",
     "output_type": "stream",
     "text": [
      "        1 \n",
      "      1 2 \n",
      "*********\n",
      "    1 2 3 \n",
      "  1 2 3 4 \n",
      "1 2 3 4 5 \n"
     ]
    }
   ],
   "source": [
    "n = 5\n",
    "for i in range(n):\n",
    "    if i ==2:print('*********')\n",
    "    for k in range(n-i-1):\n",
    "        print(\" \",end=\" \")\n",
    "    for j in range(i+1):\n",
    "        print(j+1,end=\" \")\n",
    "    print()"
   ]
  },
  {
   "cell_type": "code",
   "execution_count": 16,
   "id": "afe208e4",
   "metadata": {},
   "outputs": [
    {
     "name": "stdout",
     "output_type": "stream",
     "text": [
      "enter how many numbers of fibonacci series to print :  10\n",
      "0\n",
      "1\n",
      "1\n",
      "2\n",
      "3\n",
      "5\n",
      "8\n",
      "13\n",
      "21\n",
      "34\n"
     ]
    }
   ],
   "source": [
    "n = int(input('enter how many numbers of fibonacci series to print :  '))\n",
    "a,b=0,1\n",
    "i=0\n",
    "print(a,b,sep='\\n')\n",
    "if n<1:\n",
    "    print('enter positive number')\n",
    "else :\n",
    "    while i<n-2:\n",
    "        c=a+b\n",
    "        print(c,sep=' ')\n",
    "        a=b\n",
    "        b=c\n",
    "        i+=1"
   ]
  }
 ],
 "metadata": {
  "kernelspec": {
   "display_name": "Python 3 (ipykernel)",
   "language": "python",
   "name": "python3"
  },
  "language_info": {
   "codemirror_mode": {
    "name": "ipython",
    "version": 3
   },
   "file_extension": ".py",
   "mimetype": "text/x-python",
   "name": "python",
   "nbconvert_exporter": "python",
   "pygments_lexer": "ipython3",
   "version": "3.9.7"
  },
  "toc": {
   "base_numbering": 1,
   "nav_menu": {},
   "number_sections": true,
   "sideBar": true,
   "skip_h1_title": false,
   "title_cell": "Table of Contents",
   "title_sidebar": "Contents",
   "toc_cell": false,
   "toc_position": {},
   "toc_section_display": true,
   "toc_window_display": false
  }
 },
 "nbformat": 4,
 "nbformat_minor": 5
}
