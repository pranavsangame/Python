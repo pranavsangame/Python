{
 "cells": [
  {
   "cell_type": "markdown",
   "id": "80b930f9",
   "metadata": {},
   "source": [
    "# Python Variables"
   ]
  },
  {
   "cell_type": "raw",
   "id": "d9e05ed3",
   "metadata": {},
   "source": [
    "Variable is a container/entity that stores the data\n",
    "\n",
    "Rules for defining a variable:\n",
    "1. Letters (A-Z, a-z, 0-9)\n",
    "2. It should not start with numbers.\n",
    "3. It can use underscore ( _ ) but not any other special character.\n",
    "4. It can not use reserved words. (def, class, any, all if, elif ) Total 35\n",
    "5. Variables are case sensitive."
   ]
  },
  {
   "cell_type": "code",
   "execution_count": 1,
   "id": "1a304dd4",
   "metadata": {
    "scrolled": true
   },
   "outputs": [
    {
     "name": "stdout",
     "output_type": "stream",
     "text": [
      "\n",
      "Here is a list of the Python keywords.  Enter any keyword to get more help.\n",
      "\n",
      "False               break               for                 not\n",
      "None                class               from                or\n",
      "True                continue            global              pass\n",
      "__peg_parser__      def                 if                  raise\n",
      "and                 del                 import              return\n",
      "as                  elif                in                  try\n",
      "assert              else                is                  while\n",
      "async               except              lambda              with\n",
      "await               finally             nonlocal            yield\n",
      "\n"
     ]
    }
   ],
   "source": [
    "help('keywords')"
   ]
  },
  {
   "cell_type": "raw",
   "id": "016c1d29",
   "metadata": {},
   "source": [
    "Global variable & Local variable:\n",
    "variable defined outside the function body is called as Global Variable\n",
    "scope of global variable is entire notebook.\n",
    "    \n",
    "variable defined inside the function body is called as local variable.\n",
    "scope of local is only inside the function."
   ]
  },
  {
   "cell_type": "raw",
   "id": "fc26de8f",
   "metadata": {},
   "source": [
    "#Scope of variable \n",
    "\n",
    "1. Global variable -- > Variable declared outside the function and has acces in whole program \n",
    "\n",
    "2. Local Variable ---> variable declared in inside the function and has scope only to that function"
   ]
  },
  {
   "cell_type": "code",
   "execution_count": 2,
   "id": "fb951c96",
   "metadata": {},
   "outputs": [
    {
     "name": "stdout",
     "output_type": "stream",
     "text": [
      "Global Variable sachin\n"
     ]
    },
    {
     "ename": "NameError",
     "evalue": "name 'my_var' is not defined",
     "output_type": "error",
     "traceback": [
      "\u001b[1;31m---------------------------------------------------------------------------\u001b[0m",
      "\u001b[1;31mNameError\u001b[0m                                 Traceback (most recent call last)",
      "\u001b[1;32m~\\AppData\\Local\\Temp/ipykernel_25980/2962772119.py\u001b[0m in \u001b[0;36m<module>\u001b[1;34m\u001b[0m\n\u001b[0;32m      6\u001b[0m \u001b[1;33m\u001b[0m\u001b[0m\n\u001b[0;32m      7\u001b[0m \u001b[0mprint\u001b[0m\u001b[1;33m(\u001b[0m\u001b[1;34m\"Global Variable\"\u001b[0m\u001b[1;33m,\u001b[0m\u001b[0mmy_var_global\u001b[0m\u001b[1;33m)\u001b[0m\u001b[1;33m\u001b[0m\u001b[1;33m\u001b[0m\u001b[0m\n\u001b[1;32m----> 8\u001b[1;33m \u001b[0mprint\u001b[0m\u001b[1;33m(\u001b[0m\u001b[1;34m\"Local Variable\"\u001b[0m\u001b[1;33m,\u001b[0m\u001b[0mmy_var\u001b[0m\u001b[1;33m)\u001b[0m\u001b[1;33m\u001b[0m\u001b[1;33m\u001b[0m\u001b[0m\n\u001b[0m\u001b[0;32m      9\u001b[0m \u001b[0mmy_fun\u001b[0m\u001b[1;33m\u001b[0m\u001b[1;33m\u001b[0m\u001b[0m\n",
      "\u001b[1;31mNameError\u001b[0m: name 'my_var' is not defined"
     ]
    }
   ],
   "source": [
    "my_var_global = \"sachin\" # Global Variable \n",
    "def my_fun():\n",
    "    my_var = \"dhoni\" # local variable \n",
    "    print(\"Global Variable\",my_var_global)\n",
    "    print(\"Local Variable\",my_var)\n",
    "    \n",
    "print(\"Global Variable\",my_var_global)\n",
    "print(\"Local Variable\",my_var)\n",
    "my_fun"
   ]
  },
  {
   "cell_type": "code",
   "execution_count": 3,
   "id": "50f0f911",
   "metadata": {},
   "outputs": [
    {
     "name": "stdout",
     "output_type": "stream",
     "text": [
      "Global Variable sachin\n",
      "Global Variable sachin\n",
      "Local Variable dhoni\n",
      "None\n"
     ]
    }
   ],
   "source": [
    "my_var_global = \"sachin\" # Global Variable # 1\n",
    "def my_fun():\n",
    "    my_var = \"dhoni\" # local variable  # 3\n",
    "    print(\"Global Variable\",my_var_global) # 4\n",
    "    print(\"Local Variable\",my_var)\n",
    "    \n",
    "print(\"Global Variable\",my_var_global) # 2\n",
    "# print(\"Local Variable\",my_var)\n",
    "print(my_fun())"
   ]
  },
  {
   "cell_type": "code",
   "execution_count": 4,
   "id": "8262d33e",
   "metadata": {},
   "outputs": [
    {
     "name": "stdout",
     "output_type": "stream",
     "text": [
      "Global Variable sachin\n",
      "Local Variable dhoni\n",
      "Global Variable_inside function sachin\n",
      "None\n"
     ]
    }
   ],
   "source": [
    "my_var_global = \"sachin\" # Global Variable # 1\n",
    "def my_fun():\n",
    "    my_var = \"dhoni\" # local variable  # 3\n",
    "    print(\"Local Variable\",my_var) # 4\n",
    "    print(\"Global Variable_inside function\",my_var_global) # 5\n",
    "    \n",
    "    \n",
    "print(\"Global Variable\",my_var_global) # 2\n",
    "# print(\"Local Variable\",my_var)\n",
    "print(my_fun()) "
   ]
  },
  {
   "cell_type": "code",
   "execution_count": 5,
   "id": "3a219bd7",
   "metadata": {
    "scrolled": true
   },
   "outputs": [
    {
     "name": "stdout",
     "output_type": "stream",
     "text": [
      "Global Variable sachin\n"
     ]
    },
    {
     "ename": "NameError",
     "evalue": "name 'my_var' is not defined",
     "output_type": "error",
     "traceback": [
      "\u001b[1;31m---------------------------------------------------------------------------\u001b[0m",
      "\u001b[1;31mNameError\u001b[0m                                 Traceback (most recent call last)",
      "\u001b[1;32m~\\AppData\\Local\\Temp/ipykernel_25980/1160934248.py\u001b[0m in \u001b[0;36m<module>\u001b[1;34m\u001b[0m\n\u001b[0;32m      7\u001b[0m \u001b[1;33m\u001b[0m\u001b[0m\n\u001b[0;32m      8\u001b[0m \u001b[0mprint\u001b[0m\u001b[1;33m(\u001b[0m\u001b[1;34m\"Global Variable\"\u001b[0m\u001b[1;33m,\u001b[0m\u001b[0mmy_var_global\u001b[0m\u001b[1;33m)\u001b[0m \u001b[1;31m# 2\u001b[0m\u001b[1;33m\u001b[0m\u001b[1;33m\u001b[0m\u001b[0m\n\u001b[1;32m----> 9\u001b[1;33m \u001b[0mprint\u001b[0m\u001b[1;33m(\u001b[0m\u001b[1;34m\"Local Variable\"\u001b[0m\u001b[1;33m,\u001b[0m\u001b[0mmy_var\u001b[0m\u001b[1;33m)\u001b[0m \u001b[1;31m# 3\u001b[0m\u001b[1;33m\u001b[0m\u001b[1;33m\u001b[0m\u001b[0m\n\u001b[0m\u001b[0;32m     10\u001b[0m \u001b[0mprint\u001b[0m\u001b[1;33m(\u001b[0m\u001b[0mmy_fun\u001b[0m\u001b[1;33m(\u001b[0m\u001b[1;33m)\u001b[0m\u001b[1;33m)\u001b[0m \u001b[1;31m# 4\u001b[0m\u001b[1;33m\u001b[0m\u001b[1;33m\u001b[0m\u001b[0m\n",
      "\u001b[1;31mNameError\u001b[0m: name 'my_var' is not defined"
     ]
    }
   ],
   "source": [
    "my_var_global = \"sachin\" # Global Variable # 1\n",
    "def my_fun():\n",
    "    my_var = \"dhoni\" # local variable  # 5\n",
    "    print(\"Local Variable\",my_var) # 6\n",
    "    print(\"Global Variable_inside function\",my_var_global) # 7\n",
    "    \n",
    "    \n",
    "print(\"Global Variable\",my_var_global) # 2\n",
    "print(\"Local Variable\",my_var) # 3\n",
    "print(my_fun()) # 4"
   ]
  },
  {
   "cell_type": "code",
   "execution_count": 6,
   "id": "5fe135a7",
   "metadata": {},
   "outputs": [
    {
     "name": "stdout",
     "output_type": "stream",
     "text": [
      "50\n",
      "80\n",
      "100\n"
     ]
    }
   ],
   "source": [
    "no1= 50 \n",
    "no2 = 80 \n",
    "no3 = 100\n",
    "print(no1)\n",
    "print(no2)\n",
    "print(no3)"
   ]
  },
  {
   "cell_type": "code",
   "execution_count": 7,
   "id": "85ecc506",
   "metadata": {},
   "outputs": [
    {
     "name": "stdout",
     "output_type": "stream",
     "text": [
      "50\n",
      "80\n",
      "100\n"
     ]
    }
   ],
   "source": [
    "no1,no2,no3 = 50 ,80,100 \n",
    "\n",
    "print(no1)\n",
    "print(no2)\n",
    "print(no3)"
   ]
  },
  {
   "cell_type": "markdown",
   "id": "ed97d0bc",
   "metadata": {},
   "source": [
    "# Print Methods"
   ]
  },
  {
   "cell_type": "markdown",
   "id": "6644628a",
   "metadata": {},
   "source": [
    "## Type"
   ]
  },
  {
   "cell_type": "raw",
   "id": "b4bb1322",
   "metadata": {},
   "source": [
    "Syntax:\n",
    "    type('Variable_name')\n",
    "    \n",
    "Output will show datatype of variable eg. int64, float64, str (string)"
   ]
  },
  {
   "cell_type": "raw",
   "id": "c2732568",
   "metadata": {},
   "source": [
    "Syntax:\n",
    "    print()\n",
    "    \n",
    "use of \\n as new line: enters new line in print statement.\n",
    "use of \\t as tab key: enters extra space in line.\n",
    "use of \\ as escape charactter: escapes the special character.\n",
    "    \n",
    "use of raw string: while printing statement put ('r') before statement will ignore escape character.\n",
    "        r string used when we give file path in print statement.\n",
    "        eg. print(r'C:\\nProgram Files (x86)\\Adobe\\Acrobat 5.0')\n",
    "\n",
    "use of end as print statement joins with anathe print statement.\n",
    "        print(\"Python is very intresting\",end='***')\n",
    "\n",
    "use of sep as single print statement seperates the two statement\n",
    "        print(\"Python is very intresting\",\"it is most popular language\",sep='   ')\n",
    "\n",
    "use of FR string:\n",
    "x = 10\n",
    "print(r'take this no. {x} & nothing \\n more')   \n",
    "print(f'take this no. {x} & nothing \\n more')\n",
    "print(fr'take this no. {x} & nothing \\n more')"
   ]
  },
  {
   "cell_type": "code",
   "execution_count": 9,
   "id": "4c01ce1f",
   "metadata": {},
   "outputs": [
    {
     "name": "stdout",
     "output_type": "stream",
     "text": [
      "Welcome to Data Science\n"
     ]
    }
   ],
   "source": [
    "print('Welcome to Data Science')"
   ]
  },
  {
   "cell_type": "code",
   "execution_count": 10,
   "id": "4b4a4678",
   "metadata": {},
   "outputs": [
    {
     "name": "stdout",
     "output_type": "stream",
     "text": [
      "Welcome to Data Science\n"
     ]
    }
   ],
   "source": [
    "var = \"Welcome to Data Science\"\n",
    "print(var)"
   ]
  },
  {
   "cell_type": "code",
   "execution_count": 11,
   "id": "a70a23f3",
   "metadata": {},
   "outputs": [
    {
     "name": "stdout",
     "output_type": "stream",
     "text": [
      "Addition of Two Number 30\n"
     ]
    }
   ],
   "source": [
    "# addition of two numbers \n",
    "a = 10\n",
    "b = 20\n",
    "total = a + b\n",
    "print(\"Addition of Two Number\",total)"
   ]
  },
  {
   "cell_type": "code",
   "execution_count": 12,
   "id": "b7cd17ca",
   "metadata": {},
   "outputs": [
    {
     "data": {
      "text/plain": [
       "30"
      ]
     },
     "execution_count": 12,
     "metadata": {},
     "output_type": "execute_result"
    }
   ],
   "source": [
    "# addition of two numbers \n",
    "a = 10\n",
    "b = 20\n",
    "total = a + b\n",
    "total"
   ]
  },
  {
   "cell_type": "code",
   "execution_count": 13,
   "id": "8deffc54",
   "metadata": {},
   "outputs": [
    {
     "name": "stdout",
     "output_type": "stream",
     "text": [
      "A= 30\n"
     ]
    }
   ],
   "source": [
    "# addition of two numbers \n",
    "a = 10\n",
    "b = 20\n",
    "total = a + b\n",
    "print(\"A=\",total)"
   ]
  },
  {
   "cell_type": "markdown",
   "id": "abf3f087",
   "metadata": {},
   "source": [
    "## .Format String"
   ]
  },
  {
   "cell_type": "code",
   "execution_count": 14,
   "id": "1089b855",
   "metadata": {},
   "outputs": [
    {
     "name": "stdout",
     "output_type": "stream",
     "text": [
      "Addition of 100 and 20 is 120\n"
     ]
    }
   ],
   "source": [
    "a = 100\n",
    "b = 20\n",
    "total = a + b\n",
    "print(\"Addition of {} and {} is {}\".format(a,b,total))"
   ]
  },
  {
   "cell_type": "code",
   "execution_count": 15,
   "id": "66ab8b59",
   "metadata": {},
   "outputs": [
    {
     "name": "stdout",
     "output_type": "stream",
     "text": [
      "Addition of 20 and 100 is 120\n"
     ]
    }
   ],
   "source": [
    "a = 100\n",
    "b = 20\n",
    "total = a + b\n",
    "print(\"Addition of {} and {} is {}\".format(b,a,total))"
   ]
  },
  {
   "cell_type": "code",
   "execution_count": 16,
   "id": "c50afe43",
   "metadata": {},
   "outputs": [
    {
     "name": "stdout",
     "output_type": "stream",
     "text": [
      "Addition of 50 and 80 is 120\n"
     ]
    }
   ],
   "source": [
    "a = 100\n",
    "b = 20\n",
    "total = a + b\n",
    "print(\"Addition of {} and {} is {}\".format(no1,no2,total))"
   ]
  },
  {
   "cell_type": "markdown",
   "id": "651c1ddb",
   "metadata": {},
   "source": [
    "## F-string"
   ]
  },
  {
   "cell_type": "markdown",
   "id": "066a8378",
   "metadata": {},
   "source": [
    "Synatx:\n",
    "    print(f\"{var}\")"
   ]
  },
  {
   "cell_type": "code",
   "execution_count": 17,
   "id": "1bade468",
   "metadata": {},
   "outputs": [
    {
     "name": "stdout",
     "output_type": "stream",
     "text": [
      "Addition of 100 and 20 is 120\n"
     ]
    }
   ],
   "source": [
    "a = 100\n",
    "b = 20\n",
    "total = a + b\n",
    "print(f\"Addition of {a} and {b} is {total}\")"
   ]
  },
  {
   "cell_type": "code",
   "execution_count": 18,
   "id": "a60b39a2",
   "metadata": {},
   "outputs": [
    {
     "name": "stdout",
     "output_type": "stream",
     "text": [
      "Addition of Data and 120 is 100\n"
     ]
    }
   ],
   "source": [
    "a = 100\n",
    "b = 20\n",
    "no1 = \"Data\"\n",
    "no2=\"Science\"\n",
    "total = a + b\n",
    "print(f\"Addition of {no1} and {total} is {a}\")"
   ]
  },
  {
   "cell_type": "code",
   "execution_count": 19,
   "id": "5684a504",
   "metadata": {},
   "outputs": [
    {
     "name": "stdout",
     "output_type": "stream",
     "text": [
      "Addition of A 100\n",
      "Addition of B 20\n",
      "TOTAL 120\n"
     ]
    }
   ],
   "source": [
    "a = 100\n",
    "b = 20\n",
    "total = a + b\n",
    "print(f\"Addition of A {a}\")\n",
    "print(f\"Addition of B {b}\")\n",
    "print(f\"TOTAL {total}\")\n"
   ]
  },
  {
   "cell_type": "markdown",
   "id": "41979b1f",
   "metadata": {},
   "source": [
    "## FR String"
   ]
  },
  {
   "cell_type": "code",
   "execution_count": 8,
   "id": "0db89559",
   "metadata": {},
   "outputs": [
    {
     "name": "stdout",
     "output_type": "stream",
     "text": [
      "take this no. {x} & nothing \\n more\n",
      "take this no. 10 & nothing \n",
      " more\n",
      "take this no. 10 & nothing \\n more\n"
     ]
    }
   ],
   "source": [
    "#use of FR string:\n",
    "x = 10\n",
    "print(r'take this no. {x} & nothing \\n more')   \n",
    "print(f'take this no. {x} & nothing \\n more')\n",
    "print(fr'take this no. {x} & nothing \\n more')"
   ]
  },
  {
   "cell_type": "markdown",
   "id": "864750d1",
   "metadata": {},
   "source": [
    "# Taking in variables using input function"
   ]
  },
  {
   "cell_type": "code",
   "execution_count": 3,
   "id": "e94be241",
   "metadata": {},
   "outputs": [
    {
     "name": "stdout",
     "output_type": "stream",
     "text": [
      "addition of 10 & 20 is 30\n"
     ]
    }
   ],
   "source": [
    "a = 10\n",
    "b = 20\n",
    "\n",
    "print(f'addition of {a} & {b} is {a+b}')"
   ]
  },
  {
   "cell_type": "code",
   "execution_count": 4,
   "id": "c118f82c",
   "metadata": {},
   "outputs": [
    {
     "name": "stdout",
     "output_type": "stream",
     "text": [
      "enter 1st number of your choice: 15\n",
      "enter 2nd number of your choice: 52\n",
      "15 52 <class 'str'> <class 'str'> 1552\n"
     ]
    }
   ],
   "source": [
    "a = input('enter 1st number of your choice: ')\n",
    "b = input('enter 2nd number of your choice: ')\n",
    "\n",
    "print(a,b,type(a),type(b),a+b)"
   ]
  },
  {
   "cell_type": "code",
   "execution_count": 5,
   "id": "6f3adff7",
   "metadata": {},
   "outputs": [
    {
     "name": "stdout",
     "output_type": "stream",
     "text": [
      "enter 1st number of your choice: 10\n",
      "enter 2nd number of your choice: 65\n",
      "10 65 <class 'int'> <class 'int'> 75\n"
     ]
    }
   ],
   "source": [
    "a = int(input('enter 1st number of your choice: '))\n",
    "b = int(input('enter 2nd number of your choice: '))\n",
    "\n",
    "print(a,b,type(a),type(b),a+b)"
   ]
  },
  {
   "cell_type": "code",
   "execution_count": 6,
   "id": "a313933a",
   "metadata": {},
   "outputs": [
    {
     "name": "stdout",
     "output_type": "stream",
     "text": [
      "enter 1st number of your choice: 4.6\n",
      "enter 2nd number of your choice: 8.2\n",
      "4.6 8.2 <class 'float'> <class 'float'> 12.799999999999999\n"
     ]
    }
   ],
   "source": [
    "a = float(input('enter 1st number of your choice: '))\n",
    "b = float(input('enter 2nd number of your choice: '))\n",
    "\n",
    "print(a,b,type(a),type(b),a+b)"
   ]
  },
  {
   "cell_type": "markdown",
   "id": "cc58faf0",
   "metadata": {},
   "source": [
    "# Comments in Python"
   ]
  },
  {
   "cell_type": "raw",
   "id": "51bef85f",
   "metadata": {},
   "source": [
    "use to explain the code.\n",
    "not use any line as a code line.\n",
    "prevents execution when running the code.\n",
    "we commet using #\n",
    "shortcut key ctrl + /"
   ]
  },
  {
   "cell_type": "markdown",
   "id": "ab42897f",
   "metadata": {},
   "source": [
    "# Indentation error"
   ]
  },
  {
   "cell_type": "code",
   "execution_count": null,
   "id": "d44c87ef",
   "metadata": {},
   "outputs": [],
   "source": [
    "### caused due to excess spaces or not following the code format. This is also space error."
   ]
  },
  {
   "cell_type": "code",
   "execution_count": 1,
   "id": "286d363f",
   "metadata": {},
   "outputs": [
    {
     "ename": "IndentationError",
     "evalue": "unexpected indent (Temp/ipykernel_10288/3888689027.py, line 2)",
     "output_type": "error",
     "traceback": [
      "\u001b[1;36m  File \u001b[1;32m\"C:\\Users\\Pranav\\AppData\\Local\\Temp/ipykernel_10288/3888689027.py\"\u001b[1;36m, line \u001b[1;32m2\u001b[0m\n\u001b[1;33m    b = 20\u001b[0m\n\u001b[1;37m    ^\u001b[0m\n\u001b[1;31mIndentationError\u001b[0m\u001b[1;31m:\u001b[0m unexpected indent\n"
     ]
    }
   ],
   "source": [
    "a = 10\n",
    "    b = 20"
   ]
  },
  {
   "cell_type": "code",
   "execution_count": 2,
   "id": "86c56fd6",
   "metadata": {},
   "outputs": [
    {
     "ename": "IndentationError",
     "evalue": "unexpected indent (Temp/ipykernel_10288/1699885337.py, line 3)",
     "output_type": "error",
     "traceback": [
      "\u001b[1;36m  File \u001b[1;32m\"C:\\Users\\Pranav\\AppData\\Local\\Temp/ipykernel_10288/1699885337.py\"\u001b[1;36m, line \u001b[1;32m3\u001b[0m\n\u001b[1;33m    print('a is not 20')\u001b[0m\n\u001b[1;37m    ^\u001b[0m\n\u001b[1;31mIndentationError\u001b[0m\u001b[1;31m:\u001b[0m unexpected indent\n"
     ]
    }
   ],
   "source": [
    "if a == 10:\n",
    "    print('a is 10')\n",
    "     print('a is not 20')"
   ]
  }
 ],
 "metadata": {
  "kernelspec": {
   "display_name": "Python 3 (ipykernel)",
   "language": "python",
   "name": "python3"
  },
  "language_info": {
   "codemirror_mode": {
    "name": "ipython",
    "version": 3
   },
   "file_extension": ".py",
   "mimetype": "text/x-python",
   "name": "python",
   "nbconvert_exporter": "python",
   "pygments_lexer": "ipython3",
   "version": "3.9.7"
  },
  "toc": {
   "base_numbering": 1,
   "nav_menu": {},
   "number_sections": true,
   "sideBar": true,
   "skip_h1_title": false,
   "title_cell": "Table of Contents",
   "title_sidebar": "Contents",
   "toc_cell": false,
   "toc_position": {},
   "toc_section_display": true,
   "toc_window_display": false
  }
 },
 "nbformat": 4,
 "nbformat_minor": 5
}
