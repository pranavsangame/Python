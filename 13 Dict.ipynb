{
 "cells": [
  {
   "cell_type": "raw",
   "id": "e9880fe6",
   "metadata": {},
   "source": [
    "string : immutable, oredered, duplicates are allowed\n",
    "list   : mutable, ordered, duplicates allowed\n",
    "tuple  : immutable, ordered, duplicates allowed\n",
    "set    : mutable, unordered, duplicates not allowed\n",
    "frozenset: immutable, unordered, duplicates not allowed\n",
    "dict   : mutable, duplicates keys are not allowed, duplicate values are allowed\n",
    "        ordered >= Python 3.6 version\n",
    "        unordered < Python 3.6 version"
   ]
  },
  {
   "cell_type": "raw",
   "id": "dd09467a",
   "metadata": {},
   "source": [
    "list1 = []\n",
    "set   = {1}\n",
    "dict  = {key1:values,key2:values}\n",
    "\n",
    "elements in dict are comma separated\n",
    "\n",
    "duplicates & supported data types:\n",
    "    keys  : duplicates not allowed : data types (int,float,complex,str,tuple)\n",
    "    values: duplicates are allowed : All data types "
   ]
  },
  {
   "cell_type": "code",
   "execution_count": 1,
   "id": "3a7ca1ab",
   "metadata": {},
   "outputs": [
    {
     "data": {
      "text/plain": [
       "{}"
      ]
     },
     "execution_count": 1,
     "metadata": {},
     "output_type": "execute_result"
    }
   ],
   "source": [
    "dict1 = {}\n",
    "dict1"
   ]
  },
  {
   "cell_type": "code",
   "execution_count": 2,
   "id": "d51c3a24",
   "metadata": {},
   "outputs": [
    {
     "data": {
      "text/plain": [
       "dict"
      ]
     },
     "execution_count": 2,
     "metadata": {},
     "output_type": "execute_result"
    }
   ],
   "source": [
    "type(dict1)"
   ]
  },
  {
   "cell_type": "code",
   "execution_count": 3,
   "id": "dd6b7571",
   "metadata": {},
   "outputs": [
    {
     "name": "stdout",
     "output_type": "stream",
     "text": [
      "<class 'dict'> {'Name': 'Sachin'} 1\n"
     ]
    }
   ],
   "source": [
    "d1 = {'Name':'Sachin'}\n",
    "print(type(d1),d1,len(d1))"
   ]
  },
  {
   "cell_type": "code",
   "execution_count": 4,
   "id": "bdf4511b",
   "metadata": {},
   "outputs": [
    {
     "data": {
      "text/plain": [
       "{'Name': 'Sachin',\n",
       " 'Age': 40,\n",
       " 'Heighest score': 200,\n",
       " 100: [48, 52],\n",
       " 50: (100, 98)}"
      ]
     },
     "execution_count": 4,
     "metadata": {},
     "output_type": "execute_result"
    }
   ],
   "source": [
    "player_data = {'Name':'Sachin','Age':40,'Heighest score':200,100:[48,52],50:(100,98)}\n",
    "\n",
    "player_data"
   ]
  },
  {
   "cell_type": "code",
   "execution_count": 5,
   "id": "7e60d51e",
   "metadata": {},
   "outputs": [
    {
     "data": {
      "text/plain": [
       "5"
      ]
     },
     "execution_count": 5,
     "metadata": {},
     "output_type": "execute_result"
    }
   ],
   "source": [
    "len(player_data)"
   ]
  },
  {
   "cell_type": "code",
   "execution_count": 6,
   "id": "3ee3f5d3",
   "metadata": {},
   "outputs": [
    {
     "name": "stdout",
     "output_type": "stream",
     "text": [
      "{'Name': 'Sachin', 'Age': 40, 'Heighest score': 200, '100': 48, '50': 100}\n"
     ]
    }
   ],
   "source": [
    "import pandas as pd\n",
    "\n",
    "player_data = {'Name':'Sachin','Age':40,'Heighest score':200,'100':48,'50':100}\n",
    "print(player_data)\n",
    "\n",
    "df = pd.DataFrame.from_dict(player_data, orient ='index') \n",
    "x=df.T\n",
    "x.to_csv('players.csv')"
   ]
  },
  {
   "cell_type": "code",
   "execution_count": 7,
   "id": "2c1a11a8",
   "metadata": {},
   "outputs": [
    {
     "name": "stdout",
     "output_type": "stream",
     "text": [
      "{1: {'Name': 'Sachin', 'Age': 40, 'Heighest score': 200}, 2: {'Name': 'Virender', 'Age': 38, 'Heighest score': 209}}\n"
     ]
    }
   ],
   "source": [
    "import pandas as pd\n",
    "\n",
    "player_data = {1:{'Name':'Sachin','Age':40,'Heighest score':200},\n",
    "              2:{'Name':'Virender','Age':38,'Heighest score':209}}\n",
    "print(player_data)"
   ]
  },
  {
   "cell_type": "code",
   "execution_count": 8,
   "id": "f231c841",
   "metadata": {},
   "outputs": [],
   "source": [
    "df = pd.DataFrame(player_data)"
   ]
  },
  {
   "cell_type": "code",
   "execution_count": 9,
   "id": "05eafd36",
   "metadata": {},
   "outputs": [
    {
     "data": {
      "text/html": [
       "<div>\n",
       "<style scoped>\n",
       "    .dataframe tbody tr th:only-of-type {\n",
       "        vertical-align: middle;\n",
       "    }\n",
       "\n",
       "    .dataframe tbody tr th {\n",
       "        vertical-align: top;\n",
       "    }\n",
       "\n",
       "    .dataframe thead th {\n",
       "        text-align: right;\n",
       "    }\n",
       "</style>\n",
       "<table border=\"1\" class=\"dataframe\">\n",
       "  <thead>\n",
       "    <tr style=\"text-align: right;\">\n",
       "      <th></th>\n",
       "      <th>Name</th>\n",
       "      <th>Age</th>\n",
       "      <th>Heighest score</th>\n",
       "    </tr>\n",
       "  </thead>\n",
       "  <tbody>\n",
       "    <tr>\n",
       "      <th>1</th>\n",
       "      <td>Sachin</td>\n",
       "      <td>40</td>\n",
       "      <td>200</td>\n",
       "    </tr>\n",
       "    <tr>\n",
       "      <th>2</th>\n",
       "      <td>Virender</td>\n",
       "      <td>38</td>\n",
       "      <td>209</td>\n",
       "    </tr>\n",
       "  </tbody>\n",
       "</table>\n",
       "</div>"
      ],
      "text/plain": [
       "       Name Age Heighest score\n",
       "1    Sachin  40            200\n",
       "2  Virender  38            209"
      ]
     },
     "execution_count": 9,
     "metadata": {},
     "output_type": "execute_result"
    }
   ],
   "source": [
    "df.T"
   ]
  },
  {
   "cell_type": "code",
   "execution_count": 10,
   "id": "51c04662",
   "metadata": {},
   "outputs": [
    {
     "name": "stdout",
     "output_type": "stream",
     "text": [
      "{'Name': 'Sachin', 'Age': 40, 'Heighest score': 200}\n"
     ]
    }
   ],
   "source": [
    "player = {'Name':'Sachin','Age':40,'Heighest score':200}\n",
    "print(player)\n",
    "\n",
    "df = pd.DataFrame([player])\n",
    "df.to_excel('player.xlsx')"
   ]
  },
  {
   "cell_type": "markdown",
   "id": "9749aee0",
   "metadata": {},
   "source": [
    "# Accessing the items in dictionary"
   ]
  },
  {
   "cell_type": "code",
   "execution_count": 11,
   "id": "a9e47117",
   "metadata": {},
   "outputs": [
    {
     "data": {
      "text/plain": [
       "{'Emp_name': 'Kunal',\n",
       " 'Salary': 80000,\n",
       " 'Designation': 'Data Scientist',\n",
       " 'Age': 30,\n",
       " 'Emp_ID': 10011}"
      ]
     },
     "execution_count": 11,
     "metadata": {},
     "output_type": "execute_result"
    }
   ],
   "source": [
    "employees = {'Emp_name':'Kunal','Salary':80000, 'Designation': 'Data Scientist','Age':30,'Emp_ID':10011}\n",
    "\n",
    "employees"
   ]
  },
  {
   "cell_type": "code",
   "execution_count": 12,
   "id": "7f6bce9e",
   "metadata": {},
   "outputs": [
    {
     "data": {
      "text/plain": [
       "'Kunal'"
      ]
     },
     "execution_count": 12,
     "metadata": {},
     "output_type": "execute_result"
    }
   ],
   "source": [
    "employees['Emp_name']"
   ]
  },
  {
   "cell_type": "code",
   "execution_count": 13,
   "id": "b84b64b7",
   "metadata": {},
   "outputs": [
    {
     "data": {
      "text/plain": [
       "80000"
      ]
     },
     "execution_count": 13,
     "metadata": {},
     "output_type": "execute_result"
    }
   ],
   "source": [
    "employees['Salary']"
   ]
  },
  {
   "cell_type": "code",
   "execution_count": 14,
   "id": "8c921266",
   "metadata": {},
   "outputs": [
    {
     "ename": "KeyError",
     "evalue": "'salary'",
     "output_type": "error",
     "traceback": [
      "\u001b[1;31m---------------------------------------------------------------------------\u001b[0m",
      "\u001b[1;31mKeyError\u001b[0m                                  Traceback (most recent call last)",
      "\u001b[1;32m~\\AppData\\Local\\Temp/ipykernel_17040/3621540645.py\u001b[0m in \u001b[0;36m<module>\u001b[1;34m\u001b[0m\n\u001b[1;32m----> 1\u001b[1;33m \u001b[0memployees\u001b[0m\u001b[1;33m[\u001b[0m\u001b[1;34m'salary'\u001b[0m\u001b[1;33m]\u001b[0m\u001b[1;33m\u001b[0m\u001b[1;33m\u001b[0m\u001b[0m\n\u001b[0m",
      "\u001b[1;31mKeyError\u001b[0m: 'salary'"
     ]
    }
   ],
   "source": [
    "employees['salary']"
   ]
  },
  {
   "cell_type": "markdown",
   "id": "010663d1",
   "metadata": {},
   "source": [
    "## Get function"
   ]
  },
  {
   "cell_type": "code",
   "execution_count": 15,
   "id": "2345b984",
   "metadata": {},
   "outputs": [
    {
     "data": {
      "text/plain": [
       "80000"
      ]
     },
     "execution_count": 15,
     "metadata": {},
     "output_type": "execute_result"
    }
   ],
   "source": [
    "employees.get('Salary')"
   ]
  },
  {
   "cell_type": "code",
   "execution_count": 16,
   "id": "9413a127",
   "metadata": {},
   "outputs": [
    {
     "data": {
      "text/plain": [
       "30"
      ]
     },
     "execution_count": 16,
     "metadata": {},
     "output_type": "execute_result"
    }
   ],
   "source": [
    "employees.get('Age')"
   ]
  },
  {
   "cell_type": "code",
   "execution_count": 17,
   "id": "9c8a1a55",
   "metadata": {},
   "outputs": [],
   "source": [
    "employees.get('age')"
   ]
  },
  {
   "cell_type": "code",
   "execution_count": 18,
   "id": "97b9bce1",
   "metadata": {},
   "outputs": [
    {
     "name": "stdout",
     "output_type": "stream",
     "text": [
      "Emp_name --- Kunal\n",
      "Salary --- 80000\n",
      "Designation --- Data Scientist\n",
      "Age --- 30\n",
      "Emp_ID --- 10011\n"
     ]
    }
   ],
   "source": [
    "for key in employees:\n",
    "    print(key,'---',employees[key])"
   ]
  },
  {
   "cell_type": "raw",
   "id": "7d3180af",
   "metadata": {},
   "source": [
    "Dict Functions to access items:\n",
    "    keys()\n",
    "    values()\n",
    "    items()"
   ]
  },
  {
   "cell_type": "markdown",
   "id": "d9df79e3",
   "metadata": {},
   "source": [
    "## Accessing keys of dict using keys functions"
   ]
  },
  {
   "cell_type": "code",
   "execution_count": 19,
   "id": "96087bcc",
   "metadata": {},
   "outputs": [
    {
     "data": {
      "text/plain": [
       "dict_keys(['Emp_name', 'Salary', 'Designation', 'Age', 'Emp_ID'])"
      ]
     },
     "execution_count": 19,
     "metadata": {},
     "output_type": "execute_result"
    }
   ],
   "source": [
    "employees.keys()"
   ]
  },
  {
   "cell_type": "code",
   "execution_count": 20,
   "id": "0184533f",
   "metadata": {},
   "outputs": [
    {
     "name": "stdout",
     "output_type": "stream",
     "text": [
      "Emp_name\n",
      "Salary\n",
      "Designation\n",
      "Age\n",
      "Emp_ID\n"
     ]
    }
   ],
   "source": [
    "for key in employees.keys():\n",
    "    print(key)"
   ]
  },
  {
   "cell_type": "code",
   "execution_count": 21,
   "id": "20cca3de",
   "metadata": {},
   "outputs": [
    {
     "name": "stdout",
     "output_type": "stream",
     "text": [
      "Emp_name --- Kunal\n",
      "Salary --- 80000\n",
      "Designation --- Data Scientist\n",
      "Age --- 30\n",
      "Emp_ID --- 10011\n"
     ]
    }
   ],
   "source": [
    "for key in employees.keys():\n",
    "    print(key,'---',employees[key])"
   ]
  },
  {
   "cell_type": "markdown",
   "id": "a23da437",
   "metadata": {},
   "source": [
    "## Accessing the values in the dict"
   ]
  },
  {
   "cell_type": "code",
   "execution_count": 22,
   "id": "325c76de",
   "metadata": {},
   "outputs": [
    {
     "data": {
      "text/plain": [
       "dict_values(['Kunal', 80000, 'Data Scientist', 30, 10011])"
      ]
     },
     "execution_count": 22,
     "metadata": {},
     "output_type": "execute_result"
    }
   ],
   "source": [
    "employees.values()"
   ]
  },
  {
   "cell_type": "code",
   "execution_count": 23,
   "id": "8cbe706e",
   "metadata": {},
   "outputs": [
    {
     "data": {
      "text/plain": [
       "['Kunal', 80000, 'Data Scientist', 30, 10011]"
      ]
     },
     "execution_count": 23,
     "metadata": {},
     "output_type": "execute_result"
    }
   ],
   "source": [
    "list(employees.values())"
   ]
  },
  {
   "cell_type": "code",
   "execution_count": 24,
   "id": "a40eb042",
   "metadata": {},
   "outputs": [
    {
     "name": "stdout",
     "output_type": "stream",
     "text": [
      "Kunal\n",
      "80000\n",
      "Data Scientist\n",
      "30\n",
      "10011\n"
     ]
    }
   ],
   "source": [
    "for values in employees.values():\n",
    "    print(values)\n",
    "    "
   ]
  },
  {
   "cell_type": "markdown",
   "id": "6ccb4ab2",
   "metadata": {},
   "source": [
    "## Accessing both keys & values using items function"
   ]
  },
  {
   "cell_type": "code",
   "execution_count": 25,
   "id": "37ce8358",
   "metadata": {},
   "outputs": [
    {
     "data": {
      "text/plain": [
       "dict_items([('Emp_name', 'Kunal'), ('Salary', 80000), ('Designation', 'Data Scientist'), ('Age', 30), ('Emp_ID', 10011)])"
      ]
     },
     "execution_count": 25,
     "metadata": {},
     "output_type": "execute_result"
    }
   ],
   "source": [
    "employees.items()"
   ]
  },
  {
   "cell_type": "code",
   "execution_count": 26,
   "id": "1ddd97a3",
   "metadata": {},
   "outputs": [
    {
     "name": "stdout",
     "output_type": "stream",
     "text": [
      "('Emp_name', 'Kunal')\n",
      "('Salary', 80000)\n",
      "('Designation', 'Data Scientist')\n",
      "('Age', 30)\n",
      "('Emp_ID', 10011)\n"
     ]
    }
   ],
   "source": [
    "for item in employees.items():\n",
    "    print(item)"
   ]
  },
  {
   "cell_type": "code",
   "execution_count": 27,
   "id": "bfc465e8",
   "metadata": {},
   "outputs": [
    {
     "name": "stdout",
     "output_type": "stream",
     "text": [
      "Emp_name : Kunal\n",
      "Salary : 80000\n",
      "Designation : Data Scientist\n",
      "Age : 30\n",
      "Emp_ID : 10011\n"
     ]
    }
   ],
   "source": [
    "for key,value in employees.items():\n",
    "    print(key,\":\",value)"
   ]
  },
  {
   "cell_type": "markdown",
   "id": "3865e5ed",
   "metadata": {},
   "source": [
    "# Changing the items in dict"
   ]
  },
  {
   "cell_type": "code",
   "execution_count": 28,
   "id": "4e0b58b2",
   "metadata": {},
   "outputs": [],
   "source": [
    "employees = {'Emp_name':'Kunal','Salary':80000, 'Designation': 'Data Scientist','Age':30,'Emp_ID':10011}"
   ]
  },
  {
   "cell_type": "code",
   "execution_count": 29,
   "id": "36b5d81a",
   "metadata": {},
   "outputs": [
    {
     "data": {
      "text/plain": [
       "{'Emp_name': 'Hemant',\n",
       " 'Salary': 80000,\n",
       " 'Designation': 'Data Scientist',\n",
       " 'Age': 32,\n",
       " 'Emp_ID': 10011}"
      ]
     },
     "execution_count": 29,
     "metadata": {},
     "output_type": "execute_result"
    }
   ],
   "source": [
    "employees['Emp_name']='Hemant'\n",
    "\n",
    "employees['Age']=32\n",
    "\n",
    "employees"
   ]
  },
  {
   "cell_type": "markdown",
   "id": "fae93afe",
   "metadata": {},
   "source": [
    "# Adding or updating the values using update function"
   ]
  },
  {
   "cell_type": "code",
   "execution_count": 30,
   "id": "f8c57786",
   "metadata": {},
   "outputs": [
    {
     "data": {
      "text/plain": [
       "{'Emp_name': 'Kunal',\n",
       " 'Salary': 100000,\n",
       " 'Designation': 'ML Engineer',\n",
       " 'Age': 30,\n",
       " 'Emp_ID': 10021}"
      ]
     },
     "execution_count": 30,
     "metadata": {},
     "output_type": "execute_result"
    }
   ],
   "source": [
    "employees = {'Emp_name':'Kunal','Salary':80000, 'Designation': 'Data Scientist','Age':30,'Emp_ID':10011}\n",
    "\n",
    "new_data = {'Emp_ID':10021,'Designation':'ML Engineer','Salary':100000}\n",
    "\n",
    "employees.update(new_data)\n",
    "\n",
    "employees"
   ]
  },
  {
   "cell_type": "code",
   "execution_count": 31,
   "id": "6cbc0b7c",
   "metadata": {},
   "outputs": [
    {
     "data": {
      "text/plain": [
       "{'Emp_name': 'Kunal',\n",
       " 'Salary': 80000,\n",
       " 'Designation': 'ML Engineer',\n",
       " 'Age': 30,\n",
       " 'Emp_ID': 10011,\n",
       " 'Company': 'Cognizant',\n",
       " 'Project': 'Jhonsons baby'}"
      ]
     },
     "execution_count": 31,
     "metadata": {},
     "output_type": "execute_result"
    }
   ],
   "source": [
    "employees = {'Emp_name':'Kunal','Salary':80000, 'Designation': 'Data Scientist','Age':30,'Emp_ID':10011}\n",
    "\n",
    "new_data = {'Company':'Cognizant','Designation':'ML Engineer','Project':'Jhonsons baby','Age':30}\n",
    "\n",
    "employees.update(new_data)\n",
    "\n",
    "employees"
   ]
  },
  {
   "cell_type": "markdown",
   "id": "49ce61e3",
   "metadata": {},
   "source": [
    "# Setdefault()"
   ]
  },
  {
   "cell_type": "raw",
   "id": "4cf9eab1",
   "metadata": {},
   "source": [
    "It will return a value with specific key if the key is present\n",
    "If a key is not present in dict & only key variable is paased then adds a key in dictct with this key variable name & the value will be set to none \n",
    "it doent change the value of the key if the key is present but it can add another key with value"
   ]
  },
  {
   "cell_type": "code",
   "execution_count": 32,
   "id": "76101edf",
   "metadata": {},
   "outputs": [
    {
     "data": {
      "text/plain": [
       "30"
      ]
     },
     "execution_count": 32,
     "metadata": {},
     "output_type": "execute_result"
    }
   ],
   "source": [
    "employees = {'Emp_name':'Kunal','Salary':80000, 'Designation': 'Data Scientist','Age':30,'Emp_ID':10011}\n",
    "\n",
    "employees.setdefault('Age')"
   ]
  },
  {
   "cell_type": "code",
   "execution_count": 33,
   "id": "d153e260",
   "metadata": {},
   "outputs": [
    {
     "data": {
      "text/plain": [
       "{'Emp_name': 'Kunal',\n",
       " 'Salary': 80000,\n",
       " 'Designation': 'Data Scientist',\n",
       " 'Age': 30,\n",
       " 'Emp_ID': 10011,\n",
       " 'Height': None}"
      ]
     },
     "execution_count": 33,
     "metadata": {},
     "output_type": "execute_result"
    }
   ],
   "source": [
    "employees.setdefault('Height')\n",
    "employees"
   ]
  },
  {
   "cell_type": "code",
   "execution_count": 34,
   "id": "085ae123",
   "metadata": {},
   "outputs": [
    {
     "data": {
      "text/plain": [
       "{'Emp_name': 'Kunal',\n",
       " 'Salary': 80000,\n",
       " 'Designation': 'Data Scientist',\n",
       " 'Age': 30,\n",
       " 'Emp_ID': 10011,\n",
       " 'Height': None,\n",
       " 'Company': 'Infosys'}"
      ]
     },
     "execution_count": 34,
     "metadata": {},
     "output_type": "execute_result"
    }
   ],
   "source": [
    "employees.setdefault('Company','Infosys')\n",
    "employees"
   ]
  },
  {
   "cell_type": "markdown",
   "id": "501c34ed",
   "metadata": {},
   "source": [
    "# Removing the items  from dict"
   ]
  },
  {
   "cell_type": "markdown",
   "id": "0bc64fc2",
   "metadata": {},
   "source": [
    "## pop"
   ]
  },
  {
   "cell_type": "code",
   "execution_count": 35,
   "id": "f0129470",
   "metadata": {},
   "outputs": [
    {
     "data": {
      "text/plain": [
       "{'Emp_name': 'Kunal',\n",
       " 'Salary': 80000,\n",
       " 'Designation': 'Data Scientist',\n",
       " 'Emp_ID': 10011}"
      ]
     },
     "execution_count": 35,
     "metadata": {},
     "output_type": "execute_result"
    }
   ],
   "source": [
    "employees = {'Emp_name':'Kunal','Salary':80000, 'Designation': 'Data Scientist','Age':30,'Emp_ID':10011}\n",
    "\n",
    "employees.pop('Age')\n",
    "\n",
    "employees"
   ]
  },
  {
   "cell_type": "code",
   "execution_count": 29,
   "id": "ffe9720c",
   "metadata": {},
   "outputs": [
    {
     "ename": "KeyError",
     "evalue": "'age'",
     "output_type": "error",
     "traceback": [
      "\u001b[1;31m---------------------------------------------------------------------------\u001b[0m",
      "\u001b[1;31mKeyError\u001b[0m                                  Traceback (most recent call last)",
      "\u001b[1;32m~\\AppData\\Local\\Temp/ipykernel_17040/3600653183.py\u001b[0m in \u001b[0;36m<module>\u001b[1;34m\u001b[0m\n\u001b[0;32m      1\u001b[0m \u001b[0memployees\u001b[0m \u001b[1;33m=\u001b[0m \u001b[1;33m{\u001b[0m\u001b[1;34m'Emp_name'\u001b[0m\u001b[1;33m:\u001b[0m\u001b[1;34m'Kunal'\u001b[0m\u001b[1;33m,\u001b[0m\u001b[1;34m'Salary'\u001b[0m\u001b[1;33m:\u001b[0m\u001b[1;36m80000\u001b[0m\u001b[1;33m,\u001b[0m \u001b[1;34m'Designation'\u001b[0m\u001b[1;33m:\u001b[0m \u001b[1;34m'Data Scientist'\u001b[0m\u001b[1;33m,\u001b[0m\u001b[1;34m'Age'\u001b[0m\u001b[1;33m:\u001b[0m\u001b[1;36m30\u001b[0m\u001b[1;33m,\u001b[0m\u001b[1;34m'Emp_ID'\u001b[0m\u001b[1;33m:\u001b[0m\u001b[1;36m10011\u001b[0m\u001b[1;33m}\u001b[0m\u001b[1;33m\u001b[0m\u001b[1;33m\u001b[0m\u001b[0m\n\u001b[0;32m      2\u001b[0m \u001b[1;33m\u001b[0m\u001b[0m\n\u001b[1;32m----> 3\u001b[1;33m \u001b[0memployees\u001b[0m\u001b[1;33m.\u001b[0m\u001b[0mpop\u001b[0m\u001b[1;33m(\u001b[0m\u001b[1;34m'age'\u001b[0m\u001b[1;33m)\u001b[0m\u001b[1;33m\u001b[0m\u001b[1;33m\u001b[0m\u001b[0m\n\u001b[0m\u001b[0;32m      4\u001b[0m \u001b[1;33m\u001b[0m\u001b[0m\n\u001b[0;32m      5\u001b[0m \u001b[0memployees\u001b[0m\u001b[1;33m\u001b[0m\u001b[1;33m\u001b[0m\u001b[0m\n",
      "\u001b[1;31mKeyError\u001b[0m: 'age'"
     ]
    }
   ],
   "source": [
    "employees = {'Emp_name':'Kunal','Salary':80000, 'Designation': 'Data Scientist','Age':30,'Emp_ID':10011}\n",
    "\n",
    "employees.pop('age')\n",
    "\n",
    "employees"
   ]
  },
  {
   "cell_type": "code",
   "execution_count": 30,
   "id": "0f584bf3",
   "metadata": {},
   "outputs": [
    {
     "ename": "TypeError",
     "evalue": "pop expected at least 1 argument, got 0",
     "output_type": "error",
     "traceback": [
      "\u001b[1;31m---------------------------------------------------------------------------\u001b[0m",
      "\u001b[1;31mTypeError\u001b[0m                                 Traceback (most recent call last)",
      "\u001b[1;32m~\\AppData\\Local\\Temp/ipykernel_17040/4106970755.py\u001b[0m in \u001b[0;36m<module>\u001b[1;34m\u001b[0m\n\u001b[0;32m      1\u001b[0m \u001b[0memployees\u001b[0m \u001b[1;33m=\u001b[0m \u001b[1;33m{\u001b[0m\u001b[1;34m'Emp_name'\u001b[0m\u001b[1;33m:\u001b[0m\u001b[1;34m'Kunal'\u001b[0m\u001b[1;33m,\u001b[0m\u001b[1;34m'Salary'\u001b[0m\u001b[1;33m:\u001b[0m\u001b[1;36m80000\u001b[0m\u001b[1;33m,\u001b[0m \u001b[1;34m'Designation'\u001b[0m\u001b[1;33m:\u001b[0m \u001b[1;34m'Data Scientist'\u001b[0m\u001b[1;33m,\u001b[0m\u001b[1;34m'Age'\u001b[0m\u001b[1;33m:\u001b[0m\u001b[1;36m30\u001b[0m\u001b[1;33m,\u001b[0m\u001b[1;34m'Emp_ID'\u001b[0m\u001b[1;33m:\u001b[0m\u001b[1;36m10011\u001b[0m\u001b[1;33m}\u001b[0m\u001b[1;33m\u001b[0m\u001b[1;33m\u001b[0m\u001b[0m\n\u001b[0;32m      2\u001b[0m \u001b[1;33m\u001b[0m\u001b[0m\n\u001b[1;32m----> 3\u001b[1;33m \u001b[0memployees\u001b[0m\u001b[1;33m.\u001b[0m\u001b[0mpop\u001b[0m\u001b[1;33m(\u001b[0m\u001b[1;33m)\u001b[0m\u001b[1;33m\u001b[0m\u001b[1;33m\u001b[0m\u001b[0m\n\u001b[0m\u001b[0;32m      4\u001b[0m \u001b[1;33m\u001b[0m\u001b[0m\n\u001b[0;32m      5\u001b[0m \u001b[0memployees\u001b[0m\u001b[1;33m\u001b[0m\u001b[1;33m\u001b[0m\u001b[0m\n",
      "\u001b[1;31mTypeError\u001b[0m: pop expected at least 1 argument, got 0"
     ]
    }
   ],
   "source": [
    "employees = {'Emp_name':'Kunal','Salary':80000, 'Designation': 'Data Scientist','Age':30,'Emp_ID':10011}\n",
    "\n",
    "employees.pop()\n",
    "\n",
    "employees"
   ]
  },
  {
   "cell_type": "code",
   "execution_count": 31,
   "id": "4172d11d",
   "metadata": {},
   "outputs": [
    {
     "ename": "KeyError",
     "evalue": "'Kunal'",
     "output_type": "error",
     "traceback": [
      "\u001b[1;31m---------------------------------------------------------------------------\u001b[0m",
      "\u001b[1;31mKeyError\u001b[0m                                  Traceback (most recent call last)",
      "\u001b[1;32m~\\AppData\\Local\\Temp/ipykernel_17040/3547450954.py\u001b[0m in \u001b[0;36m<module>\u001b[1;34m\u001b[0m\n\u001b[0;32m      1\u001b[0m \u001b[0memployees\u001b[0m \u001b[1;33m=\u001b[0m \u001b[1;33m{\u001b[0m\u001b[1;34m'Emp_name'\u001b[0m\u001b[1;33m:\u001b[0m\u001b[1;34m'Kunal'\u001b[0m\u001b[1;33m,\u001b[0m\u001b[1;34m'Salary'\u001b[0m\u001b[1;33m:\u001b[0m\u001b[1;36m80000\u001b[0m\u001b[1;33m,\u001b[0m \u001b[1;34m'Designation'\u001b[0m\u001b[1;33m:\u001b[0m \u001b[1;34m'Data Scientist'\u001b[0m\u001b[1;33m,\u001b[0m\u001b[1;34m'Age'\u001b[0m\u001b[1;33m:\u001b[0m\u001b[1;36m30\u001b[0m\u001b[1;33m,\u001b[0m\u001b[1;34m'Emp_ID'\u001b[0m\u001b[1;33m:\u001b[0m\u001b[1;36m10011\u001b[0m\u001b[1;33m}\u001b[0m\u001b[1;33m\u001b[0m\u001b[1;33m\u001b[0m\u001b[0m\n\u001b[0;32m      2\u001b[0m \u001b[1;33m\u001b[0m\u001b[0m\n\u001b[1;32m----> 3\u001b[1;33m \u001b[0memployees\u001b[0m\u001b[1;33m.\u001b[0m\u001b[0mpop\u001b[0m\u001b[1;33m(\u001b[0m\u001b[1;34m'Kunal'\u001b[0m\u001b[1;33m)\u001b[0m\u001b[1;33m\u001b[0m\u001b[1;33m\u001b[0m\u001b[0m\n\u001b[0m\u001b[0;32m      4\u001b[0m \u001b[1;33m\u001b[0m\u001b[0m\n\u001b[0;32m      5\u001b[0m \u001b[0memployees\u001b[0m\u001b[1;33m\u001b[0m\u001b[1;33m\u001b[0m\u001b[0m\n",
      "\u001b[1;31mKeyError\u001b[0m: 'Kunal'"
     ]
    }
   ],
   "source": [
    "employees = {'Emp_name':'Kunal','Salary':80000, 'Designation': 'Data Scientist','Age':30,'Emp_ID':10011}\n",
    "\n",
    "employees.pop('Kunal')\n",
    "\n",
    "employees"
   ]
  },
  {
   "cell_type": "markdown",
   "id": "70ffed5f",
   "metadata": {},
   "source": [
    "## popitem()"
   ]
  },
  {
   "cell_type": "code",
   "execution_count": 32,
   "id": "890bec00",
   "metadata": {},
   "outputs": [
    {
     "data": {
      "text/plain": [
       "{'Emp_name': 'Kunal',\n",
       " 'Salary': 80000,\n",
       " 'Designation': 'Data Scientist',\n",
       " 'Age': 30}"
      ]
     },
     "execution_count": 32,
     "metadata": {},
     "output_type": "execute_result"
    }
   ],
   "source": [
    "employees = {'Emp_name':'Kunal','Salary':80000, 'Designation': 'Data Scientist','Age':30,'Emp_ID':10011}\n",
    "\n",
    "employees.popitem()\n",
    "\n",
    "employees"
   ]
  },
  {
   "cell_type": "code",
   "execution_count": 33,
   "id": "f7dd6e25",
   "metadata": {},
   "outputs": [
    {
     "name": "stdout",
     "output_type": "stream",
     "text": [
      "{'Emp_name': 'Kunal', 'Salary': 80000, 'Designation': 'ML Engineer', 'Age': 30, 'Emp_ID': 10011, 'Company': 'Cognizant', 'Project': 'Jhonsons baby'}\n"
     ]
    },
    {
     "data": {
      "text/plain": [
       "{'Emp_name': 'Kunal',\n",
       " 'Salary': 80000,\n",
       " 'Designation': 'ML Engineer',\n",
       " 'Age': 30,\n",
       " 'Emp_ID': 10011,\n",
       " 'Company': 'Cognizant'}"
      ]
     },
     "execution_count": 33,
     "metadata": {},
     "output_type": "execute_result"
    }
   ],
   "source": [
    "employees = {'Emp_name':'Kunal','Salary':80000, 'Designation': 'Data Scientist','Age':30,'Emp_ID':10011}\n",
    "\n",
    "new_data = {'Company':'Cognizant','Designation':'ML Engineer','Project':'Jhonsons baby','Age':30}\n",
    "\n",
    "employees.update(new_data)\n",
    "\n",
    "print(employees)\n",
    "\n",
    "employees.popitem()\n",
    "\n",
    "employees"
   ]
  },
  {
   "cell_type": "code",
   "execution_count": 34,
   "id": "08c300f2",
   "metadata": {},
   "outputs": [
    {
     "name": "stdout",
     "output_type": "stream",
     "text": [
      "{'Emp_name': 'Kunal', 'Salary': 80000, 'Designation': 'Data Scientist', 'Age': 32, 'Emp_ID': 10011}\n"
     ]
    },
    {
     "data": {
      "text/plain": [
       "{'Emp_name': 'Kunal',\n",
       " 'Salary': 80000,\n",
       " 'Designation': 'Data Scientist',\n",
       " 'Age': 32}"
      ]
     },
     "execution_count": 34,
     "metadata": {},
     "output_type": "execute_result"
    }
   ],
   "source": [
    "employees = {'Emp_name':'Kunal','Salary':80000, 'Designation': 'Data Scientist','Age':30,'Emp_ID':10011}\n",
    "\n",
    "new_data = {'Age':32}\n",
    "\n",
    "employees.update(new_data)\n",
    "\n",
    "print(employees)\n",
    "\n",
    "employees.popitem()\n",
    "\n",
    "employees"
   ]
  },
  {
   "cell_type": "code",
   "execution_count": 35,
   "id": "d28bd089",
   "metadata": {},
   "outputs": [
    {
     "ename": "TypeError",
     "evalue": "dict.popitem() takes no arguments (1 given)",
     "output_type": "error",
     "traceback": [
      "\u001b[1;31m---------------------------------------------------------------------------\u001b[0m",
      "\u001b[1;31mTypeError\u001b[0m                                 Traceback (most recent call last)",
      "\u001b[1;32m~\\AppData\\Local\\Temp/ipykernel_17040/4099159324.py\u001b[0m in \u001b[0;36m<module>\u001b[1;34m\u001b[0m\n\u001b[0;32m      1\u001b[0m \u001b[0memployees\u001b[0m \u001b[1;33m=\u001b[0m \u001b[1;33m{\u001b[0m\u001b[1;34m'Emp_name'\u001b[0m\u001b[1;33m:\u001b[0m\u001b[1;34m'Kunal'\u001b[0m\u001b[1;33m,\u001b[0m\u001b[1;34m'Salary'\u001b[0m\u001b[1;33m:\u001b[0m\u001b[1;36m80000\u001b[0m\u001b[1;33m,\u001b[0m \u001b[1;34m'Designation'\u001b[0m\u001b[1;33m:\u001b[0m \u001b[1;34m'Data Scientist'\u001b[0m\u001b[1;33m,\u001b[0m\u001b[1;34m'Age'\u001b[0m\u001b[1;33m:\u001b[0m\u001b[1;36m30\u001b[0m\u001b[1;33m,\u001b[0m\u001b[1;34m'Emp_ID'\u001b[0m\u001b[1;33m:\u001b[0m\u001b[1;36m10011\u001b[0m\u001b[1;33m}\u001b[0m\u001b[1;33m\u001b[0m\u001b[1;33m\u001b[0m\u001b[0m\n\u001b[0;32m      2\u001b[0m \u001b[1;33m\u001b[0m\u001b[0m\n\u001b[1;32m----> 3\u001b[1;33m \u001b[0memployees\u001b[0m\u001b[1;33m.\u001b[0m\u001b[0mpopitem\u001b[0m\u001b[1;33m(\u001b[0m\u001b[1;34m'Salary'\u001b[0m\u001b[1;33m)\u001b[0m\u001b[1;33m\u001b[0m\u001b[1;33m\u001b[0m\u001b[0m\n\u001b[0m\u001b[0;32m      4\u001b[0m \u001b[1;33m\u001b[0m\u001b[0m\n\u001b[0;32m      5\u001b[0m \u001b[0memployees\u001b[0m\u001b[1;33m\u001b[0m\u001b[1;33m\u001b[0m\u001b[0m\n",
      "\u001b[1;31mTypeError\u001b[0m: dict.popitem() takes no arguments (1 given)"
     ]
    }
   ],
   "source": [
    "employees = {'Emp_name':'Kunal','Salary':80000, 'Designation': 'Data Scientist','Age':30,'Emp_ID':10011}\n",
    "\n",
    "employees.popitem('Salary')\n",
    "\n",
    "employees"
   ]
  },
  {
   "cell_type": "markdown",
   "id": "8165f1b8",
   "metadata": {},
   "source": [
    "# Clear"
   ]
  },
  {
   "cell_type": "code",
   "execution_count": 43,
   "id": "7d705439",
   "metadata": {},
   "outputs": [
    {
     "data": {
      "text/plain": [
       "{}"
      ]
     },
     "execution_count": 43,
     "metadata": {},
     "output_type": "execute_result"
    }
   ],
   "source": [
    "employees.clear()\n",
    "\n",
    "employees"
   ]
  },
  {
   "cell_type": "markdown",
   "id": "ff29c852",
   "metadata": {},
   "source": [
    "# del"
   ]
  },
  {
   "cell_type": "code",
   "execution_count": 44,
   "id": "964c40cf",
   "metadata": {},
   "outputs": [
    {
     "data": {
      "text/plain": [
       "{'Emp_name': 'Kunal',\n",
       " 'Salary': 80000,\n",
       " 'Designation': 'Data Scientist',\n",
       " 'Emp_ID': 10011}"
      ]
     },
     "execution_count": 44,
     "metadata": {},
     "output_type": "execute_result"
    }
   ],
   "source": [
    "employees = {'Emp_name':'Kunal','Salary':80000, 'Designation': 'Data Scientist','Age':30,'Emp_ID':10011}\n",
    "\n",
    "del employees['Age']\n",
    "\n",
    "employees"
   ]
  },
  {
   "cell_type": "code",
   "execution_count": 45,
   "id": "3d1cc9f4",
   "metadata": {},
   "outputs": [
    {
     "ename": "NameError",
     "evalue": "name 'employees' is not defined",
     "output_type": "error",
     "traceback": [
      "\u001b[1;31m---------------------------------------------------------------------------\u001b[0m",
      "\u001b[1;31mNameError\u001b[0m                                 Traceback (most recent call last)",
      "\u001b[1;32m~\\AppData\\Local\\Temp/ipykernel_38996/4292817192.py\u001b[0m in \u001b[0;36m<module>\u001b[1;34m\u001b[0m\n\u001b[0;32m      1\u001b[0m \u001b[1;32mdel\u001b[0m \u001b[0memployees\u001b[0m\u001b[1;33m\u001b[0m\u001b[1;33m\u001b[0m\u001b[0m\n\u001b[1;32m----> 2\u001b[1;33m \u001b[0memployees\u001b[0m\u001b[1;33m\u001b[0m\u001b[1;33m\u001b[0m\u001b[0m\n\u001b[0m",
      "\u001b[1;31mNameError\u001b[0m: name 'employees' is not defined"
     ]
    }
   ],
   "source": [
    "del employees\n",
    "employees"
   ]
  },
  {
   "cell_type": "markdown",
   "id": "6895c082",
   "metadata": {},
   "source": [
    "# Nested Dictionary"
   ]
  },
  {
   "cell_type": "code",
   "execution_count": 46,
   "id": "63dbf43f",
   "metadata": {},
   "outputs": [
    {
     "data": {
      "text/plain": [
       "{'Name': 'Rohit', 'Age': 30}"
      ]
     },
     "execution_count": 46,
     "metadata": {},
     "output_type": "execute_result"
    }
   ],
   "source": [
    "emp_records = {'CG001':{'Name':'Rohit','Age':30},\n",
    "              'CG002':{'Name':'Kishan','Age':21},\n",
    "              'CG003':{'Name':'Hardik','Age':27}}\n",
    "\n",
    "emp_records['CG001']"
   ]
  },
  {
   "cell_type": "code",
   "execution_count": 47,
   "id": "cf62819b",
   "metadata": {},
   "outputs": [
    {
     "data": {
      "text/plain": [
       "'Rohit'"
      ]
     },
     "execution_count": 47,
     "metadata": {},
     "output_type": "execute_result"
    }
   ],
   "source": [
    "emp_records['CG001']['Name']"
   ]
  },
  {
   "cell_type": "code",
   "execution_count": 48,
   "id": "df4d7147",
   "metadata": {},
   "outputs": [
    {
     "data": {
      "text/html": [
       "<div>\n",
       "<style scoped>\n",
       "    .dataframe tbody tr th:only-of-type {\n",
       "        vertical-align: middle;\n",
       "    }\n",
       "\n",
       "    .dataframe tbody tr th {\n",
       "        vertical-align: top;\n",
       "    }\n",
       "\n",
       "    .dataframe thead th {\n",
       "        text-align: right;\n",
       "    }\n",
       "</style>\n",
       "<table border=\"1\" class=\"dataframe\">\n",
       "  <thead>\n",
       "    <tr style=\"text-align: right;\">\n",
       "      <th></th>\n",
       "      <th>Name</th>\n",
       "      <th>Age</th>\n",
       "    </tr>\n",
       "  </thead>\n",
       "  <tbody>\n",
       "    <tr>\n",
       "      <th>CG001</th>\n",
       "      <td>Rohit</td>\n",
       "      <td>30</td>\n",
       "    </tr>\n",
       "    <tr>\n",
       "      <th>CG002</th>\n",
       "      <td>Kishan</td>\n",
       "      <td>21</td>\n",
       "    </tr>\n",
       "    <tr>\n",
       "      <th>CG003</th>\n",
       "      <td>Hardik</td>\n",
       "      <td>27</td>\n",
       "    </tr>\n",
       "  </tbody>\n",
       "</table>\n",
       "</div>"
      ],
      "text/plain": [
       "         Name Age\n",
       "CG001   Rohit  30\n",
       "CG002  Kishan  21\n",
       "CG003  Hardik  27"
      ]
     },
     "execution_count": 48,
     "metadata": {},
     "output_type": "execute_result"
    }
   ],
   "source": [
    "import pandas as pd\n",
    "df=pd.DataFrame(emp_records)\n",
    "df.T"
   ]
  },
  {
   "cell_type": "code",
   "execution_count": 49,
   "id": "d38d09b3",
   "metadata": {},
   "outputs": [
    {
     "data": {
      "text/plain": [
       "{'Math': 90, 'Science': 91, 'Geo': 93, 'History': 95, 'English': 86}"
      ]
     },
     "execution_count": 49,
     "metadata": {},
     "output_type": "execute_result"
    }
   ],
   "source": [
    "marks = [90,91,93,95,86]\n",
    "subjects = ['Math','Science','Geo','History','English']\n",
    "\n",
    "dict1= {}\n",
    "\n",
    "for i,key in enumerate(subjects):\n",
    "    for j in range(len(marks)):\n",
    "        if i == j:\n",
    "            dict1[key]=marks[j]\n",
    "            \n",
    "dict1"
   ]
  },
  {
   "cell_type": "code",
   "execution_count": 51,
   "id": "406d357b",
   "metadata": {},
   "outputs": [],
   "source": [
    "subjects = {'Math': 90, 'Science': 91, 'Geo': 86, 'History': 95,'Math':99}\n",
    "\n",
    "subjects.update({'Math':100})"
   ]
  },
  {
   "cell_type": "code",
   "execution_count": 52,
   "id": "dc363738",
   "metadata": {},
   "outputs": [
    {
     "data": {
      "text/plain": [
       "{'Math': 90, 'Science': 91, 'Geo': 86, 'History': 95}"
      ]
     },
     "execution_count": 52,
     "metadata": {},
     "output_type": "execute_result"
    }
   ],
   "source": [
    "marks = [90,91,93,95,86]\n",
    "subjects = ['Math','Science','Geo','History','Geo']\n",
    "\n",
    "dict1= {}\n",
    "\n",
    "for i,key in enumerate(subjects):\n",
    "    for j in range(len(marks)):\n",
    "        if i == j:\n",
    "            dict1[key]=marks[j]\n",
    "            \n",
    "dict1"
   ]
  },
  {
   "cell_type": "code",
   "execution_count": 53,
   "id": "86287937",
   "metadata": {},
   "outputs": [
    {
     "data": {
      "text/plain": [
       "{90: 'Math', 91: 'Science', 93: 'Geo', 95: 'History', 86: 'English'}"
      ]
     },
     "execution_count": 53,
     "metadata": {},
     "output_type": "execute_result"
    }
   ],
   "source": [
    "marks = [90,91,93,95,86]\n",
    "subjects = ['Math','Science','Geo','History','English']\n",
    "\n",
    "dict1= {}\n",
    "\n",
    "for i,key in enumerate(marks):\n",
    "    for j in range(len(subjects)):\n",
    "        if i == j:\n",
    "            dict1[key]=subjects[j]\n",
    "            \n",
    "dict1"
   ]
  },
  {
   "cell_type": "code",
   "execution_count": 54,
   "id": "8d78fe5a",
   "metadata": {},
   "outputs": [
    {
     "data": {
      "text/plain": [
       "{'Math': 90, 'Science': 91, 'Geo': 93, 'History': 95, 'English': 86}"
      ]
     },
     "execution_count": 54,
     "metadata": {},
     "output_type": "execute_result"
    }
   ],
   "source": [
    "marks = [90,91,93,95,86]\n",
    "subjects = ['Math','Science','Geo','History','English']\n",
    "\n",
    "dict1= {}\n",
    "\n",
    "for i,key in enumerate(subjects):\n",
    "    dict1.update({key:marks[i]})\n",
    "            \n",
    "dict1"
   ]
  },
  {
   "cell_type": "markdown",
   "id": "5609ac48",
   "metadata": {},
   "source": [
    "# Zip function"
   ]
  },
  {
   "cell_type": "code",
   "execution_count": 55,
   "id": "4e0efa3a",
   "metadata": {},
   "outputs": [
    {
     "data": {
      "text/plain": [
       "{'Math': 90, 'Science': 91, 'Geo': 93, 'History': 95, 'English': 86}"
      ]
     },
     "execution_count": 55,
     "metadata": {},
     "output_type": "execute_result"
    }
   ],
   "source": [
    "marks = [90,91,93,95,86]\n",
    "subjects = ['Math','Science','Geo','History','English']\n",
    "\n",
    "my_dict=dict(zip(subjects,marks))\n",
    "my_dict"
   ]
  },
  {
   "cell_type": "code",
   "execution_count": 56,
   "id": "12e1e133",
   "metadata": {},
   "outputs": [
    {
     "data": {
      "text/plain": [
       "{90: 'Math', 91: 'Science', 93: 'Geo', 95: 'History', 86: 'English'}"
      ]
     },
     "execution_count": 56,
     "metadata": {},
     "output_type": "execute_result"
    }
   ],
   "source": [
    "marks = [90,91,93,95,86]\n",
    "subjects = ['Math','Science','Geo','History','English']\n",
    "\n",
    "my_dict=dict(zip(marks,subjects))\n",
    "my_dict"
   ]
  },
  {
   "cell_type": "code",
   "execution_count": 57,
   "id": "bd296f6e",
   "metadata": {},
   "outputs": [
    {
     "data": {
      "text/plain": [
       "[(90, 'Math'), (91, 'Science'), (93, 'Geo'), (95, 'History'), (86, 'English')]"
      ]
     },
     "execution_count": 57,
     "metadata": {},
     "output_type": "execute_result"
    }
   ],
   "source": [
    "marks = [90,91,93,95,86]\n",
    "subjects = ['Math','Science','Geo','History','English']\n",
    "\n",
    "my_dict=list(zip(marks,subjects))\n",
    "my_dict"
   ]
  },
  {
   "cell_type": "code",
   "execution_count": 58,
   "id": "5732a1a1",
   "metadata": {},
   "outputs": [
    {
     "data": {
      "text/plain": [
       "{90: 'Math', 91: 'Science', 93: 'Geo', 95: 'History', 86: 'English'}"
      ]
     },
     "execution_count": 58,
     "metadata": {},
     "output_type": "execute_result"
    }
   ],
   "source": [
    "list1 = [(90, 'Math'), (91, 'Science'), (93, 'Geo'), (95, 'History'), (86, 'English')]\n",
    "\n",
    "dict(list1)"
   ]
  },
  {
   "cell_type": "raw",
   "id": "05e15466",
   "metadata": {},
   "source": [
    "# Wap to take a range & create a dict such that the range values becomes the keys & their sqaured values becomes the values of the dict"
   ]
  },
  {
   "cell_type": "markdown",
   "id": "2fe4bbfa",
   "metadata": {},
   "source": [
    "# dictionary comprehension"
   ]
  },
  {
   "cell_type": "code",
   "execution_count": 59,
   "id": "096cd749",
   "metadata": {},
   "outputs": [
    {
     "data": {
      "text/plain": [
       "{0: 0, 1: 1, 2: 4, 3: 9, 4: 16, 5: 25}"
      ]
     },
     "execution_count": 59,
     "metadata": {},
     "output_type": "execute_result"
    }
   ],
   "source": [
    "dict1={i:i**2 for i in range(6)}\n",
    "dict1\n"
   ]
  },
  {
   "cell_type": "code",
   "execution_count": 60,
   "id": "c4a07729",
   "metadata": {},
   "outputs": [
    {
     "name": "stdout",
     "output_type": "stream",
     "text": [
      "{1: 1, 2: 4, 3: 9, 4: 16, 5: 25, 6: 36, 7: 49, 8: 64, 9: 81, 10: 100, 11: 121, 12: 144, 13: 169, 14: 196, 15: 225}\n"
     ]
    }
   ],
   "source": [
    "d=dict()\n",
    "for x in range(1,16):\n",
    "    d[x]=x**2\n",
    "print(d)"
   ]
  },
  {
   "cell_type": "raw",
   "id": "6b402c44",
   "metadata": {},
   "source": [
    "# Wap to count the occurance of words in a string. keep the counts in a dictionary"
   ]
  },
  {
   "cell_type": "code",
   "execution_count": 61,
   "id": "b0887c06",
   "metadata": {},
   "outputs": [
    {
     "data": {
      "text/plain": [
       "{'the': 2,\n",
       " 'quantities,': 1,\n",
       " 'characters,': 1,\n",
       " 'or': 7,\n",
       " 'symbols': 1,\n",
       " 'on': 3,\n",
       " 'which': 2,\n",
       " 'operations': 1,\n",
       " 'are': 1,\n",
       " 'performed': 1,\n",
       " 'by': 1,\n",
       " 'a': 17,\n",
       " 'computer,': 1,\n",
       " 'may': 1,\n",
       " 'be': 1,\n",
       " 'stored': 1,\n",
       " 'and': 2,\n",
       " 'transmitted': 1,\n",
       " 'in': 2,\n",
       " 'form': 2,\n",
       " 'of': 1,\n",
       " 'electrical': 1,\n",
       " 'signals': 1,\n",
       " 'recorded': 1,\n",
       " 'magnetic,': 1,\n",
       " 'optical,': 1,\n",
       " 'mechanical': 1,\n",
       " 'recording': 1,\n",
       " 'media.': 1}"
      ]
     },
     "execution_count": 61,
     "metadata": {},
     "output_type": "execute_result"
    }
   ],
   "source": [
    "string = '''the quantities, characters, or symbols on which operations are performed by a computer, which may be stored and transmitted in the form of electrical signals and recorded on magnetic, optical, or mechanical recording media.'''\n",
    "\n",
    "count = {}\n",
    "for i in string.split():\n",
    "    count[i]=string.count(i)\n",
    "    \n",
    "count"
   ]
  },
  {
   "cell_type": "code",
   "execution_count": 62,
   "id": "1fd63f0d",
   "metadata": {},
   "outputs": [
    {
     "data": {
      "text/plain": [
       "Counter({'the': 2,\n",
       "         'quantities,': 1,\n",
       "         'characters,': 1,\n",
       "         'or': 2,\n",
       "         'symbols': 1,\n",
       "         'on': 2,\n",
       "         'which': 2,\n",
       "         'operations': 1,\n",
       "         'are': 1,\n",
       "         'performed': 1,\n",
       "         'by': 1,\n",
       "         'a': 1,\n",
       "         'computer,': 1,\n",
       "         'may': 1,\n",
       "         'be': 1,\n",
       "         'stored': 1,\n",
       "         'and': 2,\n",
       "         'transmitted': 1,\n",
       "         'in': 1,\n",
       "         'form': 1,\n",
       "         'of': 1,\n",
       "         'electrical': 1,\n",
       "         'signals': 1,\n",
       "         'recorded': 1,\n",
       "         'magnetic,': 1,\n",
       "         'optical,': 1,\n",
       "         'mechanical': 1,\n",
       "         'recording': 1,\n",
       "         'media.': 1})"
      ]
     },
     "execution_count": 62,
     "metadata": {},
     "output_type": "execute_result"
    }
   ],
   "source": [
    "from collections import Counter\n",
    "Counter(string.split())"
   ]
  },
  {
   "cell_type": "markdown",
   "id": "04291498",
   "metadata": {},
   "source": [
    "# Sorting the dictionary by keys"
   ]
  },
  {
   "cell_type": "code",
   "execution_count": 63,
   "id": "6e7204ac",
   "metadata": {},
   "outputs": [
    {
     "data": {
      "text/plain": [
       "{'English': 86, 'Geo': 93, 'History': 95, 'Math': 90, 'Science': 91}"
      ]
     },
     "execution_count": 63,
     "metadata": {},
     "output_type": "execute_result"
    }
   ],
   "source": [
    "subject = {'Math': 90, 'Science': 91, 'Geo': 93, 'History': 95, 'English': 86}\n",
    "\n",
    "sorted_keys=sorted(subjects)\n",
    "\n",
    "sorted_dict = {}\n",
    "for i in sorted_keys:\n",
    "    sorted_dict[i]=subject[i]\n",
    "    \n",
    "sorted_dict"
   ]
  },
  {
   "cell_type": "code",
   "execution_count": 64,
   "id": "b1aed105",
   "metadata": {},
   "outputs": [
    {
     "name": "stdout",
     "output_type": "stream",
     "text": [
      "[('English', 86), ('Geo', 93), ('History', 95), ('Math', 90), ('Science', 91)]\n"
     ]
    },
    {
     "data": {
      "text/plain": [
       "{'English': 86, 'Geo': 93, 'History': 95, 'Math': 90, 'Science': 91}"
      ]
     },
     "execution_count": 64,
     "metadata": {},
     "output_type": "execute_result"
    }
   ],
   "source": [
    "subject = {'Math': 90, 'Science': 91, 'Geo': 93, 'History': 95, 'English': 86}\n",
    "\n",
    "sorted_items=sorted(subject.items())\n",
    "print(sorted_items)\n",
    "\n",
    "sorted_dict=dict(sorted_items)\n",
    "sorted_dict"
   ]
  },
  {
   "cell_type": "markdown",
   "id": "f621cad5",
   "metadata": {},
   "source": [
    "# Sorting by values of the dict"
   ]
  },
  {
   "cell_type": "code",
   "execution_count": 65,
   "id": "5f94942b",
   "metadata": {},
   "outputs": [
    {
     "name": "stdout",
     "output_type": "stream",
     "text": [
      "{90: 'Math', 91: 'Science', 93: 'Geo', 95: 'History', 86: 'English'}\n",
      "{86: 'English', 90: 'Math', 91: 'Science', 93: 'Geo', 95: 'History'}\n",
      "{'English': 86, 'Math': 90, 'Science': 91, 'Geo': 93, 'History': 95}\n"
     ]
    }
   ],
   "source": [
    "subject = {'Math': 90, 'Science': 91, 'Geo': 93, 'History': 95, 'English': 86}\n",
    "\n",
    "new_dict = {}\n",
    "sorted_dict={}\n",
    "for key,value in subject.items():\n",
    "    new_dict[value] = key\n",
    "print(new_dict)\n",
    "\n",
    "sorted_items=sorted(new_dict.items())\n",
    "# print(sorted_items)\n",
    "\n",
    "sorted_dict=dict(sorted_items)\n",
    "print(sorted_dict)\n",
    "\n",
    "final_dict={}\n",
    "for key,value in sorted_dict.items():\n",
    "    final_dict[value] = key\n",
    "print(final_dict)"
   ]
  },
  {
   "cell_type": "code",
   "execution_count": 66,
   "id": "c24c2592",
   "metadata": {},
   "outputs": [
    {
     "name": "stdout",
     "output_type": "stream",
     "text": [
      "{90: 'Math', 91: 'Science', 93: 'Geo', 95: 'History', 86: 'English'}\n"
     ]
    },
    {
     "data": {
      "text/plain": [
       "{86: 'English', 90: 'Math', 91: 'Science', 93: 'Geo', 95: 'History'}"
      ]
     },
     "execution_count": 66,
     "metadata": {},
     "output_type": "execute_result"
    }
   ],
   "source": [
    "subject = {'Math': 90, 'Science': 91, 'Geo': 93, 'History': 95, 'English': 86}\n",
    "\n",
    "new_dict = {}\n",
    "sorted_dict={}\n",
    "\n",
    "for key,value in subject.items():\n",
    "    new_dict[value] = key\n",
    "print(new_dict)\n",
    "\n",
    "for key in sorted(new_dict.keys()):\n",
    "    sorted_dict[key] = new_dict[key]\n",
    "    \n",
    "sorted_dict"
   ]
  },
  {
   "cell_type": "code",
   "execution_count": 67,
   "id": "fa33bf30",
   "metadata": {},
   "outputs": [
    {
     "name": "stdout",
     "output_type": "stream",
     "text": [
      "{90: 'Math', 91: 'Science', 93: 'Geo', 95: 'History', 86: 'English'}\n"
     ]
    },
    {
     "data": {
      "text/plain": [
       "{86: 'English', 90: 'Math', 91: 'Science', 93: 'Geo', 95: 'History'}"
      ]
     },
     "execution_count": 67,
     "metadata": {},
     "output_type": "execute_result"
    }
   ],
   "source": [
    "subject = {'Math': 90, 'Science': 91, 'Geo': 93, 'History': 95, 'English': 86}\n",
    "\n",
    "new_dict = {}\n",
    "\n",
    "for key,value in subject.items():\n",
    "    new_dict[value] = key\n",
    "print(new_dict)\n",
    "\n",
    "dict(sorted(new_dict.items()))\n"
   ]
  },
  {
   "cell_type": "code",
   "execution_count": 68,
   "id": "ddec5c7a",
   "metadata": {},
   "outputs": [
    {
     "name": "stdout",
     "output_type": "stream",
     "text": [
      "{90: 'Science', 93: 'Geo', 95: 'History', 86: 'English'}\n"
     ]
    },
    {
     "data": {
      "text/plain": [
       "{86: 'English', 90: 'Science', 93: 'Geo', 95: 'History'}"
      ]
     },
     "execution_count": 68,
     "metadata": {},
     "output_type": "execute_result"
    }
   ],
   "source": [
    "subject = {'Math': 90, 'Science': 90, 'Geo': 93, 'History': 95, 'English': 86}\n",
    "\n",
    "new_dict = {}\n",
    "\n",
    "for key,value in subject.items():\n",
    "    new_dict[value] = key\n",
    "print(new_dict)\n",
    "\n",
    "dict(sorted(new_dict.items()))"
   ]
  },
  {
   "cell_type": "markdown",
   "id": "8cd074cf",
   "metadata": {},
   "source": [
    "## sorting the dict if dict has duplicate values"
   ]
  },
  {
   "cell_type": "code",
   "execution_count": 69,
   "id": "1073b6b8",
   "metadata": {},
   "outputs": [
    {
     "name": "stdout",
     "output_type": "stream",
     "text": [
      "['Math', 'Science', 'Geo', 'History', 'English'] [90, 90, 93, 95, 86]\n"
     ]
    },
    {
     "data": {
      "text/plain": [
       "{'English': 86, 'Science': 90, 'Math': 90, 'Geo': 93, 'History': 95}"
      ]
     },
     "execution_count": 69,
     "metadata": {},
     "output_type": "execute_result"
    }
   ],
   "source": [
    "subject = {'Math': 90, 'Science': 90, 'Geo': 93, 'History': 95, 'English': 86}\n",
    "\n",
    "keys = list(subject.keys())\n",
    "values = list(subject.values())\n",
    "print(keys,values)\n",
    "\n",
    "for i in range(len(values)):\n",
    "    for j in range(i+1,len(values)):\n",
    "        if values[i] > values[j]:\n",
    "            \n",
    "            values[i],values[j]=values[j],values[i]\n",
    "            keys[i],keys[j]=keys[j],keys[i]\n",
    "            \n",
    "dict(zip(keys,values))\n"
   ]
  },
  {
   "cell_type": "markdown",
   "id": "05fe8e05",
   "metadata": {},
   "source": [
    "## Fromkeys()"
   ]
  },
  {
   "cell_type": "raw",
   "id": "95bf7bff",
   "metadata": {},
   "source": [
    "It sets a perticular value to all the keys\n",
    "fromkeys(sequence,value)\n",
    "default value is none"
   ]
  },
  {
   "cell_type": "code",
   "execution_count": 70,
   "id": "859d6ca8",
   "metadata": {},
   "outputs": [
    {
     "data": {
      "text/plain": [
       "{'a': None, 'e': None, 'i': None, 'o': None, 'u': None}"
      ]
     },
     "execution_count": 70,
     "metadata": {},
     "output_type": "execute_result"
    }
   ],
   "source": [
    "dict.fromkeys(['a','e','i','o','u'])"
   ]
  },
  {
   "cell_type": "code",
   "execution_count": 71,
   "id": "19fbad98",
   "metadata": {},
   "outputs": [
    {
     "data": {
      "text/plain": [
       "{'a': 'vovels', 'e': 'vovels', 'i': 'vovels', 'o': 'vovels', 'u': 'vovels'}"
      ]
     },
     "execution_count": 71,
     "metadata": {},
     "output_type": "execute_result"
    }
   ],
   "source": [
    "dict.fromkeys(['a','e','i','o','u'],'vovels')"
   ]
  },
  {
   "cell_type": "code",
   "execution_count": 72,
   "id": "1f7c9d39",
   "metadata": {},
   "outputs": [
    {
     "data": {
      "text/plain": [
       "{'a': [1, 2, 3, 4, 5],\n",
       " 'e': [1, 2, 3, 4, 5],\n",
       " 'i': [1, 2, 3, 4, 5],\n",
       " 'o': [1, 2, 3, 4, 5],\n",
       " 'u': [1, 2, 3, 4, 5]}"
      ]
     },
     "execution_count": 72,
     "metadata": {},
     "output_type": "execute_result"
    }
   ],
   "source": [
    "dict.fromkeys(['a','e','i','o','u'],[1,2,3,4,5])"
   ]
  },
  {
   "cell_type": "markdown",
   "id": "997d6f8a",
   "metadata": {},
   "source": [
    "## copy & deepcopy"
   ]
  },
  {
   "cell_type": "raw",
   "id": "87d6e808",
   "metadata": {},
   "source": [
    "works the same way as theey work on list\n",
    "\n",
    "for single order dict, copy works well or same as deepcopy while in nested dictionary copy doesn't work well. For nested dict we need deepcopy."
   ]
  },
  {
   "cell_type": "code",
   "execution_count": 73,
   "id": "dabba32a",
   "metadata": {},
   "outputs": [
    {
     "name": "stdout",
     "output_type": "stream",
     "text": [
      "{'Math': 90, 'Science': 90, 'Geo': 93, 'History': 95, 'English': 86}\n",
      "{'Math': 100, 'Science': 90, 'Geo': 93, 'History': 95, 'English': 86}\n"
     ]
    }
   ],
   "source": [
    "subject = {'Math': 90, 'Science': 90, 'Geo': 93, 'History': 95, 'English': 86}\n",
    "\n",
    "marks = subject.copy()\n",
    "\n",
    "marks['Math']=100\n",
    "\n",
    "print(subject)\n",
    "print(marks)"
   ]
  },
  {
   "cell_type": "code",
   "execution_count": 74,
   "id": "f7dbc520",
   "metadata": {},
   "outputs": [
    {
     "name": "stdout",
     "output_type": "stream",
     "text": [
      "{'CG001': {'Name': 'Pollard', 'Age': 30}, 'CG002': {'Name': 'Kishan', 'Age': 21}, 'CG003': {'Name': 'Hardik', 'Age': 27}}\n",
      "\n",
      "{'CG001': {'Name': 'Pollard', 'Age': 30}, 'CG002': {'Name': 'Kishan', 'Age': 21}, 'CG003': {'Name': 'Hardik', 'Age': 27}}\n"
     ]
    }
   ],
   "source": [
    "emp_records = {'CG001':{'Name':'Rohit','Age':30},\n",
    "              'CG002':{'Name':'Kishan','Age':21},\n",
    "              'CG003':{'Name':'Hardik','Age':27}}\n",
    "\n",
    "employees = emp_records.copy()\n",
    "employees['CG001']['Name']='Pollard'\n",
    "\n",
    "print(employees,emp_records,sep='\\n\\n')"
   ]
  },
  {
   "cell_type": "code",
   "execution_count": 75,
   "id": "4bd8d738",
   "metadata": {},
   "outputs": [],
   "source": [
    "from copy import deepcopy"
   ]
  },
  {
   "cell_type": "code",
   "execution_count": 76,
   "id": "ecc2cc74",
   "metadata": {},
   "outputs": [
    {
     "name": "stdout",
     "output_type": "stream",
     "text": [
      "{'CG001': {'Name': 'Pollard', 'Age': 30}, 'CG002': {'Name': 'Kishan', 'Age': 21}, 'CG003': {'Name': 'Hardik', 'Age': 27}}\n",
      "\n",
      "{'CG001': {'Name': 'Rohit', 'Age': 30}, 'CG002': {'Name': 'Kishan', 'Age': 21}, 'CG003': {'Name': 'Hardik', 'Age': 27}}\n"
     ]
    }
   ],
   "source": [
    "emp_records = {'CG001':{'Name':'Rohit','Age':30},\n",
    "              'CG002':{'Name':'Kishan','Age':21},\n",
    "              'CG003':{'Name':'Hardik','Age':27}}\n",
    "\n",
    "employees = deepcopy(emp_records)\n",
    "employees['CG001']['Name']='Pollard'\n",
    "\n",
    "print(employees,emp_records,sep='\\n\\n')"
   ]
  }
 ],
 "metadata": {
  "kernelspec": {
   "display_name": "Python 3 (ipykernel)",
   "language": "python",
   "name": "python3"
  },
  "language_info": {
   "codemirror_mode": {
    "name": "ipython",
    "version": 3
   },
   "file_extension": ".py",
   "mimetype": "text/x-python",
   "name": "python",
   "nbconvert_exporter": "python",
   "pygments_lexer": "ipython3",
   "version": "3.9.7"
  },
  "toc": {
   "base_numbering": 1,
   "nav_menu": {},
   "number_sections": true,
   "sideBar": true,
   "skip_h1_title": false,
   "title_cell": "Table of Contents",
   "title_sidebar": "Contents",
   "toc_cell": false,
   "toc_position": {},
   "toc_section_display": true,
   "toc_window_display": false
  }
 },
 "nbformat": 4,
 "nbformat_minor": 5
}
