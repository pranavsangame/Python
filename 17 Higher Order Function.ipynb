{
 "cells": [
  {
   "cell_type": "raw",
   "id": "ee4daddb",
   "metadata": {},
   "source": [
    "Higher order function;\n",
    "    one function is passed as a paramter to another function\n",
    "    \n",
    "Eg. Map, Filter, Reduce"
   ]
  },
  {
   "cell_type": "code",
   "execution_count": 1,
   "id": "3f968141",
   "metadata": {},
   "outputs": [
    {
     "data": {
      "text/plain": [
       "25"
      ]
     },
     "execution_count": 1,
     "metadata": {},
     "output_type": "execute_result"
    }
   ],
   "source": [
    "x1 = lambda x : x**2\n",
    "    \n",
    "x1(5)"
   ]
  },
  {
   "cell_type": "raw",
   "id": "b1041db1",
   "metadata": {},
   "source": [
    "map(function name, iterable)\n",
    "filter(function name, iterable)\n",
    "\n",
    "map & filter both can work on condition but only map works on operation, filter does not!\n",
    "\n",
    "if it is a condition then map will return True & False while filter will return the actual values that satisfies the condition as True\n",
    "if it is a operation then map will return the outcome whereas filter will not do anything, basically it will return the iterable as it is.\n"
   ]
  },
  {
   "cell_type": "code",
   "execution_count": 2,
   "id": "ae2ef612",
   "metadata": {},
   "outputs": [],
   "source": [
    "l1 = ['Sunday','Monday','Tuesday','Wednesday','thrusday','friday','Saturday']\n"
   ]
  },
  {
   "cell_type": "code",
   "execution_count": 3,
   "id": "d53493c3",
   "metadata": {},
   "outputs": [
    {
     "data": {
      "text/plain": [
       "(True, True, False, False, False, True, False)"
      ]
     },
     "execution_count": 3,
     "metadata": {},
     "output_type": "execute_result"
    }
   ],
   "source": [
    "tuple(map(lambda x:len(x)==6,l1))"
   ]
  },
  {
   "cell_type": "code",
   "execution_count": 4,
   "id": "724abfc7",
   "metadata": {},
   "outputs": [
    {
     "data": {
      "text/plain": [
       "['Sunday', 'Monday', 'friday']"
      ]
     },
     "execution_count": 4,
     "metadata": {},
     "output_type": "execute_result"
    }
   ],
   "source": [
    "# filter returns all items for which the condition is True\n",
    "\n",
    "list(filter(lambda x:len(x)==6,l1))"
   ]
  },
  {
   "cell_type": "code",
   "execution_count": 5,
   "id": "6c1a61e9",
   "metadata": {},
   "outputs": [
    {
     "data": {
      "text/plain": [
       "['sunday', 'monday', 'tuesday', 'wednesday', 'thrusday', 'friday', 'saturday']"
      ]
     },
     "execution_count": 5,
     "metadata": {},
     "output_type": "execute_result"
    }
   ],
   "source": [
    "list(map(lambda i:i.lower(),l1))"
   ]
  },
  {
   "cell_type": "code",
   "execution_count": 6,
   "id": "e931035e",
   "metadata": {},
   "outputs": [
    {
     "data": {
      "text/plain": [
       "['Sunday', 'Monday', 'Tuesday', 'Wednesday', 'thrusday', 'friday', 'Saturday']"
      ]
     },
     "execution_count": 6,
     "metadata": {},
     "output_type": "execute_result"
    }
   ],
   "source": [
    "list(filter(lambda i:i.lower(),l1))"
   ]
  },
  {
   "cell_type": "code",
   "execution_count": 7,
   "id": "a8796e66",
   "metadata": {},
   "outputs": [
    {
     "data": {
      "text/plain": [
       "[4, 9, 16, 25, 36]"
      ]
     },
     "execution_count": 7,
     "metadata": {},
     "output_type": "execute_result"
    }
   ],
   "source": [
    "list(map(lambda x:x**2,[2,3,4,5,6]))"
   ]
  },
  {
   "cell_type": "code",
   "execution_count": 8,
   "id": "f79fe11e",
   "metadata": {},
   "outputs": [
    {
     "data": {
      "text/plain": [
       "[2, 3, 4, 5, 6]"
      ]
     },
     "execution_count": 8,
     "metadata": {},
     "output_type": "execute_result"
    }
   ],
   "source": [
    "list(filter(lambda x:x**2,[2,3,4,5,6]))"
   ]
  },
  {
   "cell_type": "code",
   "execution_count": 9,
   "id": "c8a888c4",
   "metadata": {},
   "outputs": [
    {
     "data": {
      "text/plain": [
       "[2]"
      ]
     },
     "execution_count": 9,
     "metadata": {},
     "output_type": "execute_result"
    }
   ],
   "source": [
    "list(filter(lambda x:x**2==4,[2,3,4,5,6]))"
   ]
  },
  {
   "cell_type": "code",
   "execution_count": 10,
   "id": "1b8af4dd",
   "metadata": {},
   "outputs": [
    {
     "data": {
      "text/plain": [
       "[2, 4, 6]"
      ]
     },
     "execution_count": 10,
     "metadata": {},
     "output_type": "execute_result"
    }
   ],
   "source": [
    "list(filter(lambda x:x%2==0,[2,3,4,5,6]))"
   ]
  },
  {
   "cell_type": "code",
   "execution_count": 11,
   "id": "b79b6c7d",
   "metadata": {},
   "outputs": [
    {
     "data": {
      "text/plain": [
       "[3, 5]"
      ]
     },
     "execution_count": 11,
     "metadata": {},
     "output_type": "execute_result"
    }
   ],
   "source": [
    "list(filter(lambda x:x%2!=0,[2,3,4,5,6]))"
   ]
  },
  {
   "cell_type": "code",
   "execution_count": 12,
   "id": "2ba97621",
   "metadata": {},
   "outputs": [
    {
     "data": {
      "text/plain": [
       "[True, False, True, False, True]"
      ]
     },
     "execution_count": 12,
     "metadata": {},
     "output_type": "execute_result"
    }
   ],
   "source": [
    "list(map(lambda x:x%2==0,[2,3,4,5,6]))"
   ]
  },
  {
   "cell_type": "code",
   "execution_count": 13,
   "id": "dd441a8e",
   "metadata": {},
   "outputs": [
    {
     "data": {
      "text/plain": [
       "[True, True, True, True, False, False, True]"
      ]
     },
     "execution_count": 13,
     "metadata": {},
     "output_type": "execute_result"
    }
   ],
   "source": [
    "l1 = ['Sunday','Monday','Tuesday','Wednesday','thrusday','friday','Saturday']\n",
    "\n",
    "list(map(lambda x:x.istitle(),l1))"
   ]
  },
  {
   "cell_type": "code",
   "execution_count": 14,
   "id": "c094a022",
   "metadata": {},
   "outputs": [
    {
     "data": {
      "text/plain": [
       "['Sunday', 'Monday', 'Tuesday', 'Wednesday', 'Saturday']"
      ]
     },
     "execution_count": 14,
     "metadata": {},
     "output_type": "execute_result"
    }
   ],
   "source": [
    "list(filter(lambda x:x.istitle(),l1))"
   ]
  },
  {
   "cell_type": "code",
   "execution_count": 15,
   "id": "2e6daa33",
   "metadata": {},
   "outputs": [
    {
     "data": {
      "text/plain": [
       "{1: 'there', 2: 'here', 3: 'where', 4: 'somewhere'}"
      ]
     },
     "execution_count": 15,
     "metadata": {},
     "output_type": "execute_result"
    }
   ],
   "source": [
    "d1 = {1:'there',2:'here',3:'where',4:'somewhere'}\n",
    "\n",
    "dict(sorted(d1.items(),key=lambda x:x[0]))"
   ]
  },
  {
   "cell_type": "code",
   "execution_count": 16,
   "id": "045348de",
   "metadata": {},
   "outputs": [
    {
     "data": {
      "text/plain": [
       "{2: 'here', 4: 'somewhere', 1: 'there', 3: 'where'}"
      ]
     },
     "execution_count": 16,
     "metadata": {},
     "output_type": "execute_result"
    }
   ],
   "source": [
    "dict(sorted(d1.items(),key=lambda x:x[1]))"
   ]
  },
  {
   "cell_type": "raw",
   "id": "46c94612",
   "metadata": {},
   "source": [
    "reduce works on 2 items of the iterable, operates on them & then outcome of the operation is stored in 1st variable, then it takes next item, makes the operation on next item & this variable. & the outcome of reduce function is a single value return.\n",
    "\n",
    "reduce((function name),iterable)"
   ]
  },
  {
   "cell_type": "code",
   "execution_count": 17,
   "id": "64a51b50",
   "metadata": {},
   "outputs": [
    {
     "data": {
      "text/plain": [
       "6"
      ]
     },
     "execution_count": 17,
     "metadata": {},
     "output_type": "execute_result"
    }
   ],
   "source": [
    "from functools import reduce\n",
    "\n",
    "l1 = [2,3,4,5,6,1]\n",
    "\n",
    "reduce(lambda a,b : b if b > a else a, l1)"
   ]
  },
  {
   "cell_type": "code",
   "execution_count": 18,
   "id": "3fd84615",
   "metadata": {},
   "outputs": [
    {
     "data": {
      "text/plain": [
       "6"
      ]
     },
     "execution_count": 18,
     "metadata": {},
     "output_type": "execute_result"
    }
   ],
   "source": [
    "max(l1)"
   ]
  },
  {
   "cell_type": "code",
   "execution_count": 19,
   "id": "dba0bde4",
   "metadata": {},
   "outputs": [
    {
     "data": {
      "text/plain": [
       "21"
      ]
     },
     "execution_count": 19,
     "metadata": {},
     "output_type": "execute_result"
    }
   ],
   "source": [
    "reduce(lambda a,b : a+b, l1)"
   ]
  },
  {
   "cell_type": "code",
   "execution_count": 20,
   "id": "98fcf42d",
   "metadata": {},
   "outputs": [
    {
     "data": {
      "text/plain": [
       "21"
      ]
     },
     "execution_count": 20,
     "metadata": {},
     "output_type": "execute_result"
    }
   ],
   "source": [
    "sum(l1)"
   ]
  },
  {
   "cell_type": "code",
   "execution_count": 21,
   "id": "8aca0a8f",
   "metadata": {},
   "outputs": [
    {
     "data": {
      "text/plain": [
       "-17"
      ]
     },
     "execution_count": 21,
     "metadata": {},
     "output_type": "execute_result"
    }
   ],
   "source": [
    "reduce(lambda a,b : a-b, l1)"
   ]
  },
  {
   "cell_type": "code",
   "execution_count": 22,
   "id": "cc1ae0ad",
   "metadata": {},
   "outputs": [
    {
     "data": {
      "text/plain": [
       "181"
      ]
     },
     "execution_count": 22,
     "metadata": {},
     "output_type": "execute_result"
    }
   ],
   "source": [
    "l1 = [200,3,4,5,6,1]\n",
    "reduce(lambda a,b : a-b, l1)"
   ]
  },
  {
   "cell_type": "code",
   "execution_count": 23,
   "id": "025a786b",
   "metadata": {},
   "outputs": [
    {
     "data": {
      "text/plain": [
       "120"
      ]
     },
     "execution_count": 23,
     "metadata": {},
     "output_type": "execute_result"
    }
   ],
   "source": [
    "n = 5\n",
    "factorial = reduce(lambda x, y: x * y, range(1, n+1))\n",
    "factorial"
   ]
  },
  {
   "cell_type": "code",
   "execution_count": 24,
   "id": "ea24ae3d",
   "metadata": {},
   "outputs": [
    {
     "data": {
      "text/plain": [
       "[0, 1, 1, 2, 3]"
      ]
     },
     "execution_count": 24,
     "metadata": {},
     "output_type": "execute_result"
    }
   ],
   "source": [
    "fib = lambda n: reduce(lambda x, y: x+[x[-1]+x[-2]],range(n-2), [0, 1])\n",
    "fib(5)"
   ]
  },
  {
   "cell_type": "code",
   "execution_count": null,
   "id": "db61eb89",
   "metadata": {},
   "outputs": [],
   "source": []
  }
 ],
 "metadata": {
  "kernelspec": {
   "display_name": "Python 3 (ipykernel)",
   "language": "python",
   "name": "python3"
  },
  "language_info": {
   "codemirror_mode": {
    "name": "ipython",
    "version": 3
   },
   "file_extension": ".py",
   "mimetype": "text/x-python",
   "name": "python",
   "nbconvert_exporter": "python",
   "pygments_lexer": "ipython3",
   "version": "3.9.7"
  },
  "toc": {
   "base_numbering": 1,
   "nav_menu": {},
   "number_sections": true,
   "sideBar": true,
   "skip_h1_title": false,
   "title_cell": "Table of Contents",
   "title_sidebar": "Contents",
   "toc_cell": false,
   "toc_position": {},
   "toc_section_display": true,
   "toc_window_display": false
  }
 },
 "nbformat": 4,
 "nbformat_minor": 5
}
