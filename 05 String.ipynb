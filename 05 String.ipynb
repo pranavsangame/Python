{
 "cells": [
  {
   "cell_type": "markdown",
   "id": "d3b87140",
   "metadata": {},
   "source": [
    "# String"
   ]
  },
  {
   "cell_type": "raw",
   "id": "2da1cafb",
   "metadata": {},
   "source": [
    "String is the collection of characters that we given in single, double or tripple inverted commas.\n",
    "string is text data type\n",
    "for multiline string we use tripple inverted commas.\n",
    "\n",
    "eg. a='python'\n",
    "    a=\"python\"\n",
    "    a=\"\"\"python\"\"\""
   ]
  },
  {
   "cell_type": "code",
   "execution_count": 1,
   "id": "6f4e21ce",
   "metadata": {},
   "outputs": [
    {
     "data": {
      "text/plain": [
       "str"
      ]
     },
     "execution_count": 1,
     "metadata": {},
     "output_type": "execute_result"
    }
   ],
   "source": [
    "string = 'Python'\n",
    "\n",
    "type(string)"
   ]
  },
  {
   "cell_type": "raw",
   "id": "3af70d8f",
   "metadata": {},
   "source": [
    "Positive Indexing?\n",
    "Indexing starts from left & goes to right.\n",
    "It starts from +ve index, default is 0th index & goes to +infinity indexing\n",
    "Indexingexing has to be accessed using square brackets"
   ]
  },
  {
   "cell_type": "markdown",
   "id": "32f8fd2e",
   "metadata": {},
   "source": [
    "## Length Method"
   ]
  },
  {
   "cell_type": "raw",
   "id": "db0e0e4d",
   "metadata": {},
   "source": [
    "to find length of string\n",
    "\n",
    "syntax:\n",
    "    len(string_name)"
   ]
  },
  {
   "cell_type": "code",
   "execution_count": 2,
   "id": "5b3b3a32",
   "metadata": {},
   "outputs": [
    {
     "data": {
      "text/plain": [
       "6"
      ]
     },
     "execution_count": 2,
     "metadata": {},
     "output_type": "execute_result"
    }
   ],
   "source": [
    "len(string)"
   ]
  },
  {
   "cell_type": "code",
   "execution_count": 3,
   "id": "674ed48d",
   "metadata": {},
   "outputs": [
    {
     "data": {
      "text/plain": [
       "'P'"
      ]
     },
     "execution_count": 3,
     "metadata": {},
     "output_type": "execute_result"
    }
   ],
   "source": [
    "string[0]"
   ]
  },
  {
   "cell_type": "markdown",
   "id": "78768b21",
   "metadata": {},
   "source": [
    "## Indexing"
   ]
  },
  {
   "cell_type": "raw",
   "id": "e73559ad",
   "metadata": {},
   "source": [
    "Positive indexing:\n",
    "    indexing starts from left to right.\n",
    "    it starts from +ve index, default is 0th index & goes to +infinity\n",
    "    indexing has to be accessed using square brackets\n",
    "    \n",
    "syntax:\n",
    "    string_name[index_number]"
   ]
  },
  {
   "cell_type": "code",
   "execution_count": 4,
   "id": "74c710df",
   "metadata": {},
   "outputs": [
    {
     "data": {
      "text/plain": [
       "'n'"
      ]
     },
     "execution_count": 4,
     "metadata": {},
     "output_type": "execute_result"
    }
   ],
   "source": [
    "string[5]"
   ]
  },
  {
   "cell_type": "code",
   "execution_count": 5,
   "id": "5e9a7d6d",
   "metadata": {},
   "outputs": [
    {
     "data": {
      "text/plain": [
       "'t'"
      ]
     },
     "execution_count": 5,
     "metadata": {},
     "output_type": "execute_result"
    }
   ],
   "source": [
    "string[-4]"
   ]
  },
  {
   "cell_type": "markdown",
   "id": "c563ccc5",
   "metadata": {},
   "source": [
    "## Slicing"
   ]
  },
  {
   "cell_type": "raw",
   "id": "7ab1731c",
   "metadata": {},
   "source": [
    "syntax:\n",
    "    string_name[start_index : end index : step_size]\n",
    "   \n",
    "step size is optional bydefault it is 1. \n",
    "step size will keep the gap of mentioned step size bewt.the indexing.\n",
    "step size is positive >> left to right\n",
    "step size is negative >> right to left\n",
    " \n",
    "eg. string[0:6:1]\n",
    "    string[2:len(string):2]\n",
    "    string[::]\n",
    "    "
   ]
  },
  {
   "cell_type": "raw",
   "id": "91f6dce4",
   "metadata": {},
   "source": [
    "P y t h o n\n",
    "0 1 2 3 4 5"
   ]
  },
  {
   "cell_type": "code",
   "execution_count": 6,
   "id": "2f4134b9",
   "metadata": {},
   "outputs": [
    {
     "name": "stdout",
     "output_type": "stream",
     "text": [
      "python\n",
      "to n aasine\n",
      "python and data science\n"
     ]
    }
   ],
   "source": [
    "string='python and data science'\n",
    "print(string[0:6:1])\n",
    "print(string[2:len(string):2])\n",
    "print(string[::])"
   ]
  },
  {
   "cell_type": "raw",
   "id": "c1f65f51",
   "metadata": {},
   "source": [
    "negative slicing:\n",
    "for negative slicing start index is always greater than end endex.\n",
    " \n",
    " eg. string[-1]\n",
    "     string[-1::-1]"
   ]
  },
  {
   "cell_type": "raw",
   "id": "7921f4dc",
   "metadata": {},
   "source": [
    "P   y  t  h  o  n\n",
    "-6 -5 -4 -3 -2 -1"
   ]
  },
  {
   "cell_type": "code",
   "execution_count": 8,
   "id": "24251724",
   "metadata": {},
   "outputs": [
    {
     "name": "stdout",
     "output_type": "stream",
     "text": [
      "e\n",
      "ecneics atad dna nohtyp\n"
     ]
    }
   ],
   "source": [
    "print(string[-1])\n",
    "print(string[-1::-1])"
   ]
  },
  {
   "cell_type": "code",
   "execution_count": 1,
   "id": "59c59764",
   "metadata": {},
   "outputs": [
    {
     "name": "stdout",
     "output_type": "stream",
     "text": [
      "P New Intrest\n"
     ]
    }
   ],
   "source": [
    "my_string = 'Python is New & Intresting'\n",
    "\n",
    "my_string[0] + ' '+my_string[10:13:1] + ' '+my_string[16:23:1]\n",
    "\n",
    "print(my_string[0] + my_string[9:13:1] + my_string[15:23:1])"
   ]
  },
  {
   "cell_type": "code",
   "execution_count": 2,
   "id": "aa49b61c",
   "metadata": {},
   "outputs": [],
   "source": [
    "String = \"\"\"Python is an interpreted high-level general-purpose programming language. Its design philosophy emphasizes code readability with its use of significant indentation. Its language constructs and object-oriented approach aim to help programmers write clear, logical code for small- and large-scale projects\"\"\""
   ]
  },
  {
   "cell_type": "code",
   "execution_count": 3,
   "id": "ea4b7fb3",
   "metadata": {},
   "outputs": [
    {
     "data": {
      "text/plain": [
       "'Python is an interpreted high-level general-purpose programming language. Its design philosophy emphasizes code readability with its use of significant indentation. Its language constructs and object-oriented approach aim to help programmers write clear, logical code for small- and large-scale projects'"
      ]
     },
     "execution_count": 3,
     "metadata": {},
     "output_type": "execute_result"
    }
   ],
   "source": [
    "String"
   ]
  },
  {
   "cell_type": "markdown",
   "id": "009247cb",
   "metadata": {},
   "source": [
    "## Capitalize()"
   ]
  },
  {
   "cell_type": "raw",
   "id": "f6130295",
   "metadata": {},
   "source": [
    "It capitalize only 0th index letter(first character of the string)\n",
    "\n",
    "syntax:\n",
    "    string_name.capitalize()\n",
    "    "
   ]
  },
  {
   "cell_type": "code",
   "execution_count": 4,
   "id": "3285ef00",
   "metadata": {},
   "outputs": [
    {
     "data": {
      "text/plain": [
       "'Python'"
      ]
     },
     "execution_count": 4,
     "metadata": {},
     "output_type": "execute_result"
    }
   ],
   "source": [
    "string = 'python'\n",
    "\n",
    "string.capitalize()"
   ]
  },
  {
   "cell_type": "code",
   "execution_count": 5,
   "id": "b60e2416",
   "metadata": {},
   "outputs": [
    {
     "data": {
      "text/plain": [
       "' india is my country'"
      ]
     },
     "execution_count": 5,
     "metadata": {},
     "output_type": "execute_result"
    }
   ],
   "source": [
    "country = ' india is my country'\n",
    "country = country.capitalize()\n",
    "country"
   ]
  },
  {
   "cell_type": "markdown",
   "id": "264165df",
   "metadata": {},
   "source": [
    "## String Casting()"
   ]
  },
  {
   "cell_type": "code",
   "execution_count": 6,
   "id": "43f5342b",
   "metadata": {},
   "outputs": [
    {
     "name": "stdout",
     "output_type": "stream",
     "text": [
      "Give away any string here: 65\n",
      "65\n",
      "<class 'str'>\n"
     ]
    }
   ],
   "source": [
    "string = str(input(\"Give away any string here: \"))\n",
    "print(string)\n",
    "print(type(string))"
   ]
  },
  {
   "cell_type": "markdown",
   "id": "32823718",
   "metadata": {},
   "source": [
    "## Upper()"
   ]
  },
  {
   "cell_type": "raw",
   "id": "307babc6",
   "metadata": {},
   "source": [
    "It converts everthing into uppercase.\n",
    "\n",
    "Syntax:\n",
    "    string_name.upper()"
   ]
  },
  {
   "cell_type": "code",
   "execution_count": 8,
   "id": "0dc5212e",
   "metadata": {},
   "outputs": [
    {
     "data": {
      "text/plain": [
       "'INDIA IS MY COUNTRY. ALL INDIANS ARE MY BROTHERS & SISTERS'"
      ]
     },
     "execution_count": 8,
     "metadata": {},
     "output_type": "execute_result"
    }
   ],
   "source": [
    "country = 'india is my country. all Indians are my brothers & sisters'\n",
    "\n",
    "country.upper()"
   ]
  },
  {
   "cell_type": "markdown",
   "id": "4e5192af",
   "metadata": {},
   "source": [
    "## Lower()"
   ]
  },
  {
   "cell_type": "raw",
   "id": "e971d3a7",
   "metadata": {},
   "source": [
    "It Converts everything into lowercase.\n",
    "\n",
    "syntax:\n",
    "    string_name.lower()"
   ]
  },
  {
   "cell_type": "code",
   "execution_count": 9,
   "id": "1c9b7f99",
   "metadata": {},
   "outputs": [
    {
     "data": {
      "text/plain": [
       "'india is my country. all indians are my brothers & sisters'"
      ]
     },
     "execution_count": 9,
     "metadata": {},
     "output_type": "execute_result"
    }
   ],
   "source": [
    "country = 'India is my country. All Indians are my brothers & sisters'\n",
    "\n",
    "country.lower()"
   ]
  },
  {
   "cell_type": "code",
   "execution_count": 10,
   "id": "852dd2ee",
   "metadata": {},
   "outputs": [
    {
     "name": "stdout",
     "output_type": "stream",
     "text": [
      "same person\n"
     ]
    }
   ],
   "source": [
    "adhar_name = 'PRANAV SANGAME'\n",
    "pan_name = 'pranav sangame'\n",
    "\n",
    "if adhar_name.lower() == pan_name.lower():\n",
    "    print('same person')\n",
    "else:\n",
    "    print('not the same person')"
   ]
  },
  {
   "cell_type": "markdown",
   "id": "d735d7c4",
   "metadata": {},
   "source": [
    "## Title()"
   ]
  },
  {
   "cell_type": "raw",
   "id": "983019bb",
   "metadata": {},
   "source": [
    "Convert string into titlecase. (first word of the string.)\n",
    "\n",
    "syntax:\n",
    "    string_name.title()"
   ]
  },
  {
   "cell_type": "code",
   "execution_count": 11,
   "id": "dba4a18e",
   "metadata": {},
   "outputs": [
    {
     "data": {
      "text/plain": [
       "'India Is My Country. All Indians Are My Brothers & Sisters'"
      ]
     },
     "execution_count": 11,
     "metadata": {},
     "output_type": "execute_result"
    }
   ],
   "source": [
    "country = 'India is my country. All Indians are my brothers & sisters'\n",
    "\n",
    "country.title()"
   ]
  },
  {
   "cell_type": "markdown",
   "id": "a0879b4b",
   "metadata": {},
   "source": [
    "## Swapcase()"
   ]
  },
  {
   "cell_type": "raw",
   "id": "f679f196",
   "metadata": {},
   "source": [
    "Uppercase letters are converted into lowercase and lowercase letters are converted into uppercase.\n",
    "\n",
    "syntax:\n",
    "    string_name.swapcase()"
   ]
  },
  {
   "cell_type": "code",
   "execution_count": 12,
   "id": "aafb19c9",
   "metadata": {},
   "outputs": [
    {
     "data": {
      "text/plain": [
       "'india IS MY COUNTRY. all INDIANS ARE MY bROTHERS & sISTERS.'"
      ]
     },
     "execution_count": 12,
     "metadata": {},
     "output_type": "execute_result"
    }
   ],
   "source": [
    "string = 'INDIA is my country. ALL indians are my Brothers & Sisters.'\n",
    "\n",
    "string.swapcase()"
   ]
  },
  {
   "cell_type": "markdown",
   "id": "3acfc825",
   "metadata": {},
   "source": [
    "## lstrip()"
   ]
  },
  {
   "cell_type": "raw",
   "id": "710c3f31",
   "metadata": {},
   "source": [
    "Left strip: removes all the spaces from the initial side of the string\n",
    "\n",
    "syntax:\n",
    "    string_name.lstrip()"
   ]
  },
  {
   "cell_type": "code",
   "execution_count": 13,
   "id": "1dd5ecc1",
   "metadata": {},
   "outputs": [
    {
     "name": "stdout",
     "output_type": "stream",
     "text": [
      "india is my country. All Indians are my brothers & sisters\n"
     ]
    },
    {
     "data": {
      "text/plain": [
       "'India is my country. all indians are my brothers & sisters'"
      ]
     },
     "execution_count": 13,
     "metadata": {},
     "output_type": "execute_result"
    }
   ],
   "source": [
    "country = '                   india is my country. All Indians are my brothers & sisters'\n",
    "country=country.lstrip()\n",
    "print(country)\n",
    "country.capitalize()"
   ]
  },
  {
   "cell_type": "markdown",
   "id": "07e7922e",
   "metadata": {},
   "source": [
    "## rstrip()"
   ]
  },
  {
   "cell_type": "raw",
   "id": "a8eab02b",
   "metadata": {},
   "source": [
    "Right Strip: removes all spaces from the end side of the string.\n",
    "\n",
    "syntax: \n",
    "    string_name.rstrip()"
   ]
  },
  {
   "cell_type": "code",
   "execution_count": 14,
   "id": "6a22c40a",
   "metadata": {},
   "outputs": [
    {
     "data": {
      "text/plain": [
       "'india is my country. all indians are my brothers & sisters'"
      ]
     },
     "execution_count": 14,
     "metadata": {},
     "output_type": "execute_result"
    }
   ],
   "source": [
    "string= 'india is my country. all indians are my brothers & sisters           '\n",
    "string.rstrip()"
   ]
  },
  {
   "cell_type": "markdown",
   "id": "a51fcb42",
   "metadata": {},
   "source": [
    "## Replace"
   ]
  },
  {
   "cell_type": "raw",
   "id": "15fd55f1",
   "metadata": {},
   "source": [
    "If we want to change in string then we use replace function.\n",
    "\n",
    "syntax:\n",
    "       string_name.replace('old_entity_want_to_change','new_entity_you_want')\n",
    "\n",
    "eg. string.replace('i','*')  # i is replaced with * symbol."
   ]
  },
  {
   "cell_type": "code",
   "execution_count": 16,
   "id": "98a39c96",
   "metadata": {},
   "outputs": [
    {
     "data": {
      "text/plain": [
       "'INDIA is my country. ALL indians are my Brothers & Sisters.'"
      ]
     },
     "execution_count": 16,
     "metadata": {},
     "output_type": "execute_result"
    }
   ],
   "source": [
    "string = 'INDIA is my country. ALL indians are my Brothers & Sisters.'\n",
    "string"
   ]
  },
  {
   "cell_type": "code",
   "execution_count": 17,
   "id": "d61181b0",
   "metadata": {},
   "outputs": [
    {
     "data": {
      "text/plain": [
       "'India is my country. ALL indians are my Brothers & Sisters.'"
      ]
     },
     "execution_count": 17,
     "metadata": {},
     "output_type": "execute_result"
    }
   ],
   "source": [
    "string.replace('INDIA','India')"
   ]
  },
  {
   "cell_type": "code",
   "execution_count": 19,
   "id": "1e334d53",
   "metadata": {},
   "outputs": [
    {
     "data": {
      "text/plain": [
       "'India is my country. All indians are my Brothers & Sisters.'"
      ]
     },
     "execution_count": 19,
     "metadata": {},
     "output_type": "execute_result"
    }
   ],
   "source": [
    "processed_string=string.replace('INDIA','India').replace('ALL','All')\n",
    "processed_string"
   ]
  },
  {
   "cell_type": "code",
   "execution_count": 20,
   "id": "0c161de0",
   "metadata": {},
   "outputs": [
    {
     "data": {
      "text/plain": [
       "'INDIA *s my country. ALL *nd*ans are my Brothers & S*sters.'"
      ]
     },
     "execution_count": 20,
     "metadata": {},
     "output_type": "execute_result"
    }
   ],
   "source": [
    "string.replace('i','*')"
   ]
  },
  {
   "cell_type": "markdown",
   "id": "05a7c6ee",
   "metadata": {},
   "source": [
    "## del"
   ]
  },
  {
   "cell_type": "raw",
   "id": "e363b476",
   "metadata": {},
   "source": [
    "deletes the variable from memory.\n",
    "\n",
    "syntax:\n",
    "    del string_name"
   ]
  },
  {
   "cell_type": "code",
   "execution_count": 21,
   "id": "e703fbc7",
   "metadata": {},
   "outputs": [
    {
     "name": "stdout",
     "output_type": "stream",
     "text": [
      "python and data science\n"
     ]
    },
    {
     "ename": "NameError",
     "evalue": "name 'string1' is not defined",
     "output_type": "error",
     "traceback": [
      "\u001b[1;31m---------------------------------------------------------------------------\u001b[0m",
      "\u001b[1;31mNameError\u001b[0m                                 Traceback (most recent call last)",
      "\u001b[1;32m~\\AppData\\Local\\Temp/ipykernel_36472/1213699430.py\u001b[0m in \u001b[0;36m<module>\u001b[1;34m\u001b[0m\n\u001b[0;32m      2\u001b[0m \u001b[0mprint\u001b[0m\u001b[1;33m(\u001b[0m\u001b[0mstring1\u001b[0m\u001b[1;33m)\u001b[0m\u001b[1;33m\u001b[0m\u001b[1;33m\u001b[0m\u001b[0m\n\u001b[0;32m      3\u001b[0m \u001b[1;32mdel\u001b[0m \u001b[0mstring1\u001b[0m\u001b[1;33m\u001b[0m\u001b[1;33m\u001b[0m\u001b[0m\n\u001b[1;32m----> 4\u001b[1;33m \u001b[0mprint\u001b[0m\u001b[1;33m(\u001b[0m\u001b[0mstring1\u001b[0m\u001b[1;33m)\u001b[0m\u001b[1;33m\u001b[0m\u001b[1;33m\u001b[0m\u001b[0m\n\u001b[0m",
      "\u001b[1;31mNameError\u001b[0m: name 'string1' is not defined"
     ]
    }
   ],
   "source": [
    "string1='python and data science'\n",
    "print(string1)\n",
    "del string1\n",
    "print(string1)"
   ]
  },
  {
   "cell_type": "markdown",
   "id": "f8e6ee91",
   "metadata": {},
   "source": [
    "## len()"
   ]
  },
  {
   "cell_type": "raw",
   "id": "25b17cb2",
   "metadata": {},
   "source": [
    "Counts total number of characters including special character in the string.\n",
    "\n",
    "syntax:\n",
    "    len(string_name)"
   ]
  },
  {
   "cell_type": "code",
   "execution_count": 22,
   "id": "15eb50a5",
   "metadata": {},
   "outputs": [
    {
     "data": {
      "text/plain": [
       "6"
      ]
     },
     "execution_count": 22,
     "metadata": {},
     "output_type": "execute_result"
    }
   ],
   "source": [
    "name = 'Sachin'\n",
    "len(name)"
   ]
  },
  {
   "cell_type": "markdown",
   "id": "dd038b92",
   "metadata": {},
   "source": [
    "## Count"
   ]
  },
  {
   "cell_type": "raw",
   "id": "b01f7b6b",
   "metadata": {},
   "source": [
    "It counts perticuler(which we want) entity in the string.\n",
    "\n",
    "syntax:\n",
    "    string_name.count('entity_to_be_counted')\n",
    "    \n",
    "    string_name.count('entity_to_be_counted',start_index,end_index)\n",
    "    here start_index and end_index is optional."
   ]
  },
  {
   "cell_type": "code",
   "execution_count": 23,
   "id": "86ed8f61",
   "metadata": {},
   "outputs": [
    {
     "data": {
      "text/plain": [
       "'INDIA is my country. ALL indians are my Brothers & Sisters.'"
      ]
     },
     "execution_count": 23,
     "metadata": {},
     "output_type": "execute_result"
    }
   ],
   "source": [
    "string"
   ]
  },
  {
   "cell_type": "code",
   "execution_count": 24,
   "id": "6554dbff",
   "metadata": {},
   "outputs": [
    {
     "data": {
      "text/plain": [
       "2"
      ]
     },
     "execution_count": 24,
     "metadata": {},
     "output_type": "execute_result"
    }
   ],
   "source": [
    "string.count('my')"
   ]
  },
  {
   "cell_type": "code",
   "execution_count": 25,
   "id": "491fec70",
   "metadata": {},
   "outputs": [
    {
     "data": {
      "text/plain": [
       "1"
      ]
     },
     "execution_count": 25,
     "metadata": {},
     "output_type": "execute_result"
    }
   ],
   "source": [
    "string.count('my',0,30)"
   ]
  },
  {
   "cell_type": "markdown",
   "id": "c9ba81bf",
   "metadata": {},
   "source": [
    "## Find"
   ]
  },
  {
   "cell_type": "raw",
   "id": "4da4e986",
   "metadata": {},
   "source": [
    "It serches index number for entity we want.\n",
    "if entity not present in string then returns -1 output\n",
    "\n",
    "syntax:\n",
    "    string_name.find('entity_to_be_find')"
   ]
  },
  {
   "cell_type": "code",
   "execution_count": 26,
   "id": "37a37f43",
   "metadata": {},
   "outputs": [
    {
     "data": {
      "text/plain": [
       "21"
      ]
     },
     "execution_count": 26,
     "metadata": {},
     "output_type": "execute_result"
    }
   ],
   "source": [
    "string = 'INDIA is my country. ALL indians are my Brothers & Sisters.'\n",
    "\n",
    "string.find('ALL')"
   ]
  },
  {
   "cell_type": "markdown",
   "id": "bc88bf39",
   "metadata": {},
   "source": [
    "## Index"
   ]
  },
  {
   "cell_type": "raw",
   "id": "f4d5d442",
   "metadata": {},
   "source": [
    "it works as same as find function.\n",
    "but if entity not found in string then returns error.\n",
    "\n",
    "syntax:\n",
    "    string_name.index('entity',start_index,end_index)\n",
    "    \n",
    "    here index is optional."
   ]
  },
  {
   "cell_type": "code",
   "execution_count": 27,
   "id": "8672f1fb",
   "metadata": {},
   "outputs": [
    {
     "data": {
      "text/plain": [
       "21"
      ]
     },
     "execution_count": 27,
     "metadata": {},
     "output_type": "execute_result"
    }
   ],
   "source": [
    "string.index('A',20,-1)"
   ]
  },
  {
   "cell_type": "code",
   "execution_count": 28,
   "id": "ff5605bd",
   "metadata": {},
   "outputs": [
    {
     "data": {
      "text/plain": [
       "'ALL indians are my Brothers & Sisters.'"
      ]
     },
     "execution_count": 28,
     "metadata": {},
     "output_type": "execute_result"
    }
   ],
   "source": [
    "string[string.index('ALL'):]"
   ]
  },
  {
   "cell_type": "markdown",
   "id": "9e6a9c98",
   "metadata": {},
   "source": [
    "## split"
   ]
  },
  {
   "cell_type": "raw",
   "id": "5285ac58",
   "metadata": {},
   "source": [
    "split will actually split the substring & return them all in a list format.\n",
    "bydefault splitting parameter is space.\n",
    "\n",
    "syntax:\n",
    "    string_name.split()    # it is spliting by space\n",
    "    \n",
    " It converts string to list.\n"
   ]
  },
  {
   "cell_type": "code",
   "execution_count": 29,
   "id": "124a2b43",
   "metadata": {},
   "outputs": [
    {
     "name": "stdout",
     "output_type": "stream",
     "text": [
      "['python', 'and', 'data', 'science']\n"
     ]
    },
    {
     "data": {
      "text/plain": [
       "'ecneics'"
      ]
     },
     "execution_count": 29,
     "metadata": {},
     "output_type": "execute_result"
    }
   ],
   "source": [
    "string1='python and data science'\n",
    "list1=string1.split()\n",
    "print(list1)\n",
    "\n",
    "rlist=list1[-1::-1]\n",
    "rlist\n",
    "rse=rlist[0][-1::-1]\n",
    "rse"
   ]
  },
  {
   "cell_type": "code",
   "execution_count": 32,
   "id": "7d90b96a",
   "metadata": {},
   "outputs": [
    {
     "data": {
      "text/plain": [
       "['65431232 6541321', '3213216', '6513212 6513551']"
      ]
     },
     "execution_count": 32,
     "metadata": {},
     "output_type": "execute_result"
    }
   ],
   "source": [
    "raw_data = '''65431232 6541321\n",
    "3213216\n",
    "6513212 6513551'''\n",
    "\n",
    "raw_data.split('\\n')"
   ]
  },
  {
   "cell_type": "markdown",
   "id": "2c8d0e5a",
   "metadata": {},
   "source": [
    "## Join"
   ]
  },
  {
   "cell_type": "raw",
   "id": "236181ba",
   "metadata": {},
   "source": [
    "it joins the substring into one string.\n",
    "\n",
    "syntax:\n",
    "    'prameter'.join(string_name/variable_name)\n",
    "\n",
    "It converts list to string."
   ]
  },
  {
   "cell_type": "code",
   "execution_count": 30,
   "id": "b93737be",
   "metadata": {},
   "outputs": [
    {
     "name": "stdout",
     "output_type": "stream",
     "text": [
      "['science', 'data', 'and', 'python']\n",
      "science data and python\n",
      "<class 'str'>\n"
     ]
    }
   ],
   "source": [
    "print(rlist)\n",
    "s2=' '.join(rlist)\n",
    "print(s2)\n",
    "print(type(s2))"
   ]
  },
  {
   "cell_type": "code",
   "execution_count": 34,
   "id": "26e79d8c",
   "metadata": {},
   "outputs": [
    {
     "name": "stdout",
     "output_type": "stream",
     "text": [
      "string list is:  ['Python', 'is', 'an', 'intresting', 'is', 'language']\n"
     ]
    },
    {
     "data": {
      "text/plain": [
       "['Python', 'is', 'an', 'intresting', 'language']"
      ]
     },
     "execution_count": 34,
     "metadata": {},
     "output_type": "execute_result"
    }
   ],
   "source": [
    "string = 'Python is an intresting is language'\n",
    "string_list = string.split()\n",
    "print('string list is: ',string_list)\n",
    "string_list.pop(-2)\n",
    "string_list"
   ]
  },
  {
   "cell_type": "code",
   "execution_count": 35,
   "id": "8718f6b1",
   "metadata": {},
   "outputs": [
    {
     "data": {
      "text/plain": [
       "'Pythonisanintrestinglanguage'"
      ]
     },
     "execution_count": 35,
     "metadata": {},
     "output_type": "execute_result"
    }
   ],
   "source": [
    "''.join(string_list)"
   ]
  },
  {
   "cell_type": "markdown",
   "id": "98e679cb",
   "metadata": {},
   "source": [
    "## startswith"
   ]
  },
  {
   "cell_type": "raw",
   "id": "a31682d8",
   "metadata": {},
   "source": [
    "It checks whether if a string starts with a definte substring.\n",
    "It returns True or False boolean values.\n",
    "\n",
    "syntax:\n",
    "    string_name.startswith('entity')\n",
    "    \n",
    "    here if string stared with given entity then it returns True else False."
   ]
  },
  {
   "cell_type": "code",
   "execution_count": 38,
   "id": "e401609f",
   "metadata": {},
   "outputs": [
    {
     "data": {
      "text/plain": [
       "True"
      ]
     },
     "execution_count": 38,
     "metadata": {},
     "output_type": "execute_result"
    }
   ],
   "source": [
    "string.startswith('P')"
   ]
  },
  {
   "cell_type": "code",
   "execution_count": 37,
   "id": "2fb6d49e",
   "metadata": {},
   "outputs": [
    {
     "data": {
      "text/plain": [
       "False"
      ]
     },
     "execution_count": 37,
     "metadata": {},
     "output_type": "execute_result"
    }
   ],
   "source": [
    "string.endswith('science')"
   ]
  },
  {
   "cell_type": "markdown",
   "id": "90053244",
   "metadata": {},
   "source": [
    "## Endswith"
   ]
  },
  {
   "cell_type": "raw",
   "id": "1bb686d3",
   "metadata": {},
   "source": [
    "It checkes whether if a string ends with a definite substring.\n",
    "It returns True or False boolean values.\n",
    "\n",
    "syntax:\n",
    "    string_name.endswith('entity')\n",
    "    \n",
    "    here if string ended with given entity then it returns True else False."
   ]
  },
  {
   "cell_type": "code",
   "execution_count": 39,
   "id": "e5232c45",
   "metadata": {},
   "outputs": [
    {
     "name": "stdout",
     "output_type": "stream",
     "text": [
      "  Ankit\n",
      " Akshay\n"
     ]
    }
   ],
   "source": [
    "students_names = ['  Ankit', 'Bharat', ' Akshay', 'Yogesh']\n",
    "\n",
    "for name in students_names:\n",
    "    if name.strip().startswith('A'):print(name)"
   ]
  },
  {
   "cell_type": "markdown",
   "id": "2e5c37dd",
   "metadata": {},
   "source": [
    "## isalnum"
   ]
  },
  {
   "cell_type": "raw",
   "id": "942b4abc",
   "metadata": {},
   "source": [
    "only alphabets or numericals should be present in the string.\n",
    "It returns True or Faluse boolean values.\n",
    "\n",
    "syntax:\n",
    "    variable_name.isalnum()"
   ]
  },
  {
   "cell_type": "markdown",
   "id": "c922f6e0",
   "metadata": {},
   "source": [
    "## isalpha"
   ]
  },
  {
   "cell_type": "raw",
   "id": "0ee7b8a8",
   "metadata": {},
   "source": [
    "only concered with alphabets & not numbers or special characters.\n",
    "It returns True or Faluse boolean values.\n",
    "\n",
    "syntax:\n",
    "    string_name.isalpha()"
   ]
  },
  {
   "cell_type": "markdown",
   "id": "d5f0150c",
   "metadata": {},
   "source": [
    "## isdecimal"
   ]
  },
  {
   "cell_type": "raw",
   "id": "da6ca893",
   "metadata": {},
   "source": [
    "only concered with numbers and few unicode characters.\n",
    "special characters are not allowed.\n",
    "range of unicode characters for numbers 0-9 is from unicode of 30-39\n",
    "It returns True or Faluse boolean values.\n",
    "\n",
    "syntax:\n",
    "    variable_name.isdecimal()"
   ]
  },
  {
   "cell_type": "markdown",
   "id": "9314a42b",
   "metadata": {},
   "source": [
    "## isdigit"
   ]
  },
  {
   "cell_type": "raw",
   "id": "e7b8bda8",
   "metadata": {},
   "source": [
    "supports all numbers & unicodes & subscript & superscript\n",
    "special chars are not allowed\n",
    "It returns True or Faluse boolean values.\n",
    "\n",
    "syntax:\n",
    "    variable_name.isdigit()"
   ]
  },
  {
   "cell_type": "markdown",
   "id": "6ead3317",
   "metadata": {},
   "source": [
    "## isnumeric"
   ]
  },
  {
   "cell_type": "raw",
   "id": "72c7d201",
   "metadata": {},
   "source": [
    "supports all numbers & unicodes & subscript & superscript & valgar\n",
    "special chars are not allowed\n",
    "It returns True or False boolean values.\n",
    "\n",
    "syntax:\n",
    "    variable_name.isnumeric()"
   ]
  },
  {
   "cell_type": "markdown",
   "id": "5309c56b",
   "metadata": {},
   "source": [
    "## islower"
   ]
  },
  {
   "cell_type": "raw",
   "id": "75127d26",
   "metadata": {},
   "source": [
    "small alphabets, numbers and special characters\n",
    "It returns True or Faluse boolean values.\n",
    "\n",
    "syntax:\n",
    "    variable_name.islower()"
   ]
  },
  {
   "cell_type": "markdown",
   "id": "ef2c4249",
   "metadata": {},
   "source": [
    "## isupper"
   ]
  },
  {
   "cell_type": "raw",
   "id": "2578b7f2",
   "metadata": {},
   "source": [
    "capital alphabets, numbers and special characters\n",
    "It returns True or Faluse boolean values.\n",
    "\n",
    "syntax:\n",
    "    variable_name.isupper()"
   ]
  },
  {
   "cell_type": "markdown",
   "id": "3e51cc6e",
   "metadata": {},
   "source": [
    "## istitle"
   ]
  },
  {
   "cell_type": "raw",
   "id": "957ecc7e",
   "metadata": {},
   "source": [
    "alphabets, numbers, special characters\n",
    "The first letter of every word has to be capital\n",
    "It returns True or Faluse boolean values.\n",
    "\n",
    "syntax:\n",
    "    variable_name.istitle()"
   ]
  },
  {
   "cell_type": "markdown",
   "id": "eb6fb899",
   "metadata": {},
   "source": [
    "## isspace"
   ]
  },
  {
   "cell_type": "code",
   "execution_count": null,
   "id": "ca5fec9e",
   "metadata": {},
   "outputs": [],
   "source": [
    "True when there are only spaces & nothing else otherwise False\n",
    "\n",
    "syntax:\n",
    "    variable_name.isspace()"
   ]
  },
  {
   "cell_type": "markdown",
   "id": "1458746a",
   "metadata": {},
   "source": [
    "## chr()"
   ]
  },
  {
   "cell_type": "raw",
   "id": "965e0e21",
   "metadata": {},
   "source": [
    "it transforms the ASCII values to characters\n",
    "the range of ASCII is 65-90 for [A-Z]\n",
    "the range for ASCII 97-122 is for [a-z]\n",
    "\n",
    "syntax:\n",
    "    chr(value)"
   ]
  },
  {
   "cell_type": "code",
   "execution_count": 40,
   "id": "fa9f68c2",
   "metadata": {},
   "outputs": [
    {
     "data": {
      "text/plain": [
       "'A'"
      ]
     },
     "execution_count": 40,
     "metadata": {},
     "output_type": "execute_result"
    }
   ],
   "source": [
    "chr(65)"
   ]
  },
  {
   "cell_type": "code",
   "execution_count": 41,
   "id": "cf990604",
   "metadata": {},
   "outputs": [
    {
     "data": {
      "text/plain": [
       "['A',\n",
       " 'B',\n",
       " 'C',\n",
       " 'D',\n",
       " 'E',\n",
       " 'F',\n",
       " 'G',\n",
       " 'H',\n",
       " 'I',\n",
       " 'J',\n",
       " 'K',\n",
       " 'L',\n",
       " 'M',\n",
       " 'N',\n",
       " 'O',\n",
       " 'P',\n",
       " 'Q',\n",
       " 'R',\n",
       " 'S',\n",
       " 'T',\n",
       " 'U',\n",
       " 'V',\n",
       " 'W',\n",
       " 'X',\n",
       " 'Y',\n",
       " 'Z']"
      ]
     },
     "execution_count": 41,
     "metadata": {},
     "output_type": "execute_result"
    }
   ],
   "source": [
    "[chr(i) for i in range(65,91)]"
   ]
  },
  {
   "cell_type": "markdown",
   "id": "b030be61",
   "metadata": {},
   "source": [
    "## ord"
   ]
  },
  {
   "cell_type": "raw",
   "id": "df3b47a1",
   "metadata": {},
   "source": [
    "converts english charcters to ASCII numbers"
   ]
  },
  {
   "cell_type": "code",
   "execution_count": 42,
   "id": "a638867a",
   "metadata": {},
   "outputs": [
    {
     "data": {
      "text/plain": [
       "65"
      ]
     },
     "execution_count": 42,
     "metadata": {},
     "output_type": "execute_result"
    }
   ],
   "source": [
    "ord('A')"
   ]
  },
  {
   "cell_type": "markdown",
   "id": "81fe4460",
   "metadata": {},
   "source": [
    "## zfill()"
   ]
  },
  {
   "cell_type": "raw",
   "id": "28d89d0c",
   "metadata": {},
   "source": [
    "It adds zeros at the begining of the string\n",
    "total count - number of letters present\n",
    "\n",
    "syntax:\n",
    "    variable_name.zfill(number_of_zeros)"
   ]
  },
  {
   "cell_type": "markdown",
   "id": "a62ad3d4",
   "metadata": {},
   "source": [
    "## center"
   ]
  },
  {
   "cell_type": "raw",
   "id": "4b8a2efb",
   "metadata": {},
   "source": [
    "when we have even no of letters in string & odd no passed in centre function then we have 1 additional space at the begening of the string.\n",
    "when we have odd count of letters in string & even number passed in center function then 1 additional space will be found at the end.\n",
    "\n",
    "syntax:\n",
    "    variable_name.center(number_of_characterrs)"
   ]
  },
  {
   "cell_type": "code",
   "execution_count": 31,
   "id": "3c1558ee",
   "metadata": {},
   "outputs": [
    {
     "data": {
      "text/plain": [
       "'   123   '"
      ]
     },
     "execution_count": 31,
     "metadata": {},
     "output_type": "execute_result"
    }
   ],
   "source": [
    "s='123'\n",
    "s.center(9)"
   ]
  }
 ],
 "metadata": {
  "kernelspec": {
   "display_name": "Python 3 (ipykernel)",
   "language": "python",
   "name": "python3"
  },
  "language_info": {
   "codemirror_mode": {
    "name": "ipython",
    "version": 3
   },
   "file_extension": ".py",
   "mimetype": "text/x-python",
   "name": "python",
   "nbconvert_exporter": "python",
   "pygments_lexer": "ipython3",
   "version": "3.9.7"
  },
  "toc": {
   "base_numbering": 1,
   "nav_menu": {},
   "number_sections": true,
   "sideBar": true,
   "skip_h1_title": false,
   "title_cell": "Table of Contents",
   "title_sidebar": "Contents",
   "toc_cell": false,
   "toc_position": {},
   "toc_section_display": true,
   "toc_window_display": false
  }
 },
 "nbformat": 4,
 "nbformat_minor": 5
}
