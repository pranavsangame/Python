{
 "cells": [
  {
   "cell_type": "raw",
   "id": "93f0810e",
   "metadata": {},
   "source": [
    "Regex(RE):\n",
    "    is one of the fundamental library of python that deals with the text data.\n",
    "    It uses functions that creates a sequence of characters that forms the search pattern on the data\n",
    "    Natural Language Processing, Remove Noise, Skew correction\n",
    "    suggesting future words\n",
    "    used in recomendation system\n",
    "    Text Processing - analyzing the text data for getting structured information.\n",
    "    When we use OCR on image then post OCR techniques regex is used.\n",
    "    Web scapping - extracting data from websites\n",
    "    data cleaing - data mining,processing the raw data."
   ]
  },
  {
   "cell_type": "raw",
   "id": "66109360",
   "metadata": {},
   "source": [
    "regrex >> re >> Regular Expression\n",
    "\n",
    "import re"
   ]
  },
  {
   "cell_type": "code",
   "execution_count": 1,
   "id": "49349d28",
   "metadata": {},
   "outputs": [],
   "source": [
    "import re"
   ]
  },
  {
   "cell_type": "markdown",
   "id": "04456d8b",
   "metadata": {},
   "source": [
    "# Findall()"
   ]
  },
  {
   "cell_type": "raw",
   "id": "b7656b99",
   "metadata": {},
   "source": [
    "return a list of items that matches the search pattern\n",
    "\n",
    "found_item = re.findall(pattern,string_data)\n"
   ]
  },
  {
   "cell_type": "raw",
   "id": "23c81d90",
   "metadata": {},
   "source": [
    "NOTE: what we pass in curly bracesses is the length of the pattern. the pattern is passed in square brackets."
   ]
  },
  {
   "cell_type": "code",
   "execution_count": 2,
   "id": "9added73",
   "metadata": {},
   "outputs": [
    {
     "data": {
      "text/plain": [
       "['8456758965', '8567985312']"
      ]
     },
     "execution_count": 2,
     "metadata": {},
     "output_type": "execute_result"
    }
   ],
   "source": [
    "text = '''MY Mobile no. is 8456758965\n",
    "& my mail id is pratikkanpurwar7@gmail.com\n",
    "& my alternate NUMBER is 8567985312'''\n",
    "\n",
    "# finding 10 digits number in text above\n",
    "\n",
    "mobile_numbers = re.findall('[0-9]{10}',text)\n",
    "mobile_numbers"
   ]
  },
  {
   "cell_type": "code",
   "execution_count": 3,
   "id": "3284f89c",
   "metadata": {},
   "outputs": [
    {
     "data": {
      "text/plain": [
       "['84', '56', '75', '89', '65', '85', '67', '98', '53', '12']"
      ]
     },
     "execution_count": 3,
     "metadata": {},
     "output_type": "execute_result"
    }
   ],
   "source": [
    "re.findall('[0-9]{2}',text)"
   ]
  },
  {
   "cell_type": "code",
   "execution_count": 4,
   "id": "419ce814",
   "metadata": {},
   "outputs": [
    {
     "data": {
      "text/plain": [
       "['MY', 'NU', 'MB', 'ER']"
      ]
     },
     "execution_count": 4,
     "metadata": {},
     "output_type": "execute_result"
    }
   ],
   "source": [
    "capitals = re.findall('[A-Z]{2}',text)\n",
    "capitals"
   ]
  },
  {
   "cell_type": "code",
   "execution_count": 5,
   "id": "137cfc06",
   "metadata": {},
   "outputs": [
    {
     "data": {
      "text/plain": [
       "['obile', 'prati', 'kkanp', 'urwar', 'gmail', 'alter']"
      ]
     },
     "execution_count": 5,
     "metadata": {},
     "output_type": "execute_result"
    }
   ],
   "source": [
    "small = re.findall('[a-z]{5}',text)\n",
    "small"
   ]
  },
  {
   "cell_type": "code",
   "execution_count": 6,
   "id": "c3b2fb46",
   "metadata": {},
   "outputs": [
    {
     "data": {
      "text/plain": [
       "['8456758965', '8567985312']"
      ]
     },
     "execution_count": 6,
     "metadata": {},
     "output_type": "execute_result"
    }
   ],
   "source": [
    "letters = re.findall('[A-Z0-9]{10}',text)\n",
    "letters"
   ]
  },
  {
   "cell_type": "markdown",
   "id": "69d15646",
   "metadata": {},
   "source": [
    "## Variable Length of pattern"
   ]
  },
  {
   "cell_type": "code",
   "execution_count": 7,
   "id": "427efc8a",
   "metadata": {},
   "outputs": [
    {
     "data": {
      "text/plain": [
       "['MY', 'NUMBER']"
      ]
     },
     "execution_count": 7,
     "metadata": {},
     "output_type": "execute_result"
    }
   ],
   "source": [
    "letters = re.findall('[A-Z]{2,10}',text)\n",
    "letters"
   ]
  },
  {
   "cell_type": "code",
   "execution_count": 8,
   "id": "cafbadce",
   "metadata": {},
   "outputs": [
    {
     "data": {
      "text/plain": [
       "['obile',\n",
       " 'no',\n",
       " 'is',\n",
       " 'my',\n",
       " 'mail',\n",
       " 'id',\n",
       " 'is',\n",
       " 'pratikkanp',\n",
       " 'urwar',\n",
       " 'gmail',\n",
       " 'com',\n",
       " 'my',\n",
       " 'alternate',\n",
       " 'is']"
      ]
     },
     "execution_count": 8,
     "metadata": {},
     "output_type": "execute_result"
    }
   ],
   "source": [
    "letters = re.findall('[a-z]{2,10}',text)\n",
    "letters"
   ]
  },
  {
   "cell_type": "code",
   "execution_count": 9,
   "id": "3161d33a",
   "metadata": {},
   "outputs": [
    {
     "data": {
      "text/plain": [
       "['pranavsangame19957@gmail.com', 'Pratikk@gmail.com', 'Pratik999@yahoo.com']"
      ]
     },
     "execution_count": 9,
     "metadata": {},
     "output_type": "execute_result"
    }
   ],
   "source": [
    "text = '''MY Mobile no. is 8456757965\n",
    "& my mail id is pranavsangame19957@gmail.com\n",
    "& my alternate NUMBER is +91 8567985312 \n",
    "& my alternate mail id is Pratikk@gmail.com\n",
    "Pratik999@yahoo.com, pranav@amdocs.co.in, hr@cognizant.com, \n",
    "pratik123sangame@rediffmail.com, omkar@IITDELHI.edu.in\n",
    "Rohit_007@BCCI.com'''\n",
    "\n",
    "mail_ids = re.findall('[A-Za-z0-9]{1,20}[@][A-Za-z]{5}[.][A-z]{3}',text)\n",
    "mail_ids"
   ]
  },
  {
   "cell_type": "code",
   "execution_count": 10,
   "id": "cc22f675",
   "metadata": {},
   "outputs": [
    {
     "data": {
      "text/plain": [
       "['pranavsangame19957@gmail.com',\n",
       " 'Pratikk@gmail.com',\n",
       " 'Pratik999@yahoo.com',\n",
       " 'pranav@amdocs.co.in',\n",
       " 'hr@cognizant.com',\n",
       " 'pratik123sangame@rediffmail.com',\n",
       " 'omkar@IITDELHI.edu.in',\n",
       " 'Rohit_007@BCCI.com']"
      ]
     },
     "execution_count": 10,
     "metadata": {},
     "output_type": "execute_result"
    }
   ],
   "source": [
    "mail_ids = re.findall('[A-z0-9_]{1,20}[@][A-Za-z.]{8,15}',text)\n",
    "mail_ids"
   ]
  },
  {
   "cell_type": "code",
   "execution_count": 11,
   "id": "5bbc96c3",
   "metadata": {},
   "outputs": [
    {
     "data": {
      "text/plain": [
       "[' +91 8567985312 ']"
      ]
     },
     "execution_count": 11,
     "metadata": {},
     "output_type": "execute_result"
    }
   ],
   "source": [
    "mail_ids = re.findall('[+0-9 ]{16}',text)\n",
    "mail_ids"
   ]
  },
  {
   "cell_type": "code",
   "execution_count": 12,
   "id": "3595c840",
   "metadata": {},
   "outputs": [
    {
     "data": {
      "text/plain": [
       "['+91 8567985312']"
      ]
     },
     "execution_count": 12,
     "metadata": {},
     "output_type": "execute_result"
    }
   ],
   "source": [
    "mail_ids = re.findall('[+0-9]{3}[ ][0-9]{10}',text)\n",
    "mail_ids"
   ]
  },
  {
   "cell_type": "code",
   "execution_count": 13,
   "id": "bdd6f749",
   "metadata": {},
   "outputs": [
    {
     "data": {
      "text/plain": [
       "['pranavsangame19957@gmail.com',\n",
       " 'Pratikk@gmail.com',\n",
       " 'Pratik999@yahoo.com',\n",
       " 'pranav@amdocs.co.in',\n",
       " 'hr@cognizant.com',\n",
       " 'pratik123sangame@rediffmail.com',\n",
       " 'omkar@IITDELHI.edu.in',\n",
       " 'Rohit_007@BCCI.com']"
      ]
     },
     "execution_count": 13,
     "metadata": {},
     "output_type": "execute_result"
    }
   ],
   "source": [
    "mail_ids = re.findall('[A-z0-9_@.]{15,40}',text)\n",
    "mail_ids"
   ]
  },
  {
   "cell_type": "code",
   "execution_count": 14,
   "id": "5bce53d1",
   "metadata": {},
   "outputs": [],
   "source": [
    "pan_data = \"\"\"pan card numbers:\n",
    "ASHBU7834G\n",
    "MHJGG4857F\n",
    "ahbdy9023F\n",
    "12skk6457k\n",
    "A_HJK9023H\n",
    "AGHK89049J\n",
    "AFLAF89070\n",
    "KLHIP****G\n",
    "\n",
    "Dates:\n",
    "20-10-2022\n",
    "32-09-2021\"\"\""
   ]
  },
  {
   "cell_type": "code",
   "execution_count": 15,
   "id": "5338df05",
   "metadata": {},
   "outputs": [
    {
     "data": {
      "text/plain": [
       "['ASHBU7834G', 'MHJGG4857F']"
      ]
     },
     "execution_count": 15,
     "metadata": {},
     "output_type": "execute_result"
    }
   ],
   "source": [
    "pan = re.findall('[A-Z]{5}[0-9]{4}[A-Z]',pan_data)\n",
    "pan"
   ]
  },
  {
   "cell_type": "code",
   "execution_count": 16,
   "id": "193dfd69",
   "metadata": {},
   "outputs": [
    {
     "data": {
      "text/plain": [
       "['20-10-2022', '32-09-2021']"
      ]
     },
     "execution_count": 16,
     "metadata": {},
     "output_type": "execute_result"
    }
   ],
   "source": [
    "date = re.findall('[-0-9]{10}',pan_data)\n",
    "date"
   ]
  },
  {
   "cell_type": "code",
   "execution_count": 17,
   "id": "805e6a1a",
   "metadata": {},
   "outputs": [
    {
     "data": {
      "text/plain": [
       "['20-10-2022', '32-09-2021']"
      ]
     },
     "execution_count": 17,
     "metadata": {},
     "output_type": "execute_result"
    }
   ],
   "source": [
    "date = re.findall('[0-9]{2}[-][0-9]{2}[-][0-9]{4}',pan_data)\n",
    "date"
   ]
  },
  {
   "cell_type": "markdown",
   "id": "02ba8de7",
   "metadata": {},
   "source": [
    "# Special Sequence"
   ]
  },
  {
   "cell_type": "markdown",
   "id": "dddf9b0d",
   "metadata": {},
   "source": [
    "## \\d"
   ]
  },
  {
   "cell_type": "raw",
   "id": "7930049d",
   "metadata": {},
   "source": [
    "\\d >> 0-9 #is only used for digits varying from 0-9"
   ]
  },
  {
   "cell_type": "code",
   "execution_count": 18,
   "id": "274fe6f2",
   "metadata": {},
   "outputs": [
    {
     "data": {
      "text/plain": [
       "['2344 2345 3255']"
      ]
     },
     "execution_count": 18,
     "metadata": {},
     "output_type": "execute_result"
    }
   ],
   "source": [
    "adhars = \"\"\"2344 2345 3255\n",
    "1243 23544 235\n",
    "1235  3456 3555\n",
    "34f5 3566 4335\n",
    "345_ 3456 3567\"\"\"\n",
    "\n",
    "adhar_nums = re.findall('[\\d]{4}[ ]\\d{4}[ ]\\d{4}',adhars)\n",
    "adhar_nums"
   ]
  },
  {
   "cell_type": "code",
   "execution_count": 19,
   "id": "f7a76f1e",
   "metadata": {},
   "outputs": [
    {
     "data": {
      "text/plain": [
       "['2344 2345 3255']"
      ]
     },
     "execution_count": 19,
     "metadata": {},
     "output_type": "execute_result"
    }
   ],
   "source": [
    "adhar_nums = re.findall('\\d{4}\\s\\d{4}\\s\\d{4}',adhars)\n",
    "adhar_nums"
   ]
  },
  {
   "cell_type": "code",
   "execution_count": 20,
   "id": "36e8b882",
   "metadata": {},
   "outputs": [
    {
     "data": {
      "text/plain": [
       "['2344 2345 3255', '1243 23544 235', '1235  3456 355']"
      ]
     },
     "execution_count": 20,
     "metadata": {},
     "output_type": "execute_result"
    }
   ],
   "source": [
    "adhar_nums = re.findall('[0-9 ]{14}',adhars)\n",
    "adhar_nums"
   ]
  },
  {
   "cell_type": "code",
   "execution_count": 21,
   "id": "39fa4255",
   "metadata": {},
   "outputs": [
    {
     "data": {
      "text/plain": [
       "['2344 2345 3255', '\\n1243 23544 23', '5\\n1235  3456 3', '5 3566 4335\\n34']"
      ]
     },
     "execution_count": 21,
     "metadata": {},
     "output_type": "execute_result"
    }
   ],
   "source": [
    "adhar_nums = re.findall('[\\d\\s]{14}',adhars)\n",
    "adhar_nums"
   ]
  },
  {
   "cell_type": "markdown",
   "id": "07a7f9d5",
   "metadata": {},
   "source": [
    "## \\D"
   ]
  },
  {
   "cell_type": "raw",
   "id": "d786ede3",
   "metadata": {},
   "source": [
    "\\D >> everything apart from digits 0-9 >> except digits >> [^0-9]"
   ]
  },
  {
   "cell_type": "code",
   "execution_count": 22,
   "id": "7b05a93b",
   "metadata": {},
   "outputs": [],
   "source": [
    "IPL = \"\"\"The IPL is the most-attended cricket league in the world and in 2014 was ranked sixth by average attendance among all sports leagues.[3] In 2010, the IPL became the first sporting event in the world to be broadcast live on YouTube.[4][5] The brand value of the IPL in 2019 was ₹47,500 crore (US$6.2 billion), according to Duff & Phelps.[6] According to BCCI, the 2015 IPL season contributed ₹1,150 crore (US$150 million) to the GDP of the Indian economy.[7] The 2020 IPL season set a massive viewership record with 31.57 million average impressions and with an overall consumption increase of 23 per cent from the 2019 season.\"\"\""
   ]
  },
  {
   "cell_type": "code",
   "execution_count": 23,
   "id": "e6f37ebd",
   "metadata": {},
   "outputs": [
    {
     "data": {
      "text/plain": [
       "[' IPL is the ',\n",
       " ' cricket league in ',\n",
       " ' world and in ',\n",
       " ' was ranked sixth by ',\n",
       " ' attendance among all ',\n",
       " ' In ',\n",
       " ' the IPL became the ',\n",
       " ' sporting event in ',\n",
       " ' world to be ',\n",
       " ' live on ',\n",
       " ' The brand value of ',\n",
       " ' IPL in ',\n",
       " ' was ',\n",
       " ' crore ',\n",
       " ' billion), according ',\n",
       " ' Duff & ',\n",
       " ' According to BCCI, ',\n",
       " ' IPL season ',\n",
       " ' crore ',\n",
       " ' million) to the GDP ',\n",
       " ' the Indian ',\n",
       " ' The ',\n",
       " ' IPL season set a ',\n",
       " ' viewership record ',\n",
       " ' million average ',\n",
       " ' and with an overall ',\n",
       " ' increase of ',\n",
       " ' per cent from the ']"
      ]
     },
     "execution_count": 23,
     "metadata": {},
     "output_type": "execute_result"
    }
   ],
   "source": [
    "extracted_data = re.findall('\\s\\D{1,20}\\s',IPL)\n",
    "extracted_data"
   ]
  },
  {
   "cell_type": "markdown",
   "id": "e05277b9",
   "metadata": {},
   "source": [
    "## \\s"
   ]
  },
  {
   "cell_type": "raw",
   "id": "fac41a56",
   "metadata": {},
   "source": [
    "\\s >> [ ] >> used for spaces"
   ]
  },
  {
   "cell_type": "code",
   "execution_count": 24,
   "id": "0ab49dc5",
   "metadata": {},
   "outputs": [
    {
     "data": {
      "text/plain": [
       "['2344 2345 3255']"
      ]
     },
     "execution_count": 24,
     "metadata": {},
     "output_type": "execute_result"
    }
   ],
   "source": [
    "adhars = \"\"\"2344 2345 3255\n",
    "1243 23544 235\n",
    "1235  3456 3555\n",
    "34f5 3566 4335\n",
    "345_ 3456 3567\"\"\"\n",
    "\n",
    "adhar_nums = re.findall('\\d{4}\\s\\d{4}\\s\\d{4}',adhars)\n",
    "adhar_nums"
   ]
  },
  {
   "cell_type": "code",
   "execution_count": 28,
   "id": "4dd9c6d2",
   "metadata": {},
   "outputs": [
    {
     "data": {
      "text/plain": [
       "['  ', '  ', '  ']"
      ]
     },
     "execution_count": 28,
     "metadata": {},
     "output_type": "execute_result"
    }
   ],
   "source": [
    "IPL = \"\"\"The IPL is the most-attended     cricket league in the world and in 2014 was ranked sixth by average attendance among all sports leagues.[3] In 2010, the IPL became the first sporting event in the world to be broadcast live on YouTube.[4][5] The brand value of the IPL in 2019 was ₹47,500 crore (US$6.2 billion),according to Duff & Phelps.[6] According to BCCI, the 2015 IPL season contributed ₹1,150 crore (US$150 million)  to the GDP of the Indian economy.[7] The 2020 IPL season set a massive viewership record with 31.57 million average impressions and with an overall consumption increase of 23 per cent from the 2019 season.\"\"\"\n",
    "extracted_data = re.findall('\\s\\s',IPL)\n",
    "extracted_data"
   ]
  },
  {
   "cell_type": "code",
   "execution_count": 29,
   "id": "991f27ad",
   "metadata": {},
   "outputs": [
    {
     "data": {
      "text/plain": [
       "['  ', '  ', '  ']"
      ]
     },
     "execution_count": 29,
     "metadata": {},
     "output_type": "execute_result"
    }
   ],
   "source": [
    "extracted_data = re.findall('\\s{2}',IPL)\n",
    "extracted_data"
   ]
  },
  {
   "cell_type": "code",
   "execution_count": 30,
   "id": "1d25a923",
   "metadata": {},
   "outputs": [
    {
     "data": {
      "text/plain": [
       "['     ', '  ']"
      ]
     },
     "execution_count": 30,
     "metadata": {},
     "output_type": "execute_result"
    }
   ],
   "source": [
    "extracted_data = re.findall('\\s{2,30}',IPL)\n",
    "extracted_data"
   ]
  },
  {
   "cell_type": "markdown",
   "id": "95b73bbc",
   "metadata": {},
   "source": [
    "## \\S"
   ]
  },
  {
   "cell_type": "raw",
   "id": "cfd62b6d",
   "metadata": {},
   "source": [
    "\\S >> eveything apart from spaces >> [^ ]"
   ]
  },
  {
   "cell_type": "code",
   "execution_count": 31,
   "id": "2b5baac3",
   "metadata": {},
   "outputs": [
    {
     "data": {
      "text/plain": [
       "' IPL is the cricket league in world and in was ranked sixth by attendance among all In the IPL became the sporting event in world to be live on The brand value of IPL in was crore billion),according Duff According to BCCI, IPL season crore million) to the GDP the Indian The IPL season set viewership record million average and with an overall increase of per cent from the '"
      ]
     },
     "execution_count": 31,
     "metadata": {},
     "output_type": "execute_result"
    }
   ],
   "source": [
    "IPL = \"\"\"The IPL is the most-attended cricket league in the world and in 2014 was ranked sixth by average attendance among all sports leagues.[3] In 2010, the IPL became the first sporting event in the world to be broadcast live on YouTube.[4][5] The brand value of the IPL in 2019 was ₹47,500 crore (US$6.2 billion),according to Duff & Phelps.[6] According to BCCI, the 2015 IPL season contributed ₹1,150 crore (US$150 million)  to the GDP of the Indian economy.[7] The 2020 IPL season set a massive viewership record with 31.57 million average impressions and with an overall consumption increase of 23 per cent from the 2019 season.\"\"\"\n",
    "extracted_data = re.findall('[\\S]{2,20}',IPL)\n",
    "string = ' '.join(extracted_data)\n",
    "processed_data = re.findall('\\s\\D{1,20}\\s',string)\n",
    "final_data = ' '.join(processed_data)\n",
    "final_data.replace('  ',' ').replace('  ',' ')"
   ]
  },
  {
   "cell_type": "markdown",
   "id": "f89cd678",
   "metadata": {},
   "source": [
    "# Finditer()"
   ]
  },
  {
   "cell_type": "raw",
   "id": "4a102666",
   "metadata": {},
   "source": [
    "it returns all the matches found & their span in the string in the object format\n",
    "the span in the object informs us about the indexes where the match is found\n",
    "if the match is not found then it creates an empty object \n",
    "& if the match is found then the object could have multiple entries"
   ]
  },
  {
   "cell_type": "code",
   "execution_count": 37,
   "id": "3f80379e",
   "metadata": {},
   "outputs": [
    {
     "name": "stdout",
     "output_type": "stream",
     "text": [
      "(used\n",
      "as\n",
      "a\n",
      "plural\n",
      "noun\n",
      "in\n",
      "technical\n",
      "English,\n",
      "when\n",
      "the\n",
      "singular\n",
      "is\n",
      "datum)\n",
      "facts\n",
      "or\n",
      "information\n"
     ]
    }
   ],
   "source": [
    "data = \"\"\"(used as a plural noun in technical English, when the singular is datum) facts or information\"\"\"\n",
    "\n",
    "extracted_data = re.finditer('\\S{1,11}',data)\n",
    "extracted_data\n",
    "\n",
    "for i in extracted_data:\n",
    "    print(i.group())\n",
    "   # print(i.span())"
   ]
  },
  {
   "cell_type": "code",
   "execution_count": 36,
   "id": "165eaf08",
   "metadata": {},
   "outputs": [
    {
     "data": {
      "text/plain": [
       "[]"
      ]
     },
     "execution_count": 36,
     "metadata": {},
     "output_type": "execute_result"
    }
   ],
   "source": [
    "list(extracted_data)"
   ]
  },
  {
   "cell_type": "code",
   "execution_count": 38,
   "id": "1d2428e9",
   "metadata": {},
   "outputs": [
    {
     "data": {
      "text/plain": [
       "'(used'"
      ]
     },
     "execution_count": 38,
     "metadata": {},
     "output_type": "execute_result"
    }
   ],
   "source": [
    "data[0:5]"
   ]
  },
  {
   "cell_type": "code",
   "execution_count": 39,
   "id": "ef70ac1c",
   "metadata": {},
   "outputs": [
    {
     "data": {
      "text/plain": [
       "'used as a plural noun in technical English when the singular is datum facts or information'"
      ]
     },
     "execution_count": 39,
     "metadata": {},
     "output_type": "execute_result"
    }
   ],
   "source": [
    "data = \"\"\"(used as a plural noun in technical English, when the singular is datum) facts or information\"\"\"\n",
    "\n",
    "pattern = re.compile('\\S{1,11}')\n",
    "\n",
    "extracted_data = pattern.finditer(data)\n",
    "\n",
    "empty = list()\n",
    "\n",
    "for i in extracted_data:\n",
    "    empty = empty+re.findall('\\w{1,15}',i.group())\n",
    "\n",
    "empty = ' '.join(empty)\n",
    "empty"
   ]
  },
  {
   "cell_type": "code",
   "execution_count": 40,
   "id": "1038c290",
   "metadata": {},
   "outputs": [
    {
     "data": {
      "text/plain": [
       "['used', 'hi']"
      ]
     },
     "execution_count": 40,
     "metadata": {},
     "output_type": "execute_result"
    }
   ],
   "source": [
    "['used']+['hi']"
   ]
  },
  {
   "cell_type": "markdown",
   "id": "9a7190ce",
   "metadata": {},
   "source": [
    "## \\w"
   ]
  },
  {
   "cell_type": "raw",
   "id": "7fa3d87b",
   "metadata": {},
   "source": [
    "\\w >> [A-z0-9]  >> all alphabets & numbers only"
   ]
  },
  {
   "cell_type": "code",
   "execution_count": 41,
   "id": "039633e5",
   "metadata": {},
   "outputs": [
    {
     "data": {
      "text/plain": [
       "['used',\n",
       " 'as',\n",
       " 'a',\n",
       " 'plural',\n",
       " 'noun',\n",
       " 'in',\n",
       " 'technical',\n",
       " 'English',\n",
       " 'when',\n",
       " 'the',\n",
       " 'singular',\n",
       " 'is',\n",
       " 'datum',\n",
       " 'facts',\n",
       " 'or',\n",
       " 'information',\n",
       " '999']"
      ]
     },
     "execution_count": 41,
     "metadata": {},
     "output_type": "execute_result"
    }
   ],
   "source": [
    "data = \"\"\"(used as a plural noun in technical English, when the singular is datum) facts or information 999\"\"\"\n",
    "\n",
    "found = re.findall('\\w{1,15}',data)\n",
    "found"
   ]
  },
  {
   "cell_type": "markdown",
   "id": "0cd30600",
   "metadata": {},
   "source": [
    "## \\W"
   ]
  },
  {
   "cell_type": "raw",
   "id": "058ffec4",
   "metadata": {},
   "source": [
    "\\W >> all special characters including spaces >> [^A-z0-9]"
   ]
  },
  {
   "cell_type": "code",
   "execution_count": 42,
   "id": "41f7ed8e",
   "metadata": {},
   "outputs": [
    {
     "name": "stdout",
     "output_type": "stream",
     "text": [
      "['(', ' ', ' ', ' ', ' ', ' ', ' & ', ' ', ', ', ' ', ' ', '* ', ' ', ') ', ' ', ' ', ' ']\n"
     ]
    }
   ],
   "source": [
    "data = \"\"\"(used as a plural noun in & technical English, when the singular* is datum) facts or information 999\"\"\"\n",
    "\n",
    "found = re.findall('\\W{1,15}',data)\n",
    "print(found)\n",
    "# ''.join(re.findall('\\S',' '.join(found)))"
   ]
  },
  {
   "cell_type": "markdown",
   "id": "44f1e034",
   "metadata": {},
   "source": [
    "## \\b"
   ]
  },
  {
   "cell_type": "raw",
   "id": "2bad7358",
   "metadata": {},
   "source": [
    "check for charcters at the begenning & at the end of the word\n",
    "nothing should be there in continuatioin before \\b if its in the begening & nothing should be there in continuation after \\b if its at the end"
   ]
  },
  {
   "cell_type": "code",
   "execution_count": 43,
   "id": "05e735f1",
   "metadata": {},
   "outputs": [
    {
     "name": "stdout",
     "output_type": "stream",
     "text": [
      "['us+ed', 'as', 'a', 'plur+al', 'noun', 'in', 'technical', 'English', 'when', 'the', 'singular', 'is', 'datum', 'facts', 'or', 'information', '999']\n"
     ]
    }
   ],
   "source": [
    "data = \"\"\"us+ed as a plur+al noun in & technical English, when the singular* is datum) facts or information 999\"\"\"\n",
    "\n",
    "found = re.findall(r'\\b[A-z+0-9]{1,15}',data)\n",
    "print(found)"
   ]
  },
  {
   "cell_type": "code",
   "execution_count": 44,
   "id": "9283cebe",
   "metadata": {},
   "outputs": [
    {
     "data": {
      "text/plain": [
       "['8754569321']"
      ]
     },
     "execution_count": 44,
     "metadata": {},
     "output_type": "execute_result"
    }
   ],
   "source": [
    "numbers = \"\"\" 8754569321 54867896541 8465132132145\"\"\"\n",
    "re.findall(r'\\b\\d{10}\\b',numbers)"
   ]
  },
  {
   "cell_type": "code",
   "execution_count": 45,
   "id": "5688446f",
   "metadata": {},
   "outputs": [
    {
     "data": {
      "text/plain": [
       "['ASHV0002153', 'KOTK7894561']"
      ]
     },
     "execution_count": 45,
     "metadata": {},
     "output_type": "execute_result"
    }
   ],
   "source": [
    "ifsc_codes = \"\"\"ASHV0002153\n",
    "FHDfC4869532\n",
    "KOTK7894561 \n",
    "AXIS789456421\"\"\"\n",
    "\n",
    "re.findall(r'\\b[A-Z]{4}[0-9]{7}\\b',ifsc_codes)"
   ]
  },
  {
   "cell_type": "markdown",
   "id": "08455b2e",
   "metadata": {},
   "source": [
    "# Search"
   ]
  },
  {
   "cell_type": "raw",
   "id": "0e326ab0",
   "metadata": {},
   "source": [
    "It searches for a match & returns the object of the first occurance only\n",
    "\n",
    "re.search(pattern, text)"
   ]
  },
  {
   "cell_type": "code",
   "execution_count": 46,
   "id": "8088d2ad",
   "metadata": {},
   "outputs": [
    {
     "name": "stdout",
     "output_type": "stream",
     "text": [
      "<re.Match object; span=(29, 38), match='technical'>\n"
     ]
    }
   ],
   "source": [
    "data = \"\"\"u+sed as a plur+al noun in & technical English, when the singular* is datum) facts or information 999\"\"\"\n",
    "\n",
    "found = re.search(r'\\b[A-z0-9]{5,15}',data)\n",
    "print(found)"
   ]
  },
  {
   "cell_type": "code",
   "execution_count": 47,
   "id": "35b7f37d",
   "metadata": {},
   "outputs": [
    {
     "data": {
      "text/plain": [
       "'technical'"
      ]
     },
     "execution_count": 47,
     "metadata": {},
     "output_type": "execute_result"
    }
   ],
   "source": [
    "found.group()"
   ]
  },
  {
   "cell_type": "code",
   "execution_count": 48,
   "id": "233e6173",
   "metadata": {},
   "outputs": [
    {
     "data": {
      "text/plain": [
       "(29, 38)"
      ]
     },
     "execution_count": 48,
     "metadata": {},
     "output_type": "execute_result"
    }
   ],
   "source": [
    "found.span()"
   ]
  },
  {
   "cell_type": "code",
   "execution_count": 49,
   "id": "4e18001a",
   "metadata": {},
   "outputs": [
    {
     "data": {
      "text/plain": [
       "29"
      ]
     },
     "execution_count": 49,
     "metadata": {},
     "output_type": "execute_result"
    }
   ],
   "source": [
    "found.start()"
   ]
  },
  {
   "cell_type": "code",
   "execution_count": 50,
   "id": "33f3592c",
   "metadata": {},
   "outputs": [
    {
     "data": {
      "text/plain": [
       "38"
      ]
     },
     "execution_count": 50,
     "metadata": {},
     "output_type": "execute_result"
    }
   ],
   "source": [
    "found.end()"
   ]
  },
  {
   "cell_type": "markdown",
   "id": "93f2352f",
   "metadata": {},
   "source": [
    "# Match"
   ]
  },
  {
   "cell_type": "raw",
   "id": "32659604",
   "metadata": {},
   "source": [
    "checks for the oth index item of the string. if that matches the pattern then it will return an object."
   ]
  },
  {
   "cell_type": "code",
   "execution_count": 51,
   "id": "d9b15f63",
   "metadata": {},
   "outputs": [
    {
     "name": "stdout",
     "output_type": "stream",
     "text": [
      "<re.Match object; span=(0, 4), match='0use'>\n"
     ]
    }
   ],
   "source": [
    "data = \"\"\"0used as a plur+al noun in & technical English, when the singular* is datum) facts or information 999\"\"\"\n",
    "\n",
    "found = re.match(r'\\d\\w{1,3}',data)\n",
    "print(found)"
   ]
  },
  {
   "cell_type": "code",
   "execution_count": 52,
   "id": "73756c07",
   "metadata": {},
   "outputs": [
    {
     "name": "stdout",
     "output_type": "stream",
     "text": [
      "0use\n",
      "(0, 4)\n",
      "0\n",
      "4\n"
     ]
    }
   ],
   "source": [
    "print(found.group())\n",
    "print(found.span())\n",
    "print(found.start())\n",
    "print(found.end())"
   ]
  },
  {
   "cell_type": "markdown",
   "id": "96c745b1",
   "metadata": {},
   "source": [
    "# Sub()"
   ]
  },
  {
   "cell_type": "raw",
   "id": "e50253cc",
   "metadata": {},
   "source": [
    "It is used to replace all the formats that matches our pattern with a substring\n",
    "\n",
    "Syntax:\n",
    "\n",
    "re.sub('pattern','string to be replace with','text where pattern is to be replaced')"
   ]
  },
  {
   "cell_type": "code",
   "execution_count": 53,
   "id": "01f5e701",
   "metadata": {},
   "outputs": [
    {
     "data": {
      "text/plain": [
       "'ML & Data Science Learning'"
      ]
     },
     "execution_count": 53,
     "metadata": {},
     "output_type": "execute_result"
    }
   ],
   "source": [
    "string = \"Python & Data Science Learning\"\n",
    "\n",
    "string.replace('Python','ML')\n",
    "\n"
   ]
  },
  {
   "cell_type": "code",
   "execution_count": 54,
   "id": "125c5914",
   "metadata": {},
   "outputs": [
    {
     "data": {
      "text/plain": [
       "'Python & Data Science Learning ML'"
      ]
     },
     "execution_count": 54,
     "metadata": {},
     "output_type": "execute_result"
    }
   ],
   "source": [
    "import re\n",
    "string = \"Python & Data Science Learning Programming.\"\n",
    "\n",
    "re.sub(r'\\bP[A-z]{10}[.]','ML',string)"
   ]
  },
  {
   "cell_type": "code",
   "execution_count": 55,
   "id": "9721ae90",
   "metadata": {},
   "outputs": [
    {
     "name": "stdout",
     "output_type": "stream",
     "text": [
      "Mobile numbers:\n",
      "\n",
      "another number is\n",
      "\n",
      "\n"
     ]
    }
   ],
   "source": [
    "text = \"\"\"Mobile numbers:\n",
    "8751326594\n",
    "another number is\n",
    "9435621578\n",
    "7855643321\"\"\"\n",
    "\n",
    "re.findall('\\w{2,12}',text)\n",
    "# print(re.sub('\\d','+',text))\n",
    "x = re.sub('\\d{10}','',text)\n",
    "print(x)"
   ]
  },
  {
   "cell_type": "code",
   "execution_count": 56,
   "id": "62e06b90",
   "metadata": {},
   "outputs": [
    {
     "data": {
      "text/plain": [
       "'Mobile numbers:  another number is  '"
      ]
     },
     "execution_count": 56,
     "metadata": {},
     "output_type": "execute_result"
    }
   ],
   "source": [
    "re.sub('\\n',' ',x)"
   ]
  },
  {
   "cell_type": "code",
   "execution_count": 57,
   "id": "841c1f9d",
   "metadata": {},
   "outputs": [
    {
     "data": {
      "text/plain": [
       "'Mobile numbers: 8751326594 another number is 9435621578 7855643321'"
      ]
     },
     "execution_count": 57,
     "metadata": {},
     "output_type": "execute_result"
    }
   ],
   "source": [
    "text = \"\"\"Mobile          numbers:\n",
    "8751326594\n",
    "another    number is\n",
    "9435621578\n",
    "         7855643321\"\"\"\n",
    "\n",
    "pro_text = re.sub('\\s+',' ',text)\n",
    "pro_text"
   ]
  },
  {
   "cell_type": "code",
   "execution_count": 58,
   "id": "8d209aae",
   "metadata": {},
   "outputs": [
    {
     "name": "stdout",
     "output_type": "stream",
     "text": [
      "Mobile numbers: 8751326594 another number is 9435621578 7855643321\n"
     ]
    }
   ],
   "source": [
    "pro_text = re.sub('\\s{1,20}',' ',text)\n",
    "print(pro_text)"
   ]
  },
  {
   "cell_type": "code",
   "execution_count": 59,
   "id": "a3ad29f2",
   "metadata": {},
   "outputs": [
    {
     "name": "stdout",
     "output_type": "stream",
     "text": [
      "Mobile numbers:\n",
      "8751326594\n",
      "another number is\n",
      "9435621578 7855643321\n"
     ]
    }
   ],
   "source": [
    "pro_text = re.sub('\\s{2,20}',' ',text)\n",
    "print(pro_text)"
   ]
  },
  {
   "cell_type": "code",
   "execution_count": 60,
   "id": "40863050",
   "metadata": {},
   "outputs": [],
   "source": [
    "final_list = (re.sub(\"\\s+\",' ',(re.sub(\"\\D\",' ',(re.sub('A',' ',(re.sub('\\W','',re.sub(' ','A',pro_text))))))))).split(' ')"
   ]
  },
  {
   "cell_type": "code",
   "execution_count": 61,
   "id": "36ef961b",
   "metadata": {},
   "outputs": [
    {
     "data": {
      "text/plain": [
       "['8751326594', '9435621578', '7855643321']"
      ]
     },
     "execution_count": 61,
     "metadata": {},
     "output_type": "execute_result"
    }
   ],
   "source": [
    "listee= []\n",
    "for i in final_list:\n",
    "    if i.isdigit():\n",
    "        listee.append(i)\n",
    "    else:\n",
    "        pass\n",
    "        \n",
    "listee"
   ]
  },
  {
   "cell_type": "code",
   "execution_count": 62,
   "id": "c599f666",
   "metadata": {},
   "outputs": [
    {
     "name": "stdout",
     "output_type": "stream",
     "text": [
      " 8751326594 9435621578 7855643321\n"
     ]
    }
   ],
   "source": [
    "z = re.sub('[^\\s\\d]','',text)\n",
    "print(re.sub('\\s+',' ',z))"
   ]
  },
  {
   "cell_type": "markdown",
   "id": "804ca57f",
   "metadata": {},
   "source": [
    "# Complie()"
   ]
  },
  {
   "cell_type": "code",
   "execution_count": 63,
   "id": "3cf13d2d",
   "metadata": {},
   "outputs": [],
   "source": [
    "numbers = \"68543 643 68435 8432 65435643 6543213854 684564\"\n",
    "\n",
    "pattern = re.compile(r'\\b\\d{5}\\b')\n",
    "\n",
    "# re.findall(pattern,numbers)"
   ]
  },
  {
   "cell_type": "code",
   "execution_count": 64,
   "id": "61192f60",
   "metadata": {},
   "outputs": [
    {
     "data": {
      "text/plain": [
       "['68543', '68435']"
      ]
     },
     "execution_count": 64,
     "metadata": {},
     "output_type": "execute_result"
    }
   ],
   "source": [
    "pattern.findall(numbers)"
   ]
  },
  {
   "cell_type": "code",
   "execution_count": 65,
   "id": "54040425",
   "metadata": {},
   "outputs": [
    {
     "data": {
      "text/plain": [
       "['68543', '68435']"
      ]
     },
     "execution_count": 65,
     "metadata": {},
     "output_type": "execute_result"
    }
   ],
   "source": [
    "numbers = \"68543 643 68435 8432 65435643 6543213854 684564\"\n",
    "\n",
    "pattern = r'\\b\\d{5}\\b'\n",
    "\n",
    "re.findall(pattern,numbers)"
   ]
  },
  {
   "cell_type": "markdown",
   "id": "ecbbf86e",
   "metadata": {},
   "source": [
    "# Match characters"
   ]
  },
  {
   "cell_type": "markdown",
   "id": "e9859dea",
   "metadata": {},
   "source": [
    "## Characters with special meaning in re"
   ]
  },
  {
   "cell_type": "markdown",
   "id": "8e4eba02",
   "metadata": {},
   "source": [
    "### + (plus)"
   ]
  },
  {
   "cell_type": "raw",
   "id": "db62ec37",
   "metadata": {},
   "source": [
    "+ >> one or more occurances"
   ]
  },
  {
   "cell_type": "code",
   "execution_count": 66,
   "id": "792e1c43",
   "metadata": {},
   "outputs": [
    {
     "name": "stdout",
     "output_type": "stream",
     "text": [
      "[' ', ' ', '     ', ' ', ' ']\n"
     ]
    },
    {
     "data": {
      "text/plain": [
       "'Python & Data Science Learning Programming.'"
      ]
     },
     "execution_count": 66,
     "metadata": {},
     "output_type": "execute_result"
    }
   ],
   "source": [
    "string = \"Python & Data     Science Learning Programming.\"\n",
    "\n",
    "print(re.findall('\\s+',string))\n",
    "\n",
    "re.sub('\\s+',' ',string)"
   ]
  },
  {
   "cell_type": "code",
   "execution_count": 67,
   "id": "1f9a64d5",
   "metadata": {},
   "outputs": [
    {
     "data": {
      "text/plain": [
       "['ppppp']"
      ]
     },
     "execution_count": 67,
     "metadata": {},
     "output_type": "execute_result"
    }
   ],
   "source": [
    "string = \"Python & Data Scccccience Learning Pppppprogramming.\"\n",
    "\n",
    "re.findall('p+',string)"
   ]
  },
  {
   "cell_type": "code",
   "execution_count": 68,
   "id": "3e9ee27a",
   "metadata": {},
   "outputs": [
    {
     "data": {
      "text/plain": [
       "[]"
      ]
     },
     "execution_count": 68,
     "metadata": {},
     "output_type": "execute_result"
    }
   ],
   "source": [
    "re.findall('pythonn+',data)"
   ]
  },
  {
   "cell_type": "code",
   "execution_count": 69,
   "id": "121c8b78",
   "metadata": {},
   "outputs": [
    {
     "data": {
      "text/plain": [
       "[]"
      ]
     },
     "execution_count": 69,
     "metadata": {},
     "output_type": "execute_result"
    }
   ],
   "source": [
    "re.findall('pythonn+',data)"
   ]
  },
  {
   "cell_type": "code",
   "execution_count": 70,
   "id": "38f73232",
   "metadata": {},
   "outputs": [
    {
     "data": {
      "text/plain": [
       "[]"
      ]
     },
     "execution_count": 70,
     "metadata": {},
     "output_type": "execute_result"
    }
   ],
   "source": [
    "a = 'python'\n",
    "re.findall(f'python+{a*2}+',data)"
   ]
  },
  {
   "cell_type": "code",
   "execution_count": 71,
   "id": "8469ab2a",
   "metadata": {},
   "outputs": [
    {
     "data": {
      "text/plain": [
       "['no', 'hn', 'th', 'on']"
      ]
     },
     "execution_count": 71,
     "metadata": {},
     "output_type": "execute_result"
    }
   ],
   "source": [
    "re.findall('[python][python]+',data)"
   ]
  },
  {
   "cell_type": "code",
   "execution_count": 72,
   "id": "8283918c",
   "metadata": {},
   "outputs": [
    {
     "data": {
      "text/plain": [
       "[]"
      ]
     },
     "execution_count": 72,
     "metadata": {},
     "output_type": "execute_result"
    }
   ],
   "source": [
    "re.findall(f'{a}[{a}]+',data)"
   ]
  },
  {
   "cell_type": "markdown",
   "id": "595815cd",
   "metadata": {},
   "source": [
    "### * (astrix)"
   ]
  },
  {
   "cell_type": "raw",
   "id": "53270fa2",
   "metadata": {},
   "source": [
    "* >> zero or more occurances"
   ]
  },
  {
   "cell_type": "code",
   "execution_count": 73,
   "id": "66d2ffbf",
   "metadata": {},
   "outputs": [
    {
     "data": {
      "text/plain": [
       "['python',\n",
       " 'pyhon',\n",
       " 'python',\n",
       " 'python',\n",
       " 'python',\n",
       " 'python',\n",
       " 'pyttttttthon',\n",
       " 'python',\n",
       " 'python']"
      ]
     },
     "execution_count": 73,
     "metadata": {},
     "output_type": "execute_result"
    }
   ],
   "source": [
    "data = \"python pyhonn pythonpythonpythonpython pyttttttthon pythonpython\"\n",
    "\n",
    "text = re.findall('pyt*hon',data)\n",
    "text"
   ]
  },
  {
   "cell_type": "code",
   "execution_count": 74,
   "id": "934b5de0",
   "metadata": {},
   "outputs": [
    {
     "data": {
      "text/plain": [
       "['ICICI8456', 'AXIS7854F', 'HDFC1236', 'KOTAK0350']"
      ]
     },
     "execution_count": 74,
     "metadata": {},
     "output_type": "execute_result"
    }
   ],
   "source": [
    "raw_data = \"\"\"ICICI8456 AXIS7854F HDFC12365 KOTAK0350\"\"\"\n",
    "\n",
    "fetched_data = re.findall('[A-Z]{4}[A-Z]*[0-9]{4}[A-Z]*',raw_data)\n",
    "fetched_data"
   ]
  },
  {
   "cell_type": "code",
   "execution_count": 75,
   "id": "f5ca3143",
   "metadata": {},
   "outputs": [
    {
     "data": {
      "text/plain": [
       "'pythonpythonpythonpython pythonpython'"
      ]
     },
     "execution_count": 75,
     "metadata": {},
     "output_type": "execute_result"
    }
   ],
   "source": [
    "s=re.sub('python','#',data)\n",
    "t=re.findall('##+',s)\n",
    "re.sub('#','python',' '.join(t))"
   ]
  },
  {
   "cell_type": "markdown",
   "id": "528418b6",
   "metadata": {},
   "source": [
    "### . (dot)"
   ]
  },
  {
   "cell_type": "raw",
   "id": "55c76030",
   "metadata": {},
   "source": [
    "Any character for only 1 occurance\n",
    "it accepts all the special characters including spaces & alphabets & numbers"
   ]
  },
  {
   "cell_type": "code",
   "execution_count": 76,
   "id": "7617405a",
   "metadata": {},
   "outputs": [
    {
     "data": {
      "text/plain": [
       "['pyth', 'pytx', 'pytt', 'pyt-']"
      ]
     },
     "execution_count": 76,
     "metadata": {},
     "output_type": "execute_result"
    }
   ],
   "source": [
    "import re\n",
    "data = 'python and data science class pytxhon pyttttttthon pyt- pyt'\n",
    "\n",
    "re.findall('pyt.',data)"
   ]
  },
  {
   "cell_type": "code",
   "execution_count": 77,
   "id": "dfcbd425",
   "metadata": {},
   "outputs": [
    {
     "data": {
      "text/plain": [
       "['data science class pytxhon pyttttttthon pyt- pyt']"
      ]
     },
     "execution_count": 77,
     "metadata": {},
     "output_type": "execute_result"
    }
   ],
   "source": [
    "re.findall('data science class pyt.+',data)"
   ]
  },
  {
   "cell_type": "code",
   "execution_count": 78,
   "id": "81524f64",
   "metadata": {},
   "outputs": [
    {
     "data": {
      "text/plain": [
       "[]"
      ]
     },
     "execution_count": 78,
     "metadata": {},
     "output_type": "execute_result"
    }
   ],
   "source": [
    "re.findall('pyt[.]+',data)"
   ]
  },
  {
   "cell_type": "code",
   "execution_count": 79,
   "id": "15c5cc50",
   "metadata": {},
   "outputs": [
    {
     "data": {
      "text/plain": [
       "['python and data science class pytxhon pyttttttthon pyt- pyt']"
      ]
     },
     "execution_count": 79,
     "metadata": {},
     "output_type": "execute_result"
    }
   ],
   "source": [
    "re.findall('pyt.*',data)"
   ]
  },
  {
   "cell_type": "code",
   "execution_count": 80,
   "id": "b203a4e6",
   "metadata": {},
   "outputs": [
    {
     "data": {
      "text/plain": [
       "['pytttttt', 'pyt- pyt']"
      ]
     },
     "execution_count": 80,
     "metadata": {},
     "output_type": "execute_result"
    }
   ],
   "source": [
    "re.findall('pyt....t',data)"
   ]
  },
  {
   "cell_type": "raw",
   "id": "72d28039",
   "metadata": {},
   "source": [
    "<.*?>   # non greedy repetation"
   ]
  },
  {
   "cell_type": "markdown",
   "id": "7cfaf277",
   "metadata": {},
   "source": [
    "### ? ( Question mark)"
   ]
  },
  {
   "cell_type": "raw",
   "id": "2da79a15",
   "metadata": {},
   "source": [
    "checks for 0 or 1 occurance\n",
    "everything before also has to match\n",
    "everything after ? there pattern should stop"
   ]
  },
  {
   "cell_type": "code",
   "execution_count": 82,
   "id": "2de6a4ee",
   "metadata": {},
   "outputs": [
    {
     "data": {
      "text/plain": [
       "['pyt', 'pyt', 'pyttttttt', 'pyt']"
      ]
     },
     "execution_count": 82,
     "metadata": {},
     "output_type": "execute_result"
    }
   ],
   "source": [
    "data = 'python and data science class pytxhon pyttttttthon py- pyt'\n",
    "\n",
    "re.findall('pyt+',data)"
   ]
  },
  {
   "cell_type": "code",
   "execution_count": 83,
   "id": "124781a6",
   "metadata": {},
   "outputs": [
    {
     "data": {
      "text/plain": [
       "['pyt', 'pyt', 'pyttttttt', 'py', 'pyt']"
      ]
     },
     "execution_count": 83,
     "metadata": {},
     "output_type": "execute_result"
    }
   ],
   "source": [
    "re.findall('pyt*',data)"
   ]
  },
  {
   "cell_type": "code",
   "execution_count": 84,
   "id": "2f0e7d76",
   "metadata": {},
   "outputs": [
    {
     "data": {
      "text/plain": [
       "['pyt', 'pyt', 'pyt', 'py', 'pyt']"
      ]
     },
     "execution_count": 84,
     "metadata": {},
     "output_type": "execute_result"
    }
   ],
   "source": [
    "re.findall('pyt?',data)"
   ]
  },
  {
   "cell_type": "code",
   "execution_count": 85,
   "id": "2ec44577",
   "metadata": {},
   "outputs": [
    {
     "data": {
      "text/plain": [
       "['python ', 'pytxhon ', 'pyttttttthon ', 'py- ']"
      ]
     },
     "execution_count": 85,
     "metadata": {},
     "output_type": "execute_result"
    }
   ],
   "source": [
    "data = 'python and data science class pytxhon pyttttttthon py- pyt.ipynb'\n",
    "re.findall('p.*? ',data)"
   ]
  },
  {
   "cell_type": "code",
   "execution_count": 86,
   "id": "49d339b6",
   "metadata": {},
   "outputs": [
    {
     "data": {
      "text/plain": [
       "['python ', 'pytxhon ', 'pyttttttthon ', 'py- ', 'pyt.']"
      ]
     },
     "execution_count": 86,
     "metadata": {},
     "output_type": "execute_result"
    }
   ],
   "source": [
    "re.findall('p.*?[. ]',data)"
   ]
  },
  {
   "cell_type": "markdown",
   "id": "9bd5d1f3",
   "metadata": {},
   "source": [
    "### ^ startswith & except the pattern search for everything else"
   ]
  },
  {
   "cell_type": "raw",
   "id": "7f0a5733",
   "metadata": {},
   "source": [
    "# except pattern search for everything else"
   ]
  },
  {
   "cell_type": "raw",
   "id": "d42ab84b",
   "metadata": {},
   "source": [
    "\\W >> [^A-z0-9]"
   ]
  },
  {
   "cell_type": "code",
   "execution_count": 87,
   "id": "f1303b7a",
   "metadata": {},
   "outputs": [
    {
     "data": {
      "text/plain": [
       "[' ', ' ', ' ', ' ', ' ', ' ', ' ', '-', ' ']"
      ]
     },
     "execution_count": 87,
     "metadata": {},
     "output_type": "execute_result"
    }
   ],
   "source": [
    "data = 'python and data science class pytxhon pyttttttthon py- pyt'\n",
    "\n",
    "re.findall('[^A-z]',data)"
   ]
  },
  {
   "cell_type": "code",
   "execution_count": 88,
   "id": "78407f1f",
   "metadata": {},
   "outputs": [
    {
     "data": {
      "text/plain": [
       "['y',\n",
       " 't',\n",
       " 'h',\n",
       " 'o',\n",
       " 'n',\n",
       " ' ',\n",
       " 'a',\n",
       " 'n',\n",
       " 'd',\n",
       " ' ',\n",
       " 'd',\n",
       " 'a',\n",
       " 't',\n",
       " 'a',\n",
       " ' ',\n",
       " 's',\n",
       " 'c',\n",
       " 'i',\n",
       " 'e',\n",
       " 'n',\n",
       " 'c',\n",
       " 'e',\n",
       " ' ',\n",
       " 'c',\n",
       " 'l',\n",
       " 'a',\n",
       " 's',\n",
       " 's',\n",
       " ' ',\n",
       " 'y',\n",
       " 't',\n",
       " 'x',\n",
       " 'h',\n",
       " 'o',\n",
       " 'n',\n",
       " ' ',\n",
       " 'y',\n",
       " 't',\n",
       " 't',\n",
       " 't',\n",
       " 't',\n",
       " 't',\n",
       " 't',\n",
       " 't',\n",
       " 'h',\n",
       " 'o',\n",
       " 'n',\n",
       " ' ',\n",
       " 'y',\n",
       " '-',\n",
       " ' ',\n",
       " 'y',\n",
       " 't']"
      ]
     },
     "execution_count": 88,
     "metadata": {},
     "output_type": "execute_result"
    }
   ],
   "source": [
    "data = 'python and data science class pytxhon pyttttttthon py- pyt'\n",
    "\n",
    "re.findall('[^p]',data)"
   ]
  },
  {
   "cell_type": "raw",
   "id": "b035f970",
   "metadata": {},
   "source": [
    "# use for startswith"
   ]
  },
  {
   "cell_type": "code",
   "execution_count": 89,
   "id": "f90e80c6",
   "metadata": {},
   "outputs": [
    {
     "data": {
      "text/plain": [
       "<re.Match object; span=(30, 32), match='py'>"
      ]
     },
     "execution_count": 89,
     "metadata": {},
     "output_type": "execute_result"
    }
   ],
   "source": [
    "data = 'xython and data science class pytxhon pyttttttthon py- pyt'\n",
    "\n",
    "list(re.finditer('py',data))[0]"
   ]
  },
  {
   "cell_type": "code",
   "execution_count": 92,
   "id": "4fafafe7",
   "metadata": {},
   "outputs": [],
   "source": [
    "re.match('py',data)"
   ]
  },
  {
   "cell_type": "code",
   "execution_count": 91,
   "id": "717d0b49",
   "metadata": {},
   "outputs": [
    {
     "data": {
      "text/plain": [
       "False"
      ]
     },
     "execution_count": 91,
     "metadata": {},
     "output_type": "execute_result"
    }
   ],
   "source": [
    "data.startswith('py')"
   ]
  },
  {
   "cell_type": "code",
   "execution_count": 93,
   "id": "2d345d6e",
   "metadata": {},
   "outputs": [
    {
     "data": {
      "text/plain": [
       "[]"
      ]
     },
     "execution_count": 93,
     "metadata": {},
     "output_type": "execute_result"
    }
   ],
   "source": [
    "re.findall('^py',data)"
   ]
  },
  {
   "cell_type": "code",
   "execution_count": 94,
   "id": "88e044ca",
   "metadata": {},
   "outputs": [
    {
     "data": {
      "text/plain": [
       "['x']"
      ]
     },
     "execution_count": 94,
     "metadata": {},
     "output_type": "execute_result"
    }
   ],
   "source": [
    "re.findall('^.',data)"
   ]
  },
  {
   "cell_type": "code",
   "execution_count": 95,
   "id": "cef2feb2",
   "metadata": {},
   "outputs": [
    {
     "data": {
      "text/plain": [
       "[]"
      ]
     },
     "execution_count": 95,
     "metadata": {},
     "output_type": "execute_result"
    }
   ],
   "source": [
    "re.findall('^p.',data)"
   ]
  },
  {
   "cell_type": "code",
   "execution_count": 96,
   "id": "8cca011d",
   "metadata": {},
   "outputs": [
    {
     "data": {
      "text/plain": [
       "['python and data science class pytxhon pyttttttthon py- pyt']"
      ]
     },
     "execution_count": 96,
     "metadata": {},
     "output_type": "execute_result"
    }
   ],
   "source": [
    "data = 'python and data science class pytxhon pyttttttthon py- pyt'\n",
    "\n",
    "re.findall('^python.+',data)"
   ]
  },
  {
   "cell_type": "raw",
   "id": "1d798e36",
   "metadata": {},
   "source": [
    "# Note: difference is where you use ^\n",
    "inside square braces means behaces as except the pattern\n",
    "outside square braces or for otherwise it behaves as startswith"
   ]
  },
  {
   "cell_type": "code",
   "execution_count": 97,
   "id": "c5d8fd7f",
   "metadata": {},
   "outputs": [
    {
     "data": {
      "text/plain": [
       "['p']"
      ]
     },
     "execution_count": 97,
     "metadata": {},
     "output_type": "execute_result"
    }
   ],
   "source": [
    "re.findall('^[python]',data)"
   ]
  },
  {
   "cell_type": "code",
   "execution_count": 98,
   "id": "249f542f",
   "metadata": {},
   "outputs": [
    {
     "data": {
      "text/plain": [
       "['python and data science class pytxhon pyttttttthon py- pyt']"
      ]
     },
     "execution_count": 98,
     "metadata": {},
     "output_type": "execute_result"
    }
   ],
   "source": [
    "re.findall('^[python].+',data)"
   ]
  },
  {
   "cell_type": "code",
   "execution_count": 99,
   "id": "14098872",
   "metadata": {},
   "outputs": [
    {
     "data": {
      "text/plain": [
       "[' and data science class pytxhon pyttttttthon py- pyt']"
      ]
     },
     "execution_count": 99,
     "metadata": {},
     "output_type": "execute_result"
    }
   ],
   "source": [
    "re.findall('[^python].+',data)"
   ]
  },
  {
   "cell_type": "markdown",
   "id": "846ff5b6",
   "metadata": {},
   "source": [
    "### $ endswith"
   ]
  },
  {
   "cell_type": "code",
   "execution_count": 100,
   "id": "0056b4d1",
   "metadata": {},
   "outputs": [
    {
     "data": {
      "text/plain": [
       "['nb']"
      ]
     },
     "execution_count": 100,
     "metadata": {},
     "output_type": "execute_result"
    }
   ],
   "source": [
    "data = 'python and data science class pytxhon pyttttttthon py- pyt.ipynb'\n",
    "\n",
    "re.findall('nb$',data)"
   ]
  },
  {
   "cell_type": "code",
   "execution_count": 101,
   "id": "bd2f8c44",
   "metadata": {},
   "outputs": [
    {
     "data": {
      "text/plain": [
       "['.ipynb']"
      ]
     },
     "execution_count": 101,
     "metadata": {},
     "output_type": "execute_result"
    }
   ],
   "source": [
    "re.findall('[.]ipynb$',data)"
   ]
  },
  {
   "cell_type": "code",
   "execution_count": 102,
   "id": "ff122e23",
   "metadata": {},
   "outputs": [
    {
     "data": {
      "text/plain": [
       "['.ipynb']"
      ]
     },
     "execution_count": 102,
     "metadata": {},
     "output_type": "execute_result"
    }
   ],
   "source": [
    "re.findall('.ipynb$',data)"
   ]
  },
  {
   "cell_type": "code",
   "execution_count": 103,
   "id": "70434dc7",
   "metadata": {},
   "outputs": [
    {
     "data": {
      "text/plain": [
       "['python and data science class pytxhon pyttttttthon py- pyt.ipynb']"
      ]
     },
     "execution_count": 103,
     "metadata": {},
     "output_type": "execute_result"
    }
   ],
   "source": [
    "re.findall('.+[.ipynb]$',data)"
   ]
  },
  {
   "cell_type": "markdown",
   "id": "bf0490ef",
   "metadata": {},
   "source": [
    "### [ ]"
   ]
  },
  {
   "cell_type": "raw",
   "id": "33d75975",
   "metadata": {},
   "source": [
    "used to define a set of chracters that will form a search pattern in thate string"
   ]
  },
  {
   "cell_type": "markdown",
   "id": "9e3b6ded",
   "metadata": {},
   "source": [
    "### { }"
   ]
  },
  {
   "cell_type": "raw",
   "id": "7a719d87",
   "metadata": {},
   "source": [
    "used to define a variable length of chracters in the search pattern"
   ]
  },
  {
   "cell_type": "markdown",
   "id": "0427ab4f",
   "metadata": {},
   "source": [
    "### | (pipe)"
   ]
  },
  {
   "cell_type": "raw",
   "id": "538632be",
   "metadata": {},
   "source": [
    "is used for or purpose"
   ]
  },
  {
   "cell_type": "code",
   "execution_count": 104,
   "id": "032ac403",
   "metadata": {},
   "outputs": [
    {
     "data": {
      "text/plain": [
       "['py']"
      ]
     },
     "execution_count": 104,
     "metadata": {},
     "output_type": "execute_result"
    }
   ],
   "source": [
    "data = 'python and data science 999 class pytxhon AND pyttttttthon py- pyt.py'\n",
    "\n",
    "re.findall('nb$|py$',data)"
   ]
  },
  {
   "cell_type": "code",
   "execution_count": 105,
   "id": "28f4653f",
   "metadata": {},
   "outputs": [
    {
     "data": {
      "text/plain": [
       "['999', 'AND']"
      ]
     },
     "execution_count": 105,
     "metadata": {},
     "output_type": "execute_result"
    }
   ],
   "source": [
    "re.findall('[A-Z]{3}|[0-9]{03}',data)"
   ]
  },
  {
   "cell_type": "code",
   "execution_count": 106,
   "id": "c36d6714",
   "metadata": {},
   "outputs": [
    {
     "data": {
      "text/plain": [
       "['python ', 'data ', 'class ', 'pytxhon ', 'pyttttttthon ', 'py- ']"
      ]
     },
     "execution_count": 106,
     "metadata": {},
     "output_type": "execute_result"
    }
   ],
   "source": [
    "re.findall(r'\\bp.+? |\\bd.+? |\\bc.+? ',data)"
   ]
  },
  {
   "cell_type": "code",
   "execution_count": 107,
   "id": "569380fa",
   "metadata": {},
   "outputs": [
    {
     "data": {
      "text/plain": [
       "['pyt', '999', 'pytx', 'AND', 'pyttttttt', 'py', 'pyt', 'py']"
      ]
     },
     "execution_count": 107,
     "metadata": {},
     "output_type": "execute_result"
    }
   ],
   "source": [
    "re.findall('p[p-z]+|[A-Z]+|[0-9]+',data)"
   ]
  },
  {
   "cell_type": "code",
   "execution_count": 108,
   "id": "ccf637b8",
   "metadata": {},
   "outputs": [],
   "source": [
    "# Wap to find the dates fromo the data\n",
    "\n",
    "data = \"\"\"23/10/2022\n",
    "12/9/2022\n",
    "13-9-2022\n",
    "15,8,2022\n",
    "15 August 2022\n",
    "hi there * %\"\"\""
   ]
  },
  {
   "cell_type": "code",
   "execution_count": 109,
   "id": "77977223",
   "metadata": {},
   "outputs": [
    {
     "data": {
      "text/plain": [
       "['23/10/2022', '12/9/2022', '13-9-2022', '15,8,2022', '15 August 2022']"
      ]
     },
     "execution_count": 109,
     "metadata": {},
     "output_type": "execute_result"
    }
   ],
   "source": [
    "re.findall(r\"[0-9]{1,2}[-/, ][A-z0-9]{1,10}[-/, ][0-9]{0,4}\",data)"
   ]
  },
  {
   "cell_type": "code",
   "execution_count": 110,
   "id": "78f1ab64",
   "metadata": {},
   "outputs": [
    {
     "data": {
      "text/plain": [
       "['23/10/2022', '12/9/2022', '13-9-2022', '15,8,2022', '15 August 2022']"
      ]
     },
     "execution_count": 110,
     "metadata": {},
     "output_type": "execute_result"
    }
   ],
   "source": [
    "re.findall(r\"\\d{1,2}[-/, ]\\d{1,2}[-/, ]\\d{0,4}|\\d{1,2}[-/, ]\\w{3,10}[-/, ]\\d{0,4}\",data)"
   ]
  },
  {
   "cell_type": "code",
   "execution_count": null,
   "id": "68bbf074",
   "metadata": {},
   "outputs": [],
   "source": []
  }
 ],
 "metadata": {
  "kernelspec": {
   "display_name": "Python 3 (ipykernel)",
   "language": "python",
   "name": "python3"
  },
  "language_info": {
   "codemirror_mode": {
    "name": "ipython",
    "version": 3
   },
   "file_extension": ".py",
   "mimetype": "text/x-python",
   "name": "python",
   "nbconvert_exporter": "python",
   "pygments_lexer": "ipython3",
   "version": "3.9.7"
  },
  "toc": {
   "base_numbering": 1,
   "nav_menu": {},
   "number_sections": true,
   "sideBar": true,
   "skip_h1_title": false,
   "title_cell": "Table of Contents",
   "title_sidebar": "Contents",
   "toc_cell": false,
   "toc_position": {},
   "toc_section_display": true,
   "toc_window_display": false
  }
 },
 "nbformat": 4,
 "nbformat_minor": 5
}
