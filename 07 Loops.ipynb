{
 "cells": [
  {
   "cell_type": "raw",
   "id": "543d313d",
   "metadata": {},
   "source": [
    "1. For loop\n",
    "2. While loop\n",
    "\n",
    "same functionality but different syntax\n",
    "Function: is to execute the set of statements multiple times"
   ]
  },
  {
   "cell_type": "markdown",
   "id": "4423047d",
   "metadata": {},
   "source": [
    "# For Loop"
   ]
  },
  {
   "cell_type": "raw",
   "id": "e7aaba11",
   "metadata": {},
   "source": [
    "It works like an iterator\n",
    "Iterators > Str, List, Tuple, Set, Dict, range etc.\n",
    "\n",
    "Syntax of for loop:\n",
    "    \n",
    "for variable_name in iterator:\n",
    "    print(variable_name)\n",
    "    statement 1\n",
    "    statement 2\n",
    "    code 1\n",
    "    codee 2"
   ]
  },
  {
   "cell_type": "code",
   "execution_count": 1,
   "id": "ae98f470",
   "metadata": {},
   "outputs": [
    {
     "name": "stdout",
     "output_type": "stream",
     "text": [
      "We are learning Python\n",
      "We are learning Python\n",
      "We are learning Python\n",
      "We are learning Python\n"
     ]
    }
   ],
   "source": [
    "string = 'We are learning Python'\n",
    "\n",
    "print(string)\n",
    "print(string)\n",
    "print(string)\n",
    "print(string)"
   ]
  },
  {
   "cell_type": "code",
   "execution_count": 4,
   "id": "938f20ad",
   "metadata": {},
   "outputs": [
    {
     "name": "stdout",
     "output_type": "stream",
     "text": [
      "We are learning Python\n",
      "We are learning Python\n",
      "We are learning Python\n",
      "We are learning Python\n",
      "We are learning Python\n"
     ]
    }
   ],
   "source": [
    "string = 'We are learning Python'\n",
    "\n",
    "for i in range(5):  #[0,1,2,3,4]\n",
    "    print(string)"
   ]
  },
  {
   "cell_type": "markdown",
   "id": "91085fdc",
   "metadata": {},
   "source": [
    "## for loop on string"
   ]
  },
  {
   "cell_type": "code",
   "execution_count": 5,
   "id": "900ba0c3",
   "metadata": {},
   "outputs": [
    {
     "name": "stdout",
     "output_type": "stream",
     "text": [
      "P 80\n",
      "y 121\n",
      "t 116\n",
      "h 104\n",
      "o 111\n",
      "n 110\n",
      "  32\n",
      "L 76\n",
      "a 97\n",
      "n 110\n",
      "g 103\n",
      "u 117\n",
      "a 97\n",
      "g 103\n",
      "e 101\n"
     ]
    }
   ],
   "source": [
    "str1 = 'Python Language'\n",
    "\n",
    "for character in str1:\n",
    "    print(character,ord(character))"
   ]
  },
  {
   "cell_type": "code",
   "execution_count": 6,
   "id": "ffb143f4",
   "metadata": {},
   "outputs": [
    {
     "name": "stdout",
     "output_type": "stream",
     "text": [
      "character is :  P\n",
      "Printing single charcter from the string\n",
      "\n",
      "character is :  y\n",
      "Printing single charcter from the string\n",
      "\n",
      "character is :  t\n",
      "Printing single charcter from the string\n",
      "\n",
      "character is :  h\n",
      "Printing single charcter from the string\n",
      "\n",
      "character is :  o\n",
      "Printing single charcter from the string\n",
      "\n",
      "character is :  n\n",
      "Printing single charcter from the string\n",
      "\n",
      "character is :   \n",
      "Printing single charcter from the string\n",
      "\n",
      "character is :  L\n",
      "Printing single charcter from the string\n",
      "\n",
      "character is :  a\n",
      "Printing single charcter from the string\n",
      "\n",
      "character is :  n\n",
      "Printing single charcter from the string\n",
      "\n",
      "character is :  g\n",
      "Printing single charcter from the string\n",
      "\n",
      "character is :  u\n",
      "Printing single charcter from the string\n",
      "\n",
      "character is :  a\n",
      "Printing single charcter from the string\n",
      "\n",
      "character is :  g\n",
      "Printing single charcter from the string\n",
      "\n",
      "character is :  e\n",
      "Printing single charcter from the string\n",
      "\n"
     ]
    }
   ],
   "source": [
    "str1 = 'Python Language'\n",
    "\n",
    "for character in str1:   # this loop will run till len(string)\n",
    "    print('character is : ',character)\n",
    "    print('Printing single charcter from the string')\n",
    "    print()"
   ]
  },
  {
   "cell_type": "markdown",
   "id": "7f3e7832",
   "metadata": {},
   "source": [
    "## loops on list"
   ]
  },
  {
   "cell_type": "code",
   "execution_count": 7,
   "id": "3967993d",
   "metadata": {},
   "outputs": [
    {
     "data": {
      "text/plain": [
       "[0, 1, 2]"
      ]
     },
     "execution_count": 7,
     "metadata": {},
     "output_type": "execute_result"
    }
   ],
   "source": [
    "list(range(3))"
   ]
  },
  {
   "cell_type": "code",
   "execution_count": 8,
   "id": "6a1ff776",
   "metadata": {},
   "outputs": [
    {
     "name": "stdout",
     "output_type": "stream",
     "text": [
      "0\n",
      "[2, 5, 3, 8, 4]\n",
      "\n",
      "1\n",
      "[2, 5, 3, 8, 4]\n",
      "\n",
      "2\n",
      "[2, 5, 3, 8, 4]\n",
      "\n"
     ]
    }
   ],
   "source": [
    "list1 = [2,5,3,8,4]\n",
    "\n",
    "for i in range(3):  # 0 1 2\n",
    "    print(i)\n",
    "    print(list1)\n",
    "    print()"
   ]
  },
  {
   "cell_type": "code",
   "execution_count": 9,
   "id": "ea75bed5",
   "metadata": {},
   "outputs": [
    {
     "name": "stdout",
     "output_type": "stream",
     "text": [
      "loop number & index of list1 is - 0\n",
      "2\n",
      "loop number & index of list1 is - 1\n",
      "5\n",
      "loop number & index of list1 is - 2\n",
      "3\n",
      "loop number & index of list1 is - 3\n",
      "8\n",
      "loop number & index of list1 is - 4\n",
      "4\n"
     ]
    }
   ],
   "source": [
    "list1 = [2,5,3,8,4]\n",
    "\n",
    "loop_num = 0\n",
    "\n",
    "for item in list1:\n",
    "    print('loop number & index of list1 is -',loop_num)\n",
    "    print(item)\n",
    "    loop_num = loop_num + 1"
   ]
  },
  {
   "cell_type": "code",
   "execution_count": 10,
   "id": "05bd40bf",
   "metadata": {},
   "outputs": [
    {
     "name": "stdout",
     "output_type": "stream",
     "text": [
      "2\n",
      "5\n",
      "3\n",
      "8\n",
      "4\n"
     ]
    }
   ],
   "source": [
    "list1 = [2,5,3,8,4]\n",
    "\n",
    "for value in list1: print(value)"
   ]
  },
  {
   "cell_type": "code",
   "execution_count": 11,
   "id": "5648749b",
   "metadata": {},
   "outputs": [
    {
     "name": "stdout",
     "output_type": "stream",
     "text": [
      "2\n",
      "8\n",
      "4\n"
     ]
    }
   ],
   "source": [
    "list1 = [2,5,3,8,4]\n",
    "\n",
    "for value in list1: \n",
    "    if value % 2 == 0:\n",
    "        print(value)"
   ]
  },
  {
   "cell_type": "code",
   "execution_count": 15,
   "id": "c70026a1",
   "metadata": {},
   "outputs": [
    {
     "name": "stdout",
     "output_type": "stream",
     "text": [
      "['eight', 'four']\n",
      "[2, 5, 3, 8, 4]\n"
     ]
    }
   ],
   "source": [
    "list1 = [2,5,3,8,'eight',4,'four']\n",
    "\n",
    "str_list=[]\n",
    "int_list=[]\n",
    "for i in list1:\n",
    "    if type(i)==str:\n",
    "        str_list.append(i)\n",
    "    else:\n",
    "        int_list.append(i)\n",
    "\n",
    "print(str_list)\n",
    "print(int_list)"
   ]
  },
  {
   "cell_type": "code",
   "execution_count": 13,
   "id": "38b45a0e",
   "metadata": {},
   "outputs": [
    {
     "data": {
      "text/plain": [
       "(['eight', 'four'], [2, 5, 3, 8, 4])"
      ]
     },
     "execution_count": 13,
     "metadata": {},
     "output_type": "execute_result"
    }
   ],
   "source": [
    "str_list,int_list"
   ]
  },
  {
   "cell_type": "markdown",
   "id": "f133d352",
   "metadata": {},
   "source": [
    "## loops on Tuple, Set, Dict"
   ]
  },
  {
   "cell_type": "code",
   "execution_count": 16,
   "id": "3b5ef75f",
   "metadata": {},
   "outputs": [
    {
     "name": "stdout",
     "output_type": "stream",
     "text": [
      "2\n",
      "4\n",
      "3\n",
      "5\n",
      "6\n"
     ]
    }
   ],
   "source": [
    "tuple1=(2,4,3,5,6)\n",
    "\n",
    "for i in tuple1:\n",
    "    print(i)"
   ]
  },
  {
   "cell_type": "code",
   "execution_count": 17,
   "id": "322847c4",
   "metadata": {},
   "outputs": [
    {
     "name": "stdout",
     "output_type": "stream",
     "text": [
      "3\n",
      "4\n",
      "6\n",
      "7\n"
     ]
    }
   ],
   "source": [
    "set1 ={3,4,6,7}\n",
    "\n",
    "for i in set1:\n",
    "    print(i)"
   ]
  },
  {
   "cell_type": "markdown",
   "id": "aebceb7a",
   "metadata": {},
   "source": [
    "# Enumerate Function"
   ]
  },
  {
   "cell_type": "raw",
   "id": "816c2b63",
   "metadata": {},
   "source": [
    "for index,value in enumerate(iterator):\n",
    "    print(index,value)\n",
    "    statement 1\n",
    "    code 1"
   ]
  },
  {
   "cell_type": "code",
   "execution_count": 18,
   "id": "6790dfc1",
   "metadata": {},
   "outputs": [
    {
     "name": "stdout",
     "output_type": "stream",
     "text": [
      "index is  0 \n",
      "value is  p\n",
      "\n",
      "index is  1 \n",
      "value is  y\n",
      "\n",
      "index is  2 \n",
      "value is  t\n",
      "\n",
      "index is  3 \n",
      "value is  h\n",
      "\n",
      "index is  4 \n",
      "value is  o\n",
      "\n",
      "index is  5 \n",
      "value is  n\n",
      "\n"
     ]
    }
   ],
   "source": [
    "for index,value in enumerate('python'):\n",
    "    print('index is ',index,'\\nvalue is ', value)\n",
    "    print()"
   ]
  },
  {
   "cell_type": "code",
   "execution_count": 19,
   "id": "d0a251be",
   "metadata": {},
   "outputs": [
    {
     "name": "stdout",
     "output_type": "stream",
     "text": [
      "(0, 'p')\n",
      "(1, 'y')\n",
      "(2, 't')\n",
      "(3, 'h')\n",
      "(4, 'o')\n",
      "(5, 'n')\n"
     ]
    }
   ],
   "source": [
    "for item in enumerate('python'):\n",
    "    print(item)\n",
    "    \n",
    "index,value = 0,'p'"
   ]
  },
  {
   "cell_type": "code",
   "execution_count": 20,
   "id": "ffd347fa",
   "metadata": {},
   "outputs": [
    {
     "name": "stdout",
     "output_type": "stream",
     "text": [
      "0\n",
      "1\n",
      "2\n",
      "3\n",
      "4\n",
      "5\n"
     ]
    }
   ],
   "source": [
    "for index,value in enumerate('python'):\n",
    "    print(index)"
   ]
  },
  {
   "cell_type": "code",
   "execution_count": 21,
   "id": "0739b5a6",
   "metadata": {},
   "outputs": [
    {
     "name": "stdout",
     "output_type": "stream",
     "text": [
      "0\n",
      "1\n",
      "2\n",
      "3\n",
      "4\n",
      "5\n"
     ]
    }
   ],
   "source": [
    "for item in enumerate('python'):\n",
    "#     print(item)\n",
    "    print(item[0])"
   ]
  },
  {
   "cell_type": "markdown",
   "id": "de265f78",
   "metadata": {},
   "source": [
    "## Range function in loop"
   ]
  },
  {
   "cell_type": "code",
   "execution_count": 22,
   "id": "1a0bc1b0",
   "metadata": {},
   "outputs": [
    {
     "name": "stdout",
     "output_type": "stream",
     "text": [
      "0\n",
      "1\n",
      "2\n",
      "3\n",
      "4\n",
      "5\n",
      "6\n",
      "7\n",
      "8\n",
      "9\n"
     ]
    }
   ],
   "source": [
    "for i in range(10):\n",
    "    print(i)"
   ]
  },
  {
   "cell_type": "code",
   "execution_count": 23,
   "id": "2bbc597c",
   "metadata": {},
   "outputs": [
    {
     "name": "stdout",
     "output_type": "stream",
     "text": [
      "0\n",
      "2\n",
      "4\n",
      "6\n",
      "8\n"
     ]
    }
   ],
   "source": [
    "for i in range(0,10,2):\n",
    "    print(i)"
   ]
  },
  {
   "cell_type": "code",
   "execution_count": 24,
   "id": "73240f3a",
   "metadata": {},
   "outputs": [
    {
     "name": "stdout",
     "output_type": "stream",
     "text": [
      "0\n",
      "python\n",
      "1\n",
      "python\n",
      "2\n",
      "python\n",
      "3\n",
      "python\n",
      "4\n",
      "python\n",
      "5\n",
      "python\n"
     ]
    }
   ],
   "source": [
    "string = 'python'\n",
    "\n",
    "for i in range(len(string)):\n",
    "    print(i)\n",
    "    print(string)"
   ]
  },
  {
   "cell_type": "code",
   "execution_count": 25,
   "id": "bc81bc21",
   "metadata": {},
   "outputs": [
    {
     "name": "stdout",
     "output_type": "stream",
     "text": [
      "2\n",
      "python\n",
      "3\n",
      "python\n",
      "4\n",
      "python\n",
      "5\n",
      "python\n"
     ]
    }
   ],
   "source": [
    "string = 'python'\n",
    "\n",
    "for i in range(2,len(string)):\n",
    "    print(i)\n",
    "    print(string)\n",
    "    \n",
    "# for i in range(2,6):\n",
    "#     print(i)\n",
    "#     print(string)"
   ]
  },
  {
   "cell_type": "markdown",
   "id": "cad75deb",
   "metadata": {},
   "source": [
    "## Nested loop"
   ]
  },
  {
   "cell_type": "raw",
   "id": "cc8d7f93",
   "metadata": {},
   "source": [
    "for loop inside another for loop"
   ]
  },
  {
   "cell_type": "code",
   "execution_count": 26,
   "id": "55a40713",
   "metadata": {},
   "outputs": [
    {
     "name": "stdout",
     "output_type": "stream",
     "text": [
      "value of i is:  0\n",
      "0\n",
      "0\n",
      "0\n",
      "0\n",
      "0\n",
      "value of i is:  1\n",
      "1\n",
      "1\n",
      "1\n",
      "1\n",
      "1\n",
      "value of i is:  2\n",
      "2\n",
      "2\n",
      "2\n",
      "2\n",
      "2\n",
      "value of i is:  3\n",
      "3\n",
      "3\n",
      "3\n",
      "3\n",
      "3\n",
      "value of i is:  4\n",
      "4\n",
      "4\n",
      "4\n",
      "4\n",
      "4\n"
     ]
    }
   ],
   "source": [
    "for i in range(5):                 # [0,1,2,3,4]\n",
    "    print(\"value of i is: \", i)\n",
    "    for j in range(5):             # [0,1,2,3,4]\n",
    "        print(i)"
   ]
  },
  {
   "cell_type": "code",
   "execution_count": 27,
   "id": "bc9e39ca",
   "metadata": {},
   "outputs": [
    {
     "name": "stdout",
     "output_type": "stream",
     "text": [
      "value of i is  0\n",
      "0\n",
      "1\n",
      "2\n",
      "3\n",
      "4\n",
      "\n",
      "value of i is  1\n",
      "0\n",
      "1\n",
      "2\n",
      "3\n",
      "4\n",
      "\n",
      "value of i is  2\n",
      "0\n",
      "1\n",
      "2\n",
      "3\n",
      "4\n",
      "\n",
      "value of i is  3\n",
      "0\n",
      "1\n",
      "2\n",
      "3\n",
      "4\n",
      "\n",
      "value of i is  4\n",
      "0\n",
      "1\n",
      "2\n",
      "3\n",
      "4\n",
      "\n"
     ]
    }
   ],
   "source": [
    "for i in range(5):\n",
    "    print('value of i is ',i)\n",
    "    for j in range(5):   # [0 1 2 3 4]\n",
    "        print(j)\n",
    "    print()"
   ]
  },
  {
   "cell_type": "code",
   "execution_count": 28,
   "id": "b6ac4743",
   "metadata": {},
   "outputs": [
    {
     "name": "stdout",
     "output_type": "stream",
     "text": [
      "\n",
      "* \n",
      "* * \n",
      "* * * \n",
      "* * * * \n"
     ]
    }
   ],
   "source": [
    "for i in range(5):           # [0,1,2,3,4]\n",
    "    print('* '*i)"
   ]
  },
  {
   "cell_type": "code",
   "execution_count": 29,
   "id": "b74c05b1",
   "metadata": {},
   "outputs": [
    {
     "name": "stdout",
     "output_type": "stream",
     "text": [
      "ENter the depth of the trianngle you wish to set: 6\n",
      "     * \n",
      "    * * \n",
      "   * * * \n",
      "  * * * * \n",
      " * * * * * \n"
     ]
    }
   ],
   "source": [
    "n = int(input(\"ENter the depth of the trianngle you wish to set: \"))\n",
    "\n",
    "for i in range(1,n):\n",
    "    print(' '*(n-i) + '* '*i)"
   ]
  },
  {
   "cell_type": "code",
   "execution_count": 31,
   "id": "490db71b",
   "metadata": {},
   "outputs": [
    {
     "name": "stdout",
     "output_type": "stream",
     "text": [
      "\n",
      "* \n",
      "* * \n",
      "* * * \n",
      "* * * * \n"
     ]
    }
   ],
   "source": [
    "for i in range(5):\n",
    "    for j in range(i):\n",
    "        print(\"*\",end=' ')\n",
    "    print()"
   ]
  },
  {
   "cell_type": "code",
   "execution_count": 32,
   "id": "11f8bf41",
   "metadata": {},
   "outputs": [
    {
     "name": "stdout",
     "output_type": "stream",
     "text": [
      "    *  \n",
      "   * *  \n",
      "  * * *  \n",
      " * * * *  \n"
     ]
    }
   ],
   "source": [
    "for i in range(1,5):\n",
    "    for j in range(1):\n",
    "        print(' '*(5-i)+\"* \"*i,end=' ')\n",
    "    print()"
   ]
  },
  {
   "cell_type": "raw",
   "id": "00bb24fb",
   "metadata": {},
   "source": [
    "A A A A A\n",
    "A A A A A\n",
    "A A A A A\n",
    "A A A A A\n",
    "A A A A A\n",
    "\n",
    "NOTE: i loop will determine how many rows we want & \n",
    "    j loop will determine how many columns we want"
   ]
  },
  {
   "cell_type": "code",
   "execution_count": 33,
   "id": "6ec45b64",
   "metadata": {},
   "outputs": [
    {
     "name": "stdout",
     "output_type": "stream",
     "text": [
      "Enter any number: 6\n",
      "* * * * * \n",
      "* * * * \n",
      "* * * \n",
      "* * \n",
      "* \n"
     ]
    }
   ],
   "source": [
    "n = int(input('Enter any number: '))\n",
    "\n",
    "for i in range(5,0,-1):    # 5 4 3 2 1\n",
    "    for j in range(i):\n",
    "        print('*',end=' ')\n",
    "    print()"
   ]
  },
  {
   "cell_type": "code",
   "execution_count": 34,
   "id": "63290ca3",
   "metadata": {},
   "outputs": [
    {
     "name": "stdout",
     "output_type": "stream",
     "text": [
      "1 1 1 1 1 \n",
      "2 2 2 2 2 \n",
      "3 3 3 3 3 \n",
      "4 4 4 4 4 \n",
      "5 5 5 5 5 \n"
     ]
    }
   ],
   "source": [
    "n = 5\n",
    "\n",
    "for i in range(1,n+1):\n",
    "    for j in range(1,n+1):\n",
    "        print(i,end=' ')\n",
    "    print()"
   ]
  },
  {
   "cell_type": "code",
   "execution_count": 35,
   "id": "f3720369",
   "metadata": {},
   "outputs": [
    {
     "name": "stdout",
     "output_type": "stream",
     "text": [
      "1 2 3 4 5 \n",
      "1 2 3 4 5 \n",
      "1 2 3 4 5 \n",
      "1 2 3 4 5 \n",
      "1 2 3 4 5 \n"
     ]
    }
   ],
   "source": [
    "n = 5\n",
    "\n",
    "for i in range(1,n+1):\n",
    "    for j in range(1,n+1):\n",
    "        print(j,end=' ')\n",
    "    print()"
   ]
  },
  {
   "cell_type": "code",
   "execution_count": 36,
   "id": "630c8b9e",
   "metadata": {},
   "outputs": [
    {
     "name": "stdout",
     "output_type": "stream",
     "text": [
      "1 \n",
      "2 2 \n",
      "3 3 3 \n",
      "4 4 4 4 \n",
      "5 5 5 5 5 \n"
     ]
    }
   ],
   "source": [
    "n = 5\n",
    "\n",
    "for i in range(1,n+1):\n",
    "    for j in range(i):\n",
    "        print(i,end=' ')\n",
    "    print()"
   ]
  },
  {
   "cell_type": "code",
   "execution_count": 37,
   "id": "f1cb7885",
   "metadata": {},
   "outputs": [
    {
     "name": "stdout",
     "output_type": "stream",
     "text": [
      "1 \n",
      "1 2 \n",
      "1 2 3 \n",
      "1 2 3 4 \n",
      "1 2 3 4 5 \n"
     ]
    }
   ],
   "source": [
    "n = 5\n",
    "\n",
    "for i in range(1,n+1):\n",
    "    for j in range(i):  # 0\n",
    "        print(j+1,end=' ')\n",
    "    print()"
   ]
  },
  {
   "cell_type": "code",
   "execution_count": 38,
   "id": "656784f6",
   "metadata": {},
   "outputs": [
    {
     "name": "stdout",
     "output_type": "stream",
     "text": [
      "1 2 3 4 5 \n",
      "1 2 3 4 \n",
      "1 2 3 \n",
      "1 2 \n",
      "1 \n"
     ]
    }
   ],
   "source": [
    "n = 5\n",
    "for i in range(1,n+1):\n",
    "    a = 1\n",
    "    for j in range(i,n+1):\n",
    "        print(a,end=' ')\n",
    "        a+=1\n",
    "    print()"
   ]
  },
  {
   "cell_type": "code",
   "execution_count": 39,
   "id": "36e76572",
   "metadata": {},
   "outputs": [
    {
     "data": {
      "text/plain": [
       "range(1, 6)"
      ]
     },
     "execution_count": 39,
     "metadata": {},
     "output_type": "execute_result"
    }
   ],
   "source": [
    "range(1)    # by default 1 is considered as end index\n",
    "range(0,1)  # range is defined from 0 to 1 where 0 is start index & 1 is end index\n",
    "range(1,6)  # range is defined from 1 to 6 where 1 is start index & 6 is end index"
   ]
  },
  {
   "cell_type": "markdown",
   "id": "007bb6bb",
   "metadata": {},
   "source": [
    "## Multiple for loops"
   ]
  },
  {
   "cell_type": "raw",
   "id": "346946bc",
   "metadata": {},
   "source": [
    "If we have multiple loops inside a loops then these loops will add the columns or column values to the pattern\n",
    "If we have multiple loops outside a loop then these loops will add the rows to the pattern"
   ]
  },
  {
   "cell_type": "code",
   "execution_count": 40,
   "id": "8bec9922",
   "metadata": {},
   "outputs": [
    {
     "name": "stdout",
     "output_type": "stream",
     "text": [
      "+ + + + + * $ $ $ $ $  \n",
      "+ + + + * * $ $ $ $ $  \n",
      "+ + + * * * $ $ $ $ $  \n",
      "+ + * * * * $ $ $ $ $  \n",
      "+ * * * * * $ $ $ $ $  \n",
      "% % % % %  \n",
      "% % % % %  \n",
      "% % % % %  \n",
      "% % % % %  \n"
     ]
    }
   ],
   "source": [
    "n = 5\n",
    "for i in range(n):\n",
    "    for j in range(i,n):\n",
    "        print(\"+\",end=\" \")\n",
    "    for k in range(i+1):\n",
    "        print(\"*\",end=\" \")\n",
    "#     print()\n",
    "    for l in range(1):\n",
    "        print('$ '*5,end=' ')\n",
    "    print()  \n",
    "    \n",
    "for x in range(1,5):\n",
    "    print(\"% \"*5,end=\" \")\n",
    "    print()"
   ]
  },
  {
   "cell_type": "code",
   "execution_count": 43,
   "id": "764b900f",
   "metadata": {},
   "outputs": [
    {
     "name": "stdout",
     "output_type": "stream",
     "text": [
      "Enter any number: 6\n",
      "* \n",
      "* * \n",
      "* * * \n",
      "* * * * \n",
      "* * * * * \n",
      "* * * * * * \n",
      "* * * * * \n",
      "* * * * \n",
      "* * * \n",
      "* * \n",
      "* \n"
     ]
    }
   ],
   "source": [
    "n = int(input(\"Enter any number: \"))\n",
    "\n",
    "for i in range(1,n+1):\n",
    "    for j in range(i):\n",
    "        print('*',end=' ')\n",
    "    print()\n",
    "    \n",
    "for k in range(n-1,0,-1):\n",
    "    for l in range(k):\n",
    "        print('*',end=' ')\n",
    "    print()"
   ]
  },
  {
   "cell_type": "code",
   "execution_count": 44,
   "id": "e987bb8b",
   "metadata": {},
   "outputs": [
    {
     "name": "stdout",
     "output_type": "stream",
     "text": [
      "* + + + + \n",
      "* * + + + \n",
      "* * * + + \n",
      "* * * * + \n",
      "* * * + + \n",
      "* * + + + \n",
      "* + + + + \n"
     ]
    }
   ],
   "source": [
    "for i in range(1,5):\n",
    "    for j in range(i):\n",
    "        print('*',end=' ')\n",
    "    for x in range(5-i,0,-1):\n",
    "        print('+',end=' ')\n",
    "    print()\n",
    "    \n",
    "for k in range(3,0,-1):\n",
    "    for l in range(k):\n",
    "        print('*',end=' ')\n",
    "    for y in range(5-k,0,-1):\n",
    "        print('+',end=' ')\n",
    "    print()"
   ]
  },
  {
   "cell_type": "code",
   "execution_count": null,
   "id": "af43597a",
   "metadata": {},
   "outputs": [],
   "source": [
    "# WAP to calcultae factorial of any number\n",
    "\n",
    "# find fact of 5 = 5*4*3*2*1 = 120"
   ]
  },
  {
   "cell_type": "code",
   "execution_count": 45,
   "id": "7697fdb9",
   "metadata": {},
   "outputs": [
    {
     "name": "stdout",
     "output_type": "stream",
     "text": [
      "Enter a number: 5\n",
      "The factorial of 5 is 120\n"
     ]
    }
   ],
   "source": [
    "no = int(input(\"Enter a number: \"))    \n",
    "fact = 1    \n",
    "if no < 0:    \n",
    "    print(\" Factorial does not exist for negative numbers\")    \n",
    "elif no == 0:    \n",
    "    print(\"The factorial of 0 is 1\")    \n",
    "else:    \n",
    "    for i in range(1,no + 1):    \n",
    "        fact = fact*i\n",
    "    else:\n",
    "        print(\"The factorial of\",no,\"is\",fact)    "
   ]
  },
  {
   "cell_type": "markdown",
   "id": "d3c5ddaf",
   "metadata": {},
   "source": [
    "## for else"
   ]
  },
  {
   "cell_type": "raw",
   "id": "cb54af6a",
   "metadata": {},
   "source": [
    "Else will be executed after the for loop"
   ]
  },
  {
   "cell_type": "code",
   "execution_count": 46,
   "id": "626ed691",
   "metadata": {},
   "outputs": [
    {
     "name": "stdout",
     "output_type": "stream",
     "text": [
      "120\n"
     ]
    }
   ],
   "source": [
    "n=5;fact = 1\n",
    "\n",
    "for i in range(1,n+1):\n",
    "    fact = fact * i\n",
    "    \n",
    "else:\n",
    "    if fact>100:\n",
    "        print(fact)\n",
    "    else:\n",
    "        print('We dont consider numbers whose factorial is less than 100')"
   ]
  }
 ],
 "metadata": {
  "kernelspec": {
   "display_name": "Python 3 (ipykernel)",
   "language": "python",
   "name": "python3"
  },
  "language_info": {
   "codemirror_mode": {
    "name": "ipython",
    "version": 3
   },
   "file_extension": ".py",
   "mimetype": "text/x-python",
   "name": "python",
   "nbconvert_exporter": "python",
   "pygments_lexer": "ipython3",
   "version": "3.9.7"
  },
  "toc": {
   "base_numbering": 1,
   "nav_menu": {},
   "number_sections": true,
   "sideBar": true,
   "skip_h1_title": false,
   "title_cell": "Table of Contents",
   "title_sidebar": "Contents",
   "toc_cell": false,
   "toc_position": {},
   "toc_section_display": true,
   "toc_window_display": false
  }
 },
 "nbformat": 4,
 "nbformat_minor": 5
}
