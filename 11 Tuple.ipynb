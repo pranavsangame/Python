{
 "cells": [
  {
   "cell_type": "raw",
   "id": "5d1b1ee2",
   "metadata": {},
   "source": [
    "Tuple?\n",
    "\n",
    "Tuple are data types that are used to store different data types(int, float, complex, string, list, tuple, etc.)\n",
    "It can store multiple values separated by comma\n",
    "Tuples does allow duplication of items\n",
    "\n",
    "It also supports an iterator operations like a list\n",
    "\n",
    "-Unlike list, tuples are imutable.\n",
    "    The values of items stored at any index in tuple can not be modified, changed or deleted.\n",
    "unlike set, tuples are always ordered\n",
    "Tuple is encompassed in round brackets ()\n",
    "\n",
    "& Tuples are faster than list"
   ]
  },
  {
   "cell_type": "code",
   "execution_count": 1,
   "id": "2a4933a0",
   "metadata": {},
   "outputs": [
    {
     "data": {
      "text/plain": [
       "list"
      ]
     },
     "execution_count": 1,
     "metadata": {},
     "output_type": "execute_result"
    }
   ],
   "source": [
    "tuple1 = [2,3,4]\n",
    "type(tuple1)"
   ]
  },
  {
   "cell_type": "code",
   "execution_count": 2,
   "id": "c8a88e18",
   "metadata": {},
   "outputs": [
    {
     "name": "stdout",
     "output_type": "stream",
     "text": [
      "<class 'tuple'>\n",
      "(2, 3, 4, 2)\n"
     ]
    }
   ],
   "source": [
    "tuple1 = (2,3,4,2)\n",
    "print(type(tuple1))\n",
    "print(tuple1)"
   ]
  },
  {
   "cell_type": "markdown",
   "id": "363fc9d8",
   "metadata": {},
   "source": [
    "# Tuple Constructor"
   ]
  },
  {
   "cell_type": "code",
   "execution_count": 3,
   "id": "23cd5b5a",
   "metadata": {},
   "outputs": [
    {
     "data": {
      "text/plain": [
       "tuple"
      ]
     },
     "execution_count": 3,
     "metadata": {},
     "output_type": "execute_result"
    }
   ],
   "source": [
    "string = '(2,3,4)'\n",
    "tuple_new=tuple(string)\n",
    "type(tuple_new)"
   ]
  },
  {
   "cell_type": "code",
   "execution_count": 4,
   "id": "9cf9efea",
   "metadata": {},
   "outputs": [
    {
     "data": {
      "text/plain": [
       "tuple"
      ]
     },
     "execution_count": 4,
     "metadata": {},
     "output_type": "execute_result"
    }
   ],
   "source": [
    "list1 = [2,3,4]\n",
    "tuple1 = tuple(list1)\n",
    "type(tuple1)"
   ]
  },
  {
   "cell_type": "code",
   "execution_count": 5,
   "id": "f5acf372",
   "metadata": {},
   "outputs": [
    {
     "data": {
      "text/plain": [
       "tuple"
      ]
     },
     "execution_count": 5,
     "metadata": {},
     "output_type": "execute_result"
    }
   ],
   "source": [
    "tuple_dummy = ()\n",
    "type(tuple_dummy)"
   ]
  },
  {
   "cell_type": "markdown",
   "id": "6a138970",
   "metadata": {},
   "source": [
    "# Indexing"
   ]
  },
  {
   "cell_type": "code",
   "execution_count": 6,
   "id": "56fc2337",
   "metadata": {},
   "outputs": [
    {
     "data": {
      "text/plain": [
       "(2, 4)"
      ]
     },
     "execution_count": 6,
     "metadata": {},
     "output_type": "execute_result"
    }
   ],
   "source": [
    "tuple1 = (2,3,4,2)\n",
    "\n",
    "tuple1[0]\n",
    "tuple1[-2]\n",
    "tuple1[:]\n",
    "tuple1[::-1]\n",
    "tuple1[-1:-3:-1]"
   ]
  },
  {
   "cell_type": "markdown",
   "id": "0ffc01a3",
   "metadata": {},
   "source": [
    "# Index or Item Assignment & Modification"
   ]
  },
  {
   "cell_type": "code",
   "execution_count": 7,
   "id": "7b4bd271",
   "metadata": {},
   "outputs": [
    {
     "ename": "TypeError",
     "evalue": "'tuple' object does not support item assignment",
     "output_type": "error",
     "traceback": [
      "\u001b[1;31m---------------------------------------------------------------------------\u001b[0m",
      "\u001b[1;31mTypeError\u001b[0m                                 Traceback (most recent call last)",
      "\u001b[1;32m~\\AppData\\Local\\Temp/ipykernel_38156/3979741733.py\u001b[0m in \u001b[0;36m<module>\u001b[1;34m\u001b[0m\n\u001b[0;32m      1\u001b[0m \u001b[0mtuple1\u001b[0m \u001b[1;33m=\u001b[0m \u001b[1;33m(\u001b[0m\u001b[1;36m2\u001b[0m\u001b[1;33m,\u001b[0m\u001b[1;36m3\u001b[0m\u001b[1;33m,\u001b[0m\u001b[1;36m4\u001b[0m\u001b[1;33m,\u001b[0m\u001b[1;36m2\u001b[0m\u001b[1;33m,\u001b[0m\u001b[1;36m5\u001b[0m\u001b[1;33m,\u001b[0m\u001b[1;36m8\u001b[0m\u001b[1;33m,\u001b[0m\u001b[1;36m6\u001b[0m\u001b[1;33m,\u001b[0m\u001b[1;36m4\u001b[0m\u001b[1;33m,\u001b[0m\u001b[1;36m7\u001b[0m\u001b[1;33m,\u001b[0m\u001b[1;36m9\u001b[0m\u001b[1;33m)\u001b[0m\u001b[1;33m\u001b[0m\u001b[1;33m\u001b[0m\u001b[0m\n\u001b[0;32m      2\u001b[0m \u001b[1;33m\u001b[0m\u001b[0m\n\u001b[1;32m----> 3\u001b[1;33m \u001b[0mtuple1\u001b[0m\u001b[1;33m[\u001b[0m\u001b[1;33m-\u001b[0m\u001b[1;36m1\u001b[0m\u001b[1;33m]\u001b[0m \u001b[1;33m=\u001b[0m \u001b[1;36m100\u001b[0m\u001b[1;33m\u001b[0m\u001b[1;33m\u001b[0m\u001b[0m\n\u001b[0m",
      "\u001b[1;31mTypeError\u001b[0m: 'tuple' object does not support item assignment"
     ]
    }
   ],
   "source": [
    "tuple1 = (2,3,4,2,5,8,6,4,7,9)\n",
    "\n",
    "tuple1[-1] = 100"
   ]
  },
  {
   "cell_type": "code",
   "execution_count": 8,
   "id": "a57fa20e",
   "metadata": {},
   "outputs": [
    {
     "ename": "TypeError",
     "evalue": "'tuple' object doesn't support item deletion",
     "output_type": "error",
     "traceback": [
      "\u001b[1;31m---------------------------------------------------------------------------\u001b[0m",
      "\u001b[1;31mTypeError\u001b[0m                                 Traceback (most recent call last)",
      "\u001b[1;32m~\\AppData\\Local\\Temp/ipykernel_38156/1326016893.py\u001b[0m in \u001b[0;36m<module>\u001b[1;34m\u001b[0m\n\u001b[1;32m----> 1\u001b[1;33m \u001b[1;32mdel\u001b[0m \u001b[0mtuple1\u001b[0m\u001b[1;33m[\u001b[0m\u001b[1;36m8\u001b[0m\u001b[1;33m]\u001b[0m\u001b[1;33m\u001b[0m\u001b[1;33m\u001b[0m\u001b[0m\n\u001b[0m",
      "\u001b[1;31mTypeError\u001b[0m: 'tuple' object doesn't support item deletion"
     ]
    }
   ],
   "source": [
    "del tuple1[8]"
   ]
  },
  {
   "cell_type": "code",
   "execution_count": 9,
   "id": "f8d1174e",
   "metadata": {},
   "outputs": [],
   "source": [
    "del tuple1"
   ]
  },
  {
   "cell_type": "code",
   "execution_count": 10,
   "id": "c8377937",
   "metadata": {},
   "outputs": [
    {
     "ename": "NameError",
     "evalue": "name 'tuple1' is not defined",
     "output_type": "error",
     "traceback": [
      "\u001b[1;31m---------------------------------------------------------------------------\u001b[0m",
      "\u001b[1;31mNameError\u001b[0m                                 Traceback (most recent call last)",
      "\u001b[1;32m~\\AppData\\Local\\Temp/ipykernel_38156/1829057132.py\u001b[0m in \u001b[0;36m<module>\u001b[1;34m\u001b[0m\n\u001b[1;32m----> 1\u001b[1;33m \u001b[0mtuple1\u001b[0m\u001b[1;33m\u001b[0m\u001b[1;33m\u001b[0m\u001b[0m\n\u001b[0m",
      "\u001b[1;31mNameError\u001b[0m: name 'tuple1' is not defined"
     ]
    }
   ],
   "source": [
    "tuple1"
   ]
  },
  {
   "cell_type": "markdown",
   "id": "63276253",
   "metadata": {},
   "source": [
    "# Item modification by converting it into List"
   ]
  },
  {
   "cell_type": "code",
   "execution_count": 11,
   "id": "c60ffe0e",
   "metadata": {},
   "outputs": [
    {
     "data": {
      "text/plain": [
       "(2, 3, 4, 2, 5, 8, 6, 4, 7, 9, 100)"
      ]
     },
     "execution_count": 11,
     "metadata": {},
     "output_type": "execute_result"
    }
   ],
   "source": [
    "tuple1 = (2,3,4,2,5,8,6,4,7,9)\n",
    "\n",
    "list1 = list(tuple1)\n",
    "\n",
    "list1.append(100)\n",
    "\n",
    "tuple1=tuple(list1)\n",
    "tuple1"
   ]
  },
  {
   "cell_type": "code",
   "execution_count": 12,
   "id": "fcad75a9",
   "metadata": {},
   "outputs": [
    {
     "data": {
      "text/plain": [
       "(3, 4, 2, 5, 8, 6, 4, 7, 9)"
      ]
     },
     "execution_count": 12,
     "metadata": {},
     "output_type": "execute_result"
    }
   ],
   "source": [
    "tuple1 = (2,3,4,2,5,8,6,4,7,9)\n",
    "\n",
    "list1 = list(tuple1)\n",
    "\n",
    "list1.pop(0)\n",
    "\n",
    "tuple1=tuple(list1)\n",
    "tuple1"
   ]
  },
  {
   "cell_type": "code",
   "execution_count": 13,
   "id": "472a52a9",
   "metadata": {},
   "outputs": [
    {
     "data": {
      "text/plain": [
       "[2, 3, 4, 4, 5, 6, 7, 8, 9]"
      ]
     },
     "execution_count": 13,
     "metadata": {},
     "output_type": "execute_result"
    }
   ],
   "source": [
    "sorted(tuple1)"
   ]
  },
  {
   "cell_type": "code",
   "execution_count": 14,
   "id": "1a039437",
   "metadata": {},
   "outputs": [
    {
     "data": {
      "text/plain": [
       "[(2, 3, 4, 2, 5, 8, 6, 4, 7, 9)]"
      ]
     },
     "execution_count": 14,
     "metadata": {},
     "output_type": "execute_result"
    }
   ],
   "source": [
    "tuple1 = (2,3,4,2,5,8,6,4,7,9)\n",
    "\n",
    "list1 = [tuple1]\n",
    "\n",
    "type(list1)\n",
    "list1"
   ]
  },
  {
   "cell_type": "markdown",
   "id": "7e6625dd",
   "metadata": {},
   "source": [
    "# Tuple Operations"
   ]
  },
  {
   "cell_type": "code",
   "execution_count": 15,
   "id": "9105768d",
   "metadata": {},
   "outputs": [
    {
     "data": {
      "text/plain": [
       "(2, 3, 4, 2, 5, 8, 6, 4, 7, 9)"
      ]
     },
     "execution_count": 15,
     "metadata": {},
     "output_type": "execute_result"
    }
   ],
   "source": [
    "tuple1 = (2,3,4,2,5)\n",
    "tuple2 = (8,6,4,7,9)\n",
    "\n",
    "tuple3=tuple1+tuple2\n",
    "tuple3"
   ]
  },
  {
   "cell_type": "code",
   "execution_count": 16,
   "id": "cbf46528",
   "metadata": {},
   "outputs": [
    {
     "ename": "TypeError",
     "evalue": "unsupported operand type(s) for -: 'tuple' and 'tuple'",
     "output_type": "error",
     "traceback": [
      "\u001b[1;31m---------------------------------------------------------------------------\u001b[0m",
      "\u001b[1;31mTypeError\u001b[0m                                 Traceback (most recent call last)",
      "\u001b[1;32m~\\AppData\\Local\\Temp/ipykernel_38156/3586431675.py\u001b[0m in \u001b[0;36m<module>\u001b[1;34m\u001b[0m\n\u001b[0;32m      2\u001b[0m \u001b[0mtuple2\u001b[0m \u001b[1;33m=\u001b[0m \u001b[1;33m(\u001b[0m\u001b[1;36m8\u001b[0m\u001b[1;33m,\u001b[0m\u001b[1;36m6\u001b[0m\u001b[1;33m,\u001b[0m\u001b[1;36m4\u001b[0m\u001b[1;33m,\u001b[0m\u001b[1;36m7\u001b[0m\u001b[1;33m,\u001b[0m\u001b[1;36m9\u001b[0m\u001b[1;33m)\u001b[0m\u001b[1;33m\u001b[0m\u001b[1;33m\u001b[0m\u001b[0m\n\u001b[0;32m      3\u001b[0m \u001b[1;33m\u001b[0m\u001b[0m\n\u001b[1;32m----> 4\u001b[1;33m \u001b[0mtuple3\u001b[0m\u001b[1;33m=\u001b[0m\u001b[0mtuple1\u001b[0m\u001b[1;33m-\u001b[0m\u001b[0mtuple2\u001b[0m\u001b[1;33m\u001b[0m\u001b[1;33m\u001b[0m\u001b[0m\n\u001b[0m\u001b[0;32m      5\u001b[0m \u001b[0mtuple3\u001b[0m\u001b[1;33m\u001b[0m\u001b[1;33m\u001b[0m\u001b[0m\n",
      "\u001b[1;31mTypeError\u001b[0m: unsupported operand type(s) for -: 'tuple' and 'tuple'"
     ]
    }
   ],
   "source": [
    "tuple1 = (2,3,4,2,5)\n",
    "tuple2 = (8,6,4,7,9)\n",
    "\n",
    "tuple3=tuple1-tuple2\n",
    "tuple3"
   ]
  },
  {
   "cell_type": "code",
   "execution_count": 17,
   "id": "0531e581",
   "metadata": {},
   "outputs": [
    {
     "ename": "TypeError",
     "evalue": "can't multiply sequence by non-int of type 'tuple'",
     "output_type": "error",
     "traceback": [
      "\u001b[1;31m---------------------------------------------------------------------------\u001b[0m",
      "\u001b[1;31mTypeError\u001b[0m                                 Traceback (most recent call last)",
      "\u001b[1;32m~\\AppData\\Local\\Temp/ipykernel_38156/3913692853.py\u001b[0m in \u001b[0;36m<module>\u001b[1;34m\u001b[0m\n\u001b[0;32m      2\u001b[0m \u001b[0mtuple2\u001b[0m \u001b[1;33m=\u001b[0m \u001b[1;33m(\u001b[0m\u001b[1;36m8\u001b[0m\u001b[1;33m,\u001b[0m\u001b[1;36m6\u001b[0m\u001b[1;33m,\u001b[0m\u001b[1;36m4\u001b[0m\u001b[1;33m,\u001b[0m\u001b[1;36m7\u001b[0m\u001b[1;33m,\u001b[0m\u001b[1;36m9\u001b[0m\u001b[1;33m)\u001b[0m\u001b[1;33m\u001b[0m\u001b[1;33m\u001b[0m\u001b[0m\n\u001b[0;32m      3\u001b[0m \u001b[1;33m\u001b[0m\u001b[0m\n\u001b[1;32m----> 4\u001b[1;33m \u001b[0mtuple3\u001b[0m\u001b[1;33m=\u001b[0m\u001b[0mtuple1\u001b[0m\u001b[1;33m*\u001b[0m\u001b[0mtuple2\u001b[0m\u001b[1;33m\u001b[0m\u001b[1;33m\u001b[0m\u001b[0m\n\u001b[0m\u001b[0;32m      5\u001b[0m \u001b[0mtuple3\u001b[0m\u001b[1;33m\u001b[0m\u001b[1;33m\u001b[0m\u001b[0m\n",
      "\u001b[1;31mTypeError\u001b[0m: can't multiply sequence by non-int of type 'tuple'"
     ]
    }
   ],
   "source": [
    "tuple1 = (2,3,4,2,5)\n",
    "tuple2 = (8,6,4,7,9)\n",
    "\n",
    "tuple3=tuple1*tuple2\n",
    "tuple3"
   ]
  },
  {
   "cell_type": "code",
   "execution_count": 18,
   "id": "36d879d6",
   "metadata": {},
   "outputs": [
    {
     "data": {
      "text/plain": [
       "(2, 3, 4, 2, 5, 2, 3, 4, 2, 5)"
      ]
     },
     "execution_count": 18,
     "metadata": {},
     "output_type": "execute_result"
    }
   ],
   "source": [
    "tuple1 = (2,3,4,2,5)\n",
    "tuple2 = (8,6,4,7,9)\n",
    "\n",
    "tuple3=tuple1*2\n",
    "tuple3"
   ]
  },
  {
   "cell_type": "code",
   "execution_count": 19,
   "id": "50243711",
   "metadata": {},
   "outputs": [],
   "source": [
    "tuple1 = (2,3,4,2,5)"
   ]
  },
  {
   "cell_type": "code",
   "execution_count": 20,
   "id": "1d24eaf1",
   "metadata": {},
   "outputs": [
    {
     "name": "stdout",
     "output_type": "stream",
     "text": [
      "[81 95 80 79 97 73 68 37 74 88 35 67 78 16 28 55 63 47 65 64 20 31 72 37\n",
      " 33 64 43 10 18 60 73 20 73 38 88 56 31 27 44 23 87 69 84 76 89 81 87 99\n",
      " 84 17 90 57 63 87 13 69 45 60 63 74 17 78 88 26 36 29 18 96 12 23 37 87\n",
      " 10 92 51 78 18 31 67 25 41 12 50 74 69 26 72 32 63 87 10 60 29 50 31 85\n",
      " 90 94 55 12 18 90 60 31 47 87 54 71 82 89 54 93 26 55 84 32 43 36 47 42\n",
      " 60 85 13 41 41 41 73 51 42 84 60 56 70 45 69 62 83 96 27 47 58 58 75 96\n",
      " 95 23 53 98 34 26 80 86 63 60 41 90 82 74 67 49 46 51 46 17 87 23 53 24\n",
      " 56 71 63 77 26 86 38 22 95 50 53 85 55 56 23 93 92 27 65 51 26 38 43 87\n",
      " 87 79 28 30 90 66 69 44 12 15 74 45 39 74 16 17 66 59 13 98 31 79 29 55\n",
      " 18 12 32 55 74 81 86 86 83 11 18 18 41 28 29 91 99 25 67 88 52 16 88 53\n",
      " 78 41 86 28 95 14 45 84 12 34 97 55 55 18 40 19 56 17 68 28 15 87 33 61\n",
      " 39 77 14 52 33 76 67 57 24 61 46 94 33 70 18 61 18 77 88 85 99 89 39 42\n",
      " 27 47 48 56 10 58 84 93 66 39 40 88 24 46 10 36 64 94 91 25 51 76 16 82\n",
      " 45 99 64 41 93 17 71 16 80 15 21 44 17 75 22 68 30 35 69 74 59 67 39 46\n",
      " 97 66 40 26 89 90 53 88 74 52 67 61 15 49 54 97 67 42 42 26 78 42 15 71\n",
      " 84 21 53 54 38 47 74 76 23 46 82 63 14 45 24 37 91 85 26 96 18 83 84 88\n",
      " 39 89 91 70 36 84 87 20 68 65 11 11 13 35 50 37 30 25 11 35 40 98 74 62\n",
      " 88 88 93 33 48 99 44 82 35 55 39 93 49 59 72 31 71 72 55 19 33 11 90 71\n",
      " 29 48 54 72 97 96 24 25 61 55 91 18 65 83 98 17 88 74 66 41 32 81 65 78\n",
      " 76 87 83 79 69 44 83 28 90 26 29 66 97 64 22 80 68 51 95 18 63 49 39 99\n",
      " 57 68 95 30 99 72 12 13 34 22 25 36 84 82 28 34 73 90 69 75 89 82 40 34\n",
      " 42 61 40 43 26 32 14 76 71 27 44 26 48 26 92 76 40 36 89 93 43 19 93 75\n",
      " 29 80 90 46 67 10 48 11 42 46 86 81 56 58 57 12 61 92 38 73 93 99 75 18\n",
      " 97 98 64 60 14 62 67 55 72 75 31 71 54 51 76 96 47 59 94 15 48 77 75 72\n",
      " 41 63 68 12 77 62 35 70 94 72 56 55 24 62 25 14 11 15 50 69 70 86 99 88\n",
      " 27 66 64 64 40 28 41 62 61 33 58 34 96 50 30 79 82 26 77 91 77 44 25 81\n",
      " 30 45 10 49 19 85 69 20 46 12 35 36 13 28 78 33 69 37 85 87 22 96 91 97\n",
      " 54 50 38 27 29 67 17 80 29 69 39 80 24 46 56 95 10 85 45 91 25 66 65 53\n",
      " 10 39 78 99 75 82 92 86 76 25 13 61 95 52 45 84 46 54 83 26 71 41 21 36\n",
      " 34 69 77 82 69 76 89 49 16 16 29 17 40 23 50 79 35 66 91 82 26 98 64 90\n",
      " 38 10 94 87 70 15 37 93 70 20 44 54 74 33 42 68 99 96 53 45 55 34 88 79\n",
      " 77 42 75 43 43 20 14 83 48 22 93 40 29 53 93 73 57 73 57 53 96 61 16 72\n",
      " 79 88 68 12 90 11 94 24 22 99 32 35 62 37 84 64 84 48 98 44 39 17 44 26\n",
      " 96 48 89 26 89 30 44 79 58 77 74 29 64 38 33 60 94 25 55 72 45 38 31 67\n",
      " 68 91 63 71 17 40 22 28 23 89 38 72 25 85 62 60 32 85 25 82 55 66 66 96\n",
      " 37 24 54 11 35 48 70 77 31 60 69 83 22 84 57 80 94 45 77 24 48 46 94 46\n",
      " 49 87 48 54 57 53 40 94 63 39 59 32 74 13 63 34 43 70 45 44 37 97 44 93\n",
      " 97 95 99 95 94 30 92 14 20 52 95 27 26 51 94 40 61 94 90 40 33 27 81 96\n",
      " 10 42 62 17 52 66 28 25 53 78 87 39 90 37 84 20 45 85 33 25 62 98 82 51\n",
      " 17 63 89 31 12 49 91 19 93 46 60 43 39 73 26 74 94 61 79 15 53 94 76 97\n",
      " 72 12 58 72 22 79 13 17 94 84 61 74 68 46 44 97 54 85 81 35 77 78 69 90\n",
      " 12 56 99 34 65 98 44 83 43 55 89 90 97 63 88 52]\n"
     ]
    }
   ],
   "source": [
    "import numpy as np\n",
    "random_number=np.random.randint(10,100,1000)\n",
    "print(random_number)\n",
    "random_list=list(random_number)\n",
    "random_tuple=tuple(random_number)"
   ]
  },
  {
   "cell_type": "code",
   "execution_count": 21,
   "id": "5e6d88be",
   "metadata": {},
   "outputs": [
    {
     "name": "stdout",
     "output_type": "stream",
     "text": [
      "Wall time: 0 ns\n"
     ]
    }
   ],
   "source": [
    "%%time\n",
    "for i in random_list:\n",
    "    pass"
   ]
  },
  {
   "cell_type": "code",
   "execution_count": 22,
   "id": "f382f535",
   "metadata": {},
   "outputs": [
    {
     "data": {
      "text/plain": [
       "(2, 4, 6, 'Class', 'pYHTON', 3)"
      ]
     },
     "execution_count": 22,
     "metadata": {},
     "output_type": "execute_result"
    }
   ],
   "source": [
    "t1 = (2,4,6,'Class','pYHTON',3)\n",
    "t1"
   ]
  },
  {
   "cell_type": "code",
   "execution_count": 23,
   "id": "2dbb8825",
   "metadata": {},
   "outputs": [
    {
     "data": {
      "text/plain": [
       "{100.115, 2, 3, 4, 6, 'Class', 'pYHTON'}"
      ]
     },
     "execution_count": 23,
     "metadata": {},
     "output_type": "execute_result"
    }
   ],
   "source": [
    "SET1 = {2,4,6,'Class','pYHTON',3,100.115}\n",
    "SET1"
   ]
  },
  {
   "cell_type": "code",
   "execution_count": 24,
   "id": "5261b3d1",
   "metadata": {},
   "outputs": [
    {
     "name": "stdout",
     "output_type": "stream",
     "text": [
      "Yes\n"
     ]
    }
   ],
   "source": [
    "t1 = (2,4,6,'Class','pYHTON',3)\n",
    "\n",
    "if 'Class' in t1:\n",
    "    print('Yes')"
   ]
  },
  {
   "cell_type": "code",
   "execution_count": 25,
   "id": "2f20a2dd",
   "metadata": {},
   "outputs": [
    {
     "name": "stdout",
     "output_type": "stream",
     "text": [
      "2\n",
      "4\n",
      "6\n",
      "Class\n",
      "pYHTON\n",
      "3\n"
     ]
    }
   ],
   "source": [
    "t1 = (2,4,6,'Class','pYHTON',3)\n",
    "\n",
    "for i in t1:\n",
    "    print(i)"
   ]
  },
  {
   "cell_type": "markdown",
   "id": "9864b17a",
   "metadata": {},
   "source": [
    "## index, count, len, max, min, sum functions"
   ]
  },
  {
   "cell_type": "code",
   "execution_count": 26,
   "id": "c89a5515",
   "metadata": {},
   "outputs": [
    {
     "data": {
      "text/plain": [
       "1"
      ]
     },
     "execution_count": 26,
     "metadata": {},
     "output_type": "execute_result"
    }
   ],
   "source": [
    "t1 = (2,4,6,'Class','pYHTON',3)\n",
    "t1.index(4)"
   ]
  },
  {
   "cell_type": "code",
   "execution_count": 27,
   "id": "2d84a38b",
   "metadata": {},
   "outputs": [
    {
     "data": {
      "text/plain": [
       "2"
      ]
     },
     "execution_count": 27,
     "metadata": {},
     "output_type": "execute_result"
    }
   ],
   "source": [
    "t1 = (2,3,4,6,'Class','pYHTON',3)\n",
    "t1.count(3)"
   ]
  },
  {
   "cell_type": "code",
   "execution_count": 28,
   "id": "dc82606f",
   "metadata": {},
   "outputs": [
    {
     "data": {
      "text/plain": [
       "(5, 6, 2, 18)"
      ]
     },
     "execution_count": 28,
     "metadata": {},
     "output_type": "execute_result"
    }
   ],
   "source": [
    "t1 = (2,3,4,6,3)\n",
    "len(t1),max(t1),min(t1),sum(t1)"
   ]
  },
  {
   "cell_type": "markdown",
   "id": "4eb149da",
   "metadata": {},
   "source": [
    "## Sorting tuple using sorted function"
   ]
  },
  {
   "cell_type": "code",
   "execution_count": 29,
   "id": "6d377f9d",
   "metadata": {},
   "outputs": [
    {
     "data": {
      "text/plain": [
       "[2, 3, 3, 4, 6]"
      ]
     },
     "execution_count": 29,
     "metadata": {},
     "output_type": "execute_result"
    }
   ],
   "source": [
    "#sorting in ascending order\n",
    "sorted(t1)"
   ]
  },
  {
   "cell_type": "code",
   "execution_count": 30,
   "id": "4a296a4a",
   "metadata": {},
   "outputs": [
    {
     "data": {
      "text/plain": [
       "[6, 4, 3, 3, 2]"
      ]
     },
     "execution_count": 30,
     "metadata": {},
     "output_type": "execute_result"
    }
   ],
   "source": [
    "#sorting in descending order\n",
    "sorted(t1,reverse=True)"
   ]
  },
  {
   "cell_type": "markdown",
   "id": "ba7c8a02",
   "metadata": {},
   "source": [
    "## reversing tuple using reversed funtion"
   ]
  },
  {
   "cell_type": "code",
   "execution_count": 31,
   "id": "1662094c",
   "metadata": {},
   "outputs": [
    {
     "data": {
      "text/plain": [
       "(3, 6, 4, 3, 2)"
      ]
     },
     "execution_count": 31,
     "metadata": {},
     "output_type": "execute_result"
    }
   ],
   "source": [
    "tuple(reversed(t1))"
   ]
  },
  {
   "cell_type": "markdown",
   "id": "036dfd95",
   "metadata": {},
   "source": [
    "## Copy function"
   ]
  },
  {
   "cell_type": "raw",
   "id": "6d7b4bc2",
   "metadata": {},
   "source": [
    "Deep copy & shallow copy works the same way as they work with list"
   ]
  },
  {
   "cell_type": "raw",
   "id": "7e11ed56",
   "metadata": {},
   "source": [
    "Difference between Tuple & List:\n",
    "    \n",
    "List:\n",
    "    1. []\n",
    "    2. Mutable\n",
    "    3. Ordered*\n",
    "    4. More functionalities than Tuple\n",
    "    5. Slower than Tuple\n",
    "    6. Less Memory efficient\n",
    "    7. Duplicates are allowed*\n",
    "    8. for single item, it need not be comma separated.\n",
    "    \n",
    "Tuple:\n",
    "    1. ()\n",
    "    2. Immutable\n",
    "    3. Ordered*\n",
    "    4. Less functionalities than List\n",
    "    5. Faster than List\n",
    "    6. More Memory efficient\n",
    "    7. Duplicates are allowed*\n",
    "    8. for single item, it needs be comma separated."
   ]
  },
  {
   "cell_type": "code",
   "execution_count": 32,
   "id": "4589aa30",
   "metadata": {},
   "outputs": [
    {
     "ename": "AttributeError",
     "evalue": "'tuple' object has no attribute 'pop'",
     "output_type": "error",
     "traceback": [
      "\u001b[1;31m---------------------------------------------------------------------------\u001b[0m",
      "\u001b[1;31mAttributeError\u001b[0m                            Traceback (most recent call last)",
      "\u001b[1;32m~\\AppData\\Local\\Temp/ipykernel_38156/3505990331.py\u001b[0m in \u001b[0;36m<module>\u001b[1;34m\u001b[0m\n\u001b[1;32m----> 1\u001b[1;33m \u001b[0mtuple1\u001b[0m\u001b[1;33m.\u001b[0m\u001b[0mpop\u001b[0m\u001b[1;33m(\u001b[0m\u001b[1;33m)\u001b[0m\u001b[1;33m\u001b[0m\u001b[1;33m\u001b[0m\u001b[0m\n\u001b[0m",
      "\u001b[1;31mAttributeError\u001b[0m: 'tuple' object has no attribute 'pop'"
     ]
    }
   ],
   "source": [
    "tuple1.pop()"
   ]
  },
  {
   "cell_type": "code",
   "execution_count": 33,
   "id": "04cb06ce",
   "metadata": {},
   "outputs": [
    {
     "data": {
      "text/plain": [
       "'hi hello salut Hallo'"
      ]
     },
     "execution_count": 33,
     "metadata": {},
     "output_type": "execute_result"
    }
   ],
   "source": [
    "tuple1 = ('hi','hello','salut','Hallo')\n",
    "\n",
    "' '.join(tuple1)"
   ]
  },
  {
   "cell_type": "code",
   "execution_count": 34,
   "id": "12a3c877",
   "metadata": {},
   "outputs": [
    {
     "data": {
      "text/plain": [
       "\"('hi', 'hello', 'salut', 'Hallo')\""
      ]
     },
     "execution_count": 34,
     "metadata": {},
     "output_type": "execute_result"
    }
   ],
   "source": [
    "str(tuple1)"
   ]
  },
  {
   "cell_type": "code",
   "execution_count": 36,
   "id": "9fff588b",
   "metadata": {},
   "outputs": [
    {
     "name": "stdout",
     "output_type": "stream",
     "text": [
      "<class 'tuple'>\n"
     ]
    },
    {
     "data": {
      "text/plain": [
       "(2, 3, 5, 4)"
      ]
     },
     "execution_count": 36,
     "metadata": {},
     "output_type": "execute_result"
    }
   ],
   "source": [
    "s = 2,3,5,4\n",
    "print(type(s))\n",
    "s"
   ]
  },
  {
   "cell_type": "code",
   "execution_count": null,
   "id": "7a525fe5",
   "metadata": {},
   "outputs": [],
   "source": []
  }
 ],
 "metadata": {
  "kernelspec": {
   "display_name": "Python 3 (ipykernel)",
   "language": "python",
   "name": "python3"
  },
  "language_info": {
   "codemirror_mode": {
    "name": "ipython",
    "version": 3
   },
   "file_extension": ".py",
   "mimetype": "text/x-python",
   "name": "python",
   "nbconvert_exporter": "python",
   "pygments_lexer": "ipython3",
   "version": "3.9.7"
  },
  "toc": {
   "base_numbering": 1,
   "nav_menu": {},
   "number_sections": true,
   "sideBar": true,
   "skip_h1_title": false,
   "title_cell": "Table of Contents",
   "title_sidebar": "Contents",
   "toc_cell": false,
   "toc_position": {},
   "toc_section_display": true,
   "toc_window_display": false
  }
 },
 "nbformat": 4,
 "nbformat_minor": 5
}
