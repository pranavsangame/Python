{
 "cells": [
  {
   "cell_type": "raw",
   "id": "54ab490e",
   "metadata": {},
   "source": [
    "Lambda function:\n",
    "    Anonymous function\n",
    "    Function without name\n",
    "    defined by using lambda keyword\n",
    "    no need to return or yield in this function\n",
    "    short hand expression, short time function"
   ]
  },
  {
   "cell_type": "markdown",
   "id": "2e694585",
   "metadata": {},
   "source": [
    "## Syntax of lambda"
   ]
  },
  {
   "cell_type": "raw",
   "id": "5e4a1f88",
   "metadata": {},
   "source": [
    "lambda argument:expression(operation on the argument)\n",
    "\n",
    "Arguments here can be 1 or more arguments\n",
    "Expression : only 1 expression"
   ]
  },
  {
   "cell_type": "code",
   "execution_count": 1,
   "id": "6b1cf205",
   "metadata": {},
   "outputs": [
    {
     "data": {
      "text/plain": [
       "<function __main__.<lambda>(a, b)>"
      ]
     },
     "execution_count": 1,
     "metadata": {},
     "output_type": "execute_result"
    }
   ],
   "source": [
    "lambda a : a**2\n",
    "lambda a,b : a+b"
   ]
  },
  {
   "cell_type": "code",
   "execution_count": 2,
   "id": "1f34f4e5",
   "metadata": {},
   "outputs": [
    {
     "data": {
      "text/plain": [
       "25"
      ]
     },
     "execution_count": 2,
     "metadata": {},
     "output_type": "execute_result"
    }
   ],
   "source": [
    "def squ(n):\n",
    "    return n**2\n",
    "\n",
    "squ(5)"
   ]
  },
  {
   "cell_type": "code",
   "execution_count": 3,
   "id": "98407236",
   "metadata": {},
   "outputs": [
    {
     "data": {
      "text/plain": [
       "100"
      ]
     },
     "execution_count": 3,
     "metadata": {},
     "output_type": "execute_result"
    }
   ],
   "source": [
    "sqr = lambda a:a**2\n",
    "sqr(10)"
   ]
  },
  {
   "cell_type": "code",
   "execution_count": 4,
   "id": "a7dcb2d2",
   "metadata": {},
   "outputs": [
    {
     "data": {
      "text/plain": [
       "100"
      ]
     },
     "execution_count": 4,
     "metadata": {},
     "output_type": "execute_result"
    }
   ],
   "source": [
    "(lambda a:a**2)(10)"
   ]
  },
  {
   "cell_type": "code",
   "execution_count": 5,
   "id": "58134930",
   "metadata": {},
   "outputs": [
    {
     "data": {
      "text/plain": [
       "36"
      ]
     },
     "execution_count": 5,
     "metadata": {},
     "output_type": "execute_result"
    }
   ],
   "source": [
    "sqr(6)"
   ]
  },
  {
   "cell_type": "code",
   "execution_count": 6,
   "id": "49ed4a85",
   "metadata": {},
   "outputs": [
    {
     "data": {
      "text/plain": [
       "5"
      ]
     },
     "execution_count": 6,
     "metadata": {},
     "output_type": "execute_result"
    }
   ],
   "source": [
    "add = lambda a,b:a+b\n",
    "\n",
    "add(2,3)"
   ]
  },
  {
   "cell_type": "code",
   "execution_count": 7,
   "id": "86306c5b",
   "metadata": {},
   "outputs": [
    {
     "data": {
      "text/plain": [
       "5"
      ]
     },
     "execution_count": 7,
     "metadata": {},
     "output_type": "execute_result"
    }
   ],
   "source": [
    "add = lambda a,b,c=10:(a+b)*c\n",
    "\n",
    "add(2,3,1)"
   ]
  },
  {
   "cell_type": "code",
   "execution_count": 8,
   "id": "babf276c",
   "metadata": {},
   "outputs": [
    {
     "data": {
      "text/plain": [
       "'5.23'"
      ]
     },
     "execution_count": 8,
     "metadata": {},
     "output_type": "execute_result"
    }
   ],
   "source": [
    "import statistics\n",
    "list1 = []\n",
    "\n",
    "add = lambda a,b,c = 10.6789   :   str(round(statistics.mean((a,b,c)),2))\n",
    "\n",
    "add(2,3)\n",
    "\n",
    "# list1"
   ]
  },
  {
   "cell_type": "code",
   "execution_count": 9,
   "id": "0c57396c",
   "metadata": {},
   "outputs": [
    {
     "data": {
      "text/plain": [
       "[4, 9, 16, 25]"
      ]
     },
     "execution_count": 9,
     "metadata": {},
     "output_type": "execute_result"
    }
   ],
   "source": [
    "x = lambda a:[i**2 for i in a]\n",
    "\n",
    "x([2,3,4,5])"
   ]
  },
  {
   "cell_type": "code",
   "execution_count": 10,
   "id": "f223ea9f",
   "metadata": {},
   "outputs": [
    {
     "data": {
      "text/plain": [
       "[2, 3, 4, 5]"
      ]
     },
     "execution_count": 10,
     "metadata": {},
     "output_type": "execute_result"
    }
   ],
   "source": [
    "b = []\n",
    "\n",
    "x = lambda a:[b.append(i) for i in a]\n",
    "\n",
    "x([2,3,4,5])\n",
    "\n",
    "b"
   ]
  },
  {
   "cell_type": "code",
   "execution_count": 11,
   "id": "95bd416c",
   "metadata": {},
   "outputs": [],
   "source": [
    "greater = lambda a,b : print(f'{a} greater') if a>b else print(f'{b} greater')"
   ]
  },
  {
   "cell_type": "code",
   "execution_count": 12,
   "id": "6442929c",
   "metadata": {},
   "outputs": [
    {
     "name": "stdout",
     "output_type": "stream",
     "text": [
      "4 greater\n"
     ]
    }
   ],
   "source": [
    "greater(3,4)"
   ]
  },
  {
   "cell_type": "code",
   "execution_count": 13,
   "id": "c7b1aca1",
   "metadata": {},
   "outputs": [
    {
     "data": {
      "text/plain": [
       "35"
      ]
     },
     "execution_count": 13,
     "metadata": {},
     "output_type": "execute_result"
    }
   ],
   "source": [
    "def mul(x,y):\n",
    "    return x*y\n",
    "\n",
    "add = lambda a,b : mul(a,b) - (a+b)\n",
    "\n",
    "add(5,10)"
   ]
  },
  {
   "cell_type": "code",
   "execution_count": 15,
   "id": "7f899a39",
   "metadata": {},
   "outputs": [
    {
     "name": "stdout",
     "output_type": "stream",
     "text": [
      "Enter number: 5\n",
      "5 != 120\n"
     ]
    }
   ],
   "source": [
    "x = lambda num : 1 if num <= 1 else num*x(num-1)\n",
    "\n",
    "number = int(input('Enter number: '))\n",
    "\n",
    "print('%d != %d' %(number, x(number)))"
   ]
  },
  {
   "cell_type": "code",
   "execution_count": 16,
   "id": "c8095f73",
   "metadata": {},
   "outputs": [
    {
     "data": {
      "text/plain": [
       "[10000, 40000, 90000]"
      ]
     },
     "execution_count": 16,
     "metadata": {},
     "output_type": "execute_result"
    }
   ],
   "source": [
    "(lambda *args: [i**2 for i in args])(100,200,300)"
   ]
  },
  {
   "cell_type": "code",
   "execution_count": 17,
   "id": "a0673bdc",
   "metadata": {},
   "outputs": [
    {
     "data": {
      "text/plain": [
       "[100, 400, 225]"
      ]
     },
     "execution_count": 17,
     "metadata": {},
     "output_type": "execute_result"
    }
   ],
   "source": [
    "dict_squared_values= lambda **kwargs: [i**2 for i in kwargs.values()]\n",
    "\n",
    "dict_squared_values(a=10,b=20,c=15)"
   ]
  },
  {
   "cell_type": "code",
   "execution_count": 18,
   "id": "c45bcb9f",
   "metadata": {},
   "outputs": [
    {
     "data": {
      "text/plain": [
       "45"
      ]
     },
     "execution_count": 18,
     "metadata": {},
     "output_type": "execute_result"
    }
   ],
   "source": [
    "dict_squared_values= lambda **kwargs: sum(kwargs.values())\n",
    "\n",
    "dict_squared_values(a=10,b=20,c=15)"
   ]
  }
 ],
 "metadata": {
  "kernelspec": {
   "display_name": "Python 3 (ipykernel)",
   "language": "python",
   "name": "python3"
  },
  "language_info": {
   "codemirror_mode": {
    "name": "ipython",
    "version": 3
   },
   "file_extension": ".py",
   "mimetype": "text/x-python",
   "name": "python",
   "nbconvert_exporter": "python",
   "pygments_lexer": "ipython3",
   "version": "3.9.7"
  },
  "toc": {
   "base_numbering": 1,
   "nav_menu": {},
   "number_sections": true,
   "sideBar": true,
   "skip_h1_title": false,
   "title_cell": "Table of Contents",
   "title_sidebar": "Contents",
   "toc_cell": false,
   "toc_position": {},
   "toc_section_display": true,
   "toc_window_display": false
  }
 },
 "nbformat": 4,
 "nbformat_minor": 5
}
