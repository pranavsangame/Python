{
 "cells": [
  {
   "cell_type": "markdown",
   "id": "3718fc86",
   "metadata": {},
   "source": [
    "# Arguments"
   ]
  },
  {
   "cell_type": "raw",
   "id": "b5e5e844",
   "metadata": {},
   "source": [
    "Types of Args:\n",
    "    positional\n",
    "    default\n",
    "    arbitary args\n",
    "    keyword args"
   ]
  },
  {
   "cell_type": "markdown",
   "id": "f66b32ef",
   "metadata": {},
   "source": [
    "## Positional Arguments"
   ]
  },
  {
   "cell_type": "raw",
   "id": "031ad877",
   "metadata": {},
   "source": [
    "no. of params = no. of arguments\n",
    "\n",
    "we can pass any no. of params as positional arguemnts while declaration."
   ]
  },
  {
   "cell_type": "code",
   "execution_count": 1,
   "id": "38b67d60",
   "metadata": {},
   "outputs": [
    {
     "data": {
      "text/plain": [
       "5"
      ]
     },
     "execution_count": 1,
     "metadata": {},
     "output_type": "execute_result"
    }
   ],
   "source": [
    "def add(n1,n2):    # positonal arguemnts\n",
    "    add = n1+n2\n",
    "    return add\n",
    "\n",
    "add(2,3)"
   ]
  },
  {
   "cell_type": "code",
   "execution_count": 2,
   "id": "1db6e728",
   "metadata": {},
   "outputs": [
    {
     "ename": "TypeError",
     "evalue": "add() missing 2 required positional arguments: 'n1' and 'n2'",
     "output_type": "error",
     "traceback": [
      "\u001b[1;31m---------------------------------------------------------------------------\u001b[0m",
      "\u001b[1;31mTypeError\u001b[0m                                 Traceback (most recent call last)",
      "\u001b[1;32m~\\AppData\\Local\\Temp/ipykernel_46480/3064714114.py\u001b[0m in \u001b[0;36m<module>\u001b[1;34m\u001b[0m\n\u001b[1;32m----> 1\u001b[1;33m \u001b[0madd\u001b[0m\u001b[1;33m(\u001b[0m\u001b[1;33m)\u001b[0m\u001b[1;33m\u001b[0m\u001b[1;33m\u001b[0m\u001b[0m\n\u001b[0m",
      "\u001b[1;31mTypeError\u001b[0m: add() missing 2 required positional arguments: 'n1' and 'n2'"
     ]
    }
   ],
   "source": [
    "add()"
   ]
  },
  {
   "cell_type": "code",
   "execution_count": 3,
   "id": "0a0ee828",
   "metadata": {},
   "outputs": [
    {
     "ename": "TypeError",
     "evalue": "add() missing 1 required positional argument: 'n2'",
     "output_type": "error",
     "traceback": [
      "\u001b[1;31m---------------------------------------------------------------------------\u001b[0m",
      "\u001b[1;31mTypeError\u001b[0m                                 Traceback (most recent call last)",
      "\u001b[1;32m~\\AppData\\Local\\Temp/ipykernel_46480/746715703.py\u001b[0m in \u001b[0;36m<module>\u001b[1;34m\u001b[0m\n\u001b[1;32m----> 1\u001b[1;33m \u001b[0madd\u001b[0m\u001b[1;33m(\u001b[0m\u001b[1;36m1\u001b[0m\u001b[1;33m)\u001b[0m\u001b[1;33m\u001b[0m\u001b[1;33m\u001b[0m\u001b[0m\n\u001b[0m",
      "\u001b[1;31mTypeError\u001b[0m: add() missing 1 required positional argument: 'n2'"
     ]
    }
   ],
   "source": [
    "add(1)"
   ]
  },
  {
   "cell_type": "code",
   "execution_count": 4,
   "id": "5ac131f5",
   "metadata": {},
   "outputs": [
    {
     "ename": "TypeError",
     "evalue": "add() takes 2 positional arguments but 3 were given",
     "output_type": "error",
     "traceback": [
      "\u001b[1;31m---------------------------------------------------------------------------\u001b[0m",
      "\u001b[1;31mTypeError\u001b[0m                                 Traceback (most recent call last)",
      "\u001b[1;32m~\\AppData\\Local\\Temp/ipykernel_46480/77868444.py\u001b[0m in \u001b[0;36m<module>\u001b[1;34m\u001b[0m\n\u001b[1;32m----> 1\u001b[1;33m \u001b[0madd\u001b[0m\u001b[1;33m(\u001b[0m\u001b[1;36m2\u001b[0m\u001b[1;33m,\u001b[0m\u001b[1;36m3\u001b[0m\u001b[1;33m,\u001b[0m\u001b[1;36m4\u001b[0m\u001b[1;33m)\u001b[0m\u001b[1;33m\u001b[0m\u001b[1;33m\u001b[0m\u001b[0m\n\u001b[0m",
      "\u001b[1;31mTypeError\u001b[0m: add() takes 2 positional arguments but 3 were given"
     ]
    }
   ],
   "source": [
    "add(2,3,4)"
   ]
  },
  {
   "cell_type": "code",
   "execution_count": 5,
   "id": "0faaa5b0",
   "metadata": {},
   "outputs": [
    {
     "ename": "TypeError",
     "evalue": "add() missing 2 required positional arguments: 'n1' and 'n2'",
     "output_type": "error",
     "traceback": [
      "\u001b[1;31m---------------------------------------------------------------------------\u001b[0m",
      "\u001b[1;31mTypeError\u001b[0m                                 Traceback (most recent call last)",
      "\u001b[1;32m~\\AppData\\Local\\Temp/ipykernel_46480/697595484.py\u001b[0m in \u001b[0;36m<module>\u001b[1;34m\u001b[0m\n\u001b[0;32m      3\u001b[0m     \u001b[1;32mreturn\u001b[0m \u001b[0madd\u001b[0m\u001b[1;33m\u001b[0m\u001b[1;33m\u001b[0m\u001b[0m\n\u001b[0;32m      4\u001b[0m \u001b[1;33m\u001b[0m\u001b[0m\n\u001b[1;32m----> 5\u001b[1;33m \u001b[0madd\u001b[0m\u001b[1;33m(\u001b[0m\u001b[1;33m)\u001b[0m\u001b[1;33m\u001b[0m\u001b[1;33m\u001b[0m\u001b[0m\n\u001b[0m",
      "\u001b[1;31mTypeError\u001b[0m: add() missing 2 required positional arguments: 'n1' and 'n2'"
     ]
    }
   ],
   "source": [
    "def add(n1,n2,n3=5,n4=10):    # positonal arguemnts, default arguements\n",
    "    add = n3+n4\n",
    "    return add\n",
    "\n",
    "add()"
   ]
  },
  {
   "cell_type": "markdown",
   "id": "cc4178b5",
   "metadata": {},
   "source": [
    "## Default Arguements"
   ]
  },
  {
   "cell_type": "raw",
   "id": "7568d29e",
   "metadata": {},
   "source": [
    "Argumensts are defined in the very declaration of the function. which means if we fail to pass the parameter value while calling the function, then it takes the by default value that is defined.\n",
    "\n",
    "if the parametric value for default argument is passed, then this value will supersucced the default value deined in declaration of the function.\n",
    "\n",
    "We can pass any number of default arguements\n",
    "\n",
    "no. of params <= no. of arguments\n",
    "\n",
    "default argument always follow positional arguments meaning while decalration first all positional arguments has to be declared only then default arguments are defined."
   ]
  },
  {
   "cell_type": "code",
   "execution_count": 6,
   "id": "aad31b8b",
   "metadata": {},
   "outputs": [
    {
     "data": {
      "text/plain": [
       "10"
      ]
     },
     "execution_count": 6,
     "metadata": {},
     "output_type": "execute_result"
    }
   ],
   "source": [
    "def add(n1,n2,n3=5,n4=10):    # positonal arguemnts, default arguements\n",
    "    add = n1+n2+n3\n",
    "    return add\n",
    "\n",
    "add(2,3)"
   ]
  },
  {
   "cell_type": "code",
   "execution_count": 7,
   "id": "f06bc50e",
   "metadata": {},
   "outputs": [
    {
     "data": {
      "text/plain": [
       "9"
      ]
     },
     "execution_count": 7,
     "metadata": {},
     "output_type": "execute_result"
    }
   ],
   "source": [
    "add(2,3,4)"
   ]
  },
  {
   "cell_type": "code",
   "execution_count": 8,
   "id": "56e16a5c",
   "metadata": {},
   "outputs": [
    {
     "data": {
      "text/plain": [
       "9"
      ]
     },
     "execution_count": 8,
     "metadata": {},
     "output_type": "execute_result"
    }
   ],
   "source": [
    "add(2,3,4,5)"
   ]
  },
  {
   "cell_type": "code",
   "execution_count": 9,
   "id": "e581cf4f",
   "metadata": {},
   "outputs": [
    {
     "ename": "SyntaxError",
     "evalue": "non-default argument follows default argument (Temp/ipykernel_46480/3873264661.py, line 1)",
     "output_type": "error",
     "traceback": [
      "\u001b[1;36m  File \u001b[1;32m\"C:\\Users\\Pranav\\AppData\\Local\\Temp/ipykernel_46480/3873264661.py\"\u001b[1;36m, line \u001b[1;32m1\u001b[0m\n\u001b[1;33m    def add(n3=5,n1,n2,n4=10):    # positonal arguemnts, default arguements\u001b[0m\n\u001b[1;37m                    ^\u001b[0m\n\u001b[1;31mSyntaxError\u001b[0m\u001b[1;31m:\u001b[0m non-default argument follows default argument\n"
     ]
    }
   ],
   "source": [
    "def add(n3=5,n1,n2,n4=10):    # positonal arguemnts, default arguements\n",
    "    add = n1+n2+n3\n",
    "    return add\n",
    "\n",
    "add(2,3,3)"
   ]
  },
  {
   "cell_type": "code",
   "execution_count": 10,
   "id": "601de242",
   "metadata": {},
   "outputs": [
    {
     "ename": "SyntaxError",
     "evalue": "non-default argument follows default argument (Temp/ipykernel_46480/1072207458.py, line 1)",
     "output_type": "error",
     "traceback": [
      "\u001b[1;36m  File \u001b[1;32m\"C:\\Users\\Pranav\\AppData\\Local\\Temp/ipykernel_46480/1072207458.py\"\u001b[1;36m, line \u001b[1;32m1\u001b[0m\n\u001b[1;33m    def add(n1,n3=5,n2,n4=10):    # positonal arguemnts, default arguements\u001b[0m\n\u001b[1;37m                       ^\u001b[0m\n\u001b[1;31mSyntaxError\u001b[0m\u001b[1;31m:\u001b[0m non-default argument follows default argument\n"
     ]
    }
   ],
   "source": [
    "def add(n1,n3=5,n2,n4=10):    # positonal arguemnts, default arguements\n",
    "    add = n1+n2+n3\n",
    "    return add\n",
    "\n",
    "add(2,3,3)"
   ]
  },
  {
   "cell_type": "code",
   "execution_count": 11,
   "id": "a7a4bd4f",
   "metadata": {},
   "outputs": [
    {
     "data": {
      "text/plain": [
       "12"
      ]
     },
     "execution_count": 11,
     "metadata": {},
     "output_type": "execute_result"
    }
   ],
   "source": [
    "a = 2\n",
    "b = 4\n",
    "c = 6\n",
    "add(a,b,c)"
   ]
  },
  {
   "cell_type": "code",
   "execution_count": 12,
   "id": "8ec5f324",
   "metadata": {},
   "outputs": [
    {
     "data": {
      "text/plain": [
       "21"
      ]
     },
     "execution_count": 12,
     "metadata": {},
     "output_type": "execute_result"
    }
   ],
   "source": [
    "def add(n1,n2,n3=5,n4=10):    # positonal arguemnts, default arguements\n",
    "    add = n3+n4+n1[0]+n2[1]\n",
    "    return add\n",
    "\n",
    "add([2,3],[3,4,5,7,8])"
   ]
  },
  {
   "cell_type": "code",
   "execution_count": 13,
   "id": "f67b94aa",
   "metadata": {},
   "outputs": [],
   "source": [
    "def even_odd_num(number):\n",
    "    for i in range(len(number)):\n",
    "        if number[i] % 2==0:\n",
    "             yield number[i]\n",
    "        else:\n",
    "            yield number[i]\n",
    "\n",
    "x = even_odd_num([111,222,333,444])"
   ]
  },
  {
   "cell_type": "code",
   "execution_count": 14,
   "id": "536488ae",
   "metadata": {},
   "outputs": [
    {
     "data": {
      "text/plain": [
       "348"
      ]
     },
     "execution_count": 14,
     "metadata": {},
     "output_type": "execute_result"
    }
   ],
   "source": [
    "\n",
    "def add(n1,n2,n3=5,n4=10):    # positonal arguemnts, default arguements\n",
    "    add = n3+n4+n1+n2\n",
    "    return add\n",
    "\n",
    "add(next(x),next(x))"
   ]
  },
  {
   "cell_type": "code",
   "execution_count": 15,
   "id": "139469fc",
   "metadata": {},
   "outputs": [
    {
     "data": {
      "text/plain": [
       "42"
      ]
     },
     "execution_count": 15,
     "metadata": {},
     "output_type": "execute_result"
    }
   ],
   "source": [
    "def number(n):\n",
    "    return n**2\n",
    "\n",
    "def add(n2,n1,n3=5,n4=10):   \n",
    "    add = n3+n4+n1+n2\n",
    "    return add\n",
    "\n",
    "add(2,number(5))\n"
   ]
  },
  {
   "cell_type": "markdown",
   "id": "b7ba22ab",
   "metadata": {},
   "source": [
    "## Args (Arbitary Arguments)"
   ]
  },
  {
   "cell_type": "raw",
   "id": "225b1ae8",
   "metadata": {},
   "source": [
    "Variable length arguments\n",
    "*args >> *arguments\n",
    "Default data type of args is tuple\n",
    "When we do not know the number of args we are passing"
   ]
  },
  {
   "cell_type": "code",
   "execution_count": 16,
   "id": "f6a44c52",
   "metadata": {},
   "outputs": [
    {
     "name": "stdout",
     "output_type": "stream",
     "text": [
      "5 5 3 3 2\n"
     ]
    },
    {
     "data": {
      "text/plain": [
       "('Multiplication of numbs is ', 450)"
      ]
     },
     "execution_count": 16,
     "metadata": {},
     "output_type": "execute_result"
    }
   ],
   "source": [
    "def multiplication(n1,n2,n3,n4,n5):\n",
    "    print(n1,n2,n3,n4,n5)\n",
    "    mul = n1*n2*n3*n4*n5\n",
    "    return \"Multiplication of numbs is \",mul\n",
    "\n",
    "multiplication(5,5,3,3,2)"
   ]
  },
  {
   "cell_type": "code",
   "execution_count": 17,
   "id": "16fc5734",
   "metadata": {},
   "outputs": [
    {
     "name": "stdout",
     "output_type": "stream",
     "text": [
      "(5, 5, 3, 3, 2)\n"
     ]
    },
    {
     "data": {
      "text/plain": [
       "('Multiplication of numbs is ', 450)"
      ]
     },
     "execution_count": 17,
     "metadata": {},
     "output_type": "execute_result"
    }
   ],
   "source": [
    "def loop_item_mul(a):\n",
    "    mul= 1\n",
    "    for i in a:\n",
    "        mul = mul*i\n",
    "    return mul\n",
    "\n",
    "def multiplication(*args):\n",
    "    print(args)\n",
    "    return \"Multiplication of numbs is \",loop_item_mul(args)\n",
    "\n",
    "multiplication(5,5,3,3,2)"
   ]
  },
  {
   "cell_type": "code",
   "execution_count": 18,
   "id": "58668b9d",
   "metadata": {},
   "outputs": [
    {
     "name": "stdout",
     "output_type": "stream",
     "text": [
      "2 | 5 | (0, 3, 4, 5)\n"
     ]
    }
   ],
   "source": [
    "def show(n1,n2=10,*abc):\n",
    "    print(n1,n2,abc,sep=' | ')\n",
    "#     print(n1*n2*abc)\n",
    "show(2,5,0,3,4,5)"
   ]
  },
  {
   "cell_type": "code",
   "execution_count": 19,
   "id": "da989a3e",
   "metadata": {},
   "outputs": [
    {
     "name": "stdout",
     "output_type": "stream",
     "text": [
      "2 | 10 | (5, 0, 3, 4, 5)\n"
     ]
    }
   ],
   "source": [
    "def show(n1,*abc,n2=10):\n",
    "    print(n1,n2,abc,sep=' | ')\n",
    "show(2,5,0,3,4,5)"
   ]
  },
  {
   "cell_type": "code",
   "execution_count": 20,
   "id": "eaf06b12",
   "metadata": {},
   "outputs": [
    {
     "name": "stdout",
     "output_type": "stream",
     "text": [
      "3 4 5\n",
      "6\n"
     ]
    }
   ],
   "source": [
    "a,*b,c = 2,3,4,5,6\n",
    "print(*b)\n",
    "print(c)"
   ]
  },
  {
   "cell_type": "code",
   "execution_count": 21,
   "id": "6a392dd7",
   "metadata": {},
   "outputs": [
    {
     "name": "stdout",
     "output_type": "stream",
     "text": [
      "2 | 5 | (5, 0, 3, 4)\n"
     ]
    }
   ],
   "source": [
    "def show(n1,*abc,n2=10):\n",
    "    print(n1,n2,abc,sep=' | ')\n",
    "    \n",
    "show(2,5,0,3,4,n2=5)"
   ]
  },
  {
   "cell_type": "code",
   "execution_count": 22,
   "id": "4b44bfb1",
   "metadata": {},
   "outputs": [
    {
     "ename": "SyntaxError",
     "evalue": "positional argument follows keyword argument (Temp/ipykernel_46480/1793252678.py, line 4)",
     "output_type": "error",
     "traceback": [
      "\u001b[1;36m  File \u001b[1;32m\"C:\\Users\\Pranav\\AppData\\Local\\Temp/ipykernel_46480/1793252678.py\"\u001b[1;36m, line \u001b[1;32m4\u001b[0m\n\u001b[1;33m    show(2,n2=5,5,0,3,4)\u001b[0m\n\u001b[1;37m                       ^\u001b[0m\n\u001b[1;31mSyntaxError\u001b[0m\u001b[1;31m:\u001b[0m positional argument follows keyword argument\n"
     ]
    }
   ],
   "source": [
    "def show(n1,*abc,n2=10):\n",
    "    print(n1,n2,abc,sep=' | ')\n",
    "    \n",
    "show(2,n2=5,5,0,3,4)"
   ]
  },
  {
   "cell_type": "code",
   "execution_count": 23,
   "id": "ca34ad3f",
   "metadata": {},
   "outputs": [
    {
     "name": "stdout",
     "output_type": "stream",
     "text": [
      "2 | 5 | (5, 0, 3, 4)\n"
     ]
    }
   ],
   "source": [
    "def show(n1,n2=10,*abc):\n",
    "    print(n1,n2,abc,sep=' | ')\n",
    "    \n",
    "show(2,5,5,0,3,4)"
   ]
  },
  {
   "cell_type": "markdown",
   "id": "44b05891",
   "metadata": {},
   "source": [
    "## Keyword arguments"
   ]
  },
  {
   "cell_type": "raw",
   "id": "e645b595",
   "metadata": {},
   "source": [
    "**kwargs  >> keyword arguments\n",
    "Data type of **kwargs is by default dictionary\n",
    "It can also take multiple values"
   ]
  },
  {
   "cell_type": "code",
   "execution_count": 24,
   "id": "1dbfc2dd",
   "metadata": {},
   "outputs": [
    {
     "name": "stdout",
     "output_type": "stream",
     "text": [
      "95 85 98\n"
     ]
    }
   ],
   "source": [
    "def marks(phy = 90, chem = 80, maths = 95):\n",
    "    print(phy,chem,maths)\n",
    "    \n",
    "marks(phy=95, chem= 85, maths= 98)"
   ]
  },
  {
   "cell_type": "code",
   "execution_count": 25,
   "id": "742ba5e4",
   "metadata": {},
   "outputs": [
    {
     "name": "stdout",
     "output_type": "stream",
     "text": [
      "{'phy': 95, 'chem': 85, 'maths': 98}\n",
      "dict_values([95, 85, 98])\n"
     ]
    }
   ],
   "source": [
    "def marks(**kwargs):    #keyword arguments\n",
    "    print(kwargs)\n",
    "    print(kwargs.values())\n",
    "    \n",
    "marks(phy=95, chem= 85, maths= 98)"
   ]
  },
  {
   "cell_type": "code",
   "execution_count": 26,
   "id": "6419ce14",
   "metadata": {},
   "outputs": [
    {
     "name": "stdout",
     "output_type": "stream",
     "text": [
      "{'phy': 95, 'chem': 85, 'maths': 98}\n",
      "dict_values([95, 85, 98])\n",
      "dict_keys(['phy', 'chem', 'maths'])\n"
     ]
    }
   ],
   "source": [
    "def marks(**kwargs):    #keyword arguments\n",
    "    print(kwargs)\n",
    "    print(kwargs.values())\n",
    "    print(kwargs.keys())\n",
    "    \n",
    "marks(phy=95,chem=85,maths=98)"
   ]
  },
  {
   "cell_type": "code",
   "execution_count": 27,
   "id": "af57a46f",
   "metadata": {},
   "outputs": [
    {
     "name": "stdout",
     "output_type": "stream",
     "text": [
      "v1-10 & v2-20\n",
      "Args>> ()\n",
      "phy is 90 chem is 92\n",
      "keyword args is {}\n"
     ]
    }
   ],
   "source": [
    "def test_params(v1,v2,*args,phy=90,chem=91,**kwargs):\n",
    "    print(\"v1-{} & v2-{}\".format(v1,v2))\n",
    "    print(\"Args>>\",args)\n",
    "    print('phy is',phy,'chem is',chem)\n",
    "    print(f'keyword args is {kwargs}')\n",
    "    \n",
    "test_params(10,20,chem=92)"
   ]
  },
  {
   "cell_type": "code",
   "execution_count": 28,
   "id": "91bb21e1",
   "metadata": {},
   "outputs": [
    {
     "name": "stdout",
     "output_type": "stream",
     "text": [
      "v1-10 & v2-20\n",
      "Args>> ()\n",
      "phy is 90 chem is 92\n",
      "keyword args is {'maths': 95, 'ss': 86}\n"
     ]
    }
   ],
   "source": [
    "def test_params(v1,v2,*args,phy=90,chem=91,**kwargs):\n",
    "    print(\"v1-{} & v2-{}\".format(v1,v2))\n",
    "    print(\"Args>>\",args)\n",
    "    print('phy is',phy,'chem is',chem)\n",
    "    print(f'keyword args is {kwargs}')\n",
    "    \n",
    "test_params(10,20,chem=92,maths=95,ss = 86)"
   ]
  },
  {
   "cell_type": "code",
   "execution_count": 29,
   "id": "bd2a262f",
   "metadata": {},
   "outputs": [
    {
     "name": "stdout",
     "output_type": "stream",
     "text": [
      "v1-10 & v2-20\n",
      "Args>> (30, 40, 50)\n",
      "phy is 99 chem is 100\n",
      "keyword args is {'maths': 95, 'ss': 86}\n"
     ]
    }
   ],
   "source": [
    "def test_params(v1,v2,*args,phy=90,chem=91,**kwargs):\n",
    "    print(\"v1-{} & v2-{}\".format(v1,v2))\n",
    "    print(\"Args>>\",args)\n",
    "    print('phy is',phy,'chem is',chem)\n",
    "    print(f'keyword args is {kwargs}')\n",
    "    \n",
    "test_params(10,20,30,40,50,chem=100, phy= 99, maths=95,ss = 86)"
   ]
  },
  {
   "cell_type": "code",
   "execution_count": 30,
   "id": "d1dee18d",
   "metadata": {},
   "outputs": [
    {
     "name": "stdout",
     "output_type": "stream",
     "text": [
      "v1-10 & v2-20\n",
      "Args>> (30, 40, 50)\n",
      "phy is 99 chem is 100\n",
      "keyword args is {'maths': 95, 'ss': 86}\n"
     ]
    }
   ],
   "source": [
    "def test_params(v1,v2,phy=90,chem=91,*args,**kwargs):\n",
    "    print(\"v1-{} & v2-{}\".format(v1,v2))\n",
    "    print(\"Args>>\",args)\n",
    "    print('phy is',phy,'chem is',chem)\n",
    "    print(f'keyword args is {kwargs}')\n",
    "    \n",
    "test_params(10,20,99,100, 30,40,50,maths=95,ss = 86)"
   ]
  },
  {
   "cell_type": "code",
   "execution_count": 31,
   "id": "da50767b",
   "metadata": {},
   "outputs": [
    {
     "ename": "SyntaxError",
     "evalue": "invalid syntax (Temp/ipykernel_46480/3175931529.py, line 1)",
     "output_type": "error",
     "traceback": [
      "\u001b[1;36m  File \u001b[1;32m\"C:\\Users\\Pranav\\AppData\\Local\\Temp/ipykernel_46480/3175931529.py\"\u001b[1;36m, line \u001b[1;32m1\u001b[0m\n\u001b[1;33m    def test_params(v1,v2,**kwargs,phy=90,chem=91,*args):\u001b[0m\n\u001b[1;37m                                   ^\u001b[0m\n\u001b[1;31mSyntaxError\u001b[0m\u001b[1;31m:\u001b[0m invalid syntax\n"
     ]
    }
   ],
   "source": [
    "def test_params(v1,v2,**kwargs,phy=90,chem=91,*args):\n",
    "    print(\"v1-{} & v2-{}\".format(v1,v2))\n",
    "    print(\"Args>>\",args)\n",
    "    print('phy is',phy,'chem is',chem)\n",
    "    print(f'keyword args is {kwargs}')\n",
    "    \n",
    "test_params(10,20,maths=95,ss = 86,99,100, 30,40,50)"
   ]
  },
  {
   "cell_type": "raw",
   "id": "dada6af5",
   "metadata": {},
   "source": [
    "Sequence:\n",
    "    positional argument, default arguments, *args, **kwargs\n",
    "    positional argument, *args, default arguments, **kwargs"
   ]
  },
  {
   "cell_type": "code",
   "execution_count": 33,
   "id": "67a8c929",
   "metadata": {},
   "outputs": [
    {
     "ename": "SyntaxError",
     "evalue": "invalid syntax (Temp/ipykernel_46480/3434710843.py, line 1)",
     "output_type": "error",
     "traceback": [
      "\u001b[1;36m  File \u001b[1;32m\"C:\\Users\\Pranav\\AppData\\Local\\Temp/ipykernel_46480/3434710843.py\"\u001b[1;36m, line \u001b[1;32m1\u001b[0m\n\u001b[1;33m    def test_params(v1,v2,*args,phy=90,chem=91,*xyz):\u001b[0m\n\u001b[1;37m                                               ^\u001b[0m\n\u001b[1;31mSyntaxError\u001b[0m\u001b[1;31m:\u001b[0m invalid syntax\n"
     ]
    }
   ],
   "source": [
    "def test_params(v1,v2,*args,phy=90,chem=91,*xyz):\n",
    "    print(\"v1-{} & v2-{}\".format(v1,v2))\n",
    "    print(\"Args>>\",args)\n",
    "    print('phy is',phy,'chem is',chem)\n",
    "    print(f'keyword args is {kwargs}')\n",
    "    \n",
    "test_params(10,20,99,100, 30,40,50)"
   ]
  },
  {
   "cell_type": "code",
   "execution_count": null,
   "id": "0c8b4b8a",
   "metadata": {},
   "outputs": [],
   "source": []
  }
 ],
 "metadata": {
  "kernelspec": {
   "display_name": "Python 3 (ipykernel)",
   "language": "python",
   "name": "python3"
  },
  "language_info": {
   "codemirror_mode": {
    "name": "ipython",
    "version": 3
   },
   "file_extension": ".py",
   "mimetype": "text/x-python",
   "name": "python",
   "nbconvert_exporter": "python",
   "pygments_lexer": "ipython3",
   "version": "3.9.7"
  },
  "toc": {
   "base_numbering": 1,
   "nav_menu": {},
   "number_sections": true,
   "sideBar": true,
   "skip_h1_title": false,
   "title_cell": "Table of Contents",
   "title_sidebar": "Contents",
   "toc_cell": false,
   "toc_position": {},
   "toc_section_display": true,
   "toc_window_display": false
  }
 },
 "nbformat": 4,
 "nbformat_minor": 5
}
